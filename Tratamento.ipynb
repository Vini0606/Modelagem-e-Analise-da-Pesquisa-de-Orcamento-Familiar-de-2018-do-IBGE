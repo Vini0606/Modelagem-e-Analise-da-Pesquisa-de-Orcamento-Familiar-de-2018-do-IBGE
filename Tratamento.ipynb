{
  "nbformat": 4,
  "nbformat_minor": 0,
  "metadata": {
    "colab": {
      "provenance": [],
      "collapsed_sections": [
        "WlxGXsoPIcU0",
        "d_uA3A7qeg0j",
        "GYXEOX5POi7z",
        "_e9SBC5AR7iN",
        "qXIqFtQcur2o",
        "EOK_i0JXiM0D",
        "R3MGC_sfijdL",
        "3xxcaB3GuQJF",
        "WBlye7OKvxig",
        "hiZhM1QBwKco",
        "8xDx7TGFy9mC",
        "2pMEdJMeDW6q",
        "fVMIpOrEIxZE",
        "egftffiQNBa0",
        "r_77EKk7uNL9",
        "ZFh7JiPaQncs",
        "YWIeiWiNQ3f7",
        "QYgdFJAsUknE",
        "ED2kgeeuf0Q1",
        "GLynwQzZhqHM",
        "QK3v8u1twwR9",
        "snyTibvxig6u",
        "TDmsS6dvpwGo",
        "YPs9SaXXx0pm",
        "TBZwXswiquqt",
        "_PLmEtsNu3fK",
        "NB_fsre-vVYO",
        "wzTPSKWLvVYP",
        "ftvDqVCdvVYP",
        "LFmWw-xjvVYQ",
        "_Ln6JXOF0jC4",
        "meTOM719vVYQ",
        "U3b8fWBK5j1E",
        "ErNRNxx45j1K",
        "KC_YFSHi5j1L",
        "SYMgZy5c5j1M",
        "aA8Ve9R45j1M",
        "lWpN-NGa1wV5",
        "lUO2GfniJDsr",
        "-9UpEzpgJDsy",
        "PsyXfefaJDsy",
        "enNqu6iKJDsz",
        "5921ftX3JDs0",
        "6j9nGkp_4A4h",
        "fmFgAqNtQb_N",
        "7AfobgTrQb_U",
        "OEZq_HOGQb_V",
        "klV3FXmYQb_W",
        "J2TboGRncac-",
        "z_ELDCdmQb_X",
        "pXrUpyrSgsO9",
        "PkXo0fLCgsPD",
        "6U2yp4VJgsPE",
        "lPnH8_xSgsPF",
        "uwWpAh6ygsPF",
        "kh8PRyi86HkK",
        "LoLZhNpbgsPG",
        "EO55qHTslfBw",
        "2YnQhRvdlfB2",
        "M33ZQyr4lfB3",
        "4agdalR2lfB4",
        "WCb3rTRblfB4",
        "APv_Z-t46koy",
        "R4Iz1UTclfB5",
        "Ph8RlUIjtskt",
        "RetP2VuBtsk0",
        "d7nbvUpmtsk0",
        "kNyzIEk1tsk1",
        "aoVMOeGztsk2",
        "z53D7htw7ECj",
        "8Jjs0K51tsk2",
        "G2DFJNoCw-ce",
        "Nm5vmnXaw-ck",
        "1ivJugxcw-cl",
        "eJ4eLxwDw-cm",
        "pc5c70Ynw-cn",
        "vMcJ2Jzu72Rr",
        "OjjwCzSVw-cn",
        "ZI2C_NPX2eK5",
        "V76oT7B22eLA",
        "oTY2nO4c2eLA",
        "Mwamg4Rh2eLB",
        "Y-62KIBl2eLC",
        "qmCRqp7u8U3b",
        "sEYqQNu12eLC",
        "l0RY3ctkhymY",
        "0Bn1t8Ynhyme",
        "KX2FffSIhymf",
        "Vj2tTQYihymg",
        "0VKtghzmhymg",
        "hrIWXWPunaxy",
        "amj8OMu7nax6",
        "Fy5MMpw_sH-9",
        "fxoJlFWssH_E",
        "SzcWdG_msH_E",
        "mG_XIOR3sH_F",
        "356iwu6csH_F",
        "5_wHx8cb_z7u",
        "QmRcr0GEsH_G"
      ]
    },
    "kernelspec": {
      "name": "python3",
      "display_name": "Python 3"
    },
    "language_info": {
      "name": "python"
    }
  },
  "cells": [
    {
      "cell_type": "markdown",
      "source": [
        "#Tratamento dos Dados da Pesquisa De Orçamento Familiar (POF) de 2017/2018, do Instituto Brasileiro de Estatística e Geografia (IBGE)"
      ],
      "metadata": {
        "id": "WlxGXsoPIcU0"
      }
    },
    {
      "cell_type": "markdown",
      "source": [
        "Olá, neste notebook iremos realizar o processo de transformação e tratamento dos micro dados da POF de 2018 afim de, futuramente, carregá-los num banco de dados PostgreSQL.\n"
      ],
      "metadata": {
        "id": "VTaj2nRnIwTx"
      }
    },
    {
      "cell_type": "markdown",
      "source": [
        "Estes dados serão utilizados em análises que servirão para produção de matérias jornalísticas para o projeto de jornalismo de dados da faculdade IESB."
      ],
      "metadata": {
        "id": "HGTWvalmKcT0"
      }
    },
    {
      "cell_type": "markdown",
      "source": [
        "Os dados estão em formato TXT e 100% codificados, isto é, cada linha equivale a uma sequência de números. Todas as linhas tem exatamente a mesma quantidade de números.  "
      ],
      "metadata": {
        "id": "fKZ0ITnLLIgB"
      }
    },
    {
      "cell_type": "markdown",
      "source": [
        "As colunas são delimitadas por sequencias menores de numeros dentro das linhas. (Exemplo: na tabela \"Domicílios\" os dois primeiros números representam o codigo da UF)  "
      ],
      "metadata": {
        "id": "amtBS4uSMKv1"
      }
    },
    {
      "cell_type": "markdown",
      "source": [
        "É possível descobrir os valores dos campos das colunas utilizando o dicionário de dados, disponibilizado aqui, juntamente com os microdados da pesquisa."
      ],
      "metadata": {
        "id": "eLEq6HMANTkR"
      }
    },
    {
      "cell_type": "markdown",
      "source": [
        "Nosso trabalho será de adicionar os delimitadores em todas as tabelas, seguindo as informações do dicionário de dados, convertê-las de .TXT para CSV e adicionar o nome das respectivas colunas, exatamente de acordo com o dicionário.   "
      ],
      "metadata": {
        "id": "_XjD9lHxNDqj"
      }
    },
    {
      "cell_type": "markdown",
      "source": [
        "#Bibliotecas"
      ],
      "metadata": {
        "id": "d_uA3A7qeg0j"
      }
    },
    {
      "cell_type": "code",
      "source": [
        "from google.colab import drive\n",
        "drive.mount('/content/drive')\n",
        "import pandas as pd"
      ],
      "metadata": {
        "id": "JGiqPXQ6Ptnb",
        "colab": {
          "base_uri": "https://localhost:8080/"
        },
        "outputId": "f5c10396-36a5-4dad-b714-697aca24a9c1"
      },
      "execution_count": null,
      "outputs": [
        {
          "output_type": "stream",
          "name": "stdout",
          "text": [
            "Mounted at /content/drive\n"
          ]
        }
      ]
    },
    {
      "cell_type": "markdown",
      "source": [
        "# Tratamento do arquivo \"DOMICÍLIOS\""
      ],
      "metadata": {
        "id": "GYXEOX5POi7z"
      }
    },
    {
      "cell_type": "markdown",
      "source": [
        "##Abrindo e Analisando o Arquivo"
      ],
      "metadata": {
        "id": "_e9SBC5AR7iN"
      }
    },
    {
      "cell_type": "code",
      "source": [
        "domicilio = '/content/drive/MyDrive/POF (2017 2018)/DOMICILIO.txt'\n",
        "\n",
        "with open(domicilio, 'r') as arquivo:\n",
        "    conteudo = arquivo.readlines()\n",
        "\n",
        "# Imprimir 5 primeiras Linhas\n",
        "print(\"5 primeiras Linhas: \\n\")\n",
        "for conteudo in conteudo[:5]:\n",
        "    print(conteudo, end='')\n"
      ],
      "metadata": {
        "colab": {
          "base_uri": "https://localhost:8080/"
        },
        "id": "xAGA_7tSNCZ0",
        "outputId": "53460d4e-081c-4f63-e94d-ec38f9407ae0"
      },
      "execution_count": null,
      "outputs": [
        {
          "output_type": "stream",
          "name": "stdout",
          "text": [
            "5 primeiras Linhas: \n",
            "\n",
            "1111031110005400 1111110311112222 3  2112112121 11  272.80666931  372.984515701\n",
            "1111031110005400 21111 5212112222 1  2112112123111  272.80666931  372.984515701\n",
            "1111031110005400 41411 5211112222 1  2112112221 11  272.80666931  372.984515701\n",
            "1111031110005400 51411 7112112222 2  2112112221 21  272.80666931  372.984515701\n",
            "1111031110005400 61111 6211112222 2  2112112221 11  272.80666931  372.984515701\n"
          ]
        }
      ]
    },
    {
      "cell_type": "code",
      "source": [
        "with open(domicilio, 'r') as arquivo:\n",
        "    conteudo = arquivo.readlines()\n",
        "\n",
        "# descobrir quantas Linhas tem o arquivo\n",
        "cont = 0\n",
        "for linha in conteudo:\n",
        "    cont += 1\n",
        "\n",
        "# descobrir quantos caracteres tem a primeira Linha\n",
        "cont_char = 0\n",
        "for i, linha in enumerate(conteudo[:1], start=1):\n",
        "    num_caracteres = len(linha)\n",
        "\n",
        "# descobrir se o restante das linhas tem a mesma qtd de caracteres da primeira linha\n",
        "primeira_linha = conteudo[0]\n",
        "todas_as_linhas_iguais = all(len(linha) == len(primeira_linha) for linha in conteudo)\n",
        "\n",
        "print(\"Total de linhas: \", cont)\n",
        "print(\"Total de caracteres da primeira linha: \", num_caracteres)\n",
        "print(\"Todas as Linhas tem o mesmo comprimento da primeira? \", todas_as_linhas_iguais)"
      ],
      "metadata": {
        "colab": {
          "base_uri": "https://localhost:8080/"
        },
        "id": "TQVBcsN2TvHo",
        "outputId": "5e9ea855-3880-4084-b737-1f2007e912dd"
      },
      "execution_count": null,
      "outputs": [
        {
          "output_type": "stream",
          "name": "stdout",
          "text": [
            "Total de linhas:  57920\n",
            "Total de caracteres da primeira linha:  80\n",
            "Todas as Linhas tem o mesmo comprimento da primeira?  True\n"
          ]
        }
      ]
    },
    {
      "cell_type": "markdown",
      "source": [
        "##Adicionar o Separador"
      ],
      "metadata": {
        "id": "qXIqFtQcur2o"
      }
    },
    {
      "cell_type": "code",
      "source": [
        "with open(domicilio, 'r') as arquivo_orig:\n",
        "    with open('novo_domicilio.csv', 'w') as arquivo_novo:\n",
        "        for linha in arquivo_orig:\n",
        "            nova_linha = (\n",
        "                linha[:2] + ';' + # variável 1\n",
        "                linha[2:6] + ';' + # variável 2\n",
        "                linha[6:7] + ';' + # variável 3\n",
        "                linha[7:16] + ';' + # variável 4\n",
        "                linha[16:18] + ';' + # variável 5\n",
        "                linha[18:19] + ';' + # variável 6\n",
        "                linha[19:20] + ';' + # variável 7\n",
        "                linha[20:21] + ';' + # variável 8\n",
        "                linha[21:22] + ';' + # variável 9\n",
        "                linha[22:24] + ';' + # variável 10\n",
        "                linha[24:25] + ';' + # variável 11\n",
        "                linha[25:26] + ';' + # variável 12\n",
        "                linha[26:27] + ';' + # variável 13\n",
        "                linha[27:28] + ';' + # variável 14\n",
        "                linha[28:29] + ';' + # variável 15\n",
        "                linha[29:30] + ';' + # variável 16\n",
        "                linha[30:31] + ';' + # variável 17\n",
        "                linha[31:32] + ';' + # variável 18\n",
        "                linha[32:33] + ';' + # variável 19\n",
        "                linha[33:35] + ';' + # variável 20\n",
        "                linha[35:36] + ';' + # variável 21\n",
        "                linha[36:37] + ';' + # variável 22\n",
        "                linha[37:38] + ';' + # variável 23\n",
        "                linha[38:39] + ';' + # variável 24\n",
        "                linha[39:40] + ';' + # variável 25\n",
        "                linha[40:41] + ';' + # variável 26\n",
        "                linha[41:42] + ';' + # variável 27\n",
        "                linha[42:43] + ';' + # variável 28\n",
        "                linha[43:44] + ';' + # variável 29\n",
        "                linha[44:45] + ';' + # variável 30\n",
        "                linha[45:46] + ';' + # variável 31\n",
        "                linha[46:47] + ';' + # variável 32\n",
        "                linha[47:48] + ';' + # variável 33\n",
        "                linha[48:49] + ';' + # variável 34\n",
        "                linha[49:50] + ';' + # variável 35\n",
        "                linha[50:64] + ';' + # variável 36\n",
        "                linha[64:78] + ';' + # variável 37\n",
        "                linha[78:]  # variável 38\n",
        "            )\n",
        "            nova_linha = nova_linha.replace(' ', '')\n",
        "            arquivo_novo.write(nova_linha)\n",
        "\n",
        "\n"
      ],
      "metadata": {
        "id": "1BO__qFMp_Mi"
      },
      "execution_count": null,
      "outputs": []
    },
    {
      "cell_type": "markdown",
      "source": [
        "Conferir Processo"
      ],
      "metadata": {
        "id": "M9vy4MBd5Smh"
      }
    },
    {
      "cell_type": "code",
      "source": [
        "novo_domicilio = \"/content/novo_domicilio.csv\"\n",
        "\n",
        "with open(novo_domicilio, 'r') as arquivo_novo:\n",
        "  novo_dom = arquivo_novo.readlines()\n",
        "\n",
        "# imprimir primeira linha\n",
        "for lin in novo_dom[:1]:\n",
        "  print(lin, end=\"\")"
      ],
      "metadata": {
        "colab": {
          "base_uri": "https://localhost:8080/"
        },
        "id": "DaW3qOASwZg7",
        "outputId": "89bf0ba4-e019-4b7c-e581-b5563969d9ac"
      },
      "execution_count": null,
      "outputs": [
        {
          "output_type": "stream",
          "name": "stdout",
          "text": [
            "11;1103;1;110005400;1;1;1;1;1;10;3;1;1;1;1;2;2;2;2;3;;;2;1;1;2;1;1;2;1;2;1;;1;1;272.80666931;372.98451570;1\n"
          ]
        }
      ]
    },
    {
      "cell_type": "markdown",
      "source": [
        "Conferir Estado do Novo Arquivo"
      ],
      "metadata": {
        "id": "W4jgAJ4M5wr9"
      }
    },
    {
      "cell_type": "code",
      "source": [
        "with open(novo_domicilio, 'r') as arquivo:\n",
        "    conteudo = arquivo.readlines()\n",
        "\n",
        "# Conferir Numero de Linhas\n",
        "cont = 0\n",
        "for linha in conteudo:\n",
        "    cont += 1\n",
        "\n",
        "# Conferir Total de Caracteres\n",
        "cont_char = 0\n",
        "for i, linha in enumerate(conteudo[:1], start=1):\n",
        "    num_caracteres = len(linha)\n",
        "\n",
        "# Conferir se as Linhas Ainda tem o Mesmo Numero de Caracteres\n",
        "primeira_linha = conteudo[0]\n",
        "todas_as_linhas_iguais = all(len(linha) == len(primeira_linha) for linha in conteudo)\n",
        "\n",
        "print(\"Total de linhas: \", cont)\n",
        "print(\"Total de caracteres da primeira linha: \", num_caracteres)\n",
        "print(\"Todas as Linhas tem o mesmo comprimento da primeira? \", todas_as_linhas_iguais)"
      ],
      "metadata": {
        "colab": {
          "base_uri": "https://localhost:8080/"
        },
        "id": "QtTDi0vJ31p8",
        "outputId": "03bd43e3-743d-4ba4-f6d5-f6273482fd67"
      },
      "execution_count": null,
      "outputs": [
        {
          "output_type": "stream",
          "name": "stdout",
          "text": [
            "Total de linhas:  57920\n",
            "Total de caracteres da primeira linha:  108\n",
            "Todas as Linhas tem o mesmo comprimento da primeira?  False\n"
          ]
        }
      ]
    },
    {
      "cell_type": "markdown",
      "source": [
        "## Abrir arquivo como DataFrame, para melhor análise"
      ],
      "metadata": {
        "id": "EOK_i0JXiM0D"
      }
    },
    {
      "cell_type": "code",
      "source": [
        "nome_var = ['UF','ESTRATO_POF','TIPO_SITUACAO_REG','COD_UPA','NUM_DOM','V0201','V0202','V0203',\n",
        "    'V0204','V0205','V0206','V0207','V0208','V0209','V02101','V02102','V02103','V02104',\n",
        "    'V02105','V02111','V02112','V02113','V0212','V0213','V02141','V02142','V0215','V02161','V02162',\n",
        "    'V02163','V02164','V0217','V0219','V0220','V0221','PESO','PESO_FINAL','V6199']"
      ],
      "metadata": {
        "id": "vFbYtLAzea6t"
      },
      "execution_count": null,
      "outputs": []
    },
    {
      "cell_type": "code",
      "source": [
        "df = pd.read_csv('/content/novo_domicilio.csv', sep=';', names = nome_var, dtype='object')"
      ],
      "metadata": {
        "id": "-VcQiLhiiqpD"
      },
      "execution_count": null,
      "outputs": []
    },
    {
      "cell_type": "code",
      "source": [
        "df.head()"
      ],
      "metadata": {
        "colab": {
          "base_uri": "https://localhost:8080/",
          "height": 236
        },
        "id": "g8LSVs_SkBtE",
        "outputId": "98292803-efe7-438e-c3d0-5c7cb4c98163"
      },
      "execution_count": null,
      "outputs": [
        {
          "output_type": "execute_result",
          "data": {
            "text/plain": [
              "   UF ESTRATO_POF TIPO_SITUACAO_REG    COD_UPA NUM_DOM V0201 V0202 V0203  \\\n",
              "0  11        1103                 1  110005400       1     1     1     1   \n",
              "1  11        1103                 1  110005400       2     1     1     1   \n",
              "2  11        1103                 1  110005400       4     1     4     1   \n",
              "3  11        1103                 1  110005400       5     1     4     1   \n",
              "4  11        1103                 1  110005400       6     1     1     1   \n",
              "\n",
              "  V0204 V0205  ... V02162 V02163 V02164 V0217 V0219 V0220 V0221          PESO  \\\n",
              "0     1    10  ...      2      1      2     1   NaN     1     1  272.80666931   \n",
              "1     1     5  ...      2      1      2     3     1     1     1  272.80666931   \n",
              "2     1     5  ...      2      2      2     1   NaN     1     1  272.80666931   \n",
              "3     1     7  ...      2      2      2     1   NaN     2     1  272.80666931   \n",
              "4     1     6  ...      2      2      2     1   NaN     1     1  272.80666931   \n",
              "\n",
              "     PESO_FINAL V6199  \n",
              "0  372.98451570     1  \n",
              "1  372.98451570     1  \n",
              "2  372.98451570     1  \n",
              "3  372.98451570     1  \n",
              "4  372.98451570     1  \n",
              "\n",
              "[5 rows x 38 columns]"
            ],
            "text/html": [
              "\n",
              "  <div id=\"df-ed56105f-e8d4-4037-9767-cf3ff3b32827\" class=\"colab-df-container\">\n",
              "    <div>\n",
              "<style scoped>\n",
              "    .dataframe tbody tr th:only-of-type {\n",
              "        vertical-align: middle;\n",
              "    }\n",
              "\n",
              "    .dataframe tbody tr th {\n",
              "        vertical-align: top;\n",
              "    }\n",
              "\n",
              "    .dataframe thead th {\n",
              "        text-align: right;\n",
              "    }\n",
              "</style>\n",
              "<table border=\"1\" class=\"dataframe\">\n",
              "  <thead>\n",
              "    <tr style=\"text-align: right;\">\n",
              "      <th></th>\n",
              "      <th>UF</th>\n",
              "      <th>ESTRATO_POF</th>\n",
              "      <th>TIPO_SITUACAO_REG</th>\n",
              "      <th>COD_UPA</th>\n",
              "      <th>NUM_DOM</th>\n",
              "      <th>V0201</th>\n",
              "      <th>V0202</th>\n",
              "      <th>V0203</th>\n",
              "      <th>V0204</th>\n",
              "      <th>V0205</th>\n",
              "      <th>...</th>\n",
              "      <th>V02162</th>\n",
              "      <th>V02163</th>\n",
              "      <th>V02164</th>\n",
              "      <th>V0217</th>\n",
              "      <th>V0219</th>\n",
              "      <th>V0220</th>\n",
              "      <th>V0221</th>\n",
              "      <th>PESO</th>\n",
              "      <th>PESO_FINAL</th>\n",
              "      <th>V6199</th>\n",
              "    </tr>\n",
              "  </thead>\n",
              "  <tbody>\n",
              "    <tr>\n",
              "      <th>0</th>\n",
              "      <td>11</td>\n",
              "      <td>1103</td>\n",
              "      <td>1</td>\n",
              "      <td>110005400</td>\n",
              "      <td>1</td>\n",
              "      <td>1</td>\n",
              "      <td>1</td>\n",
              "      <td>1</td>\n",
              "      <td>1</td>\n",
              "      <td>10</td>\n",
              "      <td>...</td>\n",
              "      <td>2</td>\n",
              "      <td>1</td>\n",
              "      <td>2</td>\n",
              "      <td>1</td>\n",
              "      <td>NaN</td>\n",
              "      <td>1</td>\n",
              "      <td>1</td>\n",
              "      <td>272.80666931</td>\n",
              "      <td>372.98451570</td>\n",
              "      <td>1</td>\n",
              "    </tr>\n",
              "    <tr>\n",
              "      <th>1</th>\n",
              "      <td>11</td>\n",
              "      <td>1103</td>\n",
              "      <td>1</td>\n",
              "      <td>110005400</td>\n",
              "      <td>2</td>\n",
              "      <td>1</td>\n",
              "      <td>1</td>\n",
              "      <td>1</td>\n",
              "      <td>1</td>\n",
              "      <td>5</td>\n",
              "      <td>...</td>\n",
              "      <td>2</td>\n",
              "      <td>1</td>\n",
              "      <td>2</td>\n",
              "      <td>3</td>\n",
              "      <td>1</td>\n",
              "      <td>1</td>\n",
              "      <td>1</td>\n",
              "      <td>272.80666931</td>\n",
              "      <td>372.98451570</td>\n",
              "      <td>1</td>\n",
              "    </tr>\n",
              "    <tr>\n",
              "      <th>2</th>\n",
              "      <td>11</td>\n",
              "      <td>1103</td>\n",
              "      <td>1</td>\n",
              "      <td>110005400</td>\n",
              "      <td>4</td>\n",
              "      <td>1</td>\n",
              "      <td>4</td>\n",
              "      <td>1</td>\n",
              "      <td>1</td>\n",
              "      <td>5</td>\n",
              "      <td>...</td>\n",
              "      <td>2</td>\n",
              "      <td>2</td>\n",
              "      <td>2</td>\n",
              "      <td>1</td>\n",
              "      <td>NaN</td>\n",
              "      <td>1</td>\n",
              "      <td>1</td>\n",
              "      <td>272.80666931</td>\n",
              "      <td>372.98451570</td>\n",
              "      <td>1</td>\n",
              "    </tr>\n",
              "    <tr>\n",
              "      <th>3</th>\n",
              "      <td>11</td>\n",
              "      <td>1103</td>\n",
              "      <td>1</td>\n",
              "      <td>110005400</td>\n",
              "      <td>5</td>\n",
              "      <td>1</td>\n",
              "      <td>4</td>\n",
              "      <td>1</td>\n",
              "      <td>1</td>\n",
              "      <td>7</td>\n",
              "      <td>...</td>\n",
              "      <td>2</td>\n",
              "      <td>2</td>\n",
              "      <td>2</td>\n",
              "      <td>1</td>\n",
              "      <td>NaN</td>\n",
              "      <td>2</td>\n",
              "      <td>1</td>\n",
              "      <td>272.80666931</td>\n",
              "      <td>372.98451570</td>\n",
              "      <td>1</td>\n",
              "    </tr>\n",
              "    <tr>\n",
              "      <th>4</th>\n",
              "      <td>11</td>\n",
              "      <td>1103</td>\n",
              "      <td>1</td>\n",
              "      <td>110005400</td>\n",
              "      <td>6</td>\n",
              "      <td>1</td>\n",
              "      <td>1</td>\n",
              "      <td>1</td>\n",
              "      <td>1</td>\n",
              "      <td>6</td>\n",
              "      <td>...</td>\n",
              "      <td>2</td>\n",
              "      <td>2</td>\n",
              "      <td>2</td>\n",
              "      <td>1</td>\n",
              "      <td>NaN</td>\n",
              "      <td>1</td>\n",
              "      <td>1</td>\n",
              "      <td>272.80666931</td>\n",
              "      <td>372.98451570</td>\n",
              "      <td>1</td>\n",
              "    </tr>\n",
              "  </tbody>\n",
              "</table>\n",
              "<p>5 rows × 38 columns</p>\n",
              "</div>\n",
              "    <div class=\"colab-df-buttons\">\n",
              "\n",
              "  <div class=\"colab-df-container\">\n",
              "    <button class=\"colab-df-convert\" onclick=\"convertToInteractive('df-ed56105f-e8d4-4037-9767-cf3ff3b32827')\"\n",
              "            title=\"Convert this dataframe to an interactive table.\"\n",
              "            style=\"display:none;\">\n",
              "\n",
              "  <svg xmlns=\"http://www.w3.org/2000/svg\" height=\"24px\" viewBox=\"0 -960 960 960\">\n",
              "    <path d=\"M120-120v-720h720v720H120Zm60-500h600v-160H180v160Zm220 220h160v-160H400v160Zm0 220h160v-160H400v160ZM180-400h160v-160H180v160Zm440 0h160v-160H620v160ZM180-180h160v-160H180v160Zm440 0h160v-160H620v160Z\"/>\n",
              "  </svg>\n",
              "    </button>\n",
              "\n",
              "  <style>\n",
              "    .colab-df-container {\n",
              "      display:flex;\n",
              "      gap: 12px;\n",
              "    }\n",
              "\n",
              "    .colab-df-convert {\n",
              "      background-color: #E8F0FE;\n",
              "      border: none;\n",
              "      border-radius: 50%;\n",
              "      cursor: pointer;\n",
              "      display: none;\n",
              "      fill: #1967D2;\n",
              "      height: 32px;\n",
              "      padding: 0 0 0 0;\n",
              "      width: 32px;\n",
              "    }\n",
              "\n",
              "    .colab-df-convert:hover {\n",
              "      background-color: #E2EBFA;\n",
              "      box-shadow: 0px 1px 2px rgba(60, 64, 67, 0.3), 0px 1px 3px 1px rgba(60, 64, 67, 0.15);\n",
              "      fill: #174EA6;\n",
              "    }\n",
              "\n",
              "    .colab-df-buttons div {\n",
              "      margin-bottom: 4px;\n",
              "    }\n",
              "\n",
              "    [theme=dark] .colab-df-convert {\n",
              "      background-color: #3B4455;\n",
              "      fill: #D2E3FC;\n",
              "    }\n",
              "\n",
              "    [theme=dark] .colab-df-convert:hover {\n",
              "      background-color: #434B5C;\n",
              "      box-shadow: 0px 1px 3px 1px rgba(0, 0, 0, 0.15);\n",
              "      filter: drop-shadow(0px 1px 2px rgba(0, 0, 0, 0.3));\n",
              "      fill: #FFFFFF;\n",
              "    }\n",
              "  </style>\n",
              "\n",
              "    <script>\n",
              "      const buttonEl =\n",
              "        document.querySelector('#df-ed56105f-e8d4-4037-9767-cf3ff3b32827 button.colab-df-convert');\n",
              "      buttonEl.style.display =\n",
              "        google.colab.kernel.accessAllowed ? 'block' : 'none';\n",
              "\n",
              "      async function convertToInteractive(key) {\n",
              "        const element = document.querySelector('#df-ed56105f-e8d4-4037-9767-cf3ff3b32827');\n",
              "        const dataTable =\n",
              "          await google.colab.kernel.invokeFunction('convertToInteractive',\n",
              "                                                    [key], {});\n",
              "        if (!dataTable) return;\n",
              "\n",
              "        const docLinkHtml = 'Like what you see? Visit the ' +\n",
              "          '<a target=\"_blank\" href=https://colab.research.google.com/notebooks/data_table.ipynb>data table notebook</a>'\n",
              "          + ' to learn more about interactive tables.';\n",
              "        element.innerHTML = '';\n",
              "        dataTable['output_type'] = 'display_data';\n",
              "        await google.colab.output.renderOutput(dataTable, element);\n",
              "        const docLink = document.createElement('div');\n",
              "        docLink.innerHTML = docLinkHtml;\n",
              "        element.appendChild(docLink);\n",
              "      }\n",
              "    </script>\n",
              "  </div>\n",
              "\n",
              "\n",
              "<div id=\"df-5738db01-532f-4292-940c-6db3b74bb3f8\">\n",
              "  <button class=\"colab-df-quickchart\" onclick=\"quickchart('df-5738db01-532f-4292-940c-6db3b74bb3f8')\"\n",
              "            title=\"Suggest charts.\"\n",
              "            style=\"display:none;\">\n",
              "\n",
              "<svg xmlns=\"http://www.w3.org/2000/svg\" height=\"24px\"viewBox=\"0 0 24 24\"\n",
              "     width=\"24px\">\n",
              "    <g>\n",
              "        <path d=\"M19 3H5c-1.1 0-2 .9-2 2v14c0 1.1.9 2 2 2h14c1.1 0 2-.9 2-2V5c0-1.1-.9-2-2-2zM9 17H7v-7h2v7zm4 0h-2V7h2v10zm4 0h-2v-4h2v4z\"/>\n",
              "    </g>\n",
              "</svg>\n",
              "  </button>\n",
              "\n",
              "<style>\n",
              "  .colab-df-quickchart {\n",
              "      --bg-color: #E8F0FE;\n",
              "      --fill-color: #1967D2;\n",
              "      --hover-bg-color: #E2EBFA;\n",
              "      --hover-fill-color: #174EA6;\n",
              "      --disabled-fill-color: #AAA;\n",
              "      --disabled-bg-color: #DDD;\n",
              "  }\n",
              "\n",
              "  [theme=dark] .colab-df-quickchart {\n",
              "      --bg-color: #3B4455;\n",
              "      --fill-color: #D2E3FC;\n",
              "      --hover-bg-color: #434B5C;\n",
              "      --hover-fill-color: #FFFFFF;\n",
              "      --disabled-bg-color: #3B4455;\n",
              "      --disabled-fill-color: #666;\n",
              "  }\n",
              "\n",
              "  .colab-df-quickchart {\n",
              "    background-color: var(--bg-color);\n",
              "    border: none;\n",
              "    border-radius: 50%;\n",
              "    cursor: pointer;\n",
              "    display: none;\n",
              "    fill: var(--fill-color);\n",
              "    height: 32px;\n",
              "    padding: 0;\n",
              "    width: 32px;\n",
              "  }\n",
              "\n",
              "  .colab-df-quickchart:hover {\n",
              "    background-color: var(--hover-bg-color);\n",
              "    box-shadow: 0 1px 2px rgba(60, 64, 67, 0.3), 0 1px 3px 1px rgba(60, 64, 67, 0.15);\n",
              "    fill: var(--button-hover-fill-color);\n",
              "  }\n",
              "\n",
              "  .colab-df-quickchart-complete:disabled,\n",
              "  .colab-df-quickchart-complete:disabled:hover {\n",
              "    background-color: var(--disabled-bg-color);\n",
              "    fill: var(--disabled-fill-color);\n",
              "    box-shadow: none;\n",
              "  }\n",
              "\n",
              "  .colab-df-spinner {\n",
              "    border: 2px solid var(--fill-color);\n",
              "    border-color: transparent;\n",
              "    border-bottom-color: var(--fill-color);\n",
              "    animation:\n",
              "      spin 1s steps(1) infinite;\n",
              "  }\n",
              "\n",
              "  @keyframes spin {\n",
              "    0% {\n",
              "      border-color: transparent;\n",
              "      border-bottom-color: var(--fill-color);\n",
              "      border-left-color: var(--fill-color);\n",
              "    }\n",
              "    20% {\n",
              "      border-color: transparent;\n",
              "      border-left-color: var(--fill-color);\n",
              "      border-top-color: var(--fill-color);\n",
              "    }\n",
              "    30% {\n",
              "      border-color: transparent;\n",
              "      border-left-color: var(--fill-color);\n",
              "      border-top-color: var(--fill-color);\n",
              "      border-right-color: var(--fill-color);\n",
              "    }\n",
              "    40% {\n",
              "      border-color: transparent;\n",
              "      border-right-color: var(--fill-color);\n",
              "      border-top-color: var(--fill-color);\n",
              "    }\n",
              "    60% {\n",
              "      border-color: transparent;\n",
              "      border-right-color: var(--fill-color);\n",
              "    }\n",
              "    80% {\n",
              "      border-color: transparent;\n",
              "      border-right-color: var(--fill-color);\n",
              "      border-bottom-color: var(--fill-color);\n",
              "    }\n",
              "    90% {\n",
              "      border-color: transparent;\n",
              "      border-bottom-color: var(--fill-color);\n",
              "    }\n",
              "  }\n",
              "</style>\n",
              "\n",
              "  <script>\n",
              "    async function quickchart(key) {\n",
              "      const quickchartButtonEl =\n",
              "        document.querySelector('#' + key + ' button');\n",
              "      quickchartButtonEl.disabled = true;  // To prevent multiple clicks.\n",
              "      quickchartButtonEl.classList.add('colab-df-spinner');\n",
              "      try {\n",
              "        const charts = await google.colab.kernel.invokeFunction(\n",
              "            'suggestCharts', [key], {});\n",
              "      } catch (error) {\n",
              "        console.error('Error during call to suggestCharts:', error);\n",
              "      }\n",
              "      quickchartButtonEl.classList.remove('colab-df-spinner');\n",
              "      quickchartButtonEl.classList.add('colab-df-quickchart-complete');\n",
              "    }\n",
              "    (() => {\n",
              "      let quickchartButtonEl =\n",
              "        document.querySelector('#df-5738db01-532f-4292-940c-6db3b74bb3f8 button');\n",
              "      quickchartButtonEl.style.display =\n",
              "        google.colab.kernel.accessAllowed ? 'block' : 'none';\n",
              "    })();\n",
              "  </script>\n",
              "</div>\n",
              "    </div>\n",
              "  </div>\n"
            ]
          },
          "metadata": {},
          "execution_count": 18
        }
      ]
    },
    {
      "cell_type": "code",
      "source": [
        "df.info()"
      ],
      "metadata": {
        "id": "HHKnrvHxk1AV",
        "colab": {
          "base_uri": "https://localhost:8080/"
        },
        "outputId": "f5d56cf9-d75f-4473-ece2-872a65687f5a"
      },
      "execution_count": null,
      "outputs": [
        {
          "output_type": "stream",
          "name": "stdout",
          "text": [
            "<class 'pandas.core.frame.DataFrame'>\n",
            "RangeIndex: 57920 entries, 0 to 57919\n",
            "Data columns (total 38 columns):\n",
            " #   Column             Non-Null Count  Dtype \n",
            "---  ------             --------------  ----- \n",
            " 0   UF                 57920 non-null  object\n",
            " 1   ESTRATO_POF        57920 non-null  object\n",
            " 2   TIPO_SITUACAO_REG  57920 non-null  object\n",
            " 3   COD_UPA            57920 non-null  object\n",
            " 4   NUM_DOM            57920 non-null  object\n",
            " 5   V0201              57920 non-null  object\n",
            " 6   V0202              57920 non-null  object\n",
            " 7   V0203              57920 non-null  object\n",
            " 8   V0204              57920 non-null  object\n",
            " 9   V0205              57920 non-null  object\n",
            " 10  V0206              57920 non-null  object\n",
            " 11  V0207              57920 non-null  object\n",
            " 12  V0208              44187 non-null  object\n",
            " 13  V0209              57920 non-null  object\n",
            " 14  V02101             54854 non-null  object\n",
            " 15  V02102             54854 non-null  object\n",
            " 16  V02103             54854 non-null  object\n",
            " 17  V02104             54854 non-null  object\n",
            " 18  V02105             54854 non-null  object\n",
            " 19  V02111             57920 non-null  object\n",
            " 20  V02112             2263 non-null   object\n",
            " 21  V02113             1910 non-null   object\n",
            " 22  V0212              57256 non-null  object\n",
            " 23  V0213              57920 non-null  object\n",
            " 24  V02141             57920 non-null  object\n",
            " 25  V02142             57920 non-null  object\n",
            " 26  V0215              57333 non-null  object\n",
            " 27  V02161             57920 non-null  object\n",
            " 28  V02162             57920 non-null  object\n",
            " 29  V02163             57920 non-null  object\n",
            " 30  V02164             57920 non-null  object\n",
            " 31  V0217              57920 non-null  object\n",
            " 32  V0219              8985 non-null   object\n",
            " 33  V0220              57920 non-null  object\n",
            " 34  V0221              57920 non-null  object\n",
            " 35  PESO               57920 non-null  object\n",
            " 36  PESO_FINAL         57920 non-null  object\n",
            " 37  V6199              57920 non-null  object\n",
            "dtypes: object(38)\n",
            "memory usage: 16.8+ MB\n"
          ]
        }
      ]
    },
    {
      "cell_type": "markdown",
      "source": [
        "##Conferir Unicidade da Chave Identificadora"
      ],
      "metadata": {
        "id": "R3MGC_sfijdL"
      }
    },
    {
      "cell_type": "code",
      "source": [
        "df_id = df.drop_duplicates(subset=['COD_UPA','NUM_DOM'], keep='first')"
      ],
      "metadata": {
        "id": "zYRXSVhRAF6Y"
      },
      "execution_count": null,
      "outputs": []
    },
    {
      "cell_type": "code",
      "source": [
        "df_id.shape[0]"
      ],
      "metadata": {
        "colab": {
          "base_uri": "https://localhost:8080/"
        },
        "id": "OYgKMabftB5q",
        "outputId": "a6cdc22c-03cc-407f-fa5c-a82983a33a76"
      },
      "execution_count": null,
      "outputs": [
        {
          "output_type": "execute_result",
          "data": {
            "text/plain": [
              "57920"
            ]
          },
          "metadata": {},
          "execution_count": 95
        }
      ]
    },
    {
      "cell_type": "markdown",
      "source": [
        "## Baixar Arquivo como CSV"
      ],
      "metadata": {
        "id": "3xxcaB3GuQJF"
      }
    },
    {
      "cell_type": "code",
      "source": [
        "df.to_csv('DOMICILIO.csv', index=False)"
      ],
      "metadata": {
        "id": "gNrH5gzbuZ3G"
      },
      "execution_count": null,
      "outputs": []
    },
    {
      "cell_type": "markdown",
      "source": [
        "# Tratamento do arquivo \"MORADOR\""
      ],
      "metadata": {
        "id": "WBlye7OKvxig"
      }
    },
    {
      "cell_type": "markdown",
      "source": [
        "## Abrir e Analisar Arquivo"
      ],
      "metadata": {
        "id": "hiZhM1QBwKco"
      }
    },
    {
      "cell_type": "code",
      "source": [
        "morador = '/content/drive/MyDrive/POF (2017 2018)/MORADOR.txt'\n"
      ],
      "metadata": {
        "id": "GtHB_kmYvzW3"
      },
      "execution_count": null,
      "outputs": []
    },
    {
      "cell_type": "code",
      "source": [
        "with open(morador, 'r') as arquivo:\n",
        "    conteudo = arquivo.readlines()\n",
        "\n",
        "# Imprimir 5 primeiras Linhas\n",
        "print(\"5 primeiras Linhas: \\n\")\n",
        "for conteudo in conteudo[:5]:\n",
        "    print(conteudo, end='')"
      ],
      "metadata": {
        "colab": {
          "base_uri": "https://localhost:8080/"
        },
        "id": "J1kqvgKbwY-8",
        "outputId": "399e849e-04fc-4d4c-fbed-c80df48fcd33"
      },
      "execution_count": null,
      "outputs": [
        {
          "output_type": "stream",
          "name": "stdout",
          "text": [
            "5 primeiras Linhas: \n",
            "\n",
            "1111011110000016 21 1 1115 71953 6414211 01 0 012                 1 5  1 42 5  449.91150552  690.88373818   3855.342     1237.1830555556     1285.1141666667        0.0000000000       47.9311111111\n",
            "1111011110000016 21 2 21 1121956 6124211 11 0 012                 1 5  1 52 6  449.91150552  690.88373818   3855.342     1237.1830555556     1285.1141666667        0.0000000000       47.9311111111\n",
            "1111011110000016 21 3 6116121976 4114211 11 0 012                 110  1 3112  449.91150552  690.88373818   3855.345     1237.1830555556     1285.1141666667        0.0000000000       47.9311111111\n",
            "1111011110000016 31 1 11 4 71980 3724211 01 0 112                 110  1 3112  449.91150552  690.88373818   4242.485     1265.6441666667      826.7800000000      446.3404166667        7.4762500000\n",
            "1111011110000016 31 2 21 7121977 4014211 00   112                 1 8  1 52 6  449.91150552  690.88373818   4242.482     1265.6441666667      826.7800000000      446.3404166667        7.4762500000\n"
          ]
        }
      ]
    },
    {
      "cell_type": "code",
      "source": [
        "with open(morador, 'r') as arquivo:\n",
        "    conteudo = arquivo.readlines()\n",
        "\n",
        "# descobrir quantas Linhas tem o arquivo\n",
        "cont = 0\n",
        "for linha in conteudo:\n",
        "    cont += 1\n",
        "\n",
        "# descobrir quantos caracteres tem a primeira Linha\n",
        "cont_char = 0\n",
        "for i, linha in enumerate(conteudo[:1], start=1):\n",
        "    num_caracteres = len(linha)\n",
        "\n",
        "# descobrir se o restante das linhas tem a mesma qtd de caracteres da primeira linha\n",
        "primeira_linha = conteudo[0]\n",
        "todas_as_linhas_iguais = all(len(linha) == len(primeira_linha) for linha in conteudo)\n",
        "\n",
        "print(\"Total de linhas: \", cont)\n",
        "print(\"Total de caracteres da primeira linha: \", num_caracteres)\n",
        "print(\"Todas as Linhas tem o mesmo comprimento da primeira? \", todas_as_linhas_iguais)"
      ],
      "metadata": {
        "colab": {
          "base_uri": "https://localhost:8080/"
        },
        "id": "D4SvfiJaxs_B",
        "outputId": "f0ad4b64-2a0e-4737-dc95-8c371d12141d"
      },
      "execution_count": null,
      "outputs": [
        {
          "output_type": "stream",
          "name": "stdout",
          "text": [
            "Total de linhas:  178431\n",
            "Total de caracteres da primeira linha:  197\n",
            "Todas as Linhas tem o mesmo comprimento da primeira?  True\n"
          ]
        }
      ]
    },
    {
      "cell_type": "markdown",
      "source": [
        "## Adicionar Separador"
      ],
      "metadata": {
        "id": "8xDx7TGFy9mC"
      }
    },
    {
      "cell_type": "code",
      "source": [
        "with open(morador, 'r') as arquivo_orig:\n",
        "    with open('novo_morador.csv', 'w') as arquivo_novo:\n",
        "        for linha in arquivo_orig:\n",
        "            nova_linha = (\n",
        "                linha[:2] + ';' + # variável 1\n",
        "                linha[2:6] + ';' + # variável 2\n",
        "                linha[6:7] + ';' + # variável 3\n",
        "                linha[7:16] + ';' + # variável 4\n",
        "                linha[16:18] + ';' + # variável 5\n",
        "                linha[18:19] + ';' + # variável 6\n",
        "                linha[19:21] + ';' + # variável 7\n",
        "                linha[21:23] + ';' + # variável 8\n",
        "                linha[23:24] + ';' + # variável 9\n",
        "                linha[24:26] + ';' + # variável 10\n",
        "                linha[26:28] + ';' + # variável 11\n",
        "                linha[28:32] + ';' + # variável 12\n",
        "                linha[32:35] + ';' + # variável 13\n",
        "                linha[35:36] + ';' + # variável 14\n",
        "                linha[36:37] + ';' + # variável 15\n",
        "                linha[37:38] + ';' + # variável 16\n",
        "                linha[38:39] + ';' + # variável 17\n",
        "                linha[39:40] + ';' + # variável 18\n",
        "                linha[40:42] + ';' + # variável 19\n",
        "                linha[42:43] + ';' + # variável 20\n",
        "                linha[43:45] + ';' + # variável 21\n",
        "                linha[45:46] + ';' + # variável 22\n",
        "                linha[46:47] + ';' + # variável 23\n",
        "                linha[47:48] + ';' + # variável 24\n",
        "                linha[48:49] + ';' + # variável 25\n",
        "                linha[49:50] + ';' + # variável 26\n",
        "                linha[50:51] + ';' + # variável 27\n",
        "                linha[51:52] + ';' + # variável 28\n",
        "                linha[52:53] + ';' + # variável 29\n",
        "                linha[53:54] + ';' + # variável 30\n",
        "                linha[54:55] + ';' + # variável 31\n",
        "                linha[55:56] + ';' + # variável 32\n",
        "                linha[56:57] + ';' + # variável 33\n",
        "                linha[57:58] + ';' + # variável 34\n",
        "                linha[58:59] + ';' + # variável 35\n",
        "                linha[59:61] + ';' + # variável 36\n",
        "                linha[61:62] + ';' + # variável 37\n",
        "                linha[62:63] + ';' +  # variável 38\n",
        "                linha[63:65] + ';' +  # variável 39\n",
        "                linha[65:66] + ';' +  # variável 40\n",
        "                linha[66:67] + ';' +  # variável 41\n",
        "                linha[67:69] + ';' +  # variável 42\n",
        "                linha[69:70] + ';' +  # variável 43\n",
        "                linha[70:71] + ';' +  # variável 44\n",
        "                linha[71:72] + ';' +  # variável 45\n",
        "                linha[72:74] + ';' +  # variável 46\n",
        "                linha[74:75] + ';' +  # variável 47\n",
        "                linha[75:77] + ';' +  # variável 48\n",
        "                linha[77:91] + ';' +  # variável 49\n",
        "                linha[91:105] + ';' +  # variável 50\n",
        "                linha[105:115] + ';' +  # variável 51\n",
        "                linha[115:116] + ';' +  # variável 52\n",
        "                linha[116:136] + ';' +  # variável 53\n",
        "                linha[136:156] + ';' +  # variável 54\n",
        "                linha[156:176] + ';' +  # variável 55\n",
        "                linha[176:] # variável 56\n",
        "            )\n",
        "            nova_linha = nova_linha.replace(' ', '')\n",
        "            arquivo_novo.write(nova_linha)"
      ],
      "metadata": {
        "id": "B1loy_5_zIpg"
      },
      "execution_count": null,
      "outputs": []
    },
    {
      "cell_type": "markdown",
      "source": [
        "Conferir Processo"
      ],
      "metadata": {
        "id": "gb9NrEMmCpKg"
      }
    },
    {
      "cell_type": "code",
      "source": [
        "novo_morador = \"/content/novo_morador.csv\"\n",
        "\n",
        "with open(novo_morador, 'r') as arquivo_novo:\n",
        "  novo_dom = arquivo_novo.readlines()\n",
        "\n",
        "# imprimir primeira linha\n",
        "for lin in novo_dom[:1]:\n",
        "  print(lin, end=\"\")"
      ],
      "metadata": {
        "colab": {
          "base_uri": "https://localhost:8080/"
        },
        "id": "ZUwSAIms9AYp",
        "outputId": "b9fe7e37-4691-48c9-8948-4edfa15a3f1b"
      },
      "execution_count": null,
      "outputs": [
        {
          "output_type": "stream",
          "name": "stdout",
          "text": [
            "11;1101;1;110000016;2;1;1;1;1;15;7;1953;64;1;4;2;1;1;0;1;0;;0;1;2;;;;;;;;;;;;;;;;1;5;;;1;4;2;5;449.91150552;690.88373818;3855.34;2;1237.1830555556;1285.1141666667;0.0000000000;47.9311111111\n"
          ]
        }
      ]
    },
    {
      "cell_type": "markdown",
      "source": [
        "Conferir Estado do Novo Arquivo"
      ],
      "metadata": {
        "id": "nAtQaauxCuIQ"
      }
    },
    {
      "cell_type": "code",
      "source": [
        "with open(novo_morador, 'r') as arquivo:\n",
        "    conteudo = arquivo.readlines()\n",
        "\n",
        "# Conferir Numero de Linhas\n",
        "cont = 0\n",
        "for linha in conteudo:\n",
        "    cont += 1\n",
        "\n",
        "# Conferir Total de Caracteres\n",
        "cont_char = 0\n",
        "for i, linha in enumerate(conteudo[:1], start=1):\n",
        "    num_caracteres = len(linha)\n",
        "\n",
        "# Conferir se as Linhas Ainda tem o Mesmo Numero de Caracteres\n",
        "primeira_linha = conteudo[0]\n",
        "todas_as_linhas_iguais = all(len(linha) == len(primeira_linha) for linha in conteudo)\n",
        "\n",
        "print(\"Total de linhas: \", cont)\n",
        "print(\"Total de caracteres da primeira linha: \", num_caracteres)\n",
        "print(\"Todas as Linhas tem o mesmo comprimento da primeira? \", todas_as_linhas_iguais)"
      ],
      "metadata": {
        "colab": {
          "base_uri": "https://localhost:8080/"
        },
        "id": "wD6B5z5oCxId",
        "outputId": "13802552-585f-4568-eae1-6921cb5768cb"
      },
      "execution_count": null,
      "outputs": [
        {
          "output_type": "stream",
          "name": "stdout",
          "text": [
            "Total de linhas:  178431\n",
            "Total de caracteres da primeira linha:  190\n",
            "Todas as Linhas tem o mesmo comprimento da primeira?  False\n"
          ]
        }
      ]
    },
    {
      "cell_type": "markdown",
      "source": [
        "## Abrir como Dataframe, para melhor análise"
      ],
      "metadata": {
        "id": "2pMEdJMeDW6q"
      }
    },
    {
      "cell_type": "code",
      "source": [
        "colunas_morador = nomes = [\n",
        "    'UF', 'ESTRATO_POF', 'TIPO_SITUACAO_REG', 'COD_UPA', 'NUM_DOM', 'NUM_UC',\n",
        "    'COD_INFORMANTE', 'V0306', 'V0401', 'V04021', 'V04022', 'V04023', 'V0403',\n",
        "    'V0404', 'V0405', 'V0406', 'V0407', 'V0408', 'V0409', 'V0410', 'V0411',\n",
        "    'V0412', 'V0413', 'V0414', 'V0415', 'V0416', 'V041711', 'V041712',\n",
        "    'V041721', 'V041722', 'V041731', 'V041732', 'V041741', 'V041742', 'V0418',\n",
        "    'V0419', 'V0420', 'V0421', 'V0422', 'V0423', 'V0424', 'V0425', 'V0426',\n",
        "    'V0427', 'V0428', 'V0429', 'V0430', 'ANOS_ESTUDO', 'PESO', 'PESO_FINAL',\n",
        "    'RENDA_TOTAL', 'NIVEL_INSTRUCAO', 'RENDA_DISP_PC', 'RENDA_MONET_PC',\n",
        "    'RENDA_NAO_MONET_PC', 'DEDUCAO_PC'\n",
        "]\n"
      ],
      "metadata": {
        "id": "I_tKPwVGDgfI"
      },
      "execution_count": null,
      "outputs": []
    },
    {
      "cell_type": "code",
      "source": [
        "df_novo_morador = pd.read_csv('/content/novo_morador.csv', sep=';', names = colunas_morador, dtype='object')"
      ],
      "metadata": {
        "id": "-RlvgWWODoHW"
      },
      "execution_count": null,
      "outputs": []
    },
    {
      "cell_type": "code",
      "source": [
        "df_novo_morador.info()"
      ],
      "metadata": {
        "colab": {
          "base_uri": "https://localhost:8080/"
        },
        "id": "ty37YJieHWPx",
        "outputId": "5d361d20-a995-4050-af51-d36a6bbe755a"
      },
      "execution_count": null,
      "outputs": [
        {
          "output_type": "stream",
          "name": "stdout",
          "text": [
            "<class 'pandas.core.frame.DataFrame'>\n",
            "RangeIndex: 178431 entries, 0 to 178430\n",
            "Data columns (total 56 columns):\n",
            " #   Column              Non-Null Count   Dtype \n",
            "---  ------              --------------   ----- \n",
            " 0   UF                  178431 non-null  object\n",
            " 1   ESTRATO_POF         178431 non-null  object\n",
            " 2   TIPO_SITUACAO_REG   178431 non-null  object\n",
            " 3   COD_UPA             178431 non-null  object\n",
            " 4   NUM_DOM             178431 non-null  object\n",
            " 5   NUM_UC              178431 non-null  object\n",
            " 6   COD_INFORMANTE      178431 non-null  object\n",
            " 7   V0306               178431 non-null  object\n",
            " 8   V0401               178431 non-null  object\n",
            " 9   V04021              178431 non-null  object\n",
            " 10  V04022              178431 non-null  object\n",
            " 11  V04023              178431 non-null  object\n",
            " 12  V0403               178431 non-null  object\n",
            " 13  V0404               178431 non-null  object\n",
            " 14  V0405               178431 non-null  object\n",
            " 15  V0406               178431 non-null  object\n",
            " 16  V0407               148116 non-null  object\n",
            " 17  V0408               148116 non-null  object\n",
            " 18  V0409               128278 non-null  object\n",
            " 19  V0410               128278 non-null  object\n",
            " 20  V0411               52641 non-null   object\n",
            " 21  V0412               12336 non-null   object\n",
            " 22  V0413               128278 non-null  object\n",
            " 23  V0414               178431 non-null  object\n",
            " 24  V0415               178431 non-null  object\n",
            " 25  V0416               16730 non-null   object\n",
            " 26  V041711             16730 non-null   object\n",
            " 27  V041712             3038 non-null    object\n",
            " 28  V041721             16730 non-null   object\n",
            " 29  V041722             14231 non-null   object\n",
            " 30  V041731             16730 non-null   object\n",
            " 31  V041732             3376 non-null    object\n",
            " 32  V041741             16730 non-null   object\n",
            " 33  V041742             748 non-null     object\n",
            " 34  V0418               49691 non-null   object\n",
            " 35  V0419               49691 non-null   object\n",
            " 36  V0420               25903 non-null   object\n",
            " 37  V0421               6452 non-null    object\n",
            " 38  V0422               41505 non-null   object\n",
            " 39  V0423               6452 non-null    object\n",
            " 40  V0424               128740 non-null  object\n",
            " 41  V0425               113671 non-null  object\n",
            " 42  V0426               34118 non-null   object\n",
            " 43  V0427               13085 non-null   object\n",
            " 44  V0428               106178 non-null  object\n",
            " 45  V0429               101188 non-null  object\n",
            " 46  V0430               107528 non-null  object\n",
            " 47  ANOS_ESTUDO         178431 non-null  object\n",
            " 48  PESO                178431 non-null  object\n",
            " 49  PESO_FINAL          178431 non-null  object\n",
            " 50  RENDA_TOTAL         178431 non-null  object\n",
            " 51  NIVEL_INSTRUCAO     178431 non-null  object\n",
            " 52  RENDA_DISP_PC       178369 non-null  object\n",
            " 53  RENDA_MONET_PC      178369 non-null  object\n",
            " 54  RENDA_NAO_MONET_PC  178369 non-null  object\n",
            " 55  DEDUCAO_PC          178369 non-null  object\n",
            "dtypes: object(56)\n",
            "memory usage: 76.2+ MB\n"
          ]
        }
      ]
    },
    {
      "cell_type": "code",
      "source": [
        "df_novo_morador.head()"
      ],
      "metadata": {
        "colab": {
          "base_uri": "https://localhost:8080/",
          "height": 256
        },
        "id": "l22WBftMHGas",
        "outputId": "9b22f59a-e261-4d75-ea25-8d9f6ab54187"
      },
      "execution_count": null,
      "outputs": [
        {
          "output_type": "execute_result",
          "data": {
            "text/plain": [
              "   UF ESTRATO_POF TIPO_SITUACAO_REG    COD_UPA NUM_DOM NUM_UC COD_INFORMANTE  \\\n",
              "0  11        1101                 1  110000016       2      1              1   \n",
              "1  11        1101                 1  110000016       2      1              2   \n",
              "2  11        1101                 1  110000016       2      1              3   \n",
              "3  11        1101                 1  110000016       3      1              1   \n",
              "4  11        1101                 1  110000016       3      1              2   \n",
              "\n",
              "  V0306 V0401 V04021  ... V0430 ANOS_ESTUDO          PESO    PESO_FINAL  \\\n",
              "0     1     1     15  ...     2           5  449.91150552  690.88373818   \n",
              "1     2     1      1  ...     2           6  449.91150552  690.88373818   \n",
              "2     6     1     16  ...     1          12  449.91150552  690.88373818   \n",
              "3     1     1      4  ...     1          12  449.91150552  690.88373818   \n",
              "4     2     1      7  ...     2           6  449.91150552  690.88373818   \n",
              "\n",
              "  RENDA_TOTAL NIVEL_INSTRUCAO    RENDA_DISP_PC   RENDA_MONET_PC  \\\n",
              "0     3855.34               2  1237.1830555556  1285.1141666667   \n",
              "1     3855.34               2  1237.1830555556  1285.1141666667   \n",
              "2     3855.34               5  1237.1830555556  1285.1141666667   \n",
              "3     4242.48               5  1265.6441666667   826.7800000000   \n",
              "4     4242.48               2  1265.6441666667   826.7800000000   \n",
              "\n",
              "  RENDA_NAO_MONET_PC     DEDUCAO_PC  \n",
              "0       0.0000000000  47.9311111111  \n",
              "1       0.0000000000  47.9311111111  \n",
              "2       0.0000000000  47.9311111111  \n",
              "3     446.3404166667   7.4762500000  \n",
              "4     446.3404166667   7.4762500000  \n",
              "\n",
              "[5 rows x 56 columns]"
            ],
            "text/html": [
              "\n",
              "  <div id=\"df-1fccd46b-c935-4c66-ad9c-ac4581a930d7\" class=\"colab-df-container\">\n",
              "    <div>\n",
              "<style scoped>\n",
              "    .dataframe tbody tr th:only-of-type {\n",
              "        vertical-align: middle;\n",
              "    }\n",
              "\n",
              "    .dataframe tbody tr th {\n",
              "        vertical-align: top;\n",
              "    }\n",
              "\n",
              "    .dataframe thead th {\n",
              "        text-align: right;\n",
              "    }\n",
              "</style>\n",
              "<table border=\"1\" class=\"dataframe\">\n",
              "  <thead>\n",
              "    <tr style=\"text-align: right;\">\n",
              "      <th></th>\n",
              "      <th>UF</th>\n",
              "      <th>ESTRATO_POF</th>\n",
              "      <th>TIPO_SITUACAO_REG</th>\n",
              "      <th>COD_UPA</th>\n",
              "      <th>NUM_DOM</th>\n",
              "      <th>NUM_UC</th>\n",
              "      <th>COD_INFORMANTE</th>\n",
              "      <th>V0306</th>\n",
              "      <th>V0401</th>\n",
              "      <th>V04021</th>\n",
              "      <th>...</th>\n",
              "      <th>V0430</th>\n",
              "      <th>ANOS_ESTUDO</th>\n",
              "      <th>PESO</th>\n",
              "      <th>PESO_FINAL</th>\n",
              "      <th>RENDA_TOTAL</th>\n",
              "      <th>NIVEL_INSTRUCAO</th>\n",
              "      <th>RENDA_DISP_PC</th>\n",
              "      <th>RENDA_MONET_PC</th>\n",
              "      <th>RENDA_NAO_MONET_PC</th>\n",
              "      <th>DEDUCAO_PC</th>\n",
              "    </tr>\n",
              "  </thead>\n",
              "  <tbody>\n",
              "    <tr>\n",
              "      <th>0</th>\n",
              "      <td>11</td>\n",
              "      <td>1101</td>\n",
              "      <td>1</td>\n",
              "      <td>110000016</td>\n",
              "      <td>2</td>\n",
              "      <td>1</td>\n",
              "      <td>1</td>\n",
              "      <td>1</td>\n",
              "      <td>1</td>\n",
              "      <td>15</td>\n",
              "      <td>...</td>\n",
              "      <td>2</td>\n",
              "      <td>5</td>\n",
              "      <td>449.91150552</td>\n",
              "      <td>690.88373818</td>\n",
              "      <td>3855.34</td>\n",
              "      <td>2</td>\n",
              "      <td>1237.1830555556</td>\n",
              "      <td>1285.1141666667</td>\n",
              "      <td>0.0000000000</td>\n",
              "      <td>47.9311111111</td>\n",
              "    </tr>\n",
              "    <tr>\n",
              "      <th>1</th>\n",
              "      <td>11</td>\n",
              "      <td>1101</td>\n",
              "      <td>1</td>\n",
              "      <td>110000016</td>\n",
              "      <td>2</td>\n",
              "      <td>1</td>\n",
              "      <td>2</td>\n",
              "      <td>2</td>\n",
              "      <td>1</td>\n",
              "      <td>1</td>\n",
              "      <td>...</td>\n",
              "      <td>2</td>\n",
              "      <td>6</td>\n",
              "      <td>449.91150552</td>\n",
              "      <td>690.88373818</td>\n",
              "      <td>3855.34</td>\n",
              "      <td>2</td>\n",
              "      <td>1237.1830555556</td>\n",
              "      <td>1285.1141666667</td>\n",
              "      <td>0.0000000000</td>\n",
              "      <td>47.9311111111</td>\n",
              "    </tr>\n",
              "    <tr>\n",
              "      <th>2</th>\n",
              "      <td>11</td>\n",
              "      <td>1101</td>\n",
              "      <td>1</td>\n",
              "      <td>110000016</td>\n",
              "      <td>2</td>\n",
              "      <td>1</td>\n",
              "      <td>3</td>\n",
              "      <td>6</td>\n",
              "      <td>1</td>\n",
              "      <td>16</td>\n",
              "      <td>...</td>\n",
              "      <td>1</td>\n",
              "      <td>12</td>\n",
              "      <td>449.91150552</td>\n",
              "      <td>690.88373818</td>\n",
              "      <td>3855.34</td>\n",
              "      <td>5</td>\n",
              "      <td>1237.1830555556</td>\n",
              "      <td>1285.1141666667</td>\n",
              "      <td>0.0000000000</td>\n",
              "      <td>47.9311111111</td>\n",
              "    </tr>\n",
              "    <tr>\n",
              "      <th>3</th>\n",
              "      <td>11</td>\n",
              "      <td>1101</td>\n",
              "      <td>1</td>\n",
              "      <td>110000016</td>\n",
              "      <td>3</td>\n",
              "      <td>1</td>\n",
              "      <td>1</td>\n",
              "      <td>1</td>\n",
              "      <td>1</td>\n",
              "      <td>4</td>\n",
              "      <td>...</td>\n",
              "      <td>1</td>\n",
              "      <td>12</td>\n",
              "      <td>449.91150552</td>\n",
              "      <td>690.88373818</td>\n",
              "      <td>4242.48</td>\n",
              "      <td>5</td>\n",
              "      <td>1265.6441666667</td>\n",
              "      <td>826.7800000000</td>\n",
              "      <td>446.3404166667</td>\n",
              "      <td>7.4762500000</td>\n",
              "    </tr>\n",
              "    <tr>\n",
              "      <th>4</th>\n",
              "      <td>11</td>\n",
              "      <td>1101</td>\n",
              "      <td>1</td>\n",
              "      <td>110000016</td>\n",
              "      <td>3</td>\n",
              "      <td>1</td>\n",
              "      <td>2</td>\n",
              "      <td>2</td>\n",
              "      <td>1</td>\n",
              "      <td>7</td>\n",
              "      <td>...</td>\n",
              "      <td>2</td>\n",
              "      <td>6</td>\n",
              "      <td>449.91150552</td>\n",
              "      <td>690.88373818</td>\n",
              "      <td>4242.48</td>\n",
              "      <td>2</td>\n",
              "      <td>1265.6441666667</td>\n",
              "      <td>826.7800000000</td>\n",
              "      <td>446.3404166667</td>\n",
              "      <td>7.4762500000</td>\n",
              "    </tr>\n",
              "  </tbody>\n",
              "</table>\n",
              "<p>5 rows × 56 columns</p>\n",
              "</div>\n",
              "    <div class=\"colab-df-buttons\">\n",
              "\n",
              "  <div class=\"colab-df-container\">\n",
              "    <button class=\"colab-df-convert\" onclick=\"convertToInteractive('df-1fccd46b-c935-4c66-ad9c-ac4581a930d7')\"\n",
              "            title=\"Convert this dataframe to an interactive table.\"\n",
              "            style=\"display:none;\">\n",
              "\n",
              "  <svg xmlns=\"http://www.w3.org/2000/svg\" height=\"24px\" viewBox=\"0 -960 960 960\">\n",
              "    <path d=\"M120-120v-720h720v720H120Zm60-500h600v-160H180v160Zm220 220h160v-160H400v160Zm0 220h160v-160H400v160ZM180-400h160v-160H180v160Zm440 0h160v-160H620v160ZM180-180h160v-160H180v160Zm440 0h160v-160H620v160Z\"/>\n",
              "  </svg>\n",
              "    </button>\n",
              "\n",
              "  <style>\n",
              "    .colab-df-container {\n",
              "      display:flex;\n",
              "      gap: 12px;\n",
              "    }\n",
              "\n",
              "    .colab-df-convert {\n",
              "      background-color: #E8F0FE;\n",
              "      border: none;\n",
              "      border-radius: 50%;\n",
              "      cursor: pointer;\n",
              "      display: none;\n",
              "      fill: #1967D2;\n",
              "      height: 32px;\n",
              "      padding: 0 0 0 0;\n",
              "      width: 32px;\n",
              "    }\n",
              "\n",
              "    .colab-df-convert:hover {\n",
              "      background-color: #E2EBFA;\n",
              "      box-shadow: 0px 1px 2px rgba(60, 64, 67, 0.3), 0px 1px 3px 1px rgba(60, 64, 67, 0.15);\n",
              "      fill: #174EA6;\n",
              "    }\n",
              "\n",
              "    .colab-df-buttons div {\n",
              "      margin-bottom: 4px;\n",
              "    }\n",
              "\n",
              "    [theme=dark] .colab-df-convert {\n",
              "      background-color: #3B4455;\n",
              "      fill: #D2E3FC;\n",
              "    }\n",
              "\n",
              "    [theme=dark] .colab-df-convert:hover {\n",
              "      background-color: #434B5C;\n",
              "      box-shadow: 0px 1px 3px 1px rgba(0, 0, 0, 0.15);\n",
              "      filter: drop-shadow(0px 1px 2px rgba(0, 0, 0, 0.3));\n",
              "      fill: #FFFFFF;\n",
              "    }\n",
              "  </style>\n",
              "\n",
              "    <script>\n",
              "      const buttonEl =\n",
              "        document.querySelector('#df-1fccd46b-c935-4c66-ad9c-ac4581a930d7 button.colab-df-convert');\n",
              "      buttonEl.style.display =\n",
              "        google.colab.kernel.accessAllowed ? 'block' : 'none';\n",
              "\n",
              "      async function convertToInteractive(key) {\n",
              "        const element = document.querySelector('#df-1fccd46b-c935-4c66-ad9c-ac4581a930d7');\n",
              "        const dataTable =\n",
              "          await google.colab.kernel.invokeFunction('convertToInteractive',\n",
              "                                                    [key], {});\n",
              "        if (!dataTable) return;\n",
              "\n",
              "        const docLinkHtml = 'Like what you see? Visit the ' +\n",
              "          '<a target=\"_blank\" href=https://colab.research.google.com/notebooks/data_table.ipynb>data table notebook</a>'\n",
              "          + ' to learn more about interactive tables.';\n",
              "        element.innerHTML = '';\n",
              "        dataTable['output_type'] = 'display_data';\n",
              "        await google.colab.output.renderOutput(dataTable, element);\n",
              "        const docLink = document.createElement('div');\n",
              "        docLink.innerHTML = docLinkHtml;\n",
              "        element.appendChild(docLink);\n",
              "      }\n",
              "    </script>\n",
              "  </div>\n",
              "\n",
              "\n",
              "<div id=\"df-de8c72e8-804d-48fe-9d78-785b5f664b13\">\n",
              "  <button class=\"colab-df-quickchart\" onclick=\"quickchart('df-de8c72e8-804d-48fe-9d78-785b5f664b13')\"\n",
              "            title=\"Suggest charts.\"\n",
              "            style=\"display:none;\">\n",
              "\n",
              "<svg xmlns=\"http://www.w3.org/2000/svg\" height=\"24px\"viewBox=\"0 0 24 24\"\n",
              "     width=\"24px\">\n",
              "    <g>\n",
              "        <path d=\"M19 3H5c-1.1 0-2 .9-2 2v14c0 1.1.9 2 2 2h14c1.1 0 2-.9 2-2V5c0-1.1-.9-2-2-2zM9 17H7v-7h2v7zm4 0h-2V7h2v10zm4 0h-2v-4h2v4z\"/>\n",
              "    </g>\n",
              "</svg>\n",
              "  </button>\n",
              "\n",
              "<style>\n",
              "  .colab-df-quickchart {\n",
              "      --bg-color: #E8F0FE;\n",
              "      --fill-color: #1967D2;\n",
              "      --hover-bg-color: #E2EBFA;\n",
              "      --hover-fill-color: #174EA6;\n",
              "      --disabled-fill-color: #AAA;\n",
              "      --disabled-bg-color: #DDD;\n",
              "  }\n",
              "\n",
              "  [theme=dark] .colab-df-quickchart {\n",
              "      --bg-color: #3B4455;\n",
              "      --fill-color: #D2E3FC;\n",
              "      --hover-bg-color: #434B5C;\n",
              "      --hover-fill-color: #FFFFFF;\n",
              "      --disabled-bg-color: #3B4455;\n",
              "      --disabled-fill-color: #666;\n",
              "  }\n",
              "\n",
              "  .colab-df-quickchart {\n",
              "    background-color: var(--bg-color);\n",
              "    border: none;\n",
              "    border-radius: 50%;\n",
              "    cursor: pointer;\n",
              "    display: none;\n",
              "    fill: var(--fill-color);\n",
              "    height: 32px;\n",
              "    padding: 0;\n",
              "    width: 32px;\n",
              "  }\n",
              "\n",
              "  .colab-df-quickchart:hover {\n",
              "    background-color: var(--hover-bg-color);\n",
              "    box-shadow: 0 1px 2px rgba(60, 64, 67, 0.3), 0 1px 3px 1px rgba(60, 64, 67, 0.15);\n",
              "    fill: var(--button-hover-fill-color);\n",
              "  }\n",
              "\n",
              "  .colab-df-quickchart-complete:disabled,\n",
              "  .colab-df-quickchart-complete:disabled:hover {\n",
              "    background-color: var(--disabled-bg-color);\n",
              "    fill: var(--disabled-fill-color);\n",
              "    box-shadow: none;\n",
              "  }\n",
              "\n",
              "  .colab-df-spinner {\n",
              "    border: 2px solid var(--fill-color);\n",
              "    border-color: transparent;\n",
              "    border-bottom-color: var(--fill-color);\n",
              "    animation:\n",
              "      spin 1s steps(1) infinite;\n",
              "  }\n",
              "\n",
              "  @keyframes spin {\n",
              "    0% {\n",
              "      border-color: transparent;\n",
              "      border-bottom-color: var(--fill-color);\n",
              "      border-left-color: var(--fill-color);\n",
              "    }\n",
              "    20% {\n",
              "      border-color: transparent;\n",
              "      border-left-color: var(--fill-color);\n",
              "      border-top-color: var(--fill-color);\n",
              "    }\n",
              "    30% {\n",
              "      border-color: transparent;\n",
              "      border-left-color: var(--fill-color);\n",
              "      border-top-color: var(--fill-color);\n",
              "      border-right-color: var(--fill-color);\n",
              "    }\n",
              "    40% {\n",
              "      border-color: transparent;\n",
              "      border-right-color: var(--fill-color);\n",
              "      border-top-color: var(--fill-color);\n",
              "    }\n",
              "    60% {\n",
              "      border-color: transparent;\n",
              "      border-right-color: var(--fill-color);\n",
              "    }\n",
              "    80% {\n",
              "      border-color: transparent;\n",
              "      border-right-color: var(--fill-color);\n",
              "      border-bottom-color: var(--fill-color);\n",
              "    }\n",
              "    90% {\n",
              "      border-color: transparent;\n",
              "      border-bottom-color: var(--fill-color);\n",
              "    }\n",
              "  }\n",
              "</style>\n",
              "\n",
              "  <script>\n",
              "    async function quickchart(key) {\n",
              "      const quickchartButtonEl =\n",
              "        document.querySelector('#' + key + ' button');\n",
              "      quickchartButtonEl.disabled = true;  // To prevent multiple clicks.\n",
              "      quickchartButtonEl.classList.add('colab-df-spinner');\n",
              "      try {\n",
              "        const charts = await google.colab.kernel.invokeFunction(\n",
              "            'suggestCharts', [key], {});\n",
              "      } catch (error) {\n",
              "        console.error('Error during call to suggestCharts:', error);\n",
              "      }\n",
              "      quickchartButtonEl.classList.remove('colab-df-spinner');\n",
              "      quickchartButtonEl.classList.add('colab-df-quickchart-complete');\n",
              "    }\n",
              "    (() => {\n",
              "      let quickchartButtonEl =\n",
              "        document.querySelector('#df-de8c72e8-804d-48fe-9d78-785b5f664b13 button');\n",
              "      quickchartButtonEl.style.display =\n",
              "        google.colab.kernel.accessAllowed ? 'block' : 'none';\n",
              "    })();\n",
              "  </script>\n",
              "</div>\n",
              "    </div>\n",
              "  </div>\n"
            ]
          },
          "metadata": {},
          "execution_count": 32
        }
      ]
    },
    {
      "cell_type": "markdown",
      "source": [
        "## Conferir Unicidade da Chave Primária"
      ],
      "metadata": {
        "id": "fVMIpOrEIxZE"
      }
    },
    {
      "cell_type": "code",
      "source": [
        "df_novo_morador_pk = df_novo_morador.drop_duplicates(subset=['COD_UPA','NUM_DOM','COD_INFORMANTE'], keep='first')"
      ],
      "metadata": {
        "id": "77mRIurmI5RT"
      },
      "execution_count": null,
      "outputs": []
    },
    {
      "cell_type": "code",
      "source": [
        "df_novo_morador_pk.shape[0]"
      ],
      "metadata": {
        "colab": {
          "base_uri": "https://localhost:8080/"
        },
        "id": "JeryqkJUMN4Y",
        "outputId": "020a1992-0f23-4984-e327-70c7466fdc87"
      },
      "execution_count": null,
      "outputs": [
        {
          "output_type": "execute_result",
          "data": {
            "text/plain": [
              "178431"
            ]
          },
          "metadata": {},
          "execution_count": 143
        }
      ]
    },
    {
      "cell_type": "markdown",
      "source": [
        "## Aplicar Regras Normais"
      ],
      "metadata": {
        "id": "egftffiQNBa0"
      }
    },
    {
      "cell_type": "code",
      "source": [
        "df_novo_morador = df_novo_morador.drop(['UF','ESTRATO_POF','TIPO_SITUACAO_REG','PESO','PESO_FINAL'], axis=1)"
      ],
      "metadata": {
        "id": "82gApfRsNIum"
      },
      "execution_count": null,
      "outputs": []
    },
    {
      "cell_type": "markdown",
      "source": [
        "## Baixar Arquivo como CSV"
      ],
      "metadata": {
        "id": "r_77EKk7uNL9"
      }
    },
    {
      "cell_type": "code",
      "source": [
        "df_novo_morador.to_csv('MORADOR.csv', index=False)"
      ],
      "metadata": {
        "id": "tO72Jm-yuNMD"
      },
      "execution_count": null,
      "outputs": []
    },
    {
      "cell_type": "markdown",
      "source": [
        "# Tratamento do arquivo \"MORADOR_QUALI_VIDA\""
      ],
      "metadata": {
        "id": "ZFh7JiPaQncs"
      }
    },
    {
      "cell_type": "markdown",
      "source": [
        "## Abrir e Analisar o Arquivo"
      ],
      "metadata": {
        "id": "YWIeiWiNQ3f7"
      }
    },
    {
      "cell_type": "code",
      "source": [
        "morador_quali_vida = '/content/drive/MyDrive/POF (2017 2018)/MORADOR_QUALI_VIDA.txt'\n",
        "\n",
        "with open(morador_quali_vida, 'r') as arquivo:\n",
        "    conteudo = arquivo.readlines()\n",
        "\n",
        "# Imprimir 5 primeiras Linhas\n",
        "print(\"5 primeiras Linhas: \\n\")\n",
        "for conteudo in conteudo[:5]:\n",
        "    print(conteudo, end='')\n"
      ],
      "metadata": {
        "colab": {
          "base_uri": "https://localhost:8080/"
        },
        "id": "Oz0BATJAQ59f",
        "outputId": "c0ff55f1-f1a1-4dd2-8f22-b10b37bd4d76"
      },
      "execution_count": null,
      "outputs": [
        {
          "output_type": "stream",
          "name": "stdout",
          "text": [
            "5 primeiras Linhas: \n",
            "\n",
            "1111031110005400 11 1        0.1777777778        0.11322929150000000000000010010011000100000100000000000000001001212753 9     2488.9843750000     2383.9364583333  272.80666931  372.98451570\n",
            "1111031110005400 11 2        0.1777777778        0.11322929150000000000000010010011000100000100000000000000001001212753 9     2488.9843750000     2383.9364583333  272.80666931  372.98451570\n",
            "1111031110005400 11 3        0.1777777778        0.11322929150000000000000010010011000100000100000000000000001001212753 9     2488.9843750000     2383.9364583333  272.80666931  372.98451570\n",
            "1111031110005400 11 4        0.1777777778        0.11322929150000000000000010010011000100000100000000000000001001212753 9     2488.9843750000     2383.9364583333  272.80666931  372.98451570\n",
            "1111031110005400 21 1        0.3000000000        0.2036096767000001001000001011000100010000010011010000000000111121254410     3474.6255555556     3373.9022222222  272.80666931  372.98451570\n"
          ]
        }
      ]
    },
    {
      "cell_type": "code",
      "source": [
        "with open(morador_quali_vida, 'r') as arquivo:\n",
        "    conteudo = arquivo.readlines()\n",
        "\n",
        "# descobrir quantas Linhas tem o arquivo\n",
        "cont = 0\n",
        "for linha in conteudo:\n",
        "    cont += 1\n",
        "\n",
        "# descobrir quantos caracteres tem a primeira Linha\n",
        "cont_char = 0\n",
        "for i, linha in enumerate(conteudo[:1], start=1):\n",
        "    num_caracteres = len(linha)\n",
        "\n",
        "# descobrir se o restante das linhas tem a mesma qtd de caracteres da primeira linha\n",
        "primeira_linha = conteudo[0]\n",
        "todas_as_linhas_iguais = all(len(linha) == len(primeira_linha) for linha in conteudo)\n",
        "\n",
        "print(\"Total de linhas: \", cont)\n",
        "print(\"Total de caracteres da primeira linha: \", num_caracteres)\n",
        "print(\"Todas as Linhas tem o mesmo comprimento da primeira? \", todas_as_linhas_iguais)"
      ],
      "metadata": {
        "colab": {
          "base_uri": "https://localhost:8080/"
        },
        "id": "PMT6EYW0UWh8",
        "outputId": "9e707c60-79b2-44ce-a130-5601df620337"
      },
      "execution_count": null,
      "outputs": [
        {
          "output_type": "stream",
          "name": "stdout",
          "text": [
            "Total de linhas:  178369\n",
            "Total de caracteres da primeira linha:  190\n",
            "Todas as Linhas tem o mesmo comprimento da primeira?  True\n"
          ]
        }
      ]
    },
    {
      "cell_type": "markdown",
      "source": [
        "## Adicionar Separador"
      ],
      "metadata": {
        "id": "QYgdFJAsUknE"
      }
    },
    {
      "cell_type": "code",
      "source": [
        "with open(morador_quali_vida, 'r') as arquivo_orig:\n",
        "    with open('novo_morador_quali.csv', 'w') as arquivo_novo:\n",
        "        for linha in arquivo_orig:\n",
        "            nova_linha = (\n",
        "                linha[:2] + ';' + # variável 1\n",
        "                linha[2:6] + ';' + # variável 2\n",
        "                linha[6:7] + ';' + # variável 3\n",
        "                linha[7:16] + ';' + # variável 4\n",
        "                linha[16:18] + ';' + # variável 5\n",
        "                linha[18:19] + ';' + # variável 6\n",
        "                linha[19:21] + ';' + # variável 7\n",
        "                linha[21:41] + ';' + # variável 8\n",
        "                linha[41:61] + ';' + # variável 9\n",
        "                linha[61:62] + ';' + # variável 10\n",
        "                linha[62:63] + ';' + # variável 11\n",
        "                linha[63:64] + ';' + # variável 12\n",
        "                linha[64:65] + ';' + # variável 13\n",
        "                linha[65:66] + ';' + # variável 14\n",
        "                linha[66:67] + ';' + # variável 15\n",
        "                linha[67:68] + ';' + # variável 16\n",
        "                linha[68:69] + ';' + # variável 17\n",
        "                linha[69:70] + ';' + # variável 18\n",
        "                linha[70:71] + ';' + # variável 19\n",
        "                linha[71:72] + ';' + # variável 20\n",
        "                linha[72:73] + ';' + # variável 21\n",
        "                linha[73:74] + ';' + # variável 22\n",
        "                linha[74:75] + ';' + # variável 23\n",
        "                linha[75:76] + ';' + # variável 24\n",
        "                linha[76:77] + ';' + # variável 25\n",
        "                linha[77:78] + ';' + # variável 26\n",
        "                linha[78:79] + ';' + # variável 27\n",
        "                linha[79:80] + ';' + # variável 28\n",
        "                linha[80:81] + ';' + # variável 29\n",
        "                linha[81:82] + ';' + # variável 30\n",
        "                linha[82:83] + ';' + # variável 31\n",
        "                linha[83:84] + ';' + # variável 32\n",
        "                linha[84:85] + ';' + # variável 33\n",
        "                linha[85:86] + ';' + # variável 34\n",
        "                linha[86:87] + ';' + # variável 35\n",
        "                linha[87:88] + ';' + # variável 36\n",
        "                linha[88:89] + ';' + # variável 37\n",
        "                linha[89:90] + ';' + # variável 38\n",
        "                linha[90:91] + ';' + # variável 39\n",
        "                linha[91:92] + ';' + # variável 40\n",
        "                linha[92:93] + ';' + # variável 41\n",
        "                linha[93:94] + ';' + # variável 42\n",
        "                linha[94:95] + ';' + # variável 43\n",
        "                linha[95:96] + ';' + # variável 44\n",
        "                linha[96:97] + ';' + # variável 45\n",
        "                linha[97:98] + ';' + # variável 46\n",
        "                linha[98:99] + ';' + # variável 47\n",
        "                linha[99:100] + ';' + # variável 48\n",
        "                linha[100:101] + ';' + # variável 49\n",
        "                linha[101:102] + ';' + # variável 50\n",
        "                linha[102:103] + ';' + # variável 51\n",
        "                linha[103:104] + ';' + # variável 52\n",
        "                linha[104:105] + ';' + # variável 53\n",
        "                linha[105:106] + ';' + # variável 54\n",
        "                linha[106:107] + ';' + # variável 55\n",
        "                linha[107:108] + ';' + # variável 56\n",
        "                linha[108:109] + ';' + # variável 57\n",
        "                linha[109:110] + ';' + # variável 58\n",
        "                linha[110:111] + ';' + # variável 59\n",
        "                linha[111:112] + ';' + # variável 60\n",
        "                linha[112:113] + ';' + # variável 61\n",
        "                linha[113:114] + ';' + # variável 62\n",
        "                linha[114:115] + ';' + # variável 63\n",
        "                linha[115:116] + ';' + # variável 64\n",
        "                linha[116:117] + ';' + # variável 65\n",
        "                linha[117:118] + ';' + # variável 66\n",
        "                linha[118:119] + ';' + # variável 67\n",
        "                linha[119:121] + ';' + # variável 68\n",
        "                linha[121:141] + ';' + # variável 69\n",
        "                linha[141:161] + ';' + # variável 70\n",
        "                linha[161:175] + ';' + # variável 71\n",
        "                linha[175:] # variável 72\n",
        "            )\n",
        "            nova_linha = nova_linha.replace(' ', '')\n",
        "            arquivo_novo.write(nova_linha)"
      ],
      "metadata": {
        "id": "ONtjOk8EUo3A"
      },
      "execution_count": null,
      "outputs": []
    },
    {
      "cell_type": "markdown",
      "source": [
        "Conferir Processo"
      ],
      "metadata": {
        "id": "ieLAQPtUe5jm"
      }
    },
    {
      "cell_type": "code",
      "source": [
        "novo_morador_quali = \"/content/novo_morador_quali.csv\"\n",
        "\n",
        "with open(novo_morador_quali, 'r') as arquivo_novo:\n",
        "  novo_dom = arquivo_novo.readlines()\n",
        "\n",
        "# imprimir primeira linha\n",
        "for lin in novo_dom[:1]:\n",
        "  print(lin, end=\"\")"
      ],
      "metadata": {
        "colab": {
          "base_uri": "https://localhost:8080/"
        },
        "id": "KnCQ6spIex09",
        "outputId": "5e054df3-e738-4ecc-d2d8-9e83bf56b4ec"
      },
      "execution_count": null,
      "outputs": [
        {
          "output_type": "stream",
          "name": "stdout",
          "text": [
            "11;1103;1;110005400;1;1;1;0.1777777778;0.1132292915;0;0;0;0;0;0;0;0;0;0;0;0;0;0;1;0;0;1;0;0;1;1;0;0;0;1;0;0;0;0;0;1;0;0;0;0;0;0;0;0;0;0;0;0;0;0;0;0;1;0;0;1;2;1;2;7;5;3;9;2488.9843750000;2383.9364583333;272.80666931;372.98451570\n"
          ]
        }
      ]
    },
    {
      "cell_type": "code",
      "source": [
        "with open(novo_morador_quali, 'r') as arquivo:\n",
        "    conteudo = arquivo.readlines()\n",
        "\n",
        "# Conferir Numero de Linhas\n",
        "cont = 0\n",
        "for linha in conteudo:\n",
        "    cont += 1\n",
        "\n",
        "# Conferir Total de Caracteres\n",
        "cont_char = 0\n",
        "for i, linha in enumerate(conteudo[:1], start=1):\n",
        "    num_caracteres = len(linha)\n",
        "\n",
        "# Conferir se as Linhas Ainda tem o Mesmo Numero de Caracteres\n",
        "primeira_linha = conteudo[0]\n",
        "todas_as_linhas_iguais = all(len(linha) == len(primeira_linha) for linha in conteudo)\n",
        "\n",
        "print(\"Total de linhas: \", cont)\n",
        "print(\"Total de caracteres da primeira linha: \", num_caracteres)\n",
        "print(\"Todas as Linhas tem o mesmo comprimento da primeira? \", todas_as_linhas_iguais)"
      ],
      "metadata": {
        "colab": {
          "base_uri": "https://localhost:8080/"
        },
        "id": "MpudjYHOfIqN",
        "outputId": "96f9505c-bedb-4a93-b5dd-f661e8ed039d"
      },
      "execution_count": null,
      "outputs": [
        {
          "output_type": "stream",
          "name": "stdout",
          "text": [
            "Total de linhas:  178369\n",
            "Total de caracteres da primeira linha:  228\n",
            "Todas as Linhas tem o mesmo comprimento da primeira?  False\n"
          ]
        }
      ]
    },
    {
      "cell_type": "markdown",
      "source": [
        "## Abrir como Dataframe, para melhor Análise"
      ],
      "metadata": {
        "id": "ED2kgeeuf0Q1"
      }
    },
    {
      "cell_type": "code",
      "source": [
        "colunas_morador_quali = [\n",
        "    \"UF\", \"ESTRATO_POF\", \"TIPO_SITUACAO_REG\", \"COD_UPA\", \"NUM_DOM\", \"NUM_UC\",\n",
        "    \"COD_INFORMANTE\", \"CONTAGEM_PONDERADA\", \"FUNCAO_PERDA\", \"V201\", \"V202\",\n",
        "    \"V204\", \"V205\", \"V206\", \"V207\", \"V208\", \"V209\", \"V210\", \"V211\", \"V212\",\n",
        "    \"V214\", \"V215\", \"V216\", \"V217\", \"V301\", \"V302\", \"V303\", \"V304\", \"V305\",\n",
        "    \"V306\", \"V307\", \"V308\", \"V401\", \"V402\", \"V403\", \"V501\", \"V502\", \"V503\",\n",
        "    \"V504\", \"V505\", \"V506\", \"V601\", \"V602\", \"V603\", \"V604\", \"V605\", \"V606\",\n",
        "    \"V607\", \"V608\", \"V609\", \"V610\", \"V611\", \"V701\", \"V702\", \"V703\", \"V704\",\n",
        "    \"V801\", \"V802\", \"V901\", \"V902\", \"GRANDE_REGIAO\", \"V201_C1\", \"V201_C2\",\n",
        "    \"V201_C3\", \"V201_C4\", \"V201_C5\", \"V201_C6\", \"V201_C7\", \"RENDA_DISP_PC\",\n",
        "    \"RENDA_DISP_PC_SS\", \"PESO\", \"PESO_FINAL\"\n",
        "]\n"
      ],
      "metadata": {
        "id": "FGOWYVVwgqmZ"
      },
      "execution_count": null,
      "outputs": []
    },
    {
      "cell_type": "code",
      "source": [
        "df_mor_quali = pd.read_csv('/content/novo_morador_quali.csv', sep=';', names = colunas_morador_quali, dtype='object')"
      ],
      "metadata": {
        "id": "s1gGoqx0f6fO"
      },
      "execution_count": null,
      "outputs": []
    },
    {
      "cell_type": "code",
      "source": [
        "df_mor_quali.shape[0]"
      ],
      "metadata": {
        "colab": {
          "base_uri": "https://localhost:8080/"
        },
        "id": "h4uZDaCDhay6",
        "outputId": "9bb72fb7-944e-43bc-8e72-f61e2c690331"
      },
      "execution_count": null,
      "outputs": [
        {
          "output_type": "execute_result",
          "data": {
            "text/plain": [
              "178369"
            ]
          },
          "metadata": {},
          "execution_count": 37
        }
      ]
    },
    {
      "cell_type": "code",
      "source": [
        "df_mor_quali.info()"
      ],
      "metadata": {
        "colab": {
          "base_uri": "https://localhost:8080/"
        },
        "id": "wi3QW01zyNdp",
        "outputId": "4d3bf954-3a0b-407b-e710-42ae212f754f"
      },
      "execution_count": null,
      "outputs": [
        {
          "output_type": "stream",
          "name": "stdout",
          "text": [
            "<class 'pandas.core.frame.DataFrame'>\n",
            "RangeIndex: 178369 entries, 0 to 178368\n",
            "Data columns (total 72 columns):\n",
            " #   Column              Non-Null Count   Dtype  \n",
            "---  ------              --------------   -----  \n",
            " 0   UF                  178369 non-null  int64  \n",
            " 1   ESTRATO_POF         178369 non-null  int64  \n",
            " 2   TIPO_SITUACAO_REG   178369 non-null  int64  \n",
            " 3   COD_UPA             178369 non-null  int64  \n",
            " 4   NUM_DOM             178369 non-null  int64  \n",
            " 5   NUM_UC              178369 non-null  int64  \n",
            " 6   COD_INFORMANTE      178369 non-null  int64  \n",
            " 7   CONTAGEM_PONDERADA  178369 non-null  float64\n",
            " 8   FUNCAO_PERDA        178369 non-null  float64\n",
            " 9   V201                178369 non-null  int64  \n",
            " 10  V202                178369 non-null  int64  \n",
            " 11  V204                178369 non-null  int64  \n",
            " 12  V205                178369 non-null  int64  \n",
            " 13  V206                178369 non-null  int64  \n",
            " 14  V207                178369 non-null  int64  \n",
            " 15  V208                178369 non-null  int64  \n",
            " 16  V209                178369 non-null  int64  \n",
            " 17  V210                178369 non-null  int64  \n",
            " 18  V211                178369 non-null  int64  \n",
            " 19  V212                178369 non-null  int64  \n",
            " 20  V214                178369 non-null  int64  \n",
            " 21  V215                178369 non-null  int64  \n",
            " 22  V216                178369 non-null  int64  \n",
            " 23  V217                178369 non-null  int64  \n",
            " 24  V301                178369 non-null  int64  \n",
            " 25  V302                178369 non-null  int64  \n",
            " 26  V303                178369 non-null  int64  \n",
            " 27  V304                178369 non-null  int64  \n",
            " 28  V305                178369 non-null  int64  \n",
            " 29  V306                178369 non-null  int64  \n",
            " 30  V307                178369 non-null  int64  \n",
            " 31  V308                178369 non-null  int64  \n",
            " 32  V401                178369 non-null  int64  \n",
            " 33  V402                178369 non-null  int64  \n",
            " 34  V403                178369 non-null  int64  \n",
            " 35  V501                178369 non-null  int64  \n",
            " 36  V502                178369 non-null  int64  \n",
            " 37  V503                178369 non-null  int64  \n",
            " 38  V504                178369 non-null  int64  \n",
            " 39  V505                178369 non-null  int64  \n",
            " 40  V506                178369 non-null  int64  \n",
            " 41  V601                178369 non-null  int64  \n",
            " 42  V602                178369 non-null  int64  \n",
            " 43  V603                178369 non-null  int64  \n",
            " 44  V604                178369 non-null  int64  \n",
            " 45  V605                178369 non-null  int64  \n",
            " 46  V606                178369 non-null  int64  \n",
            " 47  V607                178369 non-null  int64  \n",
            " 48  V608                178369 non-null  int64  \n",
            " 49  V609                178369 non-null  int64  \n",
            " 50  V610                178369 non-null  int64  \n",
            " 51  V611                178369 non-null  int64  \n",
            " 52  V701                178369 non-null  int64  \n",
            " 53  V702                178369 non-null  int64  \n",
            " 54  V703                178369 non-null  int64  \n",
            " 55  V704                178369 non-null  int64  \n",
            " 56  V801                178369 non-null  int64  \n",
            " 57  V802                178369 non-null  int64  \n",
            " 58  V901                178369 non-null  int64  \n",
            " 59  V902                178369 non-null  int64  \n",
            " 60  GRANDE_REGIAO       178369 non-null  int64  \n",
            " 61  V201_C1             178369 non-null  int64  \n",
            " 62  V201_C2             178369 non-null  int64  \n",
            " 63  V201_C3             178369 non-null  int64  \n",
            " 64  V201_C4             178369 non-null  int64  \n",
            " 65  V201_C5             178369 non-null  int64  \n",
            " 66  V201_C6             178369 non-null  int64  \n",
            " 67  V201_C7             178369 non-null  int64  \n",
            " 68  RENDA_DISP_PC       178369 non-null  float64\n",
            " 69  RENDA_DISP_PC_SS    178369 non-null  float64\n",
            " 70  PESO                178369 non-null  float64\n",
            " 71  PESO_FINAL          178369 non-null  float64\n",
            "dtypes: float64(6), int64(66)\n",
            "memory usage: 98.0 MB\n"
          ]
        }
      ]
    },
    {
      "cell_type": "code",
      "source": [
        "df_mor_quali.head()"
      ],
      "metadata": {
        "colab": {
          "base_uri": "https://localhost:8080/"
        },
        "id": "MDIY-SSYhhfF",
        "outputId": "a55bbe4a-4f5a-4425-a819-7477db7b688b"
      },
      "execution_count": null,
      "outputs": [
        {
          "output_type": "execute_result",
          "data": {
            "text/plain": [
              "   UF  ESTRATO_POF  TIPO_SITUACAO_REG    COD_UPA  NUM_DOM  NUM_UC  \\\n",
              "0  11         1103                  1  110005400        1       1   \n",
              "1  11         1103                  1  110005400        1       1   \n",
              "2  11         1103                  1  110005400        1       1   \n",
              "3  11         1103                  1  110005400        1       1   \n",
              "4  11         1103                  1  110005400        2       1   \n",
              "\n",
              "   COD_INFORMANTE  CONTAGEM_PONDERADA  FUNCAO_PERDA  V201  ...  V201_C2  \\\n",
              "0               1            0.177778      0.113229     0  ...        1   \n",
              "1               2            0.177778      0.113229     0  ...        1   \n",
              "2               3            0.177778      0.113229     0  ...        1   \n",
              "3               4            0.177778      0.113229     0  ...        1   \n",
              "4               1            0.300000      0.203610     0  ...        1   \n",
              "\n",
              "   V201_C3  V201_C4  V201_C5  V201_C6  V201_C7  RENDA_DISP_PC  \\\n",
              "0        2        7        5        3        9    2488.984375   \n",
              "1        2        7        5        3        9    2488.984375   \n",
              "2        2        7        5        3        9    2488.984375   \n",
              "3        2        7        5        3        9    2488.984375   \n",
              "4        2        5        4        4       10    3474.625556   \n",
              "\n",
              "   RENDA_DISP_PC_SS        PESO  PESO_FINAL  \n",
              "0       2383.936458  272.806669  372.984516  \n",
              "1       2383.936458  272.806669  372.984516  \n",
              "2       2383.936458  272.806669  372.984516  \n",
              "3       2383.936458  272.806669  372.984516  \n",
              "4       3373.902222  272.806669  372.984516  \n",
              "\n",
              "[5 rows x 72 columns]"
            ],
            "text/html": [
              "\n",
              "  <div id=\"df-97cecceb-8f08-4f5a-a18d-42df02f0f3d6\" class=\"colab-df-container\">\n",
              "    <div>\n",
              "<style scoped>\n",
              "    .dataframe tbody tr th:only-of-type {\n",
              "        vertical-align: middle;\n",
              "    }\n",
              "\n",
              "    .dataframe tbody tr th {\n",
              "        vertical-align: top;\n",
              "    }\n",
              "\n",
              "    .dataframe thead th {\n",
              "        text-align: right;\n",
              "    }\n",
              "</style>\n",
              "<table border=\"1\" class=\"dataframe\">\n",
              "  <thead>\n",
              "    <tr style=\"text-align: right;\">\n",
              "      <th></th>\n",
              "      <th>UF</th>\n",
              "      <th>ESTRATO_POF</th>\n",
              "      <th>TIPO_SITUACAO_REG</th>\n",
              "      <th>COD_UPA</th>\n",
              "      <th>NUM_DOM</th>\n",
              "      <th>NUM_UC</th>\n",
              "      <th>COD_INFORMANTE</th>\n",
              "      <th>CONTAGEM_PONDERADA</th>\n",
              "      <th>FUNCAO_PERDA</th>\n",
              "      <th>V201</th>\n",
              "      <th>...</th>\n",
              "      <th>V201_C2</th>\n",
              "      <th>V201_C3</th>\n",
              "      <th>V201_C4</th>\n",
              "      <th>V201_C5</th>\n",
              "      <th>V201_C6</th>\n",
              "      <th>V201_C7</th>\n",
              "      <th>RENDA_DISP_PC</th>\n",
              "      <th>RENDA_DISP_PC_SS</th>\n",
              "      <th>PESO</th>\n",
              "      <th>PESO_FINAL</th>\n",
              "    </tr>\n",
              "  </thead>\n",
              "  <tbody>\n",
              "    <tr>\n",
              "      <th>0</th>\n",
              "      <td>11</td>\n",
              "      <td>1103</td>\n",
              "      <td>1</td>\n",
              "      <td>110005400</td>\n",
              "      <td>1</td>\n",
              "      <td>1</td>\n",
              "      <td>1</td>\n",
              "      <td>0.177778</td>\n",
              "      <td>0.113229</td>\n",
              "      <td>0</td>\n",
              "      <td>...</td>\n",
              "      <td>1</td>\n",
              "      <td>2</td>\n",
              "      <td>7</td>\n",
              "      <td>5</td>\n",
              "      <td>3</td>\n",
              "      <td>9</td>\n",
              "      <td>2488.984375</td>\n",
              "      <td>2383.936458</td>\n",
              "      <td>272.806669</td>\n",
              "      <td>372.984516</td>\n",
              "    </tr>\n",
              "    <tr>\n",
              "      <th>1</th>\n",
              "      <td>11</td>\n",
              "      <td>1103</td>\n",
              "      <td>1</td>\n",
              "      <td>110005400</td>\n",
              "      <td>1</td>\n",
              "      <td>1</td>\n",
              "      <td>2</td>\n",
              "      <td>0.177778</td>\n",
              "      <td>0.113229</td>\n",
              "      <td>0</td>\n",
              "      <td>...</td>\n",
              "      <td>1</td>\n",
              "      <td>2</td>\n",
              "      <td>7</td>\n",
              "      <td>5</td>\n",
              "      <td>3</td>\n",
              "      <td>9</td>\n",
              "      <td>2488.984375</td>\n",
              "      <td>2383.936458</td>\n",
              "      <td>272.806669</td>\n",
              "      <td>372.984516</td>\n",
              "    </tr>\n",
              "    <tr>\n",
              "      <th>2</th>\n",
              "      <td>11</td>\n",
              "      <td>1103</td>\n",
              "      <td>1</td>\n",
              "      <td>110005400</td>\n",
              "      <td>1</td>\n",
              "      <td>1</td>\n",
              "      <td>3</td>\n",
              "      <td>0.177778</td>\n",
              "      <td>0.113229</td>\n",
              "      <td>0</td>\n",
              "      <td>...</td>\n",
              "      <td>1</td>\n",
              "      <td>2</td>\n",
              "      <td>7</td>\n",
              "      <td>5</td>\n",
              "      <td>3</td>\n",
              "      <td>9</td>\n",
              "      <td>2488.984375</td>\n",
              "      <td>2383.936458</td>\n",
              "      <td>272.806669</td>\n",
              "      <td>372.984516</td>\n",
              "    </tr>\n",
              "    <tr>\n",
              "      <th>3</th>\n",
              "      <td>11</td>\n",
              "      <td>1103</td>\n",
              "      <td>1</td>\n",
              "      <td>110005400</td>\n",
              "      <td>1</td>\n",
              "      <td>1</td>\n",
              "      <td>4</td>\n",
              "      <td>0.177778</td>\n",
              "      <td>0.113229</td>\n",
              "      <td>0</td>\n",
              "      <td>...</td>\n",
              "      <td>1</td>\n",
              "      <td>2</td>\n",
              "      <td>7</td>\n",
              "      <td>5</td>\n",
              "      <td>3</td>\n",
              "      <td>9</td>\n",
              "      <td>2488.984375</td>\n",
              "      <td>2383.936458</td>\n",
              "      <td>272.806669</td>\n",
              "      <td>372.984516</td>\n",
              "    </tr>\n",
              "    <tr>\n",
              "      <th>4</th>\n",
              "      <td>11</td>\n",
              "      <td>1103</td>\n",
              "      <td>1</td>\n",
              "      <td>110005400</td>\n",
              "      <td>2</td>\n",
              "      <td>1</td>\n",
              "      <td>1</td>\n",
              "      <td>0.300000</td>\n",
              "      <td>0.203610</td>\n",
              "      <td>0</td>\n",
              "      <td>...</td>\n",
              "      <td>1</td>\n",
              "      <td>2</td>\n",
              "      <td>5</td>\n",
              "      <td>4</td>\n",
              "      <td>4</td>\n",
              "      <td>10</td>\n",
              "      <td>3474.625556</td>\n",
              "      <td>3373.902222</td>\n",
              "      <td>272.806669</td>\n",
              "      <td>372.984516</td>\n",
              "    </tr>\n",
              "  </tbody>\n",
              "</table>\n",
              "<p>5 rows × 72 columns</p>\n",
              "</div>\n",
              "    <div class=\"colab-df-buttons\">\n",
              "\n",
              "  <div class=\"colab-df-container\">\n",
              "    <button class=\"colab-df-convert\" onclick=\"convertToInteractive('df-97cecceb-8f08-4f5a-a18d-42df02f0f3d6')\"\n",
              "            title=\"Convert this dataframe to an interactive table.\"\n",
              "            style=\"display:none;\">\n",
              "\n",
              "  <svg xmlns=\"http://www.w3.org/2000/svg\" height=\"24px\" viewBox=\"0 -960 960 960\">\n",
              "    <path d=\"M120-120v-720h720v720H120Zm60-500h600v-160H180v160Zm220 220h160v-160H400v160Zm0 220h160v-160H400v160ZM180-400h160v-160H180v160Zm440 0h160v-160H620v160ZM180-180h160v-160H180v160Zm440 0h160v-160H620v160Z\"/>\n",
              "  </svg>\n",
              "    </button>\n",
              "\n",
              "  <style>\n",
              "    .colab-df-container {\n",
              "      display:flex;\n",
              "      gap: 12px;\n",
              "    }\n",
              "\n",
              "    .colab-df-convert {\n",
              "      background-color: #E8F0FE;\n",
              "      border: none;\n",
              "      border-radius: 50%;\n",
              "      cursor: pointer;\n",
              "      display: none;\n",
              "      fill: #1967D2;\n",
              "      height: 32px;\n",
              "      padding: 0 0 0 0;\n",
              "      width: 32px;\n",
              "    }\n",
              "\n",
              "    .colab-df-convert:hover {\n",
              "      background-color: #E2EBFA;\n",
              "      box-shadow: 0px 1px 2px rgba(60, 64, 67, 0.3), 0px 1px 3px 1px rgba(60, 64, 67, 0.15);\n",
              "      fill: #174EA6;\n",
              "    }\n",
              "\n",
              "    .colab-df-buttons div {\n",
              "      margin-bottom: 4px;\n",
              "    }\n",
              "\n",
              "    [theme=dark] .colab-df-convert {\n",
              "      background-color: #3B4455;\n",
              "      fill: #D2E3FC;\n",
              "    }\n",
              "\n",
              "    [theme=dark] .colab-df-convert:hover {\n",
              "      background-color: #434B5C;\n",
              "      box-shadow: 0px 1px 3px 1px rgba(0, 0, 0, 0.15);\n",
              "      filter: drop-shadow(0px 1px 2px rgba(0, 0, 0, 0.3));\n",
              "      fill: #FFFFFF;\n",
              "    }\n",
              "  </style>\n",
              "\n",
              "    <script>\n",
              "      const buttonEl =\n",
              "        document.querySelector('#df-97cecceb-8f08-4f5a-a18d-42df02f0f3d6 button.colab-df-convert');\n",
              "      buttonEl.style.display =\n",
              "        google.colab.kernel.accessAllowed ? 'block' : 'none';\n",
              "\n",
              "      async function convertToInteractive(key) {\n",
              "        const element = document.querySelector('#df-97cecceb-8f08-4f5a-a18d-42df02f0f3d6');\n",
              "        const dataTable =\n",
              "          await google.colab.kernel.invokeFunction('convertToInteractive',\n",
              "                                                    [key], {});\n",
              "        if (!dataTable) return;\n",
              "\n",
              "        const docLinkHtml = 'Like what you see? Visit the ' +\n",
              "          '<a target=\"_blank\" href=https://colab.research.google.com/notebooks/data_table.ipynb>data table notebook</a>'\n",
              "          + ' to learn more about interactive tables.';\n",
              "        element.innerHTML = '';\n",
              "        dataTable['output_type'] = 'display_data';\n",
              "        await google.colab.output.renderOutput(dataTable, element);\n",
              "        const docLink = document.createElement('div');\n",
              "        docLink.innerHTML = docLinkHtml;\n",
              "        element.appendChild(docLink);\n",
              "      }\n",
              "    </script>\n",
              "  </div>\n",
              "\n",
              "\n",
              "<div id=\"df-03bb48b7-bcfe-446c-9ecb-4e71b7d0ce4b\">\n",
              "  <button class=\"colab-df-quickchart\" onclick=\"quickchart('df-03bb48b7-bcfe-446c-9ecb-4e71b7d0ce4b')\"\n",
              "            title=\"Suggest charts.\"\n",
              "            style=\"display:none;\">\n",
              "\n",
              "<svg xmlns=\"http://www.w3.org/2000/svg\" height=\"24px\"viewBox=\"0 0 24 24\"\n",
              "     width=\"24px\">\n",
              "    <g>\n",
              "        <path d=\"M19 3H5c-1.1 0-2 .9-2 2v14c0 1.1.9 2 2 2h14c1.1 0 2-.9 2-2V5c0-1.1-.9-2-2-2zM9 17H7v-7h2v7zm4 0h-2V7h2v10zm4 0h-2v-4h2v4z\"/>\n",
              "    </g>\n",
              "</svg>\n",
              "  </button>\n",
              "\n",
              "<style>\n",
              "  .colab-df-quickchart {\n",
              "      --bg-color: #E8F0FE;\n",
              "      --fill-color: #1967D2;\n",
              "      --hover-bg-color: #E2EBFA;\n",
              "      --hover-fill-color: #174EA6;\n",
              "      --disabled-fill-color: #AAA;\n",
              "      --disabled-bg-color: #DDD;\n",
              "  }\n",
              "\n",
              "  [theme=dark] .colab-df-quickchart {\n",
              "      --bg-color: #3B4455;\n",
              "      --fill-color: #D2E3FC;\n",
              "      --hover-bg-color: #434B5C;\n",
              "      --hover-fill-color: #FFFFFF;\n",
              "      --disabled-bg-color: #3B4455;\n",
              "      --disabled-fill-color: #666;\n",
              "  }\n",
              "\n",
              "  .colab-df-quickchart {\n",
              "    background-color: var(--bg-color);\n",
              "    border: none;\n",
              "    border-radius: 50%;\n",
              "    cursor: pointer;\n",
              "    display: none;\n",
              "    fill: var(--fill-color);\n",
              "    height: 32px;\n",
              "    padding: 0;\n",
              "    width: 32px;\n",
              "  }\n",
              "\n",
              "  .colab-df-quickchart:hover {\n",
              "    background-color: var(--hover-bg-color);\n",
              "    box-shadow: 0 1px 2px rgba(60, 64, 67, 0.3), 0 1px 3px 1px rgba(60, 64, 67, 0.15);\n",
              "    fill: var(--button-hover-fill-color);\n",
              "  }\n",
              "\n",
              "  .colab-df-quickchart-complete:disabled,\n",
              "  .colab-df-quickchart-complete:disabled:hover {\n",
              "    background-color: var(--disabled-bg-color);\n",
              "    fill: var(--disabled-fill-color);\n",
              "    box-shadow: none;\n",
              "  }\n",
              "\n",
              "  .colab-df-spinner {\n",
              "    border: 2px solid var(--fill-color);\n",
              "    border-color: transparent;\n",
              "    border-bottom-color: var(--fill-color);\n",
              "    animation:\n",
              "      spin 1s steps(1) infinite;\n",
              "  }\n",
              "\n",
              "  @keyframes spin {\n",
              "    0% {\n",
              "      border-color: transparent;\n",
              "      border-bottom-color: var(--fill-color);\n",
              "      border-left-color: var(--fill-color);\n",
              "    }\n",
              "    20% {\n",
              "      border-color: transparent;\n",
              "      border-left-color: var(--fill-color);\n",
              "      border-top-color: var(--fill-color);\n",
              "    }\n",
              "    30% {\n",
              "      border-color: transparent;\n",
              "      border-left-color: var(--fill-color);\n",
              "      border-top-color: var(--fill-color);\n",
              "      border-right-color: var(--fill-color);\n",
              "    }\n",
              "    40% {\n",
              "      border-color: transparent;\n",
              "      border-right-color: var(--fill-color);\n",
              "      border-top-color: var(--fill-color);\n",
              "    }\n",
              "    60% {\n",
              "      border-color: transparent;\n",
              "      border-right-color: var(--fill-color);\n",
              "    }\n",
              "    80% {\n",
              "      border-color: transparent;\n",
              "      border-right-color: var(--fill-color);\n",
              "      border-bottom-color: var(--fill-color);\n",
              "    }\n",
              "    90% {\n",
              "      border-color: transparent;\n",
              "      border-bottom-color: var(--fill-color);\n",
              "    }\n",
              "  }\n",
              "</style>\n",
              "\n",
              "  <script>\n",
              "    async function quickchart(key) {\n",
              "      const quickchartButtonEl =\n",
              "        document.querySelector('#' + key + ' button');\n",
              "      quickchartButtonEl.disabled = true;  // To prevent multiple clicks.\n",
              "      quickchartButtonEl.classList.add('colab-df-spinner');\n",
              "      try {\n",
              "        const charts = await google.colab.kernel.invokeFunction(\n",
              "            'suggestCharts', [key], {});\n",
              "      } catch (error) {\n",
              "        console.error('Error during call to suggestCharts:', error);\n",
              "      }\n",
              "      quickchartButtonEl.classList.remove('colab-df-spinner');\n",
              "      quickchartButtonEl.classList.add('colab-df-quickchart-complete');\n",
              "    }\n",
              "    (() => {\n",
              "      let quickchartButtonEl =\n",
              "        document.querySelector('#df-03bb48b7-bcfe-446c-9ecb-4e71b7d0ce4b button');\n",
              "      quickchartButtonEl.style.display =\n",
              "        google.colab.kernel.accessAllowed ? 'block' : 'none';\n",
              "    })();\n",
              "  </script>\n",
              "</div>\n",
              "    </div>\n",
              "  </div>\n"
            ]
          },
          "metadata": {},
          "execution_count": 127
        }
      ]
    },
    {
      "cell_type": "code",
      "source": [],
      "metadata": {
        "id": "fPm234IchmSh"
      },
      "execution_count": null,
      "outputs": []
    },
    {
      "cell_type": "markdown",
      "source": [
        "## Conferir Unicidade da chave Primária"
      ],
      "metadata": {
        "id": "GLynwQzZhqHM"
      }
    },
    {
      "cell_type": "code",
      "source": [
        "df_mor_quali_id = df_mor_quali.drop_duplicates(subset=['NUM_DOM','COD_UPA','COD_INFORMANTE'], keep='first')\n",
        "df_mor_quali_id.shape[0]"
      ],
      "metadata": {
        "colab": {
          "base_uri": "https://localhost:8080/"
        },
        "id": "b8xz3lkphstX",
        "outputId": "6bc1286b-2d99-43ea-ed2b-43d82c575906"
      },
      "execution_count": null,
      "outputs": [
        {
          "output_type": "execute_result",
          "data": {
            "text/plain": [
              "178369"
            ]
          },
          "metadata": {},
          "execution_count": 157
        }
      ]
    },
    {
      "cell_type": "markdown",
      "source": [
        "## Aplicar Regras Normais"
      ],
      "metadata": {
        "id": "QK3v8u1twwR9"
      }
    },
    {
      "cell_type": "code",
      "source": [
        "df_mor_quali = df_mor_quali.drop(['UF','ESTRATO_POF','TIPO_SITUACAO_REG','PESO','PESO_FINAL','NUM_UC','RENDA_DISP_PC'], axis=1)"
      ],
      "metadata": {
        "id": "sIex-kqKwwSD"
      },
      "execution_count": null,
      "outputs": []
    },
    {
      "cell_type": "markdown",
      "source": [
        "## Baixar arquivo CSV"
      ],
      "metadata": {
        "id": "snyTibvxig6u"
      }
    },
    {
      "cell_type": "code",
      "source": [
        "df_mor_quali.to_csv('MORADOR_QUALI_VIDA.csv', index=False)"
      ],
      "metadata": {
        "id": "d4T-7yl3ii5X"
      },
      "execution_count": null,
      "outputs": []
    },
    {
      "cell_type": "markdown",
      "source": [
        "# Tratamento do arquivo \"ALUGUEL ESTIMADO\""
      ],
      "metadata": {
        "id": "C0qJzlnrjq-P"
      }
    },
    {
      "cell_type": "markdown",
      "source": [
        "###Abrindo e Analisando o Arquivo"
      ],
      "metadata": {
        "id": "0BijUOolkgzl"
      }
    },
    {
      "cell_type": "code",
      "source": [
        "aluguel_estimado = '/content/drive/MyDrive/POF (2017 2018)/ALUGUEL_ESTIMADO.txt'"
      ],
      "metadata": {
        "id": "zy8_vk90j0Y_"
      },
      "execution_count": null,
      "outputs": []
    },
    {
      "cell_type": "code",
      "source": [
        "with open(aluguel_estimado, 'r') as arquivo:\n",
        "    conteudo = arquivo.readlines()\n",
        "\n",
        "# Imprimir 5 primeiras Linhas\n",
        "print(\"5 primeiras Linhas: \\n\")\n",
        "for conteudo in conteudo[:5]:\n",
        "    print(conteudo, end='')\n"
      ],
      "metadata": {
        "colab": {
          "base_uri": "https://localhost:8080/"
        },
        "id": "uEenqNzPkxrT",
        "outputId": "77a7fe1c-edaa-48e8-dee9-ca5efe0a8591"
      },
      "execution_count": null,
      "outputs": [
        {
          "output_type": "stream",
          "name": "stdout",
          "text": [
            "5 primeiras Linhas: \n",
            "\n",
            "1111031110005400 1100000010111   2000.00 9121.0008526398   2001.710 1  272.80666931  372.98451570  11254.75\n",
            "1111031110005400 4100000010111    500.0010120.9994171352    499.710 1  272.80666931  372.98451570   4769.13\n",
            "1111031110005400 5100000010111    300.0010120.9994171352    299.830 1  272.80666931  372.98451570   2313.61\n",
            "1111031110005400 6100000010111    400.0010120.9994171352    399.770 1  272.80666931  372.98451570   6596.90\n",
            "1111031110005400 7100000010111    200.0010120.9992091279    199.840 1  272.80666931  372.98451570    366.43\n"
          ]
        }
      ]
    },
    {
      "cell_type": "code",
      "source": [
        "with open(aluguel_estimado, 'r') as arquivo:\n",
        "    conteudo = arquivo.readlines()\n",
        "\n",
        "# descobrir quantas Linhas tem o arquivo\n",
        "cont = 0\n",
        "for linha in conteudo:\n",
        "    cont += 1\n",
        "\n",
        "# descobrir quantos caracteres tem a primeira Linha\n",
        "cont_char = 0\n",
        "for i, linha in enumerate(conteudo[:1], start=1):\n",
        "    num_caracteres = len(linha)\n",
        "\n",
        "# descobrir se o restante das linhas tem a mesma qtd de caracteres da primeira linha\n",
        "primeira_linha = conteudo[0]\n",
        "todas_as_linhas_iguais = all(len(linha) == len(primeira_linha) for linha in conteudo)\n",
        "\n",
        "print(\"Total de linhas: \", cont)\n",
        "print(\"Total de caracteres da primeira linha: \", num_caracteres)\n",
        "print(\"Todas as Linhas tem o mesmo comprimento da primeira? \", todas_as_linhas_iguais)"
      ],
      "metadata": {
        "colab": {
          "base_uri": "https://localhost:8080/"
        },
        "id": "n0eQ_Jdmk0cQ",
        "outputId": "d7207f49-83b8-4c6f-f5c4-b46ef34b80eb"
      },
      "execution_count": null,
      "outputs": [
        {
          "output_type": "stream",
          "name": "stdout",
          "text": [
            "Total de linhas:  48935\n",
            "Total de caracteres da primeira linha:  108\n",
            "Todas as Linhas tem o mesmo comprimento da primeira?  True\n"
          ]
        }
      ]
    },
    {
      "cell_type": "markdown",
      "source": [
        "## Adicionar Separadores"
      ],
      "metadata": {
        "id": "TMAVsgXclNSP"
      }
    },
    {
      "cell_type": "code",
      "source": [
        "with open(aluguel_estimado, 'r') as arquivo_orig:\n",
        "    with open('novo_aluguel_estimado.csv', 'w') as arquivo_novo:\n",
        "        for linha in arquivo_orig:\n",
        "            nova_linha = (\n",
        "                linha[:2] + ';' + # variável 1\n",
        "                linha[2:6] + ';' + # variável 2\n",
        "                linha[6:7] + ';' + # variável 3\n",
        "                linha[7:16] + ';' + # variável 4\n",
        "                linha[16:18] + ';' + # variável 5\n",
        "                linha[18:19] + ';' + # variável 6\n",
        "                linha[19:21] + ';' + # variável 7\n",
        "                linha[21:28] + ';' + # variável 8\n",
        "                linha[28:30] + ';' + # variável 9\n",
        "                linha[30:40] + ';' + # variável 10\n",
        "                linha[40:42] + ';' + # variável 11\n",
        "                linha[42:44] + ';' + # variável 12\n",
        "                linha[44:56] + ';' + # variável 13\n",
        "                linha[56:66] + ';' + # variável 14\n",
        "                linha[66:67] + ';' + # variável 15\n",
        "                linha[67:69] + ';' + # variável 16\n",
        "                linha[69:83] + ';' + # variável 17\n",
        "                linha[83:97] + ';' + # variável 18\n",
        "                linha[97:] # variável 19\n",
        "            )\n",
        "            nova_linha = nova_linha.replace(' ', '')\n",
        "            arquivo_novo.write(nova_linha)"
      ],
      "metadata": {
        "id": "0QE4Kw79lVNG"
      },
      "execution_count": null,
      "outputs": []
    },
    {
      "cell_type": "markdown",
      "source": [
        "Conferir Processo"
      ],
      "metadata": {
        "id": "l1qTSZ6FnP26"
      }
    },
    {
      "cell_type": "code",
      "source": [
        "novo_aluguel_estimado = \"/content/novo_aluguel_estimado.csv\"\n",
        "\n",
        "with open(novo_aluguel_estimado, 'r') as arquivo_novo:\n",
        "  novo_dom = arquivo_novo.readlines()\n",
        "\n",
        "# imprimir primeira linha\n",
        "for lin in novo_dom[:1]:\n",
        "  print(lin, end=\"\")"
      ],
      "metadata": {
        "colab": {
          "base_uri": "https://localhost:8080/"
        },
        "id": "MVGelhqGndN9",
        "outputId": "ce01923f-9686-4444-bb0c-3d9dbeb74a1e"
      },
      "execution_count": null,
      "outputs": [
        {
          "output_type": "stream",
          "name": "stdout",
          "text": [
            "11;1103;1;110005400;1;1;00;0000101;11;2000.00;9;12;1.0008526398;2001.71;0;1;272.80666931;372.98451570;11254.75\n"
          ]
        }
      ]
    },
    {
      "cell_type": "markdown",
      "source": [
        "Conferir Estado do Novo Arquivo"
      ],
      "metadata": {
        "id": "-4vdHu5TnwA6"
      }
    },
    {
      "cell_type": "code",
      "source": [
        "with open(novo_aluguel_estimado, 'r') as arquivo:\n",
        "    conteudo = arquivo.readlines()\n",
        "\n",
        "# Conferir Numero de Linhas\n",
        "cont = 0\n",
        "for linha in conteudo:\n",
        "    cont += 1\n",
        "\n",
        "# Conferir Total de Caracteres\n",
        "cont_char = 0\n",
        "for i, linha in enumerate(conteudo[:1], start=1):\n",
        "    num_caracteres = len(linha)\n",
        "\n",
        "# Conferir se as Linhas Ainda tem o Mesmo Numero de Caracteres\n",
        "primeira_linha = conteudo[0]\n",
        "todas_as_linhas_iguais = all(len(linha) == len(primeira_linha) for linha in conteudo)\n",
        "\n",
        "print(\"Total de linhas: \", cont)\n",
        "print(\"Total de caracteres da primeira linha: \", num_caracteres)\n",
        "print(\"Todas as Linhas tem o mesmo comprimento da primeira? \", todas_as_linhas_iguais)"
      ],
      "metadata": {
        "colab": {
          "base_uri": "https://localhost:8080/"
        },
        "id": "XG6ECvmRn0tT",
        "outputId": "2c9827c0-c9ef-4a87-d377-ea86cd1c2321"
      },
      "execution_count": null,
      "outputs": [
        {
          "output_type": "stream",
          "name": "stdout",
          "text": [
            "Total de linhas:  48935\n",
            "Total de caracteres da primeira linha:  111\n",
            "Todas as Linhas tem o mesmo comprimento da primeira?  False\n"
          ]
        }
      ]
    },
    {
      "cell_type": "markdown",
      "source": [
        "## Abrir arquivo como DataFrame, para melhor análise"
      ],
      "metadata": {
        "id": "jOv4CqBioDz7"
      }
    },
    {
      "cell_type": "code",
      "source": [
        "colunas_aluguel_estimado = [\n",
        "    \"UF\", \"ESTRATO_POF\", \"TIPO_SITUACAO_REG\", \"COD_UPA\", \"NUM_DOM\", \"NUM_UC\",\n",
        "    \"QUADRO\", \"V9001\", \"V9002\", \"V8000\", \"V9010\", \"V9011\", \"DEFLATOR\",\n",
        "    \"V8000_DEFLA\", \"COD_IMPUT_VALOR\", \"FATOR_ANUALIZACAO\", \"PESO\", \"PESO_FINAL\",\n",
        "    \"RENDA_TOTAL\"\n",
        "]\n"
      ],
      "metadata": {
        "id": "6suHtuLHoFtK"
      },
      "execution_count": null,
      "outputs": []
    },
    {
      "cell_type": "code",
      "source": [
        "df_aluguel_estimado = pd.read_csv('/content/novo_aluguel_estimado.csv', sep=';', names=colunas_aluguel_estimado, dtype='object')"
      ],
      "metadata": {
        "id": "V2pSOYFEpACj"
      },
      "execution_count": null,
      "outputs": []
    },
    {
      "cell_type": "code",
      "source": [
        "df_aluguel_estimado.info()"
      ],
      "metadata": {
        "colab": {
          "base_uri": "https://localhost:8080/"
        },
        "id": "3343L2Dspcfy",
        "outputId": "2308a149-eaf6-4452-8663-e387ca1a211d"
      },
      "execution_count": null,
      "outputs": [
        {
          "output_type": "stream",
          "name": "stdout",
          "text": [
            "<class 'pandas.core.frame.DataFrame'>\n",
            "RangeIndex: 48935 entries, 0 to 48934\n",
            "Data columns (total 19 columns):\n",
            " #   Column             Non-Null Count  Dtype \n",
            "---  ------             --------------  ----- \n",
            " 0   UF                 48935 non-null  object\n",
            " 1   ESTRATO_POF        48935 non-null  object\n",
            " 2   TIPO_SITUACAO_REG  48935 non-null  object\n",
            " 3   COD_UPA            48935 non-null  object\n",
            " 4   NUM_DOM            48935 non-null  object\n",
            " 5   NUM_UC             48935 non-null  object\n",
            " 6   QUADRO             48935 non-null  object\n",
            " 7   V9001              48935 non-null  object\n",
            " 8   V9002              48935 non-null  object\n",
            " 9   V8000              48935 non-null  object\n",
            " 10  V9010              48935 non-null  object\n",
            " 11  V9011              48935 non-null  object\n",
            " 12  DEFLATOR           48935 non-null  object\n",
            " 13  V8000_DEFLA        48935 non-null  object\n",
            " 14  COD_IMPUT_VALOR    48935 non-null  object\n",
            " 15  FATOR_ANUALIZACAO  48935 non-null  object\n",
            " 16  PESO               48935 non-null  object\n",
            " 17  PESO_FINAL         48935 non-null  object\n",
            " 18  RENDA_TOTAL        48935 non-null  object\n",
            "dtypes: object(19)\n",
            "memory usage: 7.1+ MB\n"
          ]
        }
      ]
    },
    {
      "cell_type": "code",
      "source": [
        "df_aluguel_estimado.head()"
      ],
      "metadata": {
        "colab": {
          "base_uri": "https://localhost:8080/"
        },
        "id": "VoqlPYy5pgjW",
        "outputId": "b69cb9cd-1d82-40c3-cbb6-8effce6ce766"
      },
      "execution_count": null,
      "outputs": [
        {
          "output_type": "execute_result",
          "data": {
            "text/plain": [
              "   UF  ESTRATO_POF  TIPO_SITUACAO_REG    COD_UPA  NUM_DOM  NUM_UC  QUADRO  \\\n",
              "0  11         1103                  1  110005400        1       1       0   \n",
              "1  11         1103                  1  110005400        4       1       0   \n",
              "2  11         1103                  1  110005400        5       1       0   \n",
              "3  11         1103                  1  110005400        6       1       0   \n",
              "4  11         1103                  1  110005400        7       1       0   \n",
              "\n",
              "   V9001  V9002   V8000  V9010  V9011  DEFLATOR  V8000_DEFLA  COD_IMPUT_VALOR  \\\n",
              "0    101     11  2000.0      9     12  1.000853      2001.71                0   \n",
              "1    101     11   500.0     10     12  0.999417       499.71                0   \n",
              "2    101     11   300.0     10     12  0.999417       299.83                0   \n",
              "3    101     11   400.0     10     12  0.999417       399.77                0   \n",
              "4    101     11   200.0     10     12  0.999209       199.84                0   \n",
              "\n",
              "   FATOR_ANUALIZACAO        PESO  PESO_FINAL  RENDA_TOTAL  \n",
              "0                  1  272.806669  372.984516     11254.75  \n",
              "1                  1  272.806669  372.984516      4769.13  \n",
              "2                  1  272.806669  372.984516      2313.61  \n",
              "3                  1  272.806669  372.984516      6596.90  \n",
              "4                  1  272.806669  372.984516       366.43  "
            ],
            "text/html": [
              "\n",
              "  <div id=\"df-86e4ea70-72df-4cc2-80c8-3855398b628e\" class=\"colab-df-container\">\n",
              "    <div>\n",
              "<style scoped>\n",
              "    .dataframe tbody tr th:only-of-type {\n",
              "        vertical-align: middle;\n",
              "    }\n",
              "\n",
              "    .dataframe tbody tr th {\n",
              "        vertical-align: top;\n",
              "    }\n",
              "\n",
              "    .dataframe thead th {\n",
              "        text-align: right;\n",
              "    }\n",
              "</style>\n",
              "<table border=\"1\" class=\"dataframe\">\n",
              "  <thead>\n",
              "    <tr style=\"text-align: right;\">\n",
              "      <th></th>\n",
              "      <th>UF</th>\n",
              "      <th>ESTRATO_POF</th>\n",
              "      <th>TIPO_SITUACAO_REG</th>\n",
              "      <th>COD_UPA</th>\n",
              "      <th>NUM_DOM</th>\n",
              "      <th>NUM_UC</th>\n",
              "      <th>QUADRO</th>\n",
              "      <th>V9001</th>\n",
              "      <th>V9002</th>\n",
              "      <th>V8000</th>\n",
              "      <th>V9010</th>\n",
              "      <th>V9011</th>\n",
              "      <th>DEFLATOR</th>\n",
              "      <th>V8000_DEFLA</th>\n",
              "      <th>COD_IMPUT_VALOR</th>\n",
              "      <th>FATOR_ANUALIZACAO</th>\n",
              "      <th>PESO</th>\n",
              "      <th>PESO_FINAL</th>\n",
              "      <th>RENDA_TOTAL</th>\n",
              "    </tr>\n",
              "  </thead>\n",
              "  <tbody>\n",
              "    <tr>\n",
              "      <th>0</th>\n",
              "      <td>11</td>\n",
              "      <td>1103</td>\n",
              "      <td>1</td>\n",
              "      <td>110005400</td>\n",
              "      <td>1</td>\n",
              "      <td>1</td>\n",
              "      <td>0</td>\n",
              "      <td>101</td>\n",
              "      <td>11</td>\n",
              "      <td>2000.0</td>\n",
              "      <td>9</td>\n",
              "      <td>12</td>\n",
              "      <td>1.000853</td>\n",
              "      <td>2001.71</td>\n",
              "      <td>0</td>\n",
              "      <td>1</td>\n",
              "      <td>272.806669</td>\n",
              "      <td>372.984516</td>\n",
              "      <td>11254.75</td>\n",
              "    </tr>\n",
              "    <tr>\n",
              "      <th>1</th>\n",
              "      <td>11</td>\n",
              "      <td>1103</td>\n",
              "      <td>1</td>\n",
              "      <td>110005400</td>\n",
              "      <td>4</td>\n",
              "      <td>1</td>\n",
              "      <td>0</td>\n",
              "      <td>101</td>\n",
              "      <td>11</td>\n",
              "      <td>500.0</td>\n",
              "      <td>10</td>\n",
              "      <td>12</td>\n",
              "      <td>0.999417</td>\n",
              "      <td>499.71</td>\n",
              "      <td>0</td>\n",
              "      <td>1</td>\n",
              "      <td>272.806669</td>\n",
              "      <td>372.984516</td>\n",
              "      <td>4769.13</td>\n",
              "    </tr>\n",
              "    <tr>\n",
              "      <th>2</th>\n",
              "      <td>11</td>\n",
              "      <td>1103</td>\n",
              "      <td>1</td>\n",
              "      <td>110005400</td>\n",
              "      <td>5</td>\n",
              "      <td>1</td>\n",
              "      <td>0</td>\n",
              "      <td>101</td>\n",
              "      <td>11</td>\n",
              "      <td>300.0</td>\n",
              "      <td>10</td>\n",
              "      <td>12</td>\n",
              "      <td>0.999417</td>\n",
              "      <td>299.83</td>\n",
              "      <td>0</td>\n",
              "      <td>1</td>\n",
              "      <td>272.806669</td>\n",
              "      <td>372.984516</td>\n",
              "      <td>2313.61</td>\n",
              "    </tr>\n",
              "    <tr>\n",
              "      <th>3</th>\n",
              "      <td>11</td>\n",
              "      <td>1103</td>\n",
              "      <td>1</td>\n",
              "      <td>110005400</td>\n",
              "      <td>6</td>\n",
              "      <td>1</td>\n",
              "      <td>0</td>\n",
              "      <td>101</td>\n",
              "      <td>11</td>\n",
              "      <td>400.0</td>\n",
              "      <td>10</td>\n",
              "      <td>12</td>\n",
              "      <td>0.999417</td>\n",
              "      <td>399.77</td>\n",
              "      <td>0</td>\n",
              "      <td>1</td>\n",
              "      <td>272.806669</td>\n",
              "      <td>372.984516</td>\n",
              "      <td>6596.90</td>\n",
              "    </tr>\n",
              "    <tr>\n",
              "      <th>4</th>\n",
              "      <td>11</td>\n",
              "      <td>1103</td>\n",
              "      <td>1</td>\n",
              "      <td>110005400</td>\n",
              "      <td>7</td>\n",
              "      <td>1</td>\n",
              "      <td>0</td>\n",
              "      <td>101</td>\n",
              "      <td>11</td>\n",
              "      <td>200.0</td>\n",
              "      <td>10</td>\n",
              "      <td>12</td>\n",
              "      <td>0.999209</td>\n",
              "      <td>199.84</td>\n",
              "      <td>0</td>\n",
              "      <td>1</td>\n",
              "      <td>272.806669</td>\n",
              "      <td>372.984516</td>\n",
              "      <td>366.43</td>\n",
              "    </tr>\n",
              "  </tbody>\n",
              "</table>\n",
              "</div>\n",
              "    <div class=\"colab-df-buttons\">\n",
              "\n",
              "  <div class=\"colab-df-container\">\n",
              "    <button class=\"colab-df-convert\" onclick=\"convertToInteractive('df-86e4ea70-72df-4cc2-80c8-3855398b628e')\"\n",
              "            title=\"Convert this dataframe to an interactive table.\"\n",
              "            style=\"display:none;\">\n",
              "\n",
              "  <svg xmlns=\"http://www.w3.org/2000/svg\" height=\"24px\" viewBox=\"0 -960 960 960\">\n",
              "    <path d=\"M120-120v-720h720v720H120Zm60-500h600v-160H180v160Zm220 220h160v-160H400v160Zm0 220h160v-160H400v160ZM180-400h160v-160H180v160Zm440 0h160v-160H620v160ZM180-180h160v-160H180v160Zm440 0h160v-160H620v160Z\"/>\n",
              "  </svg>\n",
              "    </button>\n",
              "\n",
              "  <style>\n",
              "    .colab-df-container {\n",
              "      display:flex;\n",
              "      gap: 12px;\n",
              "    }\n",
              "\n",
              "    .colab-df-convert {\n",
              "      background-color: #E8F0FE;\n",
              "      border: none;\n",
              "      border-radius: 50%;\n",
              "      cursor: pointer;\n",
              "      display: none;\n",
              "      fill: #1967D2;\n",
              "      height: 32px;\n",
              "      padding: 0 0 0 0;\n",
              "      width: 32px;\n",
              "    }\n",
              "\n",
              "    .colab-df-convert:hover {\n",
              "      background-color: #E2EBFA;\n",
              "      box-shadow: 0px 1px 2px rgba(60, 64, 67, 0.3), 0px 1px 3px 1px rgba(60, 64, 67, 0.15);\n",
              "      fill: #174EA6;\n",
              "    }\n",
              "\n",
              "    .colab-df-buttons div {\n",
              "      margin-bottom: 4px;\n",
              "    }\n",
              "\n",
              "    [theme=dark] .colab-df-convert {\n",
              "      background-color: #3B4455;\n",
              "      fill: #D2E3FC;\n",
              "    }\n",
              "\n",
              "    [theme=dark] .colab-df-convert:hover {\n",
              "      background-color: #434B5C;\n",
              "      box-shadow: 0px 1px 3px 1px rgba(0, 0, 0, 0.15);\n",
              "      filter: drop-shadow(0px 1px 2px rgba(0, 0, 0, 0.3));\n",
              "      fill: #FFFFFF;\n",
              "    }\n",
              "  </style>\n",
              "\n",
              "    <script>\n",
              "      const buttonEl =\n",
              "        document.querySelector('#df-86e4ea70-72df-4cc2-80c8-3855398b628e button.colab-df-convert');\n",
              "      buttonEl.style.display =\n",
              "        google.colab.kernel.accessAllowed ? 'block' : 'none';\n",
              "\n",
              "      async function convertToInteractive(key) {\n",
              "        const element = document.querySelector('#df-86e4ea70-72df-4cc2-80c8-3855398b628e');\n",
              "        const dataTable =\n",
              "          await google.colab.kernel.invokeFunction('convertToInteractive',\n",
              "                                                    [key], {});\n",
              "        if (!dataTable) return;\n",
              "\n",
              "        const docLinkHtml = 'Like what you see? Visit the ' +\n",
              "          '<a target=\"_blank\" href=https://colab.research.google.com/notebooks/data_table.ipynb>data table notebook</a>'\n",
              "          + ' to learn more about interactive tables.';\n",
              "        element.innerHTML = '';\n",
              "        dataTable['output_type'] = 'display_data';\n",
              "        await google.colab.output.renderOutput(dataTable, element);\n",
              "        const docLink = document.createElement('div');\n",
              "        docLink.innerHTML = docLinkHtml;\n",
              "        element.appendChild(docLink);\n",
              "      }\n",
              "    </script>\n",
              "  </div>\n",
              "\n",
              "\n",
              "<div id=\"df-6793ce20-2c32-4456-bc0b-ff7c38171045\">\n",
              "  <button class=\"colab-df-quickchart\" onclick=\"quickchart('df-6793ce20-2c32-4456-bc0b-ff7c38171045')\"\n",
              "            title=\"Suggest charts.\"\n",
              "            style=\"display:none;\">\n",
              "\n",
              "<svg xmlns=\"http://www.w3.org/2000/svg\" height=\"24px\"viewBox=\"0 0 24 24\"\n",
              "     width=\"24px\">\n",
              "    <g>\n",
              "        <path d=\"M19 3H5c-1.1 0-2 .9-2 2v14c0 1.1.9 2 2 2h14c1.1 0 2-.9 2-2V5c0-1.1-.9-2-2-2zM9 17H7v-7h2v7zm4 0h-2V7h2v10zm4 0h-2v-4h2v4z\"/>\n",
              "    </g>\n",
              "</svg>\n",
              "  </button>\n",
              "\n",
              "<style>\n",
              "  .colab-df-quickchart {\n",
              "      --bg-color: #E8F0FE;\n",
              "      --fill-color: #1967D2;\n",
              "      --hover-bg-color: #E2EBFA;\n",
              "      --hover-fill-color: #174EA6;\n",
              "      --disabled-fill-color: #AAA;\n",
              "      --disabled-bg-color: #DDD;\n",
              "  }\n",
              "\n",
              "  [theme=dark] .colab-df-quickchart {\n",
              "      --bg-color: #3B4455;\n",
              "      --fill-color: #D2E3FC;\n",
              "      --hover-bg-color: #434B5C;\n",
              "      --hover-fill-color: #FFFFFF;\n",
              "      --disabled-bg-color: #3B4455;\n",
              "      --disabled-fill-color: #666;\n",
              "  }\n",
              "\n",
              "  .colab-df-quickchart {\n",
              "    background-color: var(--bg-color);\n",
              "    border: none;\n",
              "    border-radius: 50%;\n",
              "    cursor: pointer;\n",
              "    display: none;\n",
              "    fill: var(--fill-color);\n",
              "    height: 32px;\n",
              "    padding: 0;\n",
              "    width: 32px;\n",
              "  }\n",
              "\n",
              "  .colab-df-quickchart:hover {\n",
              "    background-color: var(--hover-bg-color);\n",
              "    box-shadow: 0 1px 2px rgba(60, 64, 67, 0.3), 0 1px 3px 1px rgba(60, 64, 67, 0.15);\n",
              "    fill: var(--button-hover-fill-color);\n",
              "  }\n",
              "\n",
              "  .colab-df-quickchart-complete:disabled,\n",
              "  .colab-df-quickchart-complete:disabled:hover {\n",
              "    background-color: var(--disabled-bg-color);\n",
              "    fill: var(--disabled-fill-color);\n",
              "    box-shadow: none;\n",
              "  }\n",
              "\n",
              "  .colab-df-spinner {\n",
              "    border: 2px solid var(--fill-color);\n",
              "    border-color: transparent;\n",
              "    border-bottom-color: var(--fill-color);\n",
              "    animation:\n",
              "      spin 1s steps(1) infinite;\n",
              "  }\n",
              "\n",
              "  @keyframes spin {\n",
              "    0% {\n",
              "      border-color: transparent;\n",
              "      border-bottom-color: var(--fill-color);\n",
              "      border-left-color: var(--fill-color);\n",
              "    }\n",
              "    20% {\n",
              "      border-color: transparent;\n",
              "      border-left-color: var(--fill-color);\n",
              "      border-top-color: var(--fill-color);\n",
              "    }\n",
              "    30% {\n",
              "      border-color: transparent;\n",
              "      border-left-color: var(--fill-color);\n",
              "      border-top-color: var(--fill-color);\n",
              "      border-right-color: var(--fill-color);\n",
              "    }\n",
              "    40% {\n",
              "      border-color: transparent;\n",
              "      border-right-color: var(--fill-color);\n",
              "      border-top-color: var(--fill-color);\n",
              "    }\n",
              "    60% {\n",
              "      border-color: transparent;\n",
              "      border-right-color: var(--fill-color);\n",
              "    }\n",
              "    80% {\n",
              "      border-color: transparent;\n",
              "      border-right-color: var(--fill-color);\n",
              "      border-bottom-color: var(--fill-color);\n",
              "    }\n",
              "    90% {\n",
              "      border-color: transparent;\n",
              "      border-bottom-color: var(--fill-color);\n",
              "    }\n",
              "  }\n",
              "</style>\n",
              "\n",
              "  <script>\n",
              "    async function quickchart(key) {\n",
              "      const quickchartButtonEl =\n",
              "        document.querySelector('#' + key + ' button');\n",
              "      quickchartButtonEl.disabled = true;  // To prevent multiple clicks.\n",
              "      quickchartButtonEl.classList.add('colab-df-spinner');\n",
              "      try {\n",
              "        const charts = await google.colab.kernel.invokeFunction(\n",
              "            'suggestCharts', [key], {});\n",
              "      } catch (error) {\n",
              "        console.error('Error during call to suggestCharts:', error);\n",
              "      }\n",
              "      quickchartButtonEl.classList.remove('colab-df-spinner');\n",
              "      quickchartButtonEl.classList.add('colab-df-quickchart-complete');\n",
              "    }\n",
              "    (() => {\n",
              "      let quickchartButtonEl =\n",
              "        document.querySelector('#df-6793ce20-2c32-4456-bc0b-ff7c38171045 button');\n",
              "      quickchartButtonEl.style.display =\n",
              "        google.colab.kernel.accessAllowed ? 'block' : 'none';\n",
              "    })();\n",
              "  </script>\n",
              "</div>\n",
              "    </div>\n",
              "  </div>\n"
            ]
          },
          "metadata": {},
          "execution_count": 147
        }
      ]
    },
    {
      "cell_type": "code",
      "source": [
        "df_aluguel_estimado['V9001'].unique()"
      ],
      "metadata": {
        "colab": {
          "base_uri": "https://localhost:8080/"
        },
        "id": "m7E8lxIeNxBT",
        "outputId": "0bcf3626-4d11-461d-ccae-b1da2959aad2"
      },
      "execution_count": null,
      "outputs": [
        {
          "output_type": "execute_result",
          "data": {
            "text/plain": [
              "array(['0000101'], dtype=object)"
            ]
          },
          "metadata": {},
          "execution_count": 15
        }
      ]
    },
    {
      "cell_type": "markdown",
      "source": [
        "## Conferir Unicidade da Chave Identificadora"
      ],
      "metadata": {
        "id": "TDmsS6dvpwGo"
      }
    },
    {
      "cell_type": "code",
      "source": [
        "df_aluguel_estimado_id = df_aluguel_estimado.drop_duplicates(subset=['COD_UPA','NUM_DOM'], keep='first')\n",
        "df_aluguel_estimado_id.shape[0]"
      ],
      "metadata": {
        "colab": {
          "base_uri": "https://localhost:8080/"
        },
        "id": "8KbBK9hapxCD",
        "outputId": "ee70b994-ef05-4377-f9a1-ab0eacc3b36c"
      },
      "execution_count": null,
      "outputs": [
        {
          "output_type": "execute_result",
          "data": {
            "text/plain": [
              "48935"
            ]
          },
          "metadata": {},
          "execution_count": 169
        }
      ]
    },
    {
      "cell_type": "markdown",
      "source": [
        "## Aplicar Regras Normais"
      ],
      "metadata": {
        "id": "YPs9SaXXx0pm"
      }
    },
    {
      "cell_type": "code",
      "source": [
        "df_aluguel_estimado = df_aluguel_estimado.drop(['UF','ESTRATO_POF','TIPO_SITUACAO_REG','PESO','PESO_FINAL','NUM_UC','RENDA_TOTAL'], axis=1)"
      ],
      "metadata": {
        "id": "jPvO2Hytx0ps"
      },
      "execution_count": null,
      "outputs": []
    },
    {
      "cell_type": "markdown",
      "source": [
        "## Baixar Arquivo em CSV"
      ],
      "metadata": {
        "id": "TBZwXswiquqt"
      }
    },
    {
      "cell_type": "code",
      "source": [
        "df_aluguel_estimado.to_csv('ALUGUEL_ESTIMADO.csv', index=False)"
      ],
      "metadata": {
        "id": "6iQpQMEYqywT"
      },
      "execution_count": null,
      "outputs": []
    },
    {
      "cell_type": "markdown",
      "source": [
        "# Tratamento do arquivo \"DESPESA COLETIVA\""
      ],
      "metadata": {
        "id": "_PLmEtsNu3fK"
      }
    },
    {
      "cell_type": "markdown",
      "source": [
        "##Abrindo e Analisando o Arquivo"
      ],
      "metadata": {
        "id": "NB_fsre-vVYO"
      }
    },
    {
      "cell_type": "code",
      "source": [
        "despesa_coletiva = '/content/drive/MyDrive/POF (2017 2018)/DESPESA_COLETIVA.txt'\n",
        "\n",
        "with open(despesa_coletiva, 'r') as arquivo:\n",
        "    conteudo = arquivo.readlines()\n",
        "\n",
        "# Imprimir 5 primeiras Linhas\n",
        "print(\"5 primeiras Linhas: \\n\")\n",
        "for conteudo in conteudo[:5]:\n",
        "    print(conteudo, end='')\n"
      ],
      "metadata": {
        "colab": {
          "base_uri": "https://localhost:8080/"
        },
        "outputId": "5a89ede0-f45f-4fa7-b3a1-ccd3957d66a3",
        "id": "i41QaDQ7vVYP"
      },
      "execution_count": null,
      "outputs": [
        {
          "output_type": "stream",
          "name": "stdout",
          "text": [
            "5 primeiras Linhas: \n",
            "\n",
            "1111031110005400 11 6 0 600101 1 407    278.00                0.8928566066    248.21          0112  272.80666931  372.98451570  11254.75     \n",
            "1111031110005400 11 6 1 600201 1         45.00                1.0843039773     48.79          0 12  272.80666931  372.98451570  11254.75     \n",
            "1111031110005400 11 6 3 600401 1        118.00                0.9811759729    115.78          0 12  272.80666931  372.98451570  11254.75     \n",
            "1111031110005400 11 6 4 600501 1         80.00                1.0000000000     80.00          0 12  272.80666931  372.98451570  11254.75     \n",
            "1111031110005400 11 6 5 600601 1        100.00                1.0000000000    100.00          0 12  272.80666931  372.98451570  11254.75     \n"
          ]
        }
      ]
    },
    {
      "cell_type": "code",
      "source": [
        "with open(despesa_coletiva, 'r') as arquivo:\n",
        "    conteudo = arquivo.readlines()\n",
        "\n",
        "# descobrir quantas Linhas tem o arquivo\n",
        "cont = 0\n",
        "for linha in conteudo:\n",
        "    cont += 1\n",
        "\n",
        "# descobrir quantos caracteres tem a primeira Linha\n",
        "cont_char = 0\n",
        "for i, linha in enumerate(conteudo[:1], start=1):\n",
        "    num_caracteres = len(linha)\n",
        "\n",
        "# descobrir se o restante das linhas tem a mesma qtd de caracteres da primeira linha\n",
        "primeira_linha = conteudo[0]\n",
        "todas_as_linhas_iguais = all(len(linha) == len(primeira_linha) for linha in conteudo)\n",
        "\n",
        "print(\"Total de linhas: \", cont)\n",
        "print(\"Total de caracteres da primeira linha: \", num_caracteres)\n",
        "print(\"Todas as Linhas tem o mesmo comprimento da primeira? \", todas_as_linhas_iguais)"
      ],
      "metadata": {
        "colab": {
          "base_uri": "https://localhost:8080/"
        },
        "outputId": "7678bc9a-64aa-46e8-be70-24d6074fca21",
        "id": "TiJS9rp8vVYP"
      },
      "execution_count": null,
      "outputs": [
        {
          "output_type": "stream",
          "name": "stdout",
          "text": [
            "Total de linhas:  478572\n",
            "Total de caracteres da primeira linha:  142\n",
            "Todas as Linhas tem o mesmo comprimento da primeira?  True\n"
          ]
        }
      ]
    },
    {
      "cell_type": "markdown",
      "source": [
        "##Adicionar o Separador"
      ],
      "metadata": {
        "id": "wzTPSKWLvVYP"
      }
    },
    {
      "cell_type": "code",
      "source": [
        "with open(despesa_coletiva, 'r') as arquivo_orig:\n",
        "    with open('nova_despesa_coletiva.csv', 'w') as arquivo_novo:\n",
        "        for linha in arquivo_orig:\n",
        "            nova_linha = (\n",
        "                linha[:2] + ';' + # variável 1\n",
        "                linha[2:6] + ';' + # variável 2\n",
        "                linha[6:7] + ';' + # variável 3\n",
        "                linha[7:16] + ';' + # variável 4\n",
        "                linha[16:18] + ';' + # variável 5\n",
        "                linha[18:19] + ';' + # variável 6\n",
        "                linha[19:21] + ';' + # variável 7\n",
        "                linha[21:23] + ';' + # variável 8\n",
        "                linha[23:30] + ';' + # variável 9\n",
        "                linha[30:32] + ';' + # variável 10\n",
        "                linha[32:36] + ';' + # variável 11\n",
        "                linha[36:46] + ';' + # variável 12\n",
        "                linha[46:48] + ';' + # variável 13\n",
        "                linha[48:50] + ';' + # variável 14\n",
        "                linha[50:51] + ';' + # variável 15\n",
        "                linha[51:61] + ';' + # variável 16\n",
        "                linha[61:62] + ';' + # variável 17\n",
        "                linha[62:74] + ';' + # variável 18\n",
        "                linha[74:84] + ';' + # variável 19\n",
        "                linha[84:94] + ';' + # variável 20\n",
        "                linha[94:95] + ';' + # variável 21\n",
        "                linha[95:96] + ';' + # variável 22\n",
        "                linha[96:98] + ';' + # variável 23\n",
        "                linha[98:112] + ';' + # variável 24\n",
        "                linha[112:126] + ';' + # variável 25\n",
        "                linha[126:136] + ';' + # variável 26\n",
        "                linha[136:] # variável 27\n",
        "            )\n",
        "            nova_linha = nova_linha.replace(' ', '')\n",
        "            arquivo_novo.write(nova_linha)\n",
        "\n",
        "\n"
      ],
      "metadata": {
        "id": "Q-Th0-F7vVYP"
      },
      "execution_count": null,
      "outputs": []
    },
    {
      "cell_type": "markdown",
      "source": [
        "Conferir Processo"
      ],
      "metadata": {
        "id": "bXg7bFhUvVYP"
      }
    },
    {
      "cell_type": "code",
      "source": [
        "nova_despesa_coletiva = \"/content/nova_despesa_coletiva.csv\"\n",
        "\n",
        "with open(nova_despesa_coletiva, 'r') as arquivo_novo:\n",
        "  novo_dom = arquivo_novo.readlines()\n",
        "\n",
        "# imprimir primeira linha\n",
        "for lin in novo_dom[:1]:\n",
        "  print(lin, end=\"\")"
      ],
      "metadata": {
        "colab": {
          "base_uri": "https://localhost:8080/"
        },
        "outputId": "4e957364-dc50-4aca-dd5f-ce05a01516bb",
        "id": "u6ATC0v5vVYP"
      },
      "execution_count": null,
      "outputs": [
        {
          "output_type": "stream",
          "name": "stdout",
          "text": [
            "11;1103;1;110005400;1;1;6;0;600101;1;407;278.00;;;;;;0.8928566066;248.21;;0;1;12;272.80666931;372.98451570;11254.75;\n"
          ]
        }
      ]
    },
    {
      "cell_type": "markdown",
      "source": [
        "Conferir Estado do Novo Arquivo"
      ],
      "metadata": {
        "id": "FzO8voJxvVYP"
      }
    },
    {
      "cell_type": "code",
      "source": [
        "with open(nova_despesa_coletiva, 'r') as arquivo:\n",
        "    conteudo = arquivo.readlines()\n",
        "\n",
        "# Conferir Numero de Linhas\n",
        "cont = 0\n",
        "for linha in conteudo:\n",
        "    cont += 1\n",
        "\n",
        "# Conferir Total de Caracteres\n",
        "cont_char = 0\n",
        "for i, linha in enumerate(conteudo[:1], start=1):\n",
        "    num_caracteres = len(linha)\n",
        "\n",
        "# Conferir se as Linhas Ainda tem o Mesmo Numero de Caracteres\n",
        "primeira_linha = conteudo[0]\n",
        "todas_as_linhas_iguais = all(len(linha) == len(primeira_linha) for linha in conteudo)\n",
        "\n",
        "print(\"Total de linhas: \", cont)\n",
        "print(\"Total de caracteres da primeira linha: \", num_caracteres)\n",
        "print(\"Todas as Linhas tem o mesmo comprimento da primeira? \", todas_as_linhas_iguais)"
      ],
      "metadata": {
        "colab": {
          "base_uri": "https://localhost:8080/"
        },
        "outputId": "b9ac3f83-ebfc-47d9-fc5c-ad730da394e1",
        "id": "lO3BLibcvVYP"
      },
      "execution_count": null,
      "outputs": [
        {
          "output_type": "stream",
          "name": "stdout",
          "text": [
            "Total de linhas:  478572\n",
            "Total de caracteres da primeira linha:  117\n",
            "Todas as Linhas tem o mesmo comprimento da primeira?  False\n"
          ]
        }
      ]
    },
    {
      "cell_type": "markdown",
      "source": [
        "## Abrir arquivo como DataFrame, para melhor análise"
      ],
      "metadata": {
        "id": "ftvDqVCdvVYP"
      }
    },
    {
      "cell_type": "code",
      "source": [
        "colunas_despesas_coletivas = [\n",
        "    \"UF\", \"ESTRATO_POF\", \"TIPO_SITUACAO_REG\", \"COD_UPA\", \"NUM_DOM\", \"NUM_UC\",\n",
        "    \"QUADRO\", \"SEQ\", \"V9001\", \"V9002\", \"V9005\", \"V8000\", \"V9010\", \"V9011\",\n",
        "    \"V9012\", \"V1904\", \"V1905\", \"DEFLATOR\", \"V8000_DEFLA\", \"V1904_DEFLA\",\n",
        "    \"COD_IMPUT_VALOR\", \"COD_IMPUT_QUANTIDADE\", \"FATOR_ANUALIZACAO\", \"PESO\",\n",
        "    \"PESO_FINAL\", \"RENDA_TOTAL\", \"V9004\"\n",
        "]\n"
      ],
      "metadata": {
        "id": "j9r-ryk4vVYQ"
      },
      "execution_count": null,
      "outputs": []
    },
    {
      "cell_type": "code",
      "source": [
        "df_despesa_coletiva = pd.read_csv('/content/nova_despesa_coletiva.csv', sep=';', names = colunas_despesas_coletivas, dtype='object')"
      ],
      "metadata": {
        "id": "TJ8wTouDvVYQ"
      },
      "execution_count": null,
      "outputs": []
    },
    {
      "cell_type": "code",
      "source": [
        "df_despesa_coletiva.info()"
      ],
      "metadata": {
        "colab": {
          "base_uri": "https://localhost:8080/"
        },
        "outputId": "a38356d6-d4ff-4fbc-e1bf-b7de7ebb0647",
        "id": "lHqMgBB4vVYQ"
      },
      "execution_count": null,
      "outputs": [
        {
          "output_type": "stream",
          "name": "stdout",
          "text": [
            "<class 'pandas.core.frame.DataFrame'>\n",
            "RangeIndex: 478572 entries, 0 to 478571\n",
            "Data columns (total 27 columns):\n",
            " #   Column                Non-Null Count   Dtype  \n",
            "---  ------                --------------   -----  \n",
            " 0   UF                    478572 non-null  int64  \n",
            " 1   ESTRATO_POF           478572 non-null  int64  \n",
            " 2   TIPO_SITUACAO_REG     478572 non-null  int64  \n",
            " 3   COD_UPA               478572 non-null  int64  \n",
            " 4   NUM_DOM               478572 non-null  int64  \n",
            " 5   NUM_UC                478572 non-null  int64  \n",
            " 6   QUADRO                478572 non-null  int64  \n",
            " 7   SEQ                   478572 non-null  int64  \n",
            " 8   V9001                 478572 non-null  int64  \n",
            " 9   V9002                 478572 non-null  int64  \n",
            " 10  V9005                 478572 non-null  object \n",
            " 11  V8000                 478572 non-null  float64\n",
            " 12  V9010                 478572 non-null  object \n",
            " 13  V9011                 478572 non-null  object \n",
            " 14  V9012                 478572 non-null  object \n",
            " 15  V1904                 478572 non-null  object \n",
            " 16  V1905                 478572 non-null  object \n",
            " 17  DEFLATOR              478572 non-null  object \n",
            " 18  V8000_DEFLA           478572 non-null  float64\n",
            " 19  V1904_DEFLA           478572 non-null  object \n",
            " 20  COD_IMPUT_VALOR       478572 non-null  int64  \n",
            " 21  COD_IMPUT_QUANTIDADE  478572 non-null  object \n",
            " 22  FATOR_ANUALIZACAO     478572 non-null  int64  \n",
            " 23  PESO                  478572 non-null  float64\n",
            " 24  PESO_FINAL            478572 non-null  float64\n",
            " 25  RENDA_TOTAL           478572 non-null  float64\n",
            " 26  V9004                 478572 non-null  object \n",
            "dtypes: float64(5), int64(12), object(10)\n",
            "memory usage: 98.6+ MB\n"
          ]
        }
      ]
    },
    {
      "cell_type": "code",
      "source": [
        "df_despesa_coletiva.head(1).T"
      ],
      "metadata": {
        "colab": {
          "base_uri": "https://localhost:8080/",
          "height": 708
        },
        "outputId": "5c2b750c-7387-4601-8ff8-5c6820572805",
        "id": "hA-Jk9YQvVYQ"
      },
      "execution_count": null,
      "outputs": [
        {
          "output_type": "execute_result",
          "data": {
            "text/plain": [
              "                                 0\n",
              "COD_UPA                  110005400\n",
              "NUM_DOM                          1\n",
              "NUM_UC                           1\n",
              "QUADRO                           6\n",
              "SEQ                              0\n",
              "V9001                       600101\n",
              "V9002                            1\n",
              "V9005                          407\n",
              "V8000                       278.00\n",
              "V9010                          NaN\n",
              "V9011                          NaN\n",
              "V9012                          NaN\n",
              "V1904                          NaN\n",
              "V1905                          NaN\n",
              "DEFLATOR              0.8928566066\n",
              "V8000_DEFLA                 248.21\n",
              "V1904_DEFLA                    NaN\n",
              "COD_IMPUT_VALOR                  0\n",
              "COD_IMPUT_QUANTIDADE             1\n",
              "FATOR_ANUALIZACAO               12\n",
              "V9004                          NaN"
            ],
            "text/html": [
              "\n",
              "  <div id=\"df-cf07352d-93d8-44a2-9fe7-ccf13bf7b87b\" class=\"colab-df-container\">\n",
              "    <div>\n",
              "<style scoped>\n",
              "    .dataframe tbody tr th:only-of-type {\n",
              "        vertical-align: middle;\n",
              "    }\n",
              "\n",
              "    .dataframe tbody tr th {\n",
              "        vertical-align: top;\n",
              "    }\n",
              "\n",
              "    .dataframe thead th {\n",
              "        text-align: right;\n",
              "    }\n",
              "</style>\n",
              "<table border=\"1\" class=\"dataframe\">\n",
              "  <thead>\n",
              "    <tr style=\"text-align: right;\">\n",
              "      <th></th>\n",
              "      <th>0</th>\n",
              "    </tr>\n",
              "  </thead>\n",
              "  <tbody>\n",
              "    <tr>\n",
              "      <th>COD_UPA</th>\n",
              "      <td>110005400</td>\n",
              "    </tr>\n",
              "    <tr>\n",
              "      <th>NUM_DOM</th>\n",
              "      <td>1</td>\n",
              "    </tr>\n",
              "    <tr>\n",
              "      <th>NUM_UC</th>\n",
              "      <td>1</td>\n",
              "    </tr>\n",
              "    <tr>\n",
              "      <th>QUADRO</th>\n",
              "      <td>6</td>\n",
              "    </tr>\n",
              "    <tr>\n",
              "      <th>SEQ</th>\n",
              "      <td>0</td>\n",
              "    </tr>\n",
              "    <tr>\n",
              "      <th>V9001</th>\n",
              "      <td>600101</td>\n",
              "    </tr>\n",
              "    <tr>\n",
              "      <th>V9002</th>\n",
              "      <td>1</td>\n",
              "    </tr>\n",
              "    <tr>\n",
              "      <th>V9005</th>\n",
              "      <td>407</td>\n",
              "    </tr>\n",
              "    <tr>\n",
              "      <th>V8000</th>\n",
              "      <td>278.00</td>\n",
              "    </tr>\n",
              "    <tr>\n",
              "      <th>V9010</th>\n",
              "      <td>NaN</td>\n",
              "    </tr>\n",
              "    <tr>\n",
              "      <th>V9011</th>\n",
              "      <td>NaN</td>\n",
              "    </tr>\n",
              "    <tr>\n",
              "      <th>V9012</th>\n",
              "      <td>NaN</td>\n",
              "    </tr>\n",
              "    <tr>\n",
              "      <th>V1904</th>\n",
              "      <td>NaN</td>\n",
              "    </tr>\n",
              "    <tr>\n",
              "      <th>V1905</th>\n",
              "      <td>NaN</td>\n",
              "    </tr>\n",
              "    <tr>\n",
              "      <th>DEFLATOR</th>\n",
              "      <td>0.8928566066</td>\n",
              "    </tr>\n",
              "    <tr>\n",
              "      <th>V8000_DEFLA</th>\n",
              "      <td>248.21</td>\n",
              "    </tr>\n",
              "    <tr>\n",
              "      <th>V1904_DEFLA</th>\n",
              "      <td>NaN</td>\n",
              "    </tr>\n",
              "    <tr>\n",
              "      <th>COD_IMPUT_VALOR</th>\n",
              "      <td>0</td>\n",
              "    </tr>\n",
              "    <tr>\n",
              "      <th>COD_IMPUT_QUANTIDADE</th>\n",
              "      <td>1</td>\n",
              "    </tr>\n",
              "    <tr>\n",
              "      <th>FATOR_ANUALIZACAO</th>\n",
              "      <td>12</td>\n",
              "    </tr>\n",
              "    <tr>\n",
              "      <th>V9004</th>\n",
              "      <td>NaN</td>\n",
              "    </tr>\n",
              "  </tbody>\n",
              "</table>\n",
              "</div>\n",
              "    <div class=\"colab-df-buttons\">\n",
              "\n",
              "  <div class=\"colab-df-container\">\n",
              "    <button class=\"colab-df-convert\" onclick=\"convertToInteractive('df-cf07352d-93d8-44a2-9fe7-ccf13bf7b87b')\"\n",
              "            title=\"Convert this dataframe to an interactive table.\"\n",
              "            style=\"display:none;\">\n",
              "\n",
              "  <svg xmlns=\"http://www.w3.org/2000/svg\" height=\"24px\" viewBox=\"0 -960 960 960\">\n",
              "    <path d=\"M120-120v-720h720v720H120Zm60-500h600v-160H180v160Zm220 220h160v-160H400v160Zm0 220h160v-160H400v160ZM180-400h160v-160H180v160Zm440 0h160v-160H620v160ZM180-180h160v-160H180v160Zm440 0h160v-160H620v160Z\"/>\n",
              "  </svg>\n",
              "    </button>\n",
              "\n",
              "  <style>\n",
              "    .colab-df-container {\n",
              "      display:flex;\n",
              "      gap: 12px;\n",
              "    }\n",
              "\n",
              "    .colab-df-convert {\n",
              "      background-color: #E8F0FE;\n",
              "      border: none;\n",
              "      border-radius: 50%;\n",
              "      cursor: pointer;\n",
              "      display: none;\n",
              "      fill: #1967D2;\n",
              "      height: 32px;\n",
              "      padding: 0 0 0 0;\n",
              "      width: 32px;\n",
              "    }\n",
              "\n",
              "    .colab-df-convert:hover {\n",
              "      background-color: #E2EBFA;\n",
              "      box-shadow: 0px 1px 2px rgba(60, 64, 67, 0.3), 0px 1px 3px 1px rgba(60, 64, 67, 0.15);\n",
              "      fill: #174EA6;\n",
              "    }\n",
              "\n",
              "    .colab-df-buttons div {\n",
              "      margin-bottom: 4px;\n",
              "    }\n",
              "\n",
              "    [theme=dark] .colab-df-convert {\n",
              "      background-color: #3B4455;\n",
              "      fill: #D2E3FC;\n",
              "    }\n",
              "\n",
              "    [theme=dark] .colab-df-convert:hover {\n",
              "      background-color: #434B5C;\n",
              "      box-shadow: 0px 1px 3px 1px rgba(0, 0, 0, 0.15);\n",
              "      filter: drop-shadow(0px 1px 2px rgba(0, 0, 0, 0.3));\n",
              "      fill: #FFFFFF;\n",
              "    }\n",
              "  </style>\n",
              "\n",
              "    <script>\n",
              "      const buttonEl =\n",
              "        document.querySelector('#df-cf07352d-93d8-44a2-9fe7-ccf13bf7b87b button.colab-df-convert');\n",
              "      buttonEl.style.display =\n",
              "        google.colab.kernel.accessAllowed ? 'block' : 'none';\n",
              "\n",
              "      async function convertToInteractive(key) {\n",
              "        const element = document.querySelector('#df-cf07352d-93d8-44a2-9fe7-ccf13bf7b87b');\n",
              "        const dataTable =\n",
              "          await google.colab.kernel.invokeFunction('convertToInteractive',\n",
              "                                                    [key], {});\n",
              "        if (!dataTable) return;\n",
              "\n",
              "        const docLinkHtml = 'Like what you see? Visit the ' +\n",
              "          '<a target=\"_blank\" href=https://colab.research.google.com/notebooks/data_table.ipynb>data table notebook</a>'\n",
              "          + ' to learn more about interactive tables.';\n",
              "        element.innerHTML = '';\n",
              "        dataTable['output_type'] = 'display_data';\n",
              "        await google.colab.output.renderOutput(dataTable, element);\n",
              "        const docLink = document.createElement('div');\n",
              "        docLink.innerHTML = docLinkHtml;\n",
              "        element.appendChild(docLink);\n",
              "      }\n",
              "    </script>\n",
              "  </div>\n",
              "\n",
              "\n",
              "<div id=\"df-c8b4af07-b289-431f-ae66-4cb0ca006396\">\n",
              "  <button class=\"colab-df-quickchart\" onclick=\"quickchart('df-c8b4af07-b289-431f-ae66-4cb0ca006396')\"\n",
              "            title=\"Suggest charts.\"\n",
              "            style=\"display:none;\">\n",
              "\n",
              "<svg xmlns=\"http://www.w3.org/2000/svg\" height=\"24px\"viewBox=\"0 0 24 24\"\n",
              "     width=\"24px\">\n",
              "    <g>\n",
              "        <path d=\"M19 3H5c-1.1 0-2 .9-2 2v14c0 1.1.9 2 2 2h14c1.1 0 2-.9 2-2V5c0-1.1-.9-2-2-2zM9 17H7v-7h2v7zm4 0h-2V7h2v10zm4 0h-2v-4h2v4z\"/>\n",
              "    </g>\n",
              "</svg>\n",
              "  </button>\n",
              "\n",
              "<style>\n",
              "  .colab-df-quickchart {\n",
              "      --bg-color: #E8F0FE;\n",
              "      --fill-color: #1967D2;\n",
              "      --hover-bg-color: #E2EBFA;\n",
              "      --hover-fill-color: #174EA6;\n",
              "      --disabled-fill-color: #AAA;\n",
              "      --disabled-bg-color: #DDD;\n",
              "  }\n",
              "\n",
              "  [theme=dark] .colab-df-quickchart {\n",
              "      --bg-color: #3B4455;\n",
              "      --fill-color: #D2E3FC;\n",
              "      --hover-bg-color: #434B5C;\n",
              "      --hover-fill-color: #FFFFFF;\n",
              "      --disabled-bg-color: #3B4455;\n",
              "      --disabled-fill-color: #666;\n",
              "  }\n",
              "\n",
              "  .colab-df-quickchart {\n",
              "    background-color: var(--bg-color);\n",
              "    border: none;\n",
              "    border-radius: 50%;\n",
              "    cursor: pointer;\n",
              "    display: none;\n",
              "    fill: var(--fill-color);\n",
              "    height: 32px;\n",
              "    padding: 0;\n",
              "    width: 32px;\n",
              "  }\n",
              "\n",
              "  .colab-df-quickchart:hover {\n",
              "    background-color: var(--hover-bg-color);\n",
              "    box-shadow: 0 1px 2px rgba(60, 64, 67, 0.3), 0 1px 3px 1px rgba(60, 64, 67, 0.15);\n",
              "    fill: var(--button-hover-fill-color);\n",
              "  }\n",
              "\n",
              "  .colab-df-quickchart-complete:disabled,\n",
              "  .colab-df-quickchart-complete:disabled:hover {\n",
              "    background-color: var(--disabled-bg-color);\n",
              "    fill: var(--disabled-fill-color);\n",
              "    box-shadow: none;\n",
              "  }\n",
              "\n",
              "  .colab-df-spinner {\n",
              "    border: 2px solid var(--fill-color);\n",
              "    border-color: transparent;\n",
              "    border-bottom-color: var(--fill-color);\n",
              "    animation:\n",
              "      spin 1s steps(1) infinite;\n",
              "  }\n",
              "\n",
              "  @keyframes spin {\n",
              "    0% {\n",
              "      border-color: transparent;\n",
              "      border-bottom-color: var(--fill-color);\n",
              "      border-left-color: var(--fill-color);\n",
              "    }\n",
              "    20% {\n",
              "      border-color: transparent;\n",
              "      border-left-color: var(--fill-color);\n",
              "      border-top-color: var(--fill-color);\n",
              "    }\n",
              "    30% {\n",
              "      border-color: transparent;\n",
              "      border-left-color: var(--fill-color);\n",
              "      border-top-color: var(--fill-color);\n",
              "      border-right-color: var(--fill-color);\n",
              "    }\n",
              "    40% {\n",
              "      border-color: transparent;\n",
              "      border-right-color: var(--fill-color);\n",
              "      border-top-color: var(--fill-color);\n",
              "    }\n",
              "    60% {\n",
              "      border-color: transparent;\n",
              "      border-right-color: var(--fill-color);\n",
              "    }\n",
              "    80% {\n",
              "      border-color: transparent;\n",
              "      border-right-color: var(--fill-color);\n",
              "      border-bottom-color: var(--fill-color);\n",
              "    }\n",
              "    90% {\n",
              "      border-color: transparent;\n",
              "      border-bottom-color: var(--fill-color);\n",
              "    }\n",
              "  }\n",
              "</style>\n",
              "\n",
              "  <script>\n",
              "    async function quickchart(key) {\n",
              "      const quickchartButtonEl =\n",
              "        document.querySelector('#' + key + ' button');\n",
              "      quickchartButtonEl.disabled = true;  // To prevent multiple clicks.\n",
              "      quickchartButtonEl.classList.add('colab-df-spinner');\n",
              "      try {\n",
              "        const charts = await google.colab.kernel.invokeFunction(\n",
              "            'suggestCharts', [key], {});\n",
              "      } catch (error) {\n",
              "        console.error('Error during call to suggestCharts:', error);\n",
              "      }\n",
              "      quickchartButtonEl.classList.remove('colab-df-spinner');\n",
              "      quickchartButtonEl.classList.add('colab-df-quickchart-complete');\n",
              "    }\n",
              "    (() => {\n",
              "      let quickchartButtonEl =\n",
              "        document.querySelector('#df-c8b4af07-b289-431f-ae66-4cb0ca006396 button');\n",
              "      quickchartButtonEl.style.display =\n",
              "        google.colab.kernel.accessAllowed ? 'block' : 'none';\n",
              "    })();\n",
              "  </script>\n",
              "</div>\n",
              "    </div>\n",
              "  </div>\n"
            ]
          },
          "metadata": {},
          "execution_count": 16
        }
      ]
    },
    {
      "cell_type": "code",
      "source": [
        "df_despesa_coletiva['V9004'] = df_despesa_coletiva['V9004'].str.zfill(5)"
      ],
      "metadata": {
        "id": "rnIEgOsSFQ8Q"
      },
      "execution_count": null,
      "outputs": []
    },
    {
      "cell_type": "markdown",
      "source": [
        "##Conferir Unicidade da Chave Identificadora"
      ],
      "metadata": {
        "id": "LFmWw-xjvVYQ"
      }
    },
    {
      "cell_type": "code",
      "source": [
        "df_despesa_coletiva_id = df_despesa_coletiva.drop_duplicates(subset=['COD_UPA','NUM_DOM','V9004','V9001','SEQ','NUM_UC'], keep='first')"
      ],
      "metadata": {
        "id": "RxBYXghKvVYQ"
      },
      "execution_count": null,
      "outputs": []
    },
    {
      "cell_type": "code",
      "source": [
        "df_despesa_coletiva_id.shape[0]"
      ],
      "metadata": {
        "colab": {
          "base_uri": "https://localhost:8080/"
        },
        "outputId": "c005ace7-603f-4899-ea47-1be864bb3a39",
        "id": "2rIr6v7AvVYQ"
      },
      "execution_count": null,
      "outputs": [
        {
          "output_type": "execute_result",
          "data": {
            "text/plain": [
              "478572"
            ]
          },
          "metadata": {},
          "execution_count": 180
        }
      ]
    },
    {
      "cell_type": "markdown",
      "source": [
        "## Aplicar Regras Normais"
      ],
      "metadata": {
        "id": "_Ln6JXOF0jC4"
      }
    },
    {
      "cell_type": "code",
      "source": [
        "df_despesa_coletiva = df_despesa_coletiva.drop(['UF','ESTRATO_POF','TIPO_SITUACAO_REG','PESO','PESO_FINAL','RENDA_TOTAL'], axis=1)"
      ],
      "metadata": {
        "id": "Wm4f-Q8i0jC-"
      },
      "execution_count": null,
      "outputs": []
    },
    {
      "cell_type": "markdown",
      "source": [
        "## Baixar Arquivo como CSV"
      ],
      "metadata": {
        "id": "meTOM719vVYQ"
      }
    },
    {
      "cell_type": "code",
      "source": [
        "df_despesa_coletiva.to_csv('DESPESA_COLETIVA.csv', index=False)"
      ],
      "metadata": {
        "id": "h_7CxJTcvVYQ"
      },
      "execution_count": null,
      "outputs": []
    },
    {
      "cell_type": "markdown",
      "source": [
        "# Tratamento do arquivo \"Serviços Não Monetários - POF 2\""
      ],
      "metadata": {
        "id": "U3b8fWBK5j1E"
      }
    },
    {
      "cell_type": "markdown",
      "source": [
        "##Abrindo e Analisando o Arquivo"
      ],
      "metadata": {
        "id": "ErNRNxx45j1K"
      }
    },
    {
      "cell_type": "code",
      "source": [
        "serv_nao_mon_pof_2 = '/content/drive/MyDrive/POF (2017 2018)/SERVICO_NAO_MONETARIO_POF2.txt'\n",
        "\n",
        "with open(serv_nao_mon_pof_2, 'r') as arquivo:\n",
        "    conteudo = arquivo.readlines()\n",
        "\n",
        "# Imprimir 5 primeiras Linhas\n",
        "print(\"5 primeiras Linhas: \\n\")\n",
        "for conteudo in conteudo[:5]:\n",
        "    print(conteudo, end='')\n"
      ],
      "metadata": {
        "colab": {
          "base_uri": "https://localhost:8080/"
        },
        "outputId": "9a28d416-f84d-4e40-ed7f-edae6ce13bc3",
        "id": "Llk-wrfd5j1L"
      },
      "execution_count": null,
      "outputs": [
        {
          "output_type": "stream",
          "name": "stdout",
          "text": [
            "5 primeiras Linhas: \n",
            "\n",
            "1111051110000620 41 823 802401 7    300.00               0.9967280592    299.02          0 4  707.69230769  967.56532132    852.91 7502\n",
            "1111051110000620 4110 01000101 7    200.00 412           0.9938702537    198.77          0 1  707.69230769  967.56532132    852.91     \n",
            "1111051110000620 4113 11300201 79999999.99               1.0088271199    100.21          1 1  707.69230769  967.56532132    852.91     \n",
            "1111051110000620 7112 31200401 79999999.99               1.0254186857     65.36          1 1  707.69230769  967.56532132   2721.33     \n",
            "1111051110000620101 6 0 600101 7   1180.00               0.8895591089    161.57          112  707.69230769  967.56532132    515.55     \n"
          ]
        }
      ]
    },
    {
      "cell_type": "code",
      "source": [
        "with open(serv_nao_mon_pof_2, 'r') as arquivo:\n",
        "    conteudo = arquivo.readlines()\n",
        "\n",
        "# descobrir quantas Linhas tem o arquivo\n",
        "cont = 0\n",
        "for linha in conteudo:\n",
        "    cont += 1\n",
        "\n",
        "# descobrir quantos caracteres tem a primeira Linha\n",
        "cont_char = 0\n",
        "for i, linha in enumerate(conteudo[:1], start=1):\n",
        "    num_caracteres = len(linha)\n",
        "\n",
        "# descobrir se o restante das linhas tem a mesma qtd de caracteres da primeira linha\n",
        "primeira_linha = conteudo[0]\n",
        "todas_as_linhas_iguais = all(len(linha) == len(primeira_linha) for linha in conteudo)\n",
        "\n",
        "print(\"Total de linhas: \", cont)\n",
        "print(\"Total de caracteres da primeira linha: \", num_caracteres)\n",
        "print(\"Todas as Linhas tem o mesmo comprimento da primeira? \", todas_as_linhas_iguais)"
      ],
      "metadata": {
        "colab": {
          "base_uri": "https://localhost:8080/"
        },
        "outputId": "08cb2abd-26bd-43fe-ad33-4360f9eba4cb",
        "id": "7YFnzx535j1L"
      },
      "execution_count": null,
      "outputs": [
        {
          "output_type": "stream",
          "name": "stdout",
          "text": [
            "Total de linhas:  14711\n",
            "Total de caracteres da primeira linha:  136\n",
            "Todas as Linhas tem o mesmo comprimento da primeira?  True\n"
          ]
        }
      ]
    },
    {
      "cell_type": "markdown",
      "source": [
        "##Adicionar o Separador"
      ],
      "metadata": {
        "id": "KC_YFSHi5j1L"
      }
    },
    {
      "cell_type": "code",
      "source": [
        "with open(serv_nao_mon_pof_2, 'r') as arquivo_orig:\n",
        "    with open('novo_servicos_nao_monetario_2.csv', 'w') as arquivo_novo:\n",
        "        for linha in arquivo_orig:\n",
        "            nova_linha = (\n",
        "                linha[:2] + ';' + # variável 1\n",
        "                linha[2:6] + ';' + # variável 2\n",
        "                linha[6:7] + ';' + # variável 3\n",
        "                linha[7:16] + ';' + # variável 4\n",
        "                linha[16:18] + ';' + # variável 5\n",
        "                linha[18:19] + ';' + # variável 6\n",
        "                linha[19:21] + ';' + # variável 7\n",
        "                linha[21:23] + ';' + # variável 8\n",
        "                linha[23:30] + ';' + # variável 9\n",
        "                linha[30:32] + ';' + # variável 10\n",
        "                linha[32:42] + ';' + # variável 11\n",
        "                linha[42:44] + ';' + # variável 12\n",
        "                linha[44:46] + ';' + # variável 13\n",
        "                linha[46:56] + ';' + # variável 14\n",
        "                linha[56:57] + ';' + # variável 15\n",
        "                linha[57:69] + ';' + # variável 16\n",
        "                linha[69:79] + ';' + # variável 17\n",
        "                linha[79:89] + ';' + # variável 18\n",
        "                linha[89:90] + ';' + # variável 19\n",
        "                linha[90:92] + ';' + # variável 20\n",
        "                linha[92:106] + ';' + # variável 21\n",
        "                linha[106:120] + ';' + # variável 22\n",
        "                linha[120:130] + ';' + # variável 23\n",
        "                linha[130:] # variável 24\n",
        "            )\n",
        "            nova_linha = nova_linha.replace(' ', '')\n",
        "            arquivo_novo.write(nova_linha)\n",
        "\n",
        "\n"
      ],
      "metadata": {
        "id": "rgwDxjuE5j1L"
      },
      "execution_count": null,
      "outputs": []
    },
    {
      "cell_type": "markdown",
      "source": [
        "Conferir Processo"
      ],
      "metadata": {
        "id": "Vfy08wj65j1L"
      }
    },
    {
      "cell_type": "code",
      "source": [
        "novo_servicos_nao_monetario_2 = \"/content/novo_servicos_nao_monetario_2.csv\"\n",
        "\n",
        "with open(novo_servicos_nao_monetario_2, 'r') as arquivo_novo:\n",
        "  novo_dom = arquivo_novo.readlines()\n",
        "\n",
        "# imprimir primeira linha\n",
        "for lin in novo_dom[:1]:\n",
        "  print(lin, end=\"\")"
      ],
      "metadata": {
        "colab": {
          "base_uri": "https://localhost:8080/"
        },
        "outputId": "bcb5e9d7-d263-42a4-a5a5-366b9d6829dc",
        "id": "jbN-0cMW5j1L"
      },
      "execution_count": null,
      "outputs": [
        {
          "output_type": "stream",
          "name": "stdout",
          "text": [
            "11;1105;1;110000620;4;1;8;23;802401;7;300.00;;;;;0.9967280592;299.02;;0;4;707.69230769;967.56532132;852.91;7502\n"
          ]
        }
      ]
    },
    {
      "cell_type": "markdown",
      "source": [
        "Conferir Estado do Novo Arquivo"
      ],
      "metadata": {
        "id": "rfpf98d65j1L"
      }
    },
    {
      "cell_type": "code",
      "source": [
        "with open(novo_servicos_nao_monetario_2, 'r') as arquivo:\n",
        "    conteudo = arquivo.readlines()\n",
        "\n",
        "# Conferir Numero de Linhas\n",
        "cont = 0\n",
        "for linha in conteudo:\n",
        "    cont += 1\n",
        "\n",
        "# Conferir Total de Caracteres\n",
        "cont_char = 0\n",
        "for i, linha in enumerate(conteudo[:1], start=1):\n",
        "    num_caracteres = len(linha)\n",
        "\n",
        "# Conferir se as Linhas Ainda tem o Mesmo Numero de Caracteres\n",
        "primeira_linha = conteudo[0]\n",
        "todas_as_linhas_iguais = all(len(linha) == len(primeira_linha) for linha in conteudo)\n",
        "\n",
        "print(\"Total de linhas: \", cont)\n",
        "print(\"Total de caracteres da primeira linha: \", num_caracteres)\n",
        "print(\"Todas as Linhas tem o mesmo comprimento da primeira? \", todas_as_linhas_iguais)"
      ],
      "metadata": {
        "colab": {
          "base_uri": "https://localhost:8080/"
        },
        "outputId": "2e2a9a02-7de9-485b-fba8-3cbddab51bd5",
        "id": "KkneSLyO5j1L"
      },
      "execution_count": null,
      "outputs": [
        {
          "output_type": "stream",
          "name": "stdout",
          "text": [
            "Total de linhas:  14711\n",
            "Total de caracteres da primeira linha:  112\n",
            "Todas as Linhas tem o mesmo comprimento da primeira?  False\n"
          ]
        }
      ]
    },
    {
      "cell_type": "markdown",
      "source": [
        "## Abrir arquivo como DataFrame, para melhor análise"
      ],
      "metadata": {
        "id": "SYMgZy5c5j1M"
      }
    },
    {
      "cell_type": "code",
      "source": [
        "colunas_novo_servicos_nao_monetario_2 = [\n",
        "    \"UF\", \"ESTRATO_POF\", \"TIPO_SITUACAO_REG\", \"COD_UPA\", \"NUM_DOM\", \"NUM_UC\",\n",
        "    \"QUADRO\", \"SEQ\", \"V9001\", \"V9002\", \"V8000\", \"V9010\", \"V9011\", \"V1904\",\n",
        "    \"V1905\", \"DEFLATOR\", \"V8000_DEFLA\", \"V1904_DEFLA\", \"COD_IMPUT_VALOR\",\n",
        "    \"FATOR_ANUALIZACAO\", \"PESO\", \"PESO_FINAL\", \"RENDA_TOTAL\", \"V9004\"\n",
        "]\n"
      ],
      "metadata": {
        "id": "20izAWpp5j1M"
      },
      "execution_count": null,
      "outputs": []
    },
    {
      "cell_type": "code",
      "source": [
        "df_colunas_novo_servicos_nao_monetario_2 = pd.read_csv(novo_servicos_nao_monetario_2, sep=';', names = colunas_novo_servicos_nao_monetario_2, dtype='object')"
      ],
      "metadata": {
        "id": "2HbhDMyu5j1M"
      },
      "execution_count": null,
      "outputs": []
    },
    {
      "cell_type": "code",
      "source": [
        "df_colunas_novo_servicos_nao_monetario_2.head(1).T"
      ],
      "metadata": {
        "colab": {
          "base_uri": "https://localhost:8080/"
        },
        "outputId": "a9b16070-d130-4bde-8dab-2849171f23db",
        "id": "rrgSejVd5j1M"
      },
      "execution_count": null,
      "outputs": [
        {
          "output_type": "execute_result",
          "data": {
            "text/plain": [
              "                              0\n",
              "UF                           11\n",
              "ESTRATO_POF                1105\n",
              "TIPO_SITUACAO_REG             1\n",
              "COD_UPA               110000620\n",
              "NUM_DOM                       4\n",
              "NUM_UC                        1\n",
              "QUADRO                        8\n",
              "SEQ                          23\n",
              "V9001                    802401\n",
              "V9002                         7\n",
              "V8000                    300.00\n",
              "V9010                       NaN\n",
              "V9011                       NaN\n",
              "V1904                       NaN\n",
              "V1905                       NaN\n",
              "DEFLATOR           0.9967280592\n",
              "V8000_DEFLA              299.02\n",
              "V1904_DEFLA                 NaN\n",
              "COD_IMPUT_VALOR               0\n",
              "FATOR_ANUALIZACAO             4\n",
              "PESO               707.69230769\n",
              "PESO_FINAL         967.56532132\n",
              "RENDA_TOTAL              852.91\n",
              "V9004                      7502"
            ],
            "text/html": [
              "\n",
              "  <div id=\"df-0922200b-0b0e-4bce-b087-bb5e2c4b1874\" class=\"colab-df-container\">\n",
              "    <div>\n",
              "<style scoped>\n",
              "    .dataframe tbody tr th:only-of-type {\n",
              "        vertical-align: middle;\n",
              "    }\n",
              "\n",
              "    .dataframe tbody tr th {\n",
              "        vertical-align: top;\n",
              "    }\n",
              "\n",
              "    .dataframe thead th {\n",
              "        text-align: right;\n",
              "    }\n",
              "</style>\n",
              "<table border=\"1\" class=\"dataframe\">\n",
              "  <thead>\n",
              "    <tr style=\"text-align: right;\">\n",
              "      <th></th>\n",
              "      <th>0</th>\n",
              "    </tr>\n",
              "  </thead>\n",
              "  <tbody>\n",
              "    <tr>\n",
              "      <th>UF</th>\n",
              "      <td>11</td>\n",
              "    </tr>\n",
              "    <tr>\n",
              "      <th>ESTRATO_POF</th>\n",
              "      <td>1105</td>\n",
              "    </tr>\n",
              "    <tr>\n",
              "      <th>TIPO_SITUACAO_REG</th>\n",
              "      <td>1</td>\n",
              "    </tr>\n",
              "    <tr>\n",
              "      <th>COD_UPA</th>\n",
              "      <td>110000620</td>\n",
              "    </tr>\n",
              "    <tr>\n",
              "      <th>NUM_DOM</th>\n",
              "      <td>4</td>\n",
              "    </tr>\n",
              "    <tr>\n",
              "      <th>NUM_UC</th>\n",
              "      <td>1</td>\n",
              "    </tr>\n",
              "    <tr>\n",
              "      <th>QUADRO</th>\n",
              "      <td>8</td>\n",
              "    </tr>\n",
              "    <tr>\n",
              "      <th>SEQ</th>\n",
              "      <td>23</td>\n",
              "    </tr>\n",
              "    <tr>\n",
              "      <th>V9001</th>\n",
              "      <td>802401</td>\n",
              "    </tr>\n",
              "    <tr>\n",
              "      <th>V9002</th>\n",
              "      <td>7</td>\n",
              "    </tr>\n",
              "    <tr>\n",
              "      <th>V8000</th>\n",
              "      <td>300.00</td>\n",
              "    </tr>\n",
              "    <tr>\n",
              "      <th>V9010</th>\n",
              "      <td>NaN</td>\n",
              "    </tr>\n",
              "    <tr>\n",
              "      <th>V9011</th>\n",
              "      <td>NaN</td>\n",
              "    </tr>\n",
              "    <tr>\n",
              "      <th>V1904</th>\n",
              "      <td>NaN</td>\n",
              "    </tr>\n",
              "    <tr>\n",
              "      <th>V1905</th>\n",
              "      <td>NaN</td>\n",
              "    </tr>\n",
              "    <tr>\n",
              "      <th>DEFLATOR</th>\n",
              "      <td>0.9967280592</td>\n",
              "    </tr>\n",
              "    <tr>\n",
              "      <th>V8000_DEFLA</th>\n",
              "      <td>299.02</td>\n",
              "    </tr>\n",
              "    <tr>\n",
              "      <th>V1904_DEFLA</th>\n",
              "      <td>NaN</td>\n",
              "    </tr>\n",
              "    <tr>\n",
              "      <th>COD_IMPUT_VALOR</th>\n",
              "      <td>0</td>\n",
              "    </tr>\n",
              "    <tr>\n",
              "      <th>FATOR_ANUALIZACAO</th>\n",
              "      <td>4</td>\n",
              "    </tr>\n",
              "    <tr>\n",
              "      <th>PESO</th>\n",
              "      <td>707.69230769</td>\n",
              "    </tr>\n",
              "    <tr>\n",
              "      <th>PESO_FINAL</th>\n",
              "      <td>967.56532132</td>\n",
              "    </tr>\n",
              "    <tr>\n",
              "      <th>RENDA_TOTAL</th>\n",
              "      <td>852.91</td>\n",
              "    </tr>\n",
              "    <tr>\n",
              "      <th>V9004</th>\n",
              "      <td>7502</td>\n",
              "    </tr>\n",
              "  </tbody>\n",
              "</table>\n",
              "</div>\n",
              "    <div class=\"colab-df-buttons\">\n",
              "\n",
              "  <div class=\"colab-df-container\">\n",
              "    <button class=\"colab-df-convert\" onclick=\"convertToInteractive('df-0922200b-0b0e-4bce-b087-bb5e2c4b1874')\"\n",
              "            title=\"Convert this dataframe to an interactive table.\"\n",
              "            style=\"display:none;\">\n",
              "\n",
              "  <svg xmlns=\"http://www.w3.org/2000/svg\" height=\"24px\" viewBox=\"0 -960 960 960\">\n",
              "    <path d=\"M120-120v-720h720v720H120Zm60-500h600v-160H180v160Zm220 220h160v-160H400v160Zm0 220h160v-160H400v160ZM180-400h160v-160H180v160Zm440 0h160v-160H620v160ZM180-180h160v-160H180v160Zm440 0h160v-160H620v160Z\"/>\n",
              "  </svg>\n",
              "    </button>\n",
              "\n",
              "  <style>\n",
              "    .colab-df-container {\n",
              "      display:flex;\n",
              "      gap: 12px;\n",
              "    }\n",
              "\n",
              "    .colab-df-convert {\n",
              "      background-color: #E8F0FE;\n",
              "      border: none;\n",
              "      border-radius: 50%;\n",
              "      cursor: pointer;\n",
              "      display: none;\n",
              "      fill: #1967D2;\n",
              "      height: 32px;\n",
              "      padding: 0 0 0 0;\n",
              "      width: 32px;\n",
              "    }\n",
              "\n",
              "    .colab-df-convert:hover {\n",
              "      background-color: #E2EBFA;\n",
              "      box-shadow: 0px 1px 2px rgba(60, 64, 67, 0.3), 0px 1px 3px 1px rgba(60, 64, 67, 0.15);\n",
              "      fill: #174EA6;\n",
              "    }\n",
              "\n",
              "    .colab-df-buttons div {\n",
              "      margin-bottom: 4px;\n",
              "    }\n",
              "\n",
              "    [theme=dark] .colab-df-convert {\n",
              "      background-color: #3B4455;\n",
              "      fill: #D2E3FC;\n",
              "    }\n",
              "\n",
              "    [theme=dark] .colab-df-convert:hover {\n",
              "      background-color: #434B5C;\n",
              "      box-shadow: 0px 1px 3px 1px rgba(0, 0, 0, 0.15);\n",
              "      filter: drop-shadow(0px 1px 2px rgba(0, 0, 0, 0.3));\n",
              "      fill: #FFFFFF;\n",
              "    }\n",
              "  </style>\n",
              "\n",
              "    <script>\n",
              "      const buttonEl =\n",
              "        document.querySelector('#df-0922200b-0b0e-4bce-b087-bb5e2c4b1874 button.colab-df-convert');\n",
              "      buttonEl.style.display =\n",
              "        google.colab.kernel.accessAllowed ? 'block' : 'none';\n",
              "\n",
              "      async function convertToInteractive(key) {\n",
              "        const element = document.querySelector('#df-0922200b-0b0e-4bce-b087-bb5e2c4b1874');\n",
              "        const dataTable =\n",
              "          await google.colab.kernel.invokeFunction('convertToInteractive',\n",
              "                                                    [key], {});\n",
              "        if (!dataTable) return;\n",
              "\n",
              "        const docLinkHtml = 'Like what you see? Visit the ' +\n",
              "          '<a target=\"_blank\" href=https://colab.research.google.com/notebooks/data_table.ipynb>data table notebook</a>'\n",
              "          + ' to learn more about interactive tables.';\n",
              "        element.innerHTML = '';\n",
              "        dataTable['output_type'] = 'display_data';\n",
              "        await google.colab.output.renderOutput(dataTable, element);\n",
              "        const docLink = document.createElement('div');\n",
              "        docLink.innerHTML = docLinkHtml;\n",
              "        element.appendChild(docLink);\n",
              "      }\n",
              "    </script>\n",
              "  </div>\n",
              "\n",
              "\n",
              "<div id=\"df-ee0799a6-1262-4a90-9b56-b31d64304216\">\n",
              "  <button class=\"colab-df-quickchart\" onclick=\"quickchart('df-ee0799a6-1262-4a90-9b56-b31d64304216')\"\n",
              "            title=\"Suggest charts.\"\n",
              "            style=\"display:none;\">\n",
              "\n",
              "<svg xmlns=\"http://www.w3.org/2000/svg\" height=\"24px\"viewBox=\"0 0 24 24\"\n",
              "     width=\"24px\">\n",
              "    <g>\n",
              "        <path d=\"M19 3H5c-1.1 0-2 .9-2 2v14c0 1.1.9 2 2 2h14c1.1 0 2-.9 2-2V5c0-1.1-.9-2-2-2zM9 17H7v-7h2v7zm4 0h-2V7h2v10zm4 0h-2v-4h2v4z\"/>\n",
              "    </g>\n",
              "</svg>\n",
              "  </button>\n",
              "\n",
              "<style>\n",
              "  .colab-df-quickchart {\n",
              "      --bg-color: #E8F0FE;\n",
              "      --fill-color: #1967D2;\n",
              "      --hover-bg-color: #E2EBFA;\n",
              "      --hover-fill-color: #174EA6;\n",
              "      --disabled-fill-color: #AAA;\n",
              "      --disabled-bg-color: #DDD;\n",
              "  }\n",
              "\n",
              "  [theme=dark] .colab-df-quickchart {\n",
              "      --bg-color: #3B4455;\n",
              "      --fill-color: #D2E3FC;\n",
              "      --hover-bg-color: #434B5C;\n",
              "      --hover-fill-color: #FFFFFF;\n",
              "      --disabled-bg-color: #3B4455;\n",
              "      --disabled-fill-color: #666;\n",
              "  }\n",
              "\n",
              "  .colab-df-quickchart {\n",
              "    background-color: var(--bg-color);\n",
              "    border: none;\n",
              "    border-radius: 50%;\n",
              "    cursor: pointer;\n",
              "    display: none;\n",
              "    fill: var(--fill-color);\n",
              "    height: 32px;\n",
              "    padding: 0;\n",
              "    width: 32px;\n",
              "  }\n",
              "\n",
              "  .colab-df-quickchart:hover {\n",
              "    background-color: var(--hover-bg-color);\n",
              "    box-shadow: 0 1px 2px rgba(60, 64, 67, 0.3), 0 1px 3px 1px rgba(60, 64, 67, 0.15);\n",
              "    fill: var(--button-hover-fill-color);\n",
              "  }\n",
              "\n",
              "  .colab-df-quickchart-complete:disabled,\n",
              "  .colab-df-quickchart-complete:disabled:hover {\n",
              "    background-color: var(--disabled-bg-color);\n",
              "    fill: var(--disabled-fill-color);\n",
              "    box-shadow: none;\n",
              "  }\n",
              "\n",
              "  .colab-df-spinner {\n",
              "    border: 2px solid var(--fill-color);\n",
              "    border-color: transparent;\n",
              "    border-bottom-color: var(--fill-color);\n",
              "    animation:\n",
              "      spin 1s steps(1) infinite;\n",
              "  }\n",
              "\n",
              "  @keyframes spin {\n",
              "    0% {\n",
              "      border-color: transparent;\n",
              "      border-bottom-color: var(--fill-color);\n",
              "      border-left-color: var(--fill-color);\n",
              "    }\n",
              "    20% {\n",
              "      border-color: transparent;\n",
              "      border-left-color: var(--fill-color);\n",
              "      border-top-color: var(--fill-color);\n",
              "    }\n",
              "    30% {\n",
              "      border-color: transparent;\n",
              "      border-left-color: var(--fill-color);\n",
              "      border-top-color: var(--fill-color);\n",
              "      border-right-color: var(--fill-color);\n",
              "    }\n",
              "    40% {\n",
              "      border-color: transparent;\n",
              "      border-right-color: var(--fill-color);\n",
              "      border-top-color: var(--fill-color);\n",
              "    }\n",
              "    60% {\n",
              "      border-color: transparent;\n",
              "      border-right-color: var(--fill-color);\n",
              "    }\n",
              "    80% {\n",
              "      border-color: transparent;\n",
              "      border-right-color: var(--fill-color);\n",
              "      border-bottom-color: var(--fill-color);\n",
              "    }\n",
              "    90% {\n",
              "      border-color: transparent;\n",
              "      border-bottom-color: var(--fill-color);\n",
              "    }\n",
              "  }\n",
              "</style>\n",
              "\n",
              "  <script>\n",
              "    async function quickchart(key) {\n",
              "      const quickchartButtonEl =\n",
              "        document.querySelector('#' + key + ' button');\n",
              "      quickchartButtonEl.disabled = true;  // To prevent multiple clicks.\n",
              "      quickchartButtonEl.classList.add('colab-df-spinner');\n",
              "      try {\n",
              "        const charts = await google.colab.kernel.invokeFunction(\n",
              "            'suggestCharts', [key], {});\n",
              "      } catch (error) {\n",
              "        console.error('Error during call to suggestCharts:', error);\n",
              "      }\n",
              "      quickchartButtonEl.classList.remove('colab-df-spinner');\n",
              "      quickchartButtonEl.classList.add('colab-df-quickchart-complete');\n",
              "    }\n",
              "    (() => {\n",
              "      let quickchartButtonEl =\n",
              "        document.querySelector('#df-ee0799a6-1262-4a90-9b56-b31d64304216 button');\n",
              "      quickchartButtonEl.style.display =\n",
              "        google.colab.kernel.accessAllowed ? 'block' : 'none';\n",
              "    })();\n",
              "  </script>\n",
              "</div>\n",
              "    </div>\n",
              "  </div>\n"
            ]
          },
          "metadata": {},
          "execution_count": 12
        }
      ]
    },
    {
      "cell_type": "code",
      "source": [
        "df_colunas_novo_servicos_nao_monetario_2['V9001'] = df_colunas_novo_servicos_nao_monetario_2['V9001'].str.zfill(6)"
      ],
      "metadata": {
        "id": "Rbdo1OHddCtk"
      },
      "execution_count": null,
      "outputs": []
    },
    {
      "cell_type": "code",
      "source": [
        "df_colunas_novo_servicos_nao_monetario_2['V9004'] = df_colunas_novo_servicos_nao_monetario_2['V9004'].str.zfill(5)"
      ],
      "metadata": {
        "id": "jNeiFj5HdcKZ"
      },
      "execution_count": null,
      "outputs": []
    },
    {
      "cell_type": "code",
      "source": [
        "df_colunas_novo_servicos_nao_monetario_2.head(1).T"
      ],
      "metadata": {
        "colab": {
          "base_uri": "https://localhost:8080/"
        },
        "id": "0XyR2DDsdYlq",
        "outputId": "a794bfb2-d989-47ff-a6ec-328de3eaff4d"
      },
      "execution_count": null,
      "outputs": [
        {
          "output_type": "execute_result",
          "data": {
            "text/plain": [
              "                              0\n",
              "UF                           11\n",
              "ESTRATO_POF                1105\n",
              "TIPO_SITUACAO_REG             1\n",
              "COD_UPA               110000620\n",
              "NUM_DOM                       4\n",
              "NUM_UC                        1\n",
              "QUADRO                        8\n",
              "SEQ                          23\n",
              "V9001                    802401\n",
              "V9002                         7\n",
              "V8000                    300.00\n",
              "V9010                       NaN\n",
              "V9011                       NaN\n",
              "V1904                       NaN\n",
              "V1905                       NaN\n",
              "DEFLATOR           0.9967280592\n",
              "V8000_DEFLA              299.02\n",
              "V1904_DEFLA                 NaN\n",
              "COD_IMPUT_VALOR               0\n",
              "FATOR_ANUALIZACAO             4\n",
              "PESO               707.69230769\n",
              "PESO_FINAL         967.56532132\n",
              "RENDA_TOTAL              852.91\n",
              "V9004                     07502"
            ],
            "text/html": [
              "\n",
              "  <div id=\"df-5d24569e-c813-497c-bb54-38c80f38c97d\" class=\"colab-df-container\">\n",
              "    <div>\n",
              "<style scoped>\n",
              "    .dataframe tbody tr th:only-of-type {\n",
              "        vertical-align: middle;\n",
              "    }\n",
              "\n",
              "    .dataframe tbody tr th {\n",
              "        vertical-align: top;\n",
              "    }\n",
              "\n",
              "    .dataframe thead th {\n",
              "        text-align: right;\n",
              "    }\n",
              "</style>\n",
              "<table border=\"1\" class=\"dataframe\">\n",
              "  <thead>\n",
              "    <tr style=\"text-align: right;\">\n",
              "      <th></th>\n",
              "      <th>0</th>\n",
              "    </tr>\n",
              "  </thead>\n",
              "  <tbody>\n",
              "    <tr>\n",
              "      <th>UF</th>\n",
              "      <td>11</td>\n",
              "    </tr>\n",
              "    <tr>\n",
              "      <th>ESTRATO_POF</th>\n",
              "      <td>1105</td>\n",
              "    </tr>\n",
              "    <tr>\n",
              "      <th>TIPO_SITUACAO_REG</th>\n",
              "      <td>1</td>\n",
              "    </tr>\n",
              "    <tr>\n",
              "      <th>COD_UPA</th>\n",
              "      <td>110000620</td>\n",
              "    </tr>\n",
              "    <tr>\n",
              "      <th>NUM_DOM</th>\n",
              "      <td>4</td>\n",
              "    </tr>\n",
              "    <tr>\n",
              "      <th>NUM_UC</th>\n",
              "      <td>1</td>\n",
              "    </tr>\n",
              "    <tr>\n",
              "      <th>QUADRO</th>\n",
              "      <td>8</td>\n",
              "    </tr>\n",
              "    <tr>\n",
              "      <th>SEQ</th>\n",
              "      <td>23</td>\n",
              "    </tr>\n",
              "    <tr>\n",
              "      <th>V9001</th>\n",
              "      <td>802401</td>\n",
              "    </tr>\n",
              "    <tr>\n",
              "      <th>V9002</th>\n",
              "      <td>7</td>\n",
              "    </tr>\n",
              "    <tr>\n",
              "      <th>V8000</th>\n",
              "      <td>300.00</td>\n",
              "    </tr>\n",
              "    <tr>\n",
              "      <th>V9010</th>\n",
              "      <td>NaN</td>\n",
              "    </tr>\n",
              "    <tr>\n",
              "      <th>V9011</th>\n",
              "      <td>NaN</td>\n",
              "    </tr>\n",
              "    <tr>\n",
              "      <th>V1904</th>\n",
              "      <td>NaN</td>\n",
              "    </tr>\n",
              "    <tr>\n",
              "      <th>V1905</th>\n",
              "      <td>NaN</td>\n",
              "    </tr>\n",
              "    <tr>\n",
              "      <th>DEFLATOR</th>\n",
              "      <td>0.9967280592</td>\n",
              "    </tr>\n",
              "    <tr>\n",
              "      <th>V8000_DEFLA</th>\n",
              "      <td>299.02</td>\n",
              "    </tr>\n",
              "    <tr>\n",
              "      <th>V1904_DEFLA</th>\n",
              "      <td>NaN</td>\n",
              "    </tr>\n",
              "    <tr>\n",
              "      <th>COD_IMPUT_VALOR</th>\n",
              "      <td>0</td>\n",
              "    </tr>\n",
              "    <tr>\n",
              "      <th>FATOR_ANUALIZACAO</th>\n",
              "      <td>4</td>\n",
              "    </tr>\n",
              "    <tr>\n",
              "      <th>PESO</th>\n",
              "      <td>707.69230769</td>\n",
              "    </tr>\n",
              "    <tr>\n",
              "      <th>PESO_FINAL</th>\n",
              "      <td>967.56532132</td>\n",
              "    </tr>\n",
              "    <tr>\n",
              "      <th>RENDA_TOTAL</th>\n",
              "      <td>852.91</td>\n",
              "    </tr>\n",
              "    <tr>\n",
              "      <th>V9004</th>\n",
              "      <td>07502</td>\n",
              "    </tr>\n",
              "  </tbody>\n",
              "</table>\n",
              "</div>\n",
              "    <div class=\"colab-df-buttons\">\n",
              "\n",
              "  <div class=\"colab-df-container\">\n",
              "    <button class=\"colab-df-convert\" onclick=\"convertToInteractive('df-5d24569e-c813-497c-bb54-38c80f38c97d')\"\n",
              "            title=\"Convert this dataframe to an interactive table.\"\n",
              "            style=\"display:none;\">\n",
              "\n",
              "  <svg xmlns=\"http://www.w3.org/2000/svg\" height=\"24px\" viewBox=\"0 -960 960 960\">\n",
              "    <path d=\"M120-120v-720h720v720H120Zm60-500h600v-160H180v160Zm220 220h160v-160H400v160Zm0 220h160v-160H400v160ZM180-400h160v-160H180v160Zm440 0h160v-160H620v160ZM180-180h160v-160H180v160Zm440 0h160v-160H620v160Z\"/>\n",
              "  </svg>\n",
              "    </button>\n",
              "\n",
              "  <style>\n",
              "    .colab-df-container {\n",
              "      display:flex;\n",
              "      gap: 12px;\n",
              "    }\n",
              "\n",
              "    .colab-df-convert {\n",
              "      background-color: #E8F0FE;\n",
              "      border: none;\n",
              "      border-radius: 50%;\n",
              "      cursor: pointer;\n",
              "      display: none;\n",
              "      fill: #1967D2;\n",
              "      height: 32px;\n",
              "      padding: 0 0 0 0;\n",
              "      width: 32px;\n",
              "    }\n",
              "\n",
              "    .colab-df-convert:hover {\n",
              "      background-color: #E2EBFA;\n",
              "      box-shadow: 0px 1px 2px rgba(60, 64, 67, 0.3), 0px 1px 3px 1px rgba(60, 64, 67, 0.15);\n",
              "      fill: #174EA6;\n",
              "    }\n",
              "\n",
              "    .colab-df-buttons div {\n",
              "      margin-bottom: 4px;\n",
              "    }\n",
              "\n",
              "    [theme=dark] .colab-df-convert {\n",
              "      background-color: #3B4455;\n",
              "      fill: #D2E3FC;\n",
              "    }\n",
              "\n",
              "    [theme=dark] .colab-df-convert:hover {\n",
              "      background-color: #434B5C;\n",
              "      box-shadow: 0px 1px 3px 1px rgba(0, 0, 0, 0.15);\n",
              "      filter: drop-shadow(0px 1px 2px rgba(0, 0, 0, 0.3));\n",
              "      fill: #FFFFFF;\n",
              "    }\n",
              "  </style>\n",
              "\n",
              "    <script>\n",
              "      const buttonEl =\n",
              "        document.querySelector('#df-5d24569e-c813-497c-bb54-38c80f38c97d button.colab-df-convert');\n",
              "      buttonEl.style.display =\n",
              "        google.colab.kernel.accessAllowed ? 'block' : 'none';\n",
              "\n",
              "      async function convertToInteractive(key) {\n",
              "        const element = document.querySelector('#df-5d24569e-c813-497c-bb54-38c80f38c97d');\n",
              "        const dataTable =\n",
              "          await google.colab.kernel.invokeFunction('convertToInteractive',\n",
              "                                                    [key], {});\n",
              "        if (!dataTable) return;\n",
              "\n",
              "        const docLinkHtml = 'Like what you see? Visit the ' +\n",
              "          '<a target=\"_blank\" href=https://colab.research.google.com/notebooks/data_table.ipynb>data table notebook</a>'\n",
              "          + ' to learn more about interactive tables.';\n",
              "        element.innerHTML = '';\n",
              "        dataTable['output_type'] = 'display_data';\n",
              "        await google.colab.output.renderOutput(dataTable, element);\n",
              "        const docLink = document.createElement('div');\n",
              "        docLink.innerHTML = docLinkHtml;\n",
              "        element.appendChild(docLink);\n",
              "      }\n",
              "    </script>\n",
              "  </div>\n",
              "\n",
              "\n",
              "<div id=\"df-04f1a150-aa23-48f2-a1fe-d36796198354\">\n",
              "  <button class=\"colab-df-quickchart\" onclick=\"quickchart('df-04f1a150-aa23-48f2-a1fe-d36796198354')\"\n",
              "            title=\"Suggest charts.\"\n",
              "            style=\"display:none;\">\n",
              "\n",
              "<svg xmlns=\"http://www.w3.org/2000/svg\" height=\"24px\"viewBox=\"0 0 24 24\"\n",
              "     width=\"24px\">\n",
              "    <g>\n",
              "        <path d=\"M19 3H5c-1.1 0-2 .9-2 2v14c0 1.1.9 2 2 2h14c1.1 0 2-.9 2-2V5c0-1.1-.9-2-2-2zM9 17H7v-7h2v7zm4 0h-2V7h2v10zm4 0h-2v-4h2v4z\"/>\n",
              "    </g>\n",
              "</svg>\n",
              "  </button>\n",
              "\n",
              "<style>\n",
              "  .colab-df-quickchart {\n",
              "      --bg-color: #E8F0FE;\n",
              "      --fill-color: #1967D2;\n",
              "      --hover-bg-color: #E2EBFA;\n",
              "      --hover-fill-color: #174EA6;\n",
              "      --disabled-fill-color: #AAA;\n",
              "      --disabled-bg-color: #DDD;\n",
              "  }\n",
              "\n",
              "  [theme=dark] .colab-df-quickchart {\n",
              "      --bg-color: #3B4455;\n",
              "      --fill-color: #D2E3FC;\n",
              "      --hover-bg-color: #434B5C;\n",
              "      --hover-fill-color: #FFFFFF;\n",
              "      --disabled-bg-color: #3B4455;\n",
              "      --disabled-fill-color: #666;\n",
              "  }\n",
              "\n",
              "  .colab-df-quickchart {\n",
              "    background-color: var(--bg-color);\n",
              "    border: none;\n",
              "    border-radius: 50%;\n",
              "    cursor: pointer;\n",
              "    display: none;\n",
              "    fill: var(--fill-color);\n",
              "    height: 32px;\n",
              "    padding: 0;\n",
              "    width: 32px;\n",
              "  }\n",
              "\n",
              "  .colab-df-quickchart:hover {\n",
              "    background-color: var(--hover-bg-color);\n",
              "    box-shadow: 0 1px 2px rgba(60, 64, 67, 0.3), 0 1px 3px 1px rgba(60, 64, 67, 0.15);\n",
              "    fill: var(--button-hover-fill-color);\n",
              "  }\n",
              "\n",
              "  .colab-df-quickchart-complete:disabled,\n",
              "  .colab-df-quickchart-complete:disabled:hover {\n",
              "    background-color: var(--disabled-bg-color);\n",
              "    fill: var(--disabled-fill-color);\n",
              "    box-shadow: none;\n",
              "  }\n",
              "\n",
              "  .colab-df-spinner {\n",
              "    border: 2px solid var(--fill-color);\n",
              "    border-color: transparent;\n",
              "    border-bottom-color: var(--fill-color);\n",
              "    animation:\n",
              "      spin 1s steps(1) infinite;\n",
              "  }\n",
              "\n",
              "  @keyframes spin {\n",
              "    0% {\n",
              "      border-color: transparent;\n",
              "      border-bottom-color: var(--fill-color);\n",
              "      border-left-color: var(--fill-color);\n",
              "    }\n",
              "    20% {\n",
              "      border-color: transparent;\n",
              "      border-left-color: var(--fill-color);\n",
              "      border-top-color: var(--fill-color);\n",
              "    }\n",
              "    30% {\n",
              "      border-color: transparent;\n",
              "      border-left-color: var(--fill-color);\n",
              "      border-top-color: var(--fill-color);\n",
              "      border-right-color: var(--fill-color);\n",
              "    }\n",
              "    40% {\n",
              "      border-color: transparent;\n",
              "      border-right-color: var(--fill-color);\n",
              "      border-top-color: var(--fill-color);\n",
              "    }\n",
              "    60% {\n",
              "      border-color: transparent;\n",
              "      border-right-color: var(--fill-color);\n",
              "    }\n",
              "    80% {\n",
              "      border-color: transparent;\n",
              "      border-right-color: var(--fill-color);\n",
              "      border-bottom-color: var(--fill-color);\n",
              "    }\n",
              "    90% {\n",
              "      border-color: transparent;\n",
              "      border-bottom-color: var(--fill-color);\n",
              "    }\n",
              "  }\n",
              "</style>\n",
              "\n",
              "  <script>\n",
              "    async function quickchart(key) {\n",
              "      const quickchartButtonEl =\n",
              "        document.querySelector('#' + key + ' button');\n",
              "      quickchartButtonEl.disabled = true;  // To prevent multiple clicks.\n",
              "      quickchartButtonEl.classList.add('colab-df-spinner');\n",
              "      try {\n",
              "        const charts = await google.colab.kernel.invokeFunction(\n",
              "            'suggestCharts', [key], {});\n",
              "      } catch (error) {\n",
              "        console.error('Error during call to suggestCharts:', error);\n",
              "      }\n",
              "      quickchartButtonEl.classList.remove('colab-df-spinner');\n",
              "      quickchartButtonEl.classList.add('colab-df-quickchart-complete');\n",
              "    }\n",
              "    (() => {\n",
              "      let quickchartButtonEl =\n",
              "        document.querySelector('#df-04f1a150-aa23-48f2-a1fe-d36796198354 button');\n",
              "      quickchartButtonEl.style.display =\n",
              "        google.colab.kernel.accessAllowed ? 'block' : 'none';\n",
              "    })();\n",
              "  </script>\n",
              "</div>\n",
              "    </div>\n",
              "  </div>\n"
            ]
          },
          "metadata": {},
          "execution_count": 16
        }
      ]
    },
    {
      "cell_type": "code",
      "source": [
        "df_colunas_novo_servicos_nao_monetario_2.info()"
      ],
      "metadata": {
        "colab": {
          "base_uri": "https://localhost:8080/"
        },
        "outputId": "38aad0b9-5da3-4029-9caf-289b99e43d12",
        "id": "DVXTeTjf5j1M"
      },
      "execution_count": null,
      "outputs": [
        {
          "output_type": "stream",
          "name": "stdout",
          "text": [
            "<class 'pandas.core.frame.DataFrame'>\n",
            "RangeIndex: 14711 entries, 0 to 14710\n",
            "Data columns (total 24 columns):\n",
            " #   Column             Non-Null Count  Dtype \n",
            "---  ------             --------------  ----- \n",
            " 0   UF                 14711 non-null  object\n",
            " 1   ESTRATO_POF        14711 non-null  object\n",
            " 2   TIPO_SITUACAO_REG  14711 non-null  object\n",
            " 3   COD_UPA            14711 non-null  object\n",
            " 4   NUM_DOM            14711 non-null  object\n",
            " 5   NUM_UC             14711 non-null  object\n",
            " 6   QUADRO             14711 non-null  object\n",
            " 7   SEQ                14711 non-null  object\n",
            " 8   V9001              14711 non-null  object\n",
            " 9   V9002              14711 non-null  object\n",
            " 10  V8000              14711 non-null  object\n",
            " 11  V9010              2512 non-null   object\n",
            " 12  V9011              2512 non-null   object\n",
            " 13  V1904              68 non-null     object\n",
            " 14  V1905              325 non-null    object\n",
            " 15  DEFLATOR           14500 non-null  object\n",
            " 16  V8000_DEFLA        14711 non-null  object\n",
            " 17  V1904_DEFLA        64 non-null     object\n",
            " 18  COD_IMPUT_VALOR    14711 non-null  object\n",
            " 19  FATOR_ANUALIZACAO  14711 non-null  object\n",
            " 20  PESO               14711 non-null  object\n",
            " 21  PESO_FINAL         14711 non-null  object\n",
            " 22  RENDA_TOTAL        14711 non-null  object\n",
            " 23  V9004              1460 non-null   object\n",
            "dtypes: object(24)\n",
            "memory usage: 2.7+ MB\n"
          ]
        }
      ]
    },
    {
      "cell_type": "markdown",
      "source": [
        "##Conferir Unicidade da Chave Identificadora"
      ],
      "metadata": {
        "id": "aA8Ve9R45j1M"
      }
    },
    {
      "cell_type": "code",
      "source": [
        "df_colunas_novo_servicos_nao_monetario_2_id = df_colunas_novo_servicos_nao_monetario_2.drop_duplicates(subset=['COD_UPA','NUM_DOM','V9004','V9001','SEQ','NUM_UC'], keep='first')"
      ],
      "metadata": {
        "id": "aGqNjREe5j1M"
      },
      "execution_count": null,
      "outputs": []
    },
    {
      "cell_type": "code",
      "source": [
        "df_colunas_novo_servicos_nao_monetario_2_id.shape[0]"
      ],
      "metadata": {
        "colab": {
          "base_uri": "https://localhost:8080/"
        },
        "outputId": "b3b9c896-a4c8-47cc-c99f-a8cf5a94730f",
        "id": "ib-CIZM65j1M"
      },
      "execution_count": null,
      "outputs": [
        {
          "output_type": "execute_result",
          "data": {
            "text/plain": [
              "14711"
            ]
          },
          "metadata": {},
          "execution_count": 192
        }
      ]
    },
    {
      "cell_type": "markdown",
      "source": [
        "## Aplicar Regras Normais"
      ],
      "metadata": {
        "id": "lWpN-NGa1wV5"
      }
    },
    {
      "cell_type": "code",
      "source": [
        "df_colunas_novo_servicos_nao_monetario_2 = df_colunas_novo_servicos_nao_monetario_2.drop(['UF','ESTRATO_POF','TIPO_SITUACAO_REG','PESO','PESO_FINAL','RENDA_TOTAL'], axis=1)"
      ],
      "metadata": {
        "id": "WW-GFtbI1wV_"
      },
      "execution_count": null,
      "outputs": []
    },
    {
      "cell_type": "markdown",
      "source": [
        "## Baixar Arquivo como CSV"
      ],
      "metadata": {
        "id": "ubJecljJ5j1M"
      }
    },
    {
      "cell_type": "code",
      "source": [
        "df_colunas_novo_servicos_nao_monetario_2.to_csv('SERVICO_NAO_MONETARIO_POF2.csv', index=False)"
      ],
      "metadata": {
        "id": "y48mKCYt5j1N"
      },
      "execution_count": null,
      "outputs": []
    },
    {
      "cell_type": "markdown",
      "source": [
        "# Tratamento do arquivo \"INVENTÁRIO DE BENS DURÁVEIS\""
      ],
      "metadata": {
        "id": "lUO2GfniJDsr"
      }
    },
    {
      "cell_type": "markdown",
      "source": [
        "##Abrindo e Analisando o Arquivo"
      ],
      "metadata": {
        "id": "-9UpEzpgJDsy"
      }
    },
    {
      "cell_type": "code",
      "source": [
        "inventario = '/content/drive/MyDrive/POF (2017 2018)/INVENTARIO.txt'\n",
        "\n",
        "with open(inventario, 'r') as arquivo:\n",
        "    conteudo = arquivo.readlines()\n",
        "\n",
        "# Imprimir 5 primeiras Linhas\n",
        "print(\"5 primeiras Linhas: \\n\")\n",
        "for conteudo in conteudo[:5]:\n",
        "    print(conteudo, end='')\n"
      ],
      "metadata": {
        "colab": {
          "base_uri": "https://localhost:8080/"
        },
        "outputId": "2265d90b-78da-4f82-c82b-b479ea924f9c",
        "id": "vv1RY_ogJDsy"
      },
      "execution_count": null,
      "outputs": [
        {
          "output_type": "stream",
          "name": "stdout",
          "text": [
            "5 primeiras Linhas: \n",
            "\n",
            "1111031110005400 1114 01400101 1 120121  272.80666931  372.98451570  11254.75\n",
            "1111031110005400 1114 31400401 1 320091  272.80666931  372.98451570  11254.75\n",
            "1111031110005400 1114 41400501 2 120051  272.80666931  372.98451570  11254.75\n",
            "1111031110005400 1114 51400601 1 120101  272.80666931  372.98451570  11254.75\n",
            "1111031110005400 1114 81400901 1 120111  272.80666931  372.98451570  11254.75\n"
          ]
        }
      ]
    },
    {
      "cell_type": "code",
      "source": [
        "with open(inventario, 'r') as arquivo:\n",
        "    conteudo = arquivo.readlines()\n",
        "\n",
        "# descobrir quantas Linhas tem o arquivo\n",
        "cont = 0\n",
        "for linha in conteudo:\n",
        "    cont += 1\n",
        "\n",
        "# descobrir quantos caracteres tem a primeira Linha\n",
        "cont_char = 0\n",
        "for i, linha in enumerate(conteudo[:1], start=1):\n",
        "    num_caracteres = len(linha)\n",
        "\n",
        "# descobrir se o restante das linhas tem a mesma qtd de caracteres da primeira linha\n",
        "primeira_linha = conteudo[0]\n",
        "todas_as_linhas_iguais = all(len(linha) == len(primeira_linha) for linha in conteudo)\n",
        "\n",
        "print(\"Total de linhas: \", cont)\n",
        "print(\"Total de caracteres da primeira linha: \", num_caracteres)\n",
        "print(\"Todas as Linhas tem o mesmo comprimento da primeira? \", todas_as_linhas_iguais)"
      ],
      "metadata": {
        "colab": {
          "base_uri": "https://localhost:8080/"
        },
        "outputId": "de8576fd-8a61-4ff0-be74-0166a149aade",
        "id": "j_nlc1FJJDsy"
      },
      "execution_count": null,
      "outputs": [
        {
          "output_type": "stream",
          "name": "stdout",
          "text": [
            "Total de linhas:  870354\n",
            "Total de caracteres da primeira linha:  78\n",
            "Todas as Linhas tem o mesmo comprimento da primeira?  True\n"
          ]
        }
      ]
    },
    {
      "cell_type": "markdown",
      "source": [
        "##Adicionar o Separador"
      ],
      "metadata": {
        "id": "PsyXfefaJDsy"
      }
    },
    {
      "cell_type": "code",
      "source": [
        "with open(inventario, 'r') as arquivo_orig:\n",
        "    with open('novo_inventario_bens_duraveis.csv', 'w') as arquivo_novo:\n",
        "        for linha in arquivo_orig:\n",
        "            nova_linha = (\n",
        "                linha[:2] + ';' + # variável 1\n",
        "                linha[2:6] + ';' + # variável 2\n",
        "                linha[6:7] + ';' + # variável 3\n",
        "                linha[7:16] + ';' + # variável 4\n",
        "                linha[16:18] + ';' + # variável 5\n",
        "                linha[18:19] + ';' + # variável 6\n",
        "                linha[19:21] + ';' + # variável 7\n",
        "                linha[21:23] + ';' + # variável 8\n",
        "                linha[23:30] + ';' + # variável 9\n",
        "                linha[30:32] + ';' + # variável 10\n",
        "                linha[32:34] + ';' + # variável 11\n",
        "                linha[34:38] + ';' + # variável 12\n",
        "                linha[38:39] + ';' + # variável 13\n",
        "                linha[39:53] + ';' + # variável 14\n",
        "                linha[53:67] + ';' + # variável 15\n",
        "                linha[67:] # variável 16\n",
        "            )\n",
        "            nova_linha = nova_linha.replace(' ', '')\n",
        "            arquivo_novo.write(nova_linha)\n",
        "\n",
        "\n"
      ],
      "metadata": {
        "id": "vpQOSuluJDsy"
      },
      "execution_count": null,
      "outputs": []
    },
    {
      "cell_type": "markdown",
      "source": [
        "Conferir Processo"
      ],
      "metadata": {
        "id": "QzK2aGdQJDsz"
      }
    },
    {
      "cell_type": "code",
      "source": [
        "novo_inventario_bens_duraveis = \"/content/novo_inventario_bens_duraveis.csv\"\n",
        "\n",
        "with open(novo_inventario_bens_duraveis, 'r') as arquivo_novo:\n",
        "  novo_dom = arquivo_novo.readlines()\n",
        "\n",
        "# imprimir primeira linha\n",
        "for lin in novo_dom[:1]:\n",
        "  print(lin, end=\"\")"
      ],
      "metadata": {
        "colab": {
          "base_uri": "https://localhost:8080/"
        },
        "outputId": "9cf2588b-e15a-494a-8afd-3a8517e4f90b",
        "id": "Bz8YfZu1JDsz"
      },
      "execution_count": null,
      "outputs": [
        {
          "output_type": "stream",
          "name": "stdout",
          "text": [
            "11;1103;1;110005400; 1;1;14; 0;1400101; 1; 1;2012;1;  272.80666931;  372.98451570;  11254.75\n"
          ]
        }
      ]
    },
    {
      "cell_type": "markdown",
      "source": [
        "Conferir Estado do Novo Arquivo"
      ],
      "metadata": {
        "id": "iJvsrWg-JDsz"
      }
    },
    {
      "cell_type": "code",
      "source": [
        "with open(novo_inventario_bens_duraveis, 'r') as arquivo:\n",
        "    conteudo = arquivo.readlines()\n",
        "\n",
        "# Conferir Numero de Linhas\n",
        "cont = 0\n",
        "for linha in conteudo:\n",
        "    cont += 1\n",
        "\n",
        "# Conferir Total de Caracteres\n",
        "cont_char = 0\n",
        "for i, linha in enumerate(conteudo[:1], start=1):\n",
        "    num_caracteres = len(linha)\n",
        "\n",
        "# Conferir se as Linhas Ainda tem o Mesmo Numero de Caracteres\n",
        "primeira_linha = conteudo[0]\n",
        "todas_as_linhas_iguais = all(len(linha) == len(primeira_linha) for linha in conteudo)\n",
        "\n",
        "print(\"Total de linhas: \", cont)\n",
        "print(\"Total de caracteres da primeira linha: \", num_caracteres)\n",
        "print(\"Todas as Linhas tem o mesmo comprimento da primeira? \", todas_as_linhas_iguais)"
      ],
      "metadata": {
        "colab": {
          "base_uri": "https://localhost:8080/"
        },
        "outputId": "9800a37c-55df-4faf-9b98-54e672fc1cce",
        "id": "zO9hjJ4CJDsz"
      },
      "execution_count": null,
      "outputs": [
        {
          "output_type": "stream",
          "name": "stdout",
          "text": [
            "Total de linhas:  870354\n",
            "Total de caracteres da primeira linha:  93\n",
            "Todas as Linhas tem o mesmo comprimento da primeira?  True\n"
          ]
        }
      ]
    },
    {
      "cell_type": "markdown",
      "source": [
        "## Abrir arquivo como DataFrame, para melhor análise"
      ],
      "metadata": {
        "id": "enNqu6iKJDsz"
      }
    },
    {
      "cell_type": "code",
      "source": [
        "colunas_novo_inventario = [\n",
        "    \"UF\", \"ESTRATO_POF\", \"TIPO_SITUACAO_REG\", \"COD_UPA\", \"NUM_DOM\", \"NUM_UC\",\n",
        "    \"QUADRO\", \"SEQ\", \"V9001\", \"V9005\", \"V9002\", \"V1404\", \"V9012\", \"PESO\",\n",
        "    \"PESO_FINAL\", \"RENDA_TOTAL\"\n",
        "]\n",
        "\n"
      ],
      "metadata": {
        "id": "364Ns3-gJDsz"
      },
      "execution_count": null,
      "outputs": []
    },
    {
      "cell_type": "code",
      "source": [
        "df_novo_inventario_bens_duraveis = pd.read_csv(novo_inventario_bens_duraveis, sep=';', names = colunas_novo_inventario, dtype='object')"
      ],
      "metadata": {
        "id": "mQzH4z_OJDsz"
      },
      "execution_count": null,
      "outputs": []
    },
    {
      "cell_type": "code",
      "source": [
        "df_novo_inventario_bens_duraveis.head()"
      ],
      "metadata": {
        "colab": {
          "base_uri": "https://localhost:8080/"
        },
        "outputId": "0c31fed8-21d4-4e97-d2e2-a7eefbe96bf9",
        "id": "51QKY8CxJDsz"
      },
      "execution_count": null,
      "outputs": [
        {
          "output_type": "execute_result",
          "data": {
            "text/plain": [
              "   UF  ESTRATO_POF  TIPO_SITUACAO_REG    COD_UPA  NUM_DOM  NUM_UC  QUADRO  \\\n",
              "0  11         1103                  1  110005400        1       1      14   \n",
              "1  11         1103                  1  110005400        1       1      14   \n",
              "2  11         1103                  1  110005400        1       1      14   \n",
              "3  11         1103                  1  110005400        1       1      14   \n",
              "4  11         1103                  1  110005400        1       1      14   \n",
              "\n",
              "   SEQ    V9001  V9005  V9002  V1404  V9012        PESO  PESO_FINAL  \\\n",
              "0    0  1400101      1      1   2012      1  272.806669  372.984516   \n",
              "1    3  1400401      1      3   2009      1  272.806669  372.984516   \n",
              "2    4  1400501      2      1   2005      1  272.806669  372.984516   \n",
              "3    5  1400601      1      1   2010      1  272.806669  372.984516   \n",
              "4    8  1400901      1      1   2011      1  272.806669  372.984516   \n",
              "\n",
              "   RENDA_TOTAL  \n",
              "0     11254.75  \n",
              "1     11254.75  \n",
              "2     11254.75  \n",
              "3     11254.75  \n",
              "4     11254.75  "
            ],
            "text/html": [
              "\n",
              "  <div id=\"df-861a7f69-05d4-4627-b540-7ba915a008b8\" class=\"colab-df-container\">\n",
              "    <div>\n",
              "<style scoped>\n",
              "    .dataframe tbody tr th:only-of-type {\n",
              "        vertical-align: middle;\n",
              "    }\n",
              "\n",
              "    .dataframe tbody tr th {\n",
              "        vertical-align: top;\n",
              "    }\n",
              "\n",
              "    .dataframe thead th {\n",
              "        text-align: right;\n",
              "    }\n",
              "</style>\n",
              "<table border=\"1\" class=\"dataframe\">\n",
              "  <thead>\n",
              "    <tr style=\"text-align: right;\">\n",
              "      <th></th>\n",
              "      <th>UF</th>\n",
              "      <th>ESTRATO_POF</th>\n",
              "      <th>TIPO_SITUACAO_REG</th>\n",
              "      <th>COD_UPA</th>\n",
              "      <th>NUM_DOM</th>\n",
              "      <th>NUM_UC</th>\n",
              "      <th>QUADRO</th>\n",
              "      <th>SEQ</th>\n",
              "      <th>V9001</th>\n",
              "      <th>V9005</th>\n",
              "      <th>V9002</th>\n",
              "      <th>V1404</th>\n",
              "      <th>V9012</th>\n",
              "      <th>PESO</th>\n",
              "      <th>PESO_FINAL</th>\n",
              "      <th>RENDA_TOTAL</th>\n",
              "    </tr>\n",
              "  </thead>\n",
              "  <tbody>\n",
              "    <tr>\n",
              "      <th>0</th>\n",
              "      <td>11</td>\n",
              "      <td>1103</td>\n",
              "      <td>1</td>\n",
              "      <td>110005400</td>\n",
              "      <td>1</td>\n",
              "      <td>1</td>\n",
              "      <td>14</td>\n",
              "      <td>0</td>\n",
              "      <td>1400101</td>\n",
              "      <td>1</td>\n",
              "      <td>1</td>\n",
              "      <td>2012</td>\n",
              "      <td>1</td>\n",
              "      <td>272.806669</td>\n",
              "      <td>372.984516</td>\n",
              "      <td>11254.75</td>\n",
              "    </tr>\n",
              "    <tr>\n",
              "      <th>1</th>\n",
              "      <td>11</td>\n",
              "      <td>1103</td>\n",
              "      <td>1</td>\n",
              "      <td>110005400</td>\n",
              "      <td>1</td>\n",
              "      <td>1</td>\n",
              "      <td>14</td>\n",
              "      <td>3</td>\n",
              "      <td>1400401</td>\n",
              "      <td>1</td>\n",
              "      <td>3</td>\n",
              "      <td>2009</td>\n",
              "      <td>1</td>\n",
              "      <td>272.806669</td>\n",
              "      <td>372.984516</td>\n",
              "      <td>11254.75</td>\n",
              "    </tr>\n",
              "    <tr>\n",
              "      <th>2</th>\n",
              "      <td>11</td>\n",
              "      <td>1103</td>\n",
              "      <td>1</td>\n",
              "      <td>110005400</td>\n",
              "      <td>1</td>\n",
              "      <td>1</td>\n",
              "      <td>14</td>\n",
              "      <td>4</td>\n",
              "      <td>1400501</td>\n",
              "      <td>2</td>\n",
              "      <td>1</td>\n",
              "      <td>2005</td>\n",
              "      <td>1</td>\n",
              "      <td>272.806669</td>\n",
              "      <td>372.984516</td>\n",
              "      <td>11254.75</td>\n",
              "    </tr>\n",
              "    <tr>\n",
              "      <th>3</th>\n",
              "      <td>11</td>\n",
              "      <td>1103</td>\n",
              "      <td>1</td>\n",
              "      <td>110005400</td>\n",
              "      <td>1</td>\n",
              "      <td>1</td>\n",
              "      <td>14</td>\n",
              "      <td>5</td>\n",
              "      <td>1400601</td>\n",
              "      <td>1</td>\n",
              "      <td>1</td>\n",
              "      <td>2010</td>\n",
              "      <td>1</td>\n",
              "      <td>272.806669</td>\n",
              "      <td>372.984516</td>\n",
              "      <td>11254.75</td>\n",
              "    </tr>\n",
              "    <tr>\n",
              "      <th>4</th>\n",
              "      <td>11</td>\n",
              "      <td>1103</td>\n",
              "      <td>1</td>\n",
              "      <td>110005400</td>\n",
              "      <td>1</td>\n",
              "      <td>1</td>\n",
              "      <td>14</td>\n",
              "      <td>8</td>\n",
              "      <td>1400901</td>\n",
              "      <td>1</td>\n",
              "      <td>1</td>\n",
              "      <td>2011</td>\n",
              "      <td>1</td>\n",
              "      <td>272.806669</td>\n",
              "      <td>372.984516</td>\n",
              "      <td>11254.75</td>\n",
              "    </tr>\n",
              "  </tbody>\n",
              "</table>\n",
              "</div>\n",
              "    <div class=\"colab-df-buttons\">\n",
              "\n",
              "  <div class=\"colab-df-container\">\n",
              "    <button class=\"colab-df-convert\" onclick=\"convertToInteractive('df-861a7f69-05d4-4627-b540-7ba915a008b8')\"\n",
              "            title=\"Convert this dataframe to an interactive table.\"\n",
              "            style=\"display:none;\">\n",
              "\n",
              "  <svg xmlns=\"http://www.w3.org/2000/svg\" height=\"24px\" viewBox=\"0 -960 960 960\">\n",
              "    <path d=\"M120-120v-720h720v720H120Zm60-500h600v-160H180v160Zm220 220h160v-160H400v160Zm0 220h160v-160H400v160ZM180-400h160v-160H180v160Zm440 0h160v-160H620v160ZM180-180h160v-160H180v160Zm440 0h160v-160H620v160Z\"/>\n",
              "  </svg>\n",
              "    </button>\n",
              "\n",
              "  <style>\n",
              "    .colab-df-container {\n",
              "      display:flex;\n",
              "      gap: 12px;\n",
              "    }\n",
              "\n",
              "    .colab-df-convert {\n",
              "      background-color: #E8F0FE;\n",
              "      border: none;\n",
              "      border-radius: 50%;\n",
              "      cursor: pointer;\n",
              "      display: none;\n",
              "      fill: #1967D2;\n",
              "      height: 32px;\n",
              "      padding: 0 0 0 0;\n",
              "      width: 32px;\n",
              "    }\n",
              "\n",
              "    .colab-df-convert:hover {\n",
              "      background-color: #E2EBFA;\n",
              "      box-shadow: 0px 1px 2px rgba(60, 64, 67, 0.3), 0px 1px 3px 1px rgba(60, 64, 67, 0.15);\n",
              "      fill: #174EA6;\n",
              "    }\n",
              "\n",
              "    .colab-df-buttons div {\n",
              "      margin-bottom: 4px;\n",
              "    }\n",
              "\n",
              "    [theme=dark] .colab-df-convert {\n",
              "      background-color: #3B4455;\n",
              "      fill: #D2E3FC;\n",
              "    }\n",
              "\n",
              "    [theme=dark] .colab-df-convert:hover {\n",
              "      background-color: #434B5C;\n",
              "      box-shadow: 0px 1px 3px 1px rgba(0, 0, 0, 0.15);\n",
              "      filter: drop-shadow(0px 1px 2px rgba(0, 0, 0, 0.3));\n",
              "      fill: #FFFFFF;\n",
              "    }\n",
              "  </style>\n",
              "\n",
              "    <script>\n",
              "      const buttonEl =\n",
              "        document.querySelector('#df-861a7f69-05d4-4627-b540-7ba915a008b8 button.colab-df-convert');\n",
              "      buttonEl.style.display =\n",
              "        google.colab.kernel.accessAllowed ? 'block' : 'none';\n",
              "\n",
              "      async function convertToInteractive(key) {\n",
              "        const element = document.querySelector('#df-861a7f69-05d4-4627-b540-7ba915a008b8');\n",
              "        const dataTable =\n",
              "          await google.colab.kernel.invokeFunction('convertToInteractive',\n",
              "                                                    [key], {});\n",
              "        if (!dataTable) return;\n",
              "\n",
              "        const docLinkHtml = 'Like what you see? Visit the ' +\n",
              "          '<a target=\"_blank\" href=https://colab.research.google.com/notebooks/data_table.ipynb>data table notebook</a>'\n",
              "          + ' to learn more about interactive tables.';\n",
              "        element.innerHTML = '';\n",
              "        dataTable['output_type'] = 'display_data';\n",
              "        await google.colab.output.renderOutput(dataTable, element);\n",
              "        const docLink = document.createElement('div');\n",
              "        docLink.innerHTML = docLinkHtml;\n",
              "        element.appendChild(docLink);\n",
              "      }\n",
              "    </script>\n",
              "  </div>\n",
              "\n",
              "\n",
              "<div id=\"df-e563a8ec-4263-4277-a8ef-ab293a201990\">\n",
              "  <button class=\"colab-df-quickchart\" onclick=\"quickchart('df-e563a8ec-4263-4277-a8ef-ab293a201990')\"\n",
              "            title=\"Suggest charts.\"\n",
              "            style=\"display:none;\">\n",
              "\n",
              "<svg xmlns=\"http://www.w3.org/2000/svg\" height=\"24px\"viewBox=\"0 0 24 24\"\n",
              "     width=\"24px\">\n",
              "    <g>\n",
              "        <path d=\"M19 3H5c-1.1 0-2 .9-2 2v14c0 1.1.9 2 2 2h14c1.1 0 2-.9 2-2V5c0-1.1-.9-2-2-2zM9 17H7v-7h2v7zm4 0h-2V7h2v10zm4 0h-2v-4h2v4z\"/>\n",
              "    </g>\n",
              "</svg>\n",
              "  </button>\n",
              "\n",
              "<style>\n",
              "  .colab-df-quickchart {\n",
              "      --bg-color: #E8F0FE;\n",
              "      --fill-color: #1967D2;\n",
              "      --hover-bg-color: #E2EBFA;\n",
              "      --hover-fill-color: #174EA6;\n",
              "      --disabled-fill-color: #AAA;\n",
              "      --disabled-bg-color: #DDD;\n",
              "  }\n",
              "\n",
              "  [theme=dark] .colab-df-quickchart {\n",
              "      --bg-color: #3B4455;\n",
              "      --fill-color: #D2E3FC;\n",
              "      --hover-bg-color: #434B5C;\n",
              "      --hover-fill-color: #FFFFFF;\n",
              "      --disabled-bg-color: #3B4455;\n",
              "      --disabled-fill-color: #666;\n",
              "  }\n",
              "\n",
              "  .colab-df-quickchart {\n",
              "    background-color: var(--bg-color);\n",
              "    border: none;\n",
              "    border-radius: 50%;\n",
              "    cursor: pointer;\n",
              "    display: none;\n",
              "    fill: var(--fill-color);\n",
              "    height: 32px;\n",
              "    padding: 0;\n",
              "    width: 32px;\n",
              "  }\n",
              "\n",
              "  .colab-df-quickchart:hover {\n",
              "    background-color: var(--hover-bg-color);\n",
              "    box-shadow: 0 1px 2px rgba(60, 64, 67, 0.3), 0 1px 3px 1px rgba(60, 64, 67, 0.15);\n",
              "    fill: var(--button-hover-fill-color);\n",
              "  }\n",
              "\n",
              "  .colab-df-quickchart-complete:disabled,\n",
              "  .colab-df-quickchart-complete:disabled:hover {\n",
              "    background-color: var(--disabled-bg-color);\n",
              "    fill: var(--disabled-fill-color);\n",
              "    box-shadow: none;\n",
              "  }\n",
              "\n",
              "  .colab-df-spinner {\n",
              "    border: 2px solid var(--fill-color);\n",
              "    border-color: transparent;\n",
              "    border-bottom-color: var(--fill-color);\n",
              "    animation:\n",
              "      spin 1s steps(1) infinite;\n",
              "  }\n",
              "\n",
              "  @keyframes spin {\n",
              "    0% {\n",
              "      border-color: transparent;\n",
              "      border-bottom-color: var(--fill-color);\n",
              "      border-left-color: var(--fill-color);\n",
              "    }\n",
              "    20% {\n",
              "      border-color: transparent;\n",
              "      border-left-color: var(--fill-color);\n",
              "      border-top-color: var(--fill-color);\n",
              "    }\n",
              "    30% {\n",
              "      border-color: transparent;\n",
              "      border-left-color: var(--fill-color);\n",
              "      border-top-color: var(--fill-color);\n",
              "      border-right-color: var(--fill-color);\n",
              "    }\n",
              "    40% {\n",
              "      border-color: transparent;\n",
              "      border-right-color: var(--fill-color);\n",
              "      border-top-color: var(--fill-color);\n",
              "    }\n",
              "    60% {\n",
              "      border-color: transparent;\n",
              "      border-right-color: var(--fill-color);\n",
              "    }\n",
              "    80% {\n",
              "      border-color: transparent;\n",
              "      border-right-color: var(--fill-color);\n",
              "      border-bottom-color: var(--fill-color);\n",
              "    }\n",
              "    90% {\n",
              "      border-color: transparent;\n",
              "      border-bottom-color: var(--fill-color);\n",
              "    }\n",
              "  }\n",
              "</style>\n",
              "\n",
              "  <script>\n",
              "    async function quickchart(key) {\n",
              "      const quickchartButtonEl =\n",
              "        document.querySelector('#' + key + ' button');\n",
              "      quickchartButtonEl.disabled = true;  // To prevent multiple clicks.\n",
              "      quickchartButtonEl.classList.add('colab-df-spinner');\n",
              "      try {\n",
              "        const charts = await google.colab.kernel.invokeFunction(\n",
              "            'suggestCharts', [key], {});\n",
              "      } catch (error) {\n",
              "        console.error('Error during call to suggestCharts:', error);\n",
              "      }\n",
              "      quickchartButtonEl.classList.remove('colab-df-spinner');\n",
              "      quickchartButtonEl.classList.add('colab-df-quickchart-complete');\n",
              "    }\n",
              "    (() => {\n",
              "      let quickchartButtonEl =\n",
              "        document.querySelector('#df-e563a8ec-4263-4277-a8ef-ab293a201990 button');\n",
              "      quickchartButtonEl.style.display =\n",
              "        google.colab.kernel.accessAllowed ? 'block' : 'none';\n",
              "    })();\n",
              "  </script>\n",
              "</div>\n",
              "    </div>\n",
              "  </div>\n"
            ]
          },
          "metadata": {},
          "execution_count": 243
        }
      ]
    },
    {
      "cell_type": "code",
      "source": [
        "df_novo_inventario_bens_duraveis.info()"
      ],
      "metadata": {
        "colab": {
          "base_uri": "https://localhost:8080/"
        },
        "outputId": "edad35a1-10cf-48aa-ab8c-10e12a07f337",
        "id": "rAnZc_crJDsz"
      },
      "execution_count": null,
      "outputs": [
        {
          "output_type": "stream",
          "name": "stdout",
          "text": [
            "<class 'pandas.core.frame.DataFrame'>\n",
            "RangeIndex: 870354 entries, 0 to 870353\n",
            "Data columns (total 16 columns):\n",
            " #   Column             Non-Null Count   Dtype  \n",
            "---  ------             --------------   -----  \n",
            " 0   UF                 870354 non-null  int64  \n",
            " 1   ESTRATO_POF        870354 non-null  int64  \n",
            " 2   TIPO_SITUACAO_REG  870354 non-null  int64  \n",
            " 3   COD_UPA            870354 non-null  int64  \n",
            " 4   NUM_DOM            870354 non-null  int64  \n",
            " 5   NUM_UC             870354 non-null  int64  \n",
            " 6   QUADRO             870354 non-null  int64  \n",
            " 7   SEQ                870354 non-null  int64  \n",
            " 8   V9001              870354 non-null  int64  \n",
            " 9   V9005              870354 non-null  int64  \n",
            " 10  V9002              870354 non-null  int64  \n",
            " 11  V1404              870354 non-null  int64  \n",
            " 12  V9012              870354 non-null  int64  \n",
            " 13  PESO               870354 non-null  float64\n",
            " 14  PESO_FINAL         870354 non-null  float64\n",
            " 15  RENDA_TOTAL        870354 non-null  float64\n",
            "dtypes: float64(3), int64(13)\n",
            "memory usage: 106.2 MB\n"
          ]
        }
      ]
    },
    {
      "cell_type": "markdown",
      "source": [
        "##Conferir Unicidade da Chave Identificadora"
      ],
      "metadata": {
        "id": "5921ftX3JDs0"
      }
    },
    {
      "cell_type": "code",
      "source": [
        "df_novo_inventario_bens_duraveis_id = df_novo_inventario_bens_duraveis.drop_duplicates(subset=['COD_UPA','NUM_DOM','V9001','SEQ','NUM_UC'], keep='first')"
      ],
      "metadata": {
        "id": "VeF3NWKUJDs0"
      },
      "execution_count": null,
      "outputs": []
    },
    {
      "cell_type": "code",
      "source": [
        "df_novo_inventario_bens_duraveis.shape[0]"
      ],
      "metadata": {
        "colab": {
          "base_uri": "https://localhost:8080/"
        },
        "outputId": "d0fc7720-028a-4a3a-b0d8-82cfac2ffb47",
        "id": "z7_wEUfsJDs0"
      },
      "execution_count": null,
      "outputs": [
        {
          "output_type": "execute_result",
          "data": {
            "text/plain": [
              "870354"
            ]
          },
          "metadata": {},
          "execution_count": 204
        }
      ]
    },
    {
      "cell_type": "markdown",
      "source": [
        "## Aplicar Regras Normais"
      ],
      "metadata": {
        "id": "6j9nGkp_4A4h"
      }
    },
    {
      "cell_type": "code",
      "source": [
        "df_novo_inventario_bens_duraveis = df_novo_inventario_bens_duraveis.drop(['UF','ESTRATO_POF','TIPO_SITUACAO_REG','PESO','PESO_FINAL','RENDA_TOTAL'], axis=1)"
      ],
      "metadata": {
        "id": "K4YaiDjt4A4n"
      },
      "execution_count": null,
      "outputs": []
    },
    {
      "cell_type": "markdown",
      "source": [
        "## Baixar Arquivo como CSV"
      ],
      "metadata": {
        "id": "-0yRnBZ5JDs0"
      }
    },
    {
      "cell_type": "code",
      "source": [
        "df_novo_inventario_bens_duraveis.to_csv('INVENTARIO.csv', index=False)"
      ],
      "metadata": {
        "id": "SYEvTfhpJDs0"
      },
      "execution_count": null,
      "outputs": []
    },
    {
      "cell_type": "markdown",
      "source": [
        "# Tratamento do arquivo \"CADERNETA COLETIVA\""
      ],
      "metadata": {
        "id": "fmFgAqNtQb_N"
      }
    },
    {
      "cell_type": "markdown",
      "source": [
        "##Abrindo e Analisando o Arquivo"
      ],
      "metadata": {
        "id": "7AfobgTrQb_U"
      }
    },
    {
      "cell_type": "code",
      "source": [
        "caderneta_col = '/content/drive/MyDrive/POF (2017 2018)/CADERNETA_COLETIVA.txt'\n",
        "\n",
        "with open(caderneta_col, 'r') as arquivo:\n",
        "    conteudo = arquivo.readlines()\n",
        "\n",
        "# Imprimir 5 primeiras Linhas\n",
        "print(\"5 primeiras Linhas: \\n\")\n",
        "for conteudo in conteudo[:5]:\n",
        "    print(conteudo, end='')\n"
      ],
      "metadata": {
        "colab": {
          "base_uri": "https://localhost:8080/"
        },
        "outputId": "85570fb2-41c6-49c8-f7e4-0328a4cefe3a",
        "id": "6CV3vnGHQb_U"
      },
      "execution_count": null,
      "outputs": [
        {
          "output_type": "stream",
          "name": "stdout",
          "text": [
            "5 primeiras Linhas: \n",
            "\n",
            "1111031110005400 1167  16300112 3     10.890.9679675815     10.54052  272.80666931  372.98451570  11254.75    1.0001301  802    5.000  101\n",
            "1111031110005400 1167  27100201 3     92.001.0525584653     96.84052  272.80666931  372.98451570  11254.75    4.0004806         4.000  101\n",
            "1111031110005400 1167  38300101 3     60.000.9956647330     59.74052  272.80666931  372.98451570  11254.75    2.000 201         8.828  101\n",
            "1111031110005400 1167  46400601 3      5.001.1753841091      5.88052  272.80666931  372.98451570  11254.75    2.0004806         2.000  101\n",
            "1111031110005400 1167  56900901 3      7.800.9891122765      7.72052  272.80666931  372.98451570  11254.75    1.000 201         0.270  101\n"
          ]
        }
      ]
    },
    {
      "cell_type": "code",
      "source": [
        "with open(caderneta_col, 'r') as arquivo:\n",
        "    conteudo = arquivo.readlines()\n",
        "\n",
        "# descobrir quantas Linhas tem o arquivo\n",
        "cont = 0\n",
        "for linha in conteudo:\n",
        "    cont += 1\n",
        "\n",
        "# descobrir quantos caracteres tem a primeira Linha\n",
        "cont_char = 0\n",
        "for i, linha in enumerate(conteudo[:1], start=1):\n",
        "    num_caracteres = len(linha)\n",
        "\n",
        "# descobrir se o restante das linhas tem a mesma qtd de caracteres da primeira linha\n",
        "primeira_linha = conteudo[0]\n",
        "todas_as_linhas_iguais = all(len(linha) == len(primeira_linha) for linha in conteudo)\n",
        "\n",
        "print(\"Total de linhas: \", cont)\n",
        "print(\"Total de caracteres da primeira linha: \", num_caracteres)\n",
        "print(\"Todas as Linhas tem o mesmo comprimento da primeira? \", todas_as_linhas_iguais)"
      ],
      "metadata": {
        "colab": {
          "base_uri": "https://localhost:8080/"
        },
        "outputId": "a8fdaf4d-352e-425a-b951-2660133427f1",
        "id": "ICoP4ZUUQb_V"
      },
      "execution_count": null,
      "outputs": [
        {
          "output_type": "stream",
          "name": "stdout",
          "text": [
            "Total de linhas:  789995\n",
            "Total de caracteres da primeira linha:  139\n",
            "Todas as Linhas tem o mesmo comprimento da primeira?  True\n"
          ]
        }
      ]
    },
    {
      "cell_type": "markdown",
      "source": [
        "##Adicionar o Separador"
      ],
      "metadata": {
        "id": "OEZq_HOGQb_V"
      }
    },
    {
      "cell_type": "code",
      "source": [
        "with open(caderneta_col, 'r') as arquivo_orig:\n",
        "    with open('nova_caderneta_coletiva.txt', 'w') as arquivo_novo:\n",
        "        for linha in arquivo_orig:\n",
        "            nova_linha = (\n",
        "                linha[:2] + ';' + # variável 1\n",
        "                linha[2:6] + ';' + # variável 2\n",
        "                linha[6:7] + ';' + # variável 3\n",
        "                linha[7:16] + ';' + # variável 4\n",
        "                linha[16:18] + ';' + # variável 5\n",
        "                linha[18:19] + ';' + # variável 6\n",
        "                linha[19:21] + ';' + # variável 7\n",
        "                linha[21:24] + ';' + # variável 8\n",
        "                linha[24:31] + ';' + # variável 9\n",
        "                linha[31:33] + ';' + # variável 10\n",
        "                linha[33:43] + ';' + # variável 11\n",
        "                linha[43:55] + ';' + # variável 12\n",
        "                linha[55:65] + ';' + # variável 13\n",
        "                linha[65:66] + ';' + # variável 14\n",
        "                linha[66:68] + ';' + # variável 15\n",
        "                linha[68:82] + ';' + # variável 16\n",
        "                linha[82:96] + ';' + # variável 17\n",
        "                linha[96:106] + ';' + # variável 18\n",
        "                linha[106:115] + ';' + # variável 19\n",
        "                linha[115:119] + ';' + # variável 20\n",
        "                linha[119:124] + ';' + # variável 21\n",
        "                linha[124:133] + ';' + # variável 22\n",
        "                linha[133:] # variável 23\n",
        "            )\n",
        "            nova_linha = nova_linha.replace(' ', '')\n",
        "            arquivo_novo.write(nova_linha)\n",
        "\n",
        "\n"
      ],
      "metadata": {
        "id": "KjZWETCiQb_V"
      },
      "execution_count": null,
      "outputs": []
    },
    {
      "cell_type": "markdown",
      "source": [
        "Conferir Processo"
      ],
      "metadata": {
        "id": "uD8f8ruKQb_V"
      }
    },
    {
      "cell_type": "code",
      "source": [
        "nova_caderneta_coletiva = \"/content/nova_caderneta_coletiva.txt\"\n",
        "\n",
        "with open(nova_caderneta_coletiva, 'r') as arquivo_novo:\n",
        "  novo_dom = arquivo_novo.readlines()\n",
        "\n",
        "# imprimir primeira linha\n",
        "for lin in novo_dom[:1]:\n",
        "  print(lin, end=\"\")"
      ],
      "metadata": {
        "colab": {
          "base_uri": "https://localhost:8080/"
        },
        "outputId": "fc654d7f-2175-4809-e7bf-4f9b2dab6ba7",
        "id": "inpegKqHQb_V"
      },
      "execution_count": null,
      "outputs": [
        {
          "output_type": "stream",
          "name": "stdout",
          "text": [
            "11;1103;1;110005400;1;1;67;1;6300112;3;10.89;0.9679675815;10.54;0;52;272.80666931;372.98451570;11254.75;1.000;1301;802;5.000;101\n"
          ]
        }
      ]
    },
    {
      "cell_type": "markdown",
      "source": [
        "Conferir Estado do Novo Arquivo"
      ],
      "metadata": {
        "id": "puqVzQvqQb_V"
      }
    },
    {
      "cell_type": "code",
      "source": [
        "with open(nova_caderneta_coletiva, 'r') as arquivo:\n",
        "    conteudo = arquivo.readlines()\n",
        "\n",
        "# Conferir Numero de Linhas\n",
        "cont = 0\n",
        "for linha in conteudo:\n",
        "    cont += 1\n",
        "\n",
        "# Conferir Total de Caracteres\n",
        "cont_char = 0\n",
        "for i, linha in enumerate(conteudo[:1], start=1):\n",
        "    num_caracteres = len(linha)\n",
        "\n",
        "# Conferir se as Linhas Ainda tem o Mesmo Numero de Caracteres\n",
        "primeira_linha = conteudo[0]\n",
        "todas_as_linhas_iguais = all(len(linha) == len(primeira_linha) for linha in conteudo)\n",
        "\n",
        "print(\"Total de linhas: \", cont)\n",
        "print(\"Total de caracteres da primeira linha: \", num_caracteres)\n",
        "print(\"Todas as Linhas tem o mesmo comprimento da primeira? \", todas_as_linhas_iguais)"
      ],
      "metadata": {
        "colab": {
          "base_uri": "https://localhost:8080/"
        },
        "outputId": "a1470f09-0e77-4186-e579-f15783d05b6b",
        "id": "o7OYdUVLQb_W"
      },
      "execution_count": null,
      "outputs": [
        {
          "output_type": "stream",
          "name": "stdout",
          "text": [
            "Total de linhas:  789995\n",
            "Total de caracteres da primeira linha:  129\n",
            "Todas as Linhas tem o mesmo comprimento da primeira?  False\n"
          ]
        }
      ]
    },
    {
      "cell_type": "markdown",
      "source": [
        "## Abrir arquivo como DataFrame, para melhor análise"
      ],
      "metadata": {
        "id": "klV3FXmYQb_W"
      }
    },
    {
      "cell_type": "code",
      "source": [
        "colunas_caderneta = [\"UF\",\"ESTRATO_POF\",\"TIPO_SITUACAO_REG\",\"COD_UPA\",\"NUM_DOM\",\n",
        "         \"NUM_UC\",\"QUADRO\",\"SEQ\",\"V9001\",\"V9002\",\"V8000\",\"DEFLATOR\",\n",
        "    \"V8000_DEFLA\",\"COD_IMPUT_VALOR\",\"FATOR_ANUALIZACAO\",\"PESO\",\n",
        "    \"PESO_FINAL\",\"RENDA_TOTAL\",\"V9005\",\"V9007\",\"V9009\",\"QTD_FINAL\",\"V9004\"\n",
        "]"
      ],
      "metadata": {
        "id": "XPbPmfZCQb_W"
      },
      "execution_count": null,
      "outputs": []
    },
    {
      "cell_type": "code",
      "source": [
        "df_nova_caderneta_coletiva = pd.read_csv(nova_caderneta_coletiva, sep=';', names = colunas_caderneta, dtype=tipos_colunas_caderneta, dtype='object')"
      ],
      "metadata": {
        "id": "G-atidP3Qb_W"
      },
      "execution_count": null,
      "outputs": []
    },
    {
      "cell_type": "code",
      "source": [
        "df_nova_caderneta_coletiva.info()"
      ],
      "metadata": {
        "colab": {
          "base_uri": "https://localhost:8080/"
        },
        "outputId": "307511af-2bb6-4102-b3af-ead129e6e6cd",
        "id": "RyOzXCU2Qb_W"
      },
      "execution_count": null,
      "outputs": [
        {
          "output_type": "stream",
          "name": "stdout",
          "text": [
            "<class 'pandas.core.frame.DataFrame'>\n",
            "RangeIndex: 789995 entries, 0 to 789994\n",
            "Data columns (total 23 columns):\n",
            " #   Column             Non-Null Count   Dtype  \n",
            "---  ------             --------------   -----  \n",
            " 0   UF                 789995 non-null  int64  \n",
            " 1   ESTRATO_POF        789995 non-null  int64  \n",
            " 2   TIPO_SITUACAO_REG  789995 non-null  int64  \n",
            " 3   COD_UPA            789995 non-null  int64  \n",
            " 4   NUM_DOM            789995 non-null  int64  \n",
            " 5   NUM_UC             789995 non-null  int64  \n",
            " 6   QUADRO             789995 non-null  int64  \n",
            " 7   SEQ                789995 non-null  int64  \n",
            " 8   V9001              789995 non-null  object \n",
            " 9   V9002              789995 non-null  int64  \n",
            " 10  V8000              789995 non-null  float64\n",
            " 11  DEFLATOR           735853 non-null  float64\n",
            " 12  V8000_DEFLA        789995 non-null  float64\n",
            " 13  COD_IMPUT_VALOR    789995 non-null  int64  \n",
            " 14  FATOR_ANUALIZACAO  789995 non-null  int64  \n",
            " 15  PESO               789995 non-null  float64\n",
            " 16  PESO_FINAL         789995 non-null  float64\n",
            " 17  RENDA_TOTAL        789995 non-null  float64\n",
            " 18  V9005              725943 non-null  float64\n",
            " 19  V9007              725943 non-null  object \n",
            " 20  V9009              279618 non-null  object \n",
            " 21  QTD_FINAL          718561 non-null  float64\n",
            " 22  V9004              789995 non-null  object \n",
            "dtypes: float64(8), int64(11), object(4)\n",
            "memory usage: 138.6+ MB\n"
          ]
        }
      ]
    },
    {
      "cell_type": "code",
      "source": [
        "df_nova_caderneta_coletiva.head()"
      ],
      "metadata": {
        "colab": {
          "base_uri": "https://localhost:8080/",
          "height": 256
        },
        "outputId": "68f7f473-bf86-4b46-bea9-b14a8136b384",
        "id": "RnpBSc3wQb_W"
      },
      "execution_count": null,
      "outputs": [
        {
          "output_type": "execute_result",
          "data": {
            "text/plain": [
              "   UF  ESTRATO_POF  TIPO_SITUACAO_REG    COD_UPA  NUM_DOM  NUM_UC  QUADRO  \\\n",
              "0  11         1103                  1  110005400        1       1      67   \n",
              "1  11         1103                  1  110005400        1       1      67   \n",
              "2  11         1103                  1  110005400        1       1      67   \n",
              "3  11         1103                  1  110005400        1       1      67   \n",
              "4  11         1103                  1  110005400        1       1      67   \n",
              "\n",
              "   SEQ    V9001  V9002  ...  COD_IMPUT_VALOR  FATOR_ANUALIZACAO        PESO  \\\n",
              "0    1  6300112      3  ...                0                 52  272.806669   \n",
              "1    2  7100201      3  ...                0                 52  272.806669   \n",
              "2    3  8300101      3  ...                0                 52  272.806669   \n",
              "3    4  6400601      3  ...                0                 52  272.806669   \n",
              "4    5  6900901      3  ...                0                 52  272.806669   \n",
              "\n",
              "   PESO_FINAL  RENDA_TOTAL  V9005  V9007  V9009  QTD_FINAL V9004  \n",
              "0  372.984516     11254.75    1.0   1301    802      5.000   101  \n",
              "1  372.984516     11254.75    4.0   4806    NaN      4.000   101  \n",
              "2  372.984516     11254.75    2.0    201    NaN      8.828   101  \n",
              "3  372.984516     11254.75    2.0   4806    NaN      2.000   101  \n",
              "4  372.984516     11254.75    1.0    201    NaN      0.270   101  \n",
              "\n",
              "[5 rows x 23 columns]"
            ],
            "text/html": [
              "\n",
              "  <div id=\"df-98080ada-ebf4-4c6e-8334-e0d43db9bfc7\" class=\"colab-df-container\">\n",
              "    <div>\n",
              "<style scoped>\n",
              "    .dataframe tbody tr th:only-of-type {\n",
              "        vertical-align: middle;\n",
              "    }\n",
              "\n",
              "    .dataframe tbody tr th {\n",
              "        vertical-align: top;\n",
              "    }\n",
              "\n",
              "    .dataframe thead th {\n",
              "        text-align: right;\n",
              "    }\n",
              "</style>\n",
              "<table border=\"1\" class=\"dataframe\">\n",
              "  <thead>\n",
              "    <tr style=\"text-align: right;\">\n",
              "      <th></th>\n",
              "      <th>UF</th>\n",
              "      <th>ESTRATO_POF</th>\n",
              "      <th>TIPO_SITUACAO_REG</th>\n",
              "      <th>COD_UPA</th>\n",
              "      <th>NUM_DOM</th>\n",
              "      <th>NUM_UC</th>\n",
              "      <th>QUADRO</th>\n",
              "      <th>SEQ</th>\n",
              "      <th>V9001</th>\n",
              "      <th>V9002</th>\n",
              "      <th>...</th>\n",
              "      <th>COD_IMPUT_VALOR</th>\n",
              "      <th>FATOR_ANUALIZACAO</th>\n",
              "      <th>PESO</th>\n",
              "      <th>PESO_FINAL</th>\n",
              "      <th>RENDA_TOTAL</th>\n",
              "      <th>V9005</th>\n",
              "      <th>V9007</th>\n",
              "      <th>V9009</th>\n",
              "      <th>QTD_FINAL</th>\n",
              "      <th>V9004</th>\n",
              "    </tr>\n",
              "  </thead>\n",
              "  <tbody>\n",
              "    <tr>\n",
              "      <th>0</th>\n",
              "      <td>11</td>\n",
              "      <td>1103</td>\n",
              "      <td>1</td>\n",
              "      <td>110005400</td>\n",
              "      <td>1</td>\n",
              "      <td>1</td>\n",
              "      <td>67</td>\n",
              "      <td>1</td>\n",
              "      <td>6300112</td>\n",
              "      <td>3</td>\n",
              "      <td>...</td>\n",
              "      <td>0</td>\n",
              "      <td>52</td>\n",
              "      <td>272.806669</td>\n",
              "      <td>372.984516</td>\n",
              "      <td>11254.75</td>\n",
              "      <td>1.0</td>\n",
              "      <td>1301</td>\n",
              "      <td>802</td>\n",
              "      <td>5.000</td>\n",
              "      <td>101</td>\n",
              "    </tr>\n",
              "    <tr>\n",
              "      <th>1</th>\n",
              "      <td>11</td>\n",
              "      <td>1103</td>\n",
              "      <td>1</td>\n",
              "      <td>110005400</td>\n",
              "      <td>1</td>\n",
              "      <td>1</td>\n",
              "      <td>67</td>\n",
              "      <td>2</td>\n",
              "      <td>7100201</td>\n",
              "      <td>3</td>\n",
              "      <td>...</td>\n",
              "      <td>0</td>\n",
              "      <td>52</td>\n",
              "      <td>272.806669</td>\n",
              "      <td>372.984516</td>\n",
              "      <td>11254.75</td>\n",
              "      <td>4.0</td>\n",
              "      <td>4806</td>\n",
              "      <td>NaN</td>\n",
              "      <td>4.000</td>\n",
              "      <td>101</td>\n",
              "    </tr>\n",
              "    <tr>\n",
              "      <th>2</th>\n",
              "      <td>11</td>\n",
              "      <td>1103</td>\n",
              "      <td>1</td>\n",
              "      <td>110005400</td>\n",
              "      <td>1</td>\n",
              "      <td>1</td>\n",
              "      <td>67</td>\n",
              "      <td>3</td>\n",
              "      <td>8300101</td>\n",
              "      <td>3</td>\n",
              "      <td>...</td>\n",
              "      <td>0</td>\n",
              "      <td>52</td>\n",
              "      <td>272.806669</td>\n",
              "      <td>372.984516</td>\n",
              "      <td>11254.75</td>\n",
              "      <td>2.0</td>\n",
              "      <td>201</td>\n",
              "      <td>NaN</td>\n",
              "      <td>8.828</td>\n",
              "      <td>101</td>\n",
              "    </tr>\n",
              "    <tr>\n",
              "      <th>3</th>\n",
              "      <td>11</td>\n",
              "      <td>1103</td>\n",
              "      <td>1</td>\n",
              "      <td>110005400</td>\n",
              "      <td>1</td>\n",
              "      <td>1</td>\n",
              "      <td>67</td>\n",
              "      <td>4</td>\n",
              "      <td>6400601</td>\n",
              "      <td>3</td>\n",
              "      <td>...</td>\n",
              "      <td>0</td>\n",
              "      <td>52</td>\n",
              "      <td>272.806669</td>\n",
              "      <td>372.984516</td>\n",
              "      <td>11254.75</td>\n",
              "      <td>2.0</td>\n",
              "      <td>4806</td>\n",
              "      <td>NaN</td>\n",
              "      <td>2.000</td>\n",
              "      <td>101</td>\n",
              "    </tr>\n",
              "    <tr>\n",
              "      <th>4</th>\n",
              "      <td>11</td>\n",
              "      <td>1103</td>\n",
              "      <td>1</td>\n",
              "      <td>110005400</td>\n",
              "      <td>1</td>\n",
              "      <td>1</td>\n",
              "      <td>67</td>\n",
              "      <td>5</td>\n",
              "      <td>6900901</td>\n",
              "      <td>3</td>\n",
              "      <td>...</td>\n",
              "      <td>0</td>\n",
              "      <td>52</td>\n",
              "      <td>272.806669</td>\n",
              "      <td>372.984516</td>\n",
              "      <td>11254.75</td>\n",
              "      <td>1.0</td>\n",
              "      <td>201</td>\n",
              "      <td>NaN</td>\n",
              "      <td>0.270</td>\n",
              "      <td>101</td>\n",
              "    </tr>\n",
              "  </tbody>\n",
              "</table>\n",
              "<p>5 rows × 23 columns</p>\n",
              "</div>\n",
              "    <div class=\"colab-df-buttons\">\n",
              "\n",
              "  <div class=\"colab-df-container\">\n",
              "    <button class=\"colab-df-convert\" onclick=\"convertToInteractive('df-98080ada-ebf4-4c6e-8334-e0d43db9bfc7')\"\n",
              "            title=\"Convert this dataframe to an interactive table.\"\n",
              "            style=\"display:none;\">\n",
              "\n",
              "  <svg xmlns=\"http://www.w3.org/2000/svg\" height=\"24px\" viewBox=\"0 -960 960 960\">\n",
              "    <path d=\"M120-120v-720h720v720H120Zm60-500h600v-160H180v160Zm220 220h160v-160H400v160Zm0 220h160v-160H400v160ZM180-400h160v-160H180v160Zm440 0h160v-160H620v160ZM180-180h160v-160H180v160Zm440 0h160v-160H620v160Z\"/>\n",
              "  </svg>\n",
              "    </button>\n",
              "\n",
              "  <style>\n",
              "    .colab-df-container {\n",
              "      display:flex;\n",
              "      gap: 12px;\n",
              "    }\n",
              "\n",
              "    .colab-df-convert {\n",
              "      background-color: #E8F0FE;\n",
              "      border: none;\n",
              "      border-radius: 50%;\n",
              "      cursor: pointer;\n",
              "      display: none;\n",
              "      fill: #1967D2;\n",
              "      height: 32px;\n",
              "      padding: 0 0 0 0;\n",
              "      width: 32px;\n",
              "    }\n",
              "\n",
              "    .colab-df-convert:hover {\n",
              "      background-color: #E2EBFA;\n",
              "      box-shadow: 0px 1px 2px rgba(60, 64, 67, 0.3), 0px 1px 3px 1px rgba(60, 64, 67, 0.15);\n",
              "      fill: #174EA6;\n",
              "    }\n",
              "\n",
              "    .colab-df-buttons div {\n",
              "      margin-bottom: 4px;\n",
              "    }\n",
              "\n",
              "    [theme=dark] .colab-df-convert {\n",
              "      background-color: #3B4455;\n",
              "      fill: #D2E3FC;\n",
              "    }\n",
              "\n",
              "    [theme=dark] .colab-df-convert:hover {\n",
              "      background-color: #434B5C;\n",
              "      box-shadow: 0px 1px 3px 1px rgba(0, 0, 0, 0.15);\n",
              "      filter: drop-shadow(0px 1px 2px rgba(0, 0, 0, 0.3));\n",
              "      fill: #FFFFFF;\n",
              "    }\n",
              "  </style>\n",
              "\n",
              "    <script>\n",
              "      const buttonEl =\n",
              "        document.querySelector('#df-98080ada-ebf4-4c6e-8334-e0d43db9bfc7 button.colab-df-convert');\n",
              "      buttonEl.style.display =\n",
              "        google.colab.kernel.accessAllowed ? 'block' : 'none';\n",
              "\n",
              "      async function convertToInteractive(key) {\n",
              "        const element = document.querySelector('#df-98080ada-ebf4-4c6e-8334-e0d43db9bfc7');\n",
              "        const dataTable =\n",
              "          await google.colab.kernel.invokeFunction('convertToInteractive',\n",
              "                                                    [key], {});\n",
              "        if (!dataTable) return;\n",
              "\n",
              "        const docLinkHtml = 'Like what you see? Visit the ' +\n",
              "          '<a target=\"_blank\" href=https://colab.research.google.com/notebooks/data_table.ipynb>data table notebook</a>'\n",
              "          + ' to learn more about interactive tables.';\n",
              "        element.innerHTML = '';\n",
              "        dataTable['output_type'] = 'display_data';\n",
              "        await google.colab.output.renderOutput(dataTable, element);\n",
              "        const docLink = document.createElement('div');\n",
              "        docLink.innerHTML = docLinkHtml;\n",
              "        element.appendChild(docLink);\n",
              "      }\n",
              "    </script>\n",
              "  </div>\n",
              "\n",
              "\n",
              "<div id=\"df-6209b430-cb6e-481b-81c8-f3a5eb9cdc4c\">\n",
              "  <button class=\"colab-df-quickchart\" onclick=\"quickchart('df-6209b430-cb6e-481b-81c8-f3a5eb9cdc4c')\"\n",
              "            title=\"Suggest charts.\"\n",
              "            style=\"display:none;\">\n",
              "\n",
              "<svg xmlns=\"http://www.w3.org/2000/svg\" height=\"24px\"viewBox=\"0 0 24 24\"\n",
              "     width=\"24px\">\n",
              "    <g>\n",
              "        <path d=\"M19 3H5c-1.1 0-2 .9-2 2v14c0 1.1.9 2 2 2h14c1.1 0 2-.9 2-2V5c0-1.1-.9-2-2-2zM9 17H7v-7h2v7zm4 0h-2V7h2v10zm4 0h-2v-4h2v4z\"/>\n",
              "    </g>\n",
              "</svg>\n",
              "  </button>\n",
              "\n",
              "<style>\n",
              "  .colab-df-quickchart {\n",
              "      --bg-color: #E8F0FE;\n",
              "      --fill-color: #1967D2;\n",
              "      --hover-bg-color: #E2EBFA;\n",
              "      --hover-fill-color: #174EA6;\n",
              "      --disabled-fill-color: #AAA;\n",
              "      --disabled-bg-color: #DDD;\n",
              "  }\n",
              "\n",
              "  [theme=dark] .colab-df-quickchart {\n",
              "      --bg-color: #3B4455;\n",
              "      --fill-color: #D2E3FC;\n",
              "      --hover-bg-color: #434B5C;\n",
              "      --hover-fill-color: #FFFFFF;\n",
              "      --disabled-bg-color: #3B4455;\n",
              "      --disabled-fill-color: #666;\n",
              "  }\n",
              "\n",
              "  .colab-df-quickchart {\n",
              "    background-color: var(--bg-color);\n",
              "    border: none;\n",
              "    border-radius: 50%;\n",
              "    cursor: pointer;\n",
              "    display: none;\n",
              "    fill: var(--fill-color);\n",
              "    height: 32px;\n",
              "    padding: 0;\n",
              "    width: 32px;\n",
              "  }\n",
              "\n",
              "  .colab-df-quickchart:hover {\n",
              "    background-color: var(--hover-bg-color);\n",
              "    box-shadow: 0 1px 2px rgba(60, 64, 67, 0.3), 0 1px 3px 1px rgba(60, 64, 67, 0.15);\n",
              "    fill: var(--button-hover-fill-color);\n",
              "  }\n",
              "\n",
              "  .colab-df-quickchart-complete:disabled,\n",
              "  .colab-df-quickchart-complete:disabled:hover {\n",
              "    background-color: var(--disabled-bg-color);\n",
              "    fill: var(--disabled-fill-color);\n",
              "    box-shadow: none;\n",
              "  }\n",
              "\n",
              "  .colab-df-spinner {\n",
              "    border: 2px solid var(--fill-color);\n",
              "    border-color: transparent;\n",
              "    border-bottom-color: var(--fill-color);\n",
              "    animation:\n",
              "      spin 1s steps(1) infinite;\n",
              "  }\n",
              "\n",
              "  @keyframes spin {\n",
              "    0% {\n",
              "      border-color: transparent;\n",
              "      border-bottom-color: var(--fill-color);\n",
              "      border-left-color: var(--fill-color);\n",
              "    }\n",
              "    20% {\n",
              "      border-color: transparent;\n",
              "      border-left-color: var(--fill-color);\n",
              "      border-top-color: var(--fill-color);\n",
              "    }\n",
              "    30% {\n",
              "      border-color: transparent;\n",
              "      border-left-color: var(--fill-color);\n",
              "      border-top-color: var(--fill-color);\n",
              "      border-right-color: var(--fill-color);\n",
              "    }\n",
              "    40% {\n",
              "      border-color: transparent;\n",
              "      border-right-color: var(--fill-color);\n",
              "      border-top-color: var(--fill-color);\n",
              "    }\n",
              "    60% {\n",
              "      border-color: transparent;\n",
              "      border-right-color: var(--fill-color);\n",
              "    }\n",
              "    80% {\n",
              "      border-color: transparent;\n",
              "      border-right-color: var(--fill-color);\n",
              "      border-bottom-color: var(--fill-color);\n",
              "    }\n",
              "    90% {\n",
              "      border-color: transparent;\n",
              "      border-bottom-color: var(--fill-color);\n",
              "    }\n",
              "  }\n",
              "</style>\n",
              "\n",
              "  <script>\n",
              "    async function quickchart(key) {\n",
              "      const quickchartButtonEl =\n",
              "        document.querySelector('#' + key + ' button');\n",
              "      quickchartButtonEl.disabled = true;  // To prevent multiple clicks.\n",
              "      quickchartButtonEl.classList.add('colab-df-spinner');\n",
              "      try {\n",
              "        const charts = await google.colab.kernel.invokeFunction(\n",
              "            'suggestCharts', [key], {});\n",
              "      } catch (error) {\n",
              "        console.error('Error during call to suggestCharts:', error);\n",
              "      }\n",
              "      quickchartButtonEl.classList.remove('colab-df-spinner');\n",
              "      quickchartButtonEl.classList.add('colab-df-quickchart-complete');\n",
              "    }\n",
              "    (() => {\n",
              "      let quickchartButtonEl =\n",
              "        document.querySelector('#df-6209b430-cb6e-481b-81c8-f3a5eb9cdc4c button');\n",
              "      quickchartButtonEl.style.display =\n",
              "        google.colab.kernel.accessAllowed ? 'block' : 'none';\n",
              "    })();\n",
              "  </script>\n",
              "</div>\n",
              "    </div>\n",
              "  </div>\n"
            ]
          },
          "metadata": {},
          "execution_count": 99
        }
      ]
    },
    {
      "cell_type": "code",
      "source": [
        "df_nova_caderneta_coletiva['V9004'] = df_nova_caderneta_coletiva['V9004'].str.zfill(5)"
      ],
      "metadata": {
        "id": "eFPT-U1ADWv4"
      },
      "execution_count": null,
      "outputs": []
    },
    {
      "cell_type": "code",
      "source": [
        "df_nova_caderneta_coletiva['V9009'] = df_nova_caderneta_coletiva['V9009'].str.zfill(5)"
      ],
      "metadata": {
        "id": "CrDbT2AyFoIS"
      },
      "execution_count": null,
      "outputs": []
    },
    {
      "cell_type": "code",
      "source": [
        "df_nova_caderneta_coletiva.head()"
      ],
      "metadata": {
        "colab": {
          "base_uri": "https://localhost:8080/",
          "height": 256
        },
        "id": "Temx5AlqDhhi",
        "outputId": "5554ae75-175a-4465-e56a-3ab121bdcabe"
      },
      "execution_count": null,
      "outputs": [
        {
          "output_type": "execute_result",
          "data": {
            "text/plain": [
              "   UF  ESTRATO_POF  TIPO_SITUACAO_REG    COD_UPA  NUM_DOM  NUM_UC  QUADRO  \\\n",
              "0  11         1103                  1  110005400        1       1      67   \n",
              "1  11         1103                  1  110005400        1       1      67   \n",
              "2  11         1103                  1  110005400        1       1      67   \n",
              "3  11         1103                  1  110005400        1       1      67   \n",
              "4  11         1103                  1  110005400        1       1      67   \n",
              "\n",
              "   SEQ    V9001  V9002  ...  COD_IMPUT_VALOR  FATOR_ANUALIZACAO        PESO  \\\n",
              "0    1  6300112      3  ...                0                 52  272.806669   \n",
              "1    2  7100201      3  ...                0                 52  272.806669   \n",
              "2    3  8300101      3  ...                0                 52  272.806669   \n",
              "3    4  6400601      3  ...                0                 52  272.806669   \n",
              "4    5  6900901      3  ...                0                 52  272.806669   \n",
              "\n",
              "   PESO_FINAL  RENDA_TOTAL  V9005  V9007  V9009  QTD_FINAL  V9004  \n",
              "0  372.984516     11254.75    1.0   1301  00802      5.000  00101  \n",
              "1  372.984516     11254.75    4.0   4806    NaN      4.000  00101  \n",
              "2  372.984516     11254.75    2.0    201    NaN      8.828  00101  \n",
              "3  372.984516     11254.75    2.0   4806    NaN      2.000  00101  \n",
              "4  372.984516     11254.75    1.0    201    NaN      0.270  00101  \n",
              "\n",
              "[5 rows x 23 columns]"
            ],
            "text/html": [
              "\n",
              "  <div id=\"df-40683f8d-e64b-4273-bc0f-34c36f4c649c\" class=\"colab-df-container\">\n",
              "    <div>\n",
              "<style scoped>\n",
              "    .dataframe tbody tr th:only-of-type {\n",
              "        vertical-align: middle;\n",
              "    }\n",
              "\n",
              "    .dataframe tbody tr th {\n",
              "        vertical-align: top;\n",
              "    }\n",
              "\n",
              "    .dataframe thead th {\n",
              "        text-align: right;\n",
              "    }\n",
              "</style>\n",
              "<table border=\"1\" class=\"dataframe\">\n",
              "  <thead>\n",
              "    <tr style=\"text-align: right;\">\n",
              "      <th></th>\n",
              "      <th>UF</th>\n",
              "      <th>ESTRATO_POF</th>\n",
              "      <th>TIPO_SITUACAO_REG</th>\n",
              "      <th>COD_UPA</th>\n",
              "      <th>NUM_DOM</th>\n",
              "      <th>NUM_UC</th>\n",
              "      <th>QUADRO</th>\n",
              "      <th>SEQ</th>\n",
              "      <th>V9001</th>\n",
              "      <th>V9002</th>\n",
              "      <th>...</th>\n",
              "      <th>COD_IMPUT_VALOR</th>\n",
              "      <th>FATOR_ANUALIZACAO</th>\n",
              "      <th>PESO</th>\n",
              "      <th>PESO_FINAL</th>\n",
              "      <th>RENDA_TOTAL</th>\n",
              "      <th>V9005</th>\n",
              "      <th>V9007</th>\n",
              "      <th>V9009</th>\n",
              "      <th>QTD_FINAL</th>\n",
              "      <th>V9004</th>\n",
              "    </tr>\n",
              "  </thead>\n",
              "  <tbody>\n",
              "    <tr>\n",
              "      <th>0</th>\n",
              "      <td>11</td>\n",
              "      <td>1103</td>\n",
              "      <td>1</td>\n",
              "      <td>110005400</td>\n",
              "      <td>1</td>\n",
              "      <td>1</td>\n",
              "      <td>67</td>\n",
              "      <td>1</td>\n",
              "      <td>6300112</td>\n",
              "      <td>3</td>\n",
              "      <td>...</td>\n",
              "      <td>0</td>\n",
              "      <td>52</td>\n",
              "      <td>272.806669</td>\n",
              "      <td>372.984516</td>\n",
              "      <td>11254.75</td>\n",
              "      <td>1.0</td>\n",
              "      <td>1301</td>\n",
              "      <td>00802</td>\n",
              "      <td>5.000</td>\n",
              "      <td>00101</td>\n",
              "    </tr>\n",
              "    <tr>\n",
              "      <th>1</th>\n",
              "      <td>11</td>\n",
              "      <td>1103</td>\n",
              "      <td>1</td>\n",
              "      <td>110005400</td>\n",
              "      <td>1</td>\n",
              "      <td>1</td>\n",
              "      <td>67</td>\n",
              "      <td>2</td>\n",
              "      <td>7100201</td>\n",
              "      <td>3</td>\n",
              "      <td>...</td>\n",
              "      <td>0</td>\n",
              "      <td>52</td>\n",
              "      <td>272.806669</td>\n",
              "      <td>372.984516</td>\n",
              "      <td>11254.75</td>\n",
              "      <td>4.0</td>\n",
              "      <td>4806</td>\n",
              "      <td>NaN</td>\n",
              "      <td>4.000</td>\n",
              "      <td>00101</td>\n",
              "    </tr>\n",
              "    <tr>\n",
              "      <th>2</th>\n",
              "      <td>11</td>\n",
              "      <td>1103</td>\n",
              "      <td>1</td>\n",
              "      <td>110005400</td>\n",
              "      <td>1</td>\n",
              "      <td>1</td>\n",
              "      <td>67</td>\n",
              "      <td>3</td>\n",
              "      <td>8300101</td>\n",
              "      <td>3</td>\n",
              "      <td>...</td>\n",
              "      <td>0</td>\n",
              "      <td>52</td>\n",
              "      <td>272.806669</td>\n",
              "      <td>372.984516</td>\n",
              "      <td>11254.75</td>\n",
              "      <td>2.0</td>\n",
              "      <td>201</td>\n",
              "      <td>NaN</td>\n",
              "      <td>8.828</td>\n",
              "      <td>00101</td>\n",
              "    </tr>\n",
              "    <tr>\n",
              "      <th>3</th>\n",
              "      <td>11</td>\n",
              "      <td>1103</td>\n",
              "      <td>1</td>\n",
              "      <td>110005400</td>\n",
              "      <td>1</td>\n",
              "      <td>1</td>\n",
              "      <td>67</td>\n",
              "      <td>4</td>\n",
              "      <td>6400601</td>\n",
              "      <td>3</td>\n",
              "      <td>...</td>\n",
              "      <td>0</td>\n",
              "      <td>52</td>\n",
              "      <td>272.806669</td>\n",
              "      <td>372.984516</td>\n",
              "      <td>11254.75</td>\n",
              "      <td>2.0</td>\n",
              "      <td>4806</td>\n",
              "      <td>NaN</td>\n",
              "      <td>2.000</td>\n",
              "      <td>00101</td>\n",
              "    </tr>\n",
              "    <tr>\n",
              "      <th>4</th>\n",
              "      <td>11</td>\n",
              "      <td>1103</td>\n",
              "      <td>1</td>\n",
              "      <td>110005400</td>\n",
              "      <td>1</td>\n",
              "      <td>1</td>\n",
              "      <td>67</td>\n",
              "      <td>5</td>\n",
              "      <td>6900901</td>\n",
              "      <td>3</td>\n",
              "      <td>...</td>\n",
              "      <td>0</td>\n",
              "      <td>52</td>\n",
              "      <td>272.806669</td>\n",
              "      <td>372.984516</td>\n",
              "      <td>11254.75</td>\n",
              "      <td>1.0</td>\n",
              "      <td>201</td>\n",
              "      <td>NaN</td>\n",
              "      <td>0.270</td>\n",
              "      <td>00101</td>\n",
              "    </tr>\n",
              "  </tbody>\n",
              "</table>\n",
              "<p>5 rows × 23 columns</p>\n",
              "</div>\n",
              "    <div class=\"colab-df-buttons\">\n",
              "\n",
              "  <div class=\"colab-df-container\">\n",
              "    <button class=\"colab-df-convert\" onclick=\"convertToInteractive('df-40683f8d-e64b-4273-bc0f-34c36f4c649c')\"\n",
              "            title=\"Convert this dataframe to an interactive table.\"\n",
              "            style=\"display:none;\">\n",
              "\n",
              "  <svg xmlns=\"http://www.w3.org/2000/svg\" height=\"24px\" viewBox=\"0 -960 960 960\">\n",
              "    <path d=\"M120-120v-720h720v720H120Zm60-500h600v-160H180v160Zm220 220h160v-160H400v160Zm0 220h160v-160H400v160ZM180-400h160v-160H180v160Zm440 0h160v-160H620v160ZM180-180h160v-160H180v160Zm440 0h160v-160H620v160Z\"/>\n",
              "  </svg>\n",
              "    </button>\n",
              "\n",
              "  <style>\n",
              "    .colab-df-container {\n",
              "      display:flex;\n",
              "      gap: 12px;\n",
              "    }\n",
              "\n",
              "    .colab-df-convert {\n",
              "      background-color: #E8F0FE;\n",
              "      border: none;\n",
              "      border-radius: 50%;\n",
              "      cursor: pointer;\n",
              "      display: none;\n",
              "      fill: #1967D2;\n",
              "      height: 32px;\n",
              "      padding: 0 0 0 0;\n",
              "      width: 32px;\n",
              "    }\n",
              "\n",
              "    .colab-df-convert:hover {\n",
              "      background-color: #E2EBFA;\n",
              "      box-shadow: 0px 1px 2px rgba(60, 64, 67, 0.3), 0px 1px 3px 1px rgba(60, 64, 67, 0.15);\n",
              "      fill: #174EA6;\n",
              "    }\n",
              "\n",
              "    .colab-df-buttons div {\n",
              "      margin-bottom: 4px;\n",
              "    }\n",
              "\n",
              "    [theme=dark] .colab-df-convert {\n",
              "      background-color: #3B4455;\n",
              "      fill: #D2E3FC;\n",
              "    }\n",
              "\n",
              "    [theme=dark] .colab-df-convert:hover {\n",
              "      background-color: #434B5C;\n",
              "      box-shadow: 0px 1px 3px 1px rgba(0, 0, 0, 0.15);\n",
              "      filter: drop-shadow(0px 1px 2px rgba(0, 0, 0, 0.3));\n",
              "      fill: #FFFFFF;\n",
              "    }\n",
              "  </style>\n",
              "\n",
              "    <script>\n",
              "      const buttonEl =\n",
              "        document.querySelector('#df-40683f8d-e64b-4273-bc0f-34c36f4c649c button.colab-df-convert');\n",
              "      buttonEl.style.display =\n",
              "        google.colab.kernel.accessAllowed ? 'block' : 'none';\n",
              "\n",
              "      async function convertToInteractive(key) {\n",
              "        const element = document.querySelector('#df-40683f8d-e64b-4273-bc0f-34c36f4c649c');\n",
              "        const dataTable =\n",
              "          await google.colab.kernel.invokeFunction('convertToInteractive',\n",
              "                                                    [key], {});\n",
              "        if (!dataTable) return;\n",
              "\n",
              "        const docLinkHtml = 'Like what you see? Visit the ' +\n",
              "          '<a target=\"_blank\" href=https://colab.research.google.com/notebooks/data_table.ipynb>data table notebook</a>'\n",
              "          + ' to learn more about interactive tables.';\n",
              "        element.innerHTML = '';\n",
              "        dataTable['output_type'] = 'display_data';\n",
              "        await google.colab.output.renderOutput(dataTable, element);\n",
              "        const docLink = document.createElement('div');\n",
              "        docLink.innerHTML = docLinkHtml;\n",
              "        element.appendChild(docLink);\n",
              "      }\n",
              "    </script>\n",
              "  </div>\n",
              "\n",
              "\n",
              "<div id=\"df-557e4b0c-bc25-4933-bcc1-11867acc2957\">\n",
              "  <button class=\"colab-df-quickchart\" onclick=\"quickchart('df-557e4b0c-bc25-4933-bcc1-11867acc2957')\"\n",
              "            title=\"Suggest charts.\"\n",
              "            style=\"display:none;\">\n",
              "\n",
              "<svg xmlns=\"http://www.w3.org/2000/svg\" height=\"24px\"viewBox=\"0 0 24 24\"\n",
              "     width=\"24px\">\n",
              "    <g>\n",
              "        <path d=\"M19 3H5c-1.1 0-2 .9-2 2v14c0 1.1.9 2 2 2h14c1.1 0 2-.9 2-2V5c0-1.1-.9-2-2-2zM9 17H7v-7h2v7zm4 0h-2V7h2v10zm4 0h-2v-4h2v4z\"/>\n",
              "    </g>\n",
              "</svg>\n",
              "  </button>\n",
              "\n",
              "<style>\n",
              "  .colab-df-quickchart {\n",
              "      --bg-color: #E8F0FE;\n",
              "      --fill-color: #1967D2;\n",
              "      --hover-bg-color: #E2EBFA;\n",
              "      --hover-fill-color: #174EA6;\n",
              "      --disabled-fill-color: #AAA;\n",
              "      --disabled-bg-color: #DDD;\n",
              "  }\n",
              "\n",
              "  [theme=dark] .colab-df-quickchart {\n",
              "      --bg-color: #3B4455;\n",
              "      --fill-color: #D2E3FC;\n",
              "      --hover-bg-color: #434B5C;\n",
              "      --hover-fill-color: #FFFFFF;\n",
              "      --disabled-bg-color: #3B4455;\n",
              "      --disabled-fill-color: #666;\n",
              "  }\n",
              "\n",
              "  .colab-df-quickchart {\n",
              "    background-color: var(--bg-color);\n",
              "    border: none;\n",
              "    border-radius: 50%;\n",
              "    cursor: pointer;\n",
              "    display: none;\n",
              "    fill: var(--fill-color);\n",
              "    height: 32px;\n",
              "    padding: 0;\n",
              "    width: 32px;\n",
              "  }\n",
              "\n",
              "  .colab-df-quickchart:hover {\n",
              "    background-color: var(--hover-bg-color);\n",
              "    box-shadow: 0 1px 2px rgba(60, 64, 67, 0.3), 0 1px 3px 1px rgba(60, 64, 67, 0.15);\n",
              "    fill: var(--button-hover-fill-color);\n",
              "  }\n",
              "\n",
              "  .colab-df-quickchart-complete:disabled,\n",
              "  .colab-df-quickchart-complete:disabled:hover {\n",
              "    background-color: var(--disabled-bg-color);\n",
              "    fill: var(--disabled-fill-color);\n",
              "    box-shadow: none;\n",
              "  }\n",
              "\n",
              "  .colab-df-spinner {\n",
              "    border: 2px solid var(--fill-color);\n",
              "    border-color: transparent;\n",
              "    border-bottom-color: var(--fill-color);\n",
              "    animation:\n",
              "      spin 1s steps(1) infinite;\n",
              "  }\n",
              "\n",
              "  @keyframes spin {\n",
              "    0% {\n",
              "      border-color: transparent;\n",
              "      border-bottom-color: var(--fill-color);\n",
              "      border-left-color: var(--fill-color);\n",
              "    }\n",
              "    20% {\n",
              "      border-color: transparent;\n",
              "      border-left-color: var(--fill-color);\n",
              "      border-top-color: var(--fill-color);\n",
              "    }\n",
              "    30% {\n",
              "      border-color: transparent;\n",
              "      border-left-color: var(--fill-color);\n",
              "      border-top-color: var(--fill-color);\n",
              "      border-right-color: var(--fill-color);\n",
              "    }\n",
              "    40% {\n",
              "      border-color: transparent;\n",
              "      border-right-color: var(--fill-color);\n",
              "      border-top-color: var(--fill-color);\n",
              "    }\n",
              "    60% {\n",
              "      border-color: transparent;\n",
              "      border-right-color: var(--fill-color);\n",
              "    }\n",
              "    80% {\n",
              "      border-color: transparent;\n",
              "      border-right-color: var(--fill-color);\n",
              "      border-bottom-color: var(--fill-color);\n",
              "    }\n",
              "    90% {\n",
              "      border-color: transparent;\n",
              "      border-bottom-color: var(--fill-color);\n",
              "    }\n",
              "  }\n",
              "</style>\n",
              "\n",
              "  <script>\n",
              "    async function quickchart(key) {\n",
              "      const quickchartButtonEl =\n",
              "        document.querySelector('#' + key + ' button');\n",
              "      quickchartButtonEl.disabled = true;  // To prevent multiple clicks.\n",
              "      quickchartButtonEl.classList.add('colab-df-spinner');\n",
              "      try {\n",
              "        const charts = await google.colab.kernel.invokeFunction(\n",
              "            'suggestCharts', [key], {});\n",
              "      } catch (error) {\n",
              "        console.error('Error during call to suggestCharts:', error);\n",
              "      }\n",
              "      quickchartButtonEl.classList.remove('colab-df-spinner');\n",
              "      quickchartButtonEl.classList.add('colab-df-quickchart-complete');\n",
              "    }\n",
              "    (() => {\n",
              "      let quickchartButtonEl =\n",
              "        document.querySelector('#df-557e4b0c-bc25-4933-bcc1-11867acc2957 button');\n",
              "      quickchartButtonEl.style.display =\n",
              "        google.colab.kernel.accessAllowed ? 'block' : 'none';\n",
              "    })();\n",
              "  </script>\n",
              "</div>\n",
              "    </div>\n",
              "  </div>\n"
            ]
          },
          "metadata": {},
          "execution_count": 102
        }
      ]
    },
    {
      "cell_type": "markdown",
      "source": [
        "## Remover Espaços Vazios em Variáveis Qualitativas\n"
      ],
      "metadata": {
        "id": "J2TboGRncac-"
      }
    },
    {
      "cell_type": "code",
      "source": [
        "for coluna in df_nova_caderneta_coletiva.columns:\n",
        "  if df_nova_caderneta_coletiva[coluna].dtype == 'object':\n",
        "    df_nova_caderneta_coletiva[coluna] = df_nova_caderneta_coletiva[coluna].replace(' ', '')"
      ],
      "metadata": {
        "id": "XE5J-khfcadE"
      },
      "execution_count": null,
      "outputs": []
    },
    {
      "cell_type": "markdown",
      "source": [
        "##Conferir Unicidade da Chave Identificadora"
      ],
      "metadata": {
        "id": "z_ELDCdmQb_X"
      }
    },
    {
      "cell_type": "code",
      "source": [
        "df_nova_caderneta_coletiva_id = df_nova_caderneta_coletiva.drop_duplicates(subset=['COD_UPA','QUADRO','NUM_DOM','SEQ','NUM_UC'], keep='first')"
      ],
      "metadata": {
        "id": "wh9jAJMyQb_X"
      },
      "execution_count": null,
      "outputs": []
    },
    {
      "cell_type": "code",
      "source": [
        "df_nova_caderneta_coletiva_id.shape[0]"
      ],
      "metadata": {
        "colab": {
          "base_uri": "https://localhost:8080/"
        },
        "outputId": "7105d284-6f23-4555-cc16-82a5ebf281c1",
        "id": "luOjGXmqQb_X"
      },
      "execution_count": null,
      "outputs": [
        {
          "output_type": "execute_result",
          "data": {
            "text/plain": [
              "789995"
            ]
          },
          "metadata": {},
          "execution_count": 63
        }
      ]
    },
    {
      "cell_type": "markdown",
      "source": [
        "## Aplicar Regras Normais"
      ],
      "metadata": {
        "id": "sQxEy88f5xDK"
      }
    },
    {
      "cell_type": "code",
      "source": [
        "df_nova_caderneta_coletiva = df_nova_caderneta_coletiva.drop(['UF','ESTRATO_POF','TIPO_SITUACAO_REG','PESO','PESO_FINAL','RENDA_TOTAL'], axis=1)"
      ],
      "metadata": {
        "id": "S_T6yCmI5xDR"
      },
      "execution_count": null,
      "outputs": []
    },
    {
      "cell_type": "markdown",
      "source": [
        "## Baixar Arquivo como CSV"
      ],
      "metadata": {
        "id": "OEvSSwFQQb_X"
      }
    },
    {
      "cell_type": "code",
      "source": [
        "df_nova_caderneta_coletiva.to_csv('CADERNETA_COLETIVA.csv', index=False, na_rep='')"
      ],
      "metadata": {
        "id": "uyEipVCjQb_Y"
      },
      "execution_count": null,
      "outputs": []
    },
    {
      "cell_type": "markdown",
      "source": [
        "# Tratamento do arquivo \"DESPESA INDIVIDUAL\""
      ],
      "metadata": {
        "id": "pXrUpyrSgsO9"
      }
    },
    {
      "cell_type": "markdown",
      "source": [
        "##Abrindo e Analisando o Arquivo"
      ],
      "metadata": {
        "id": "PkXo0fLCgsPD"
      }
    },
    {
      "cell_type": "code",
      "source": [
        "despesa_individual = '/content/drive/MyDrive/POF (2017 2018)/DESPESA_INDIVIDUAL.txt'\n",
        "\n",
        "with open(despesa_individual, 'r') as arquivo:\n",
        "    conteudo = arquivo.readlines()\n",
        "\n",
        "# Imprimir 5 primeiras Linhas\n",
        "print(\"5 primeiras Linhas: \\n\")\n",
        "for conteudo in conteudo[:5]:\n",
        "    print(conteudo, end='')\n"
      ],
      "metadata": {
        "colab": {
          "base_uri": "https://localhost:8080/"
        },
        "outputId": "4c1a6850-7708-46ff-b2e4-4aa9ae997180",
        "id": "HyBqPmqPgsPD"
      },
      "execution_count": null,
      "outputs": [
        {
          "output_type": "stream",
          "name": "stdout",
          "text": [
            "5 primeiras Linhas: \n",
            "\n",
            "1111031110005400 11 222 02200101 1      7.00       1.0000000000      7.00052  272.80666931  372.98451570  11254.75     \n",
            "1111031110005400 11 123132301401 1    100.00       1.0506463643    105.06052  272.80666931  372.98451570  11254.75     \n",
            "1111031110005400 11 124 02400101 1     25.00       1.0131761162     25.33052  272.80666931  372.98451570  11254.75 4901\n",
            "1111031110005400 11 224 02400101 1     25.00       1.0131761162     25.33052  272.80666931  372.98451570  11254.75 4901\n",
            "1111031110005400 11 124182401901 1      6.00       1.0215045386      6.13052  272.80666931  372.98451570  11254.75 4901\n"
          ]
        }
      ]
    },
    {
      "cell_type": "code",
      "source": [
        "with open(despesa_individual, 'r') as arquivo:\n",
        "    conteudo = arquivo.readlines()\n",
        "\n",
        "# descobrir quantas Linhas tem o arquivo\n",
        "cont = 0\n",
        "for linha in conteudo:\n",
        "    cont += 1\n",
        "\n",
        "# descobrir quantos caracteres tem a primeira Linha\n",
        "cont_char = 0\n",
        "for i, linha in enumerate(conteudo[:1], start=1):\n",
        "    num_caracteres = len(linha)\n",
        "\n",
        "# descobrir se o restante das linhas tem a mesma qtd de caracteres da primeira linha\n",
        "primeira_linha = conteudo[0]\n",
        "todas_as_linhas_iguais = all(len(linha) == len(primeira_linha) for linha in conteudo)\n",
        "\n",
        "print(\"Total de linhas: \", cont)\n",
        "print(\"Total de caracteres da primeira linha: \", num_caracteres)\n",
        "print(\"Todas as Linhas tem o mesmo comprimento da primeira? \", todas_as_linhas_iguais)"
      ],
      "metadata": {
        "colab": {
          "base_uri": "https://localhost:8080/"
        },
        "outputId": "536019eb-e434-4271-8c1f-576356e68180",
        "id": "IUZPt76igsPE"
      },
      "execution_count": null,
      "outputs": [
        {
          "output_type": "stream",
          "name": "stdout",
          "text": [
            "Total de linhas:  1836032\n",
            "Total de caracteres da primeira linha:  120\n",
            "Todas as Linhas tem o mesmo comprimento da primeira?  True\n"
          ]
        }
      ]
    },
    {
      "cell_type": "markdown",
      "source": [
        "##Adicionar o Separador"
      ],
      "metadata": {
        "id": "6U2yp4VJgsPE"
      }
    },
    {
      "cell_type": "code",
      "source": [
        "with open(despesa_individual, 'r') as arquivo_orig:\n",
        "    with open('nova_despesa_individual.csv', 'w') as arquivo_novo:\n",
        "        for linha in arquivo_orig:\n",
        "            nova_linha = (\n",
        "                linha[:2] + ';' + # variável 1\n",
        "                linha[2:6] + ';' + # variável 2\n",
        "                linha[6:7] + ';' + # variável 3\n",
        "                linha[7:16] + ';' + # variável 4\n",
        "                linha[16:18] + ';' + # variável 5\n",
        "                linha[18:19] + ';' + # variável 6\n",
        "                linha[19:21] + ';' + # variável 7\n",
        "                linha[21:23] + ';' + # variável 8\n",
        "                linha[23:25] + ';' + # variável 9\n",
        "                linha[25:32] + ';' + # variável 10\n",
        "                linha[32:34] + ';' + # variável 11\n",
        "                linha[34:44] + ';' + # variável 12\n",
        "                linha[44:46] + ';' + # variável 13\n",
        "                linha[46:48] + ';' + # variável 14\n",
        "                linha[48:49] + ';' + # variável 15\n",
        "                linha[49:50] + ';' + # variável 16\n",
        "                linha[50:51] + ';' + # variável 17\n",
        "                linha[51:63] + ';' + # variável 18\n",
        "                linha[63:73] + ';' + # variável 19\n",
        "                linha[73:74] + ';' + # variável 20\n",
        "                linha[74:76] + ';' + # variável 21\n",
        "                linha[76:90] + ';' + # variável 22\n",
        "                linha[90:104] + ';' + # variável 23\n",
        "                linha[104:114] + ';' + # variável 24\n",
        "                linha[114:]  # variável 25\n",
        "            )\n",
        "            nova_linha = nova_linha.replace(' ', '')\n",
        "            arquivo_novo.write(nova_linha)\n",
        "\n",
        "\n"
      ],
      "metadata": {
        "id": "1z3peTRigsPE"
      },
      "execution_count": null,
      "outputs": []
    },
    {
      "cell_type": "markdown",
      "source": [
        "Conferir Processo"
      ],
      "metadata": {
        "id": "GTgNCvjGgsPE"
      }
    },
    {
      "cell_type": "code",
      "source": [
        "nova_despesa_individual = \"/content/nova_despesa_individual.csv\"\n",
        "\n",
        "with open(nova_despesa_individual, 'r') as arquivo_novo:\n",
        "  novo_dom = arquivo_novo.readlines()\n",
        "\n",
        "# imprimir primeira linha\n",
        "for lin in novo_dom[:1]:\n",
        "  print(lin, end=\"\")"
      ],
      "metadata": {
        "colab": {
          "base_uri": "https://localhost:8080/"
        },
        "outputId": "8715a4a2-d42d-4f52-bd1b-65f3a3ac2cc2",
        "id": "0xvuxPb8gsPE"
      },
      "execution_count": null,
      "outputs": [
        {
          "output_type": "stream",
          "name": "stdout",
          "text": [
            "11;1103;1;110005400;1;1;2;22;0;2200101;1;7.00;;;;;;1.0000000000;7.00;0;52;272.80666931;372.98451570;11254.75;\n"
          ]
        }
      ]
    },
    {
      "cell_type": "markdown",
      "source": [
        "Conferir Estado do Novo Arquivo"
      ],
      "metadata": {
        "id": "S6Nw9xCKgsPE"
      }
    },
    {
      "cell_type": "code",
      "source": [
        "with open(nova_despesa_individual, 'r') as arquivo:\n",
        "    conteudo = arquivo.readlines()\n",
        "\n",
        "# Conferir Numero de Linhas\n",
        "cont = 0\n",
        "for linha in conteudo:\n",
        "    cont += 1\n",
        "\n",
        "# Conferir Total de Caracteres\n",
        "cont_char = 0\n",
        "for i, linha in enumerate(conteudo[:1], start=1):\n",
        "    num_caracteres = len(linha)\n",
        "\n",
        "# Conferir se as Linhas Ainda tem o Mesmo Numero de Caracteres\n",
        "primeira_linha = conteudo[0]\n",
        "todas_as_linhas_iguais = all(len(linha) == len(primeira_linha) for linha in conteudo)\n",
        "\n",
        "print(\"Total de linhas: \", cont)\n",
        "print(\"Total de caracteres da primeira linha: \", num_caracteres)\n",
        "print(\"Todas as Linhas tem o mesmo comprimento da primeira? \", todas_as_linhas_iguais)"
      ],
      "metadata": {
        "colab": {
          "base_uri": "https://localhost:8080/"
        },
        "outputId": "66306897-1502-4a53-e536-77867ec5d989",
        "id": "MMEE8KirgsPF"
      },
      "execution_count": null,
      "outputs": [
        {
          "output_type": "stream",
          "name": "stdout",
          "text": [
            "Total de linhas:  1836032\n",
            "Total de caracteres da primeira linha:  110\n",
            "Todas as Linhas tem o mesmo comprimento da primeira?  False\n"
          ]
        }
      ]
    },
    {
      "cell_type": "markdown",
      "source": [
        "## Abrir arquivo como DataFrame, para melhor análise"
      ],
      "metadata": {
        "id": "lPnH8_xSgsPF"
      }
    },
    {
      "cell_type": "code",
      "source": [
        "colunas_despesas_ind = [\n",
        "    \"UF\",\n",
        "    \"ESTRATO_POF\",\n",
        "    \"TIPO_SITUACAO_REG\",\n",
        "    \"COD_UPA\",\n",
        "    \"NUM_DOM\",\n",
        "    \"NUM_UC\",\n",
        "    \"COD_INFORMANTE\",\n",
        "    \"QUADRO\",\n",
        "    \"SEQ\",\n",
        "    \"V9001\",\n",
        "    \"V9002\",\n",
        "    \"V8000\",\n",
        "    \"V9010\",\n",
        "    \"V9011\",\n",
        "    \"V9012\",\n",
        "    \"V4104\",\n",
        "    \"V4105\",\n",
        "    \"DEFLATOR\",\n",
        "    \"V8000_DEFLA\",\n",
        "    \"COD_IMPUT_VALOR\",\n",
        "    \"FATOR_ANUALIZACAO\",\n",
        "    \"PESO\",\n",
        "    \"PESO_FINAL\",\n",
        "    \"RENDA_TOTAL\",\n",
        "    \"V9004\"\n",
        "]\n"
      ],
      "metadata": {
        "id": "nDiKUh3_gsPF"
      },
      "execution_count": null,
      "outputs": []
    },
    {
      "cell_type": "code",
      "source": [
        "df_nova_despesa_individual = pd.read_csv(nova_despesa_individual, sep=';', names = colunas_despesas_ind, dtype='object')"
      ],
      "metadata": {
        "id": "d8A4hBUbgsPF"
      },
      "execution_count": null,
      "outputs": []
    },
    {
      "cell_type": "code",
      "source": [
        "df_nova_despesa_individual.info()"
      ],
      "metadata": {
        "colab": {
          "base_uri": "https://localhost:8080/"
        },
        "outputId": "03f949d4-3da9-4a8e-dacd-0f4df0230762",
        "id": "x1chs8sMgsPF"
      },
      "execution_count": null,
      "outputs": [
        {
          "output_type": "stream",
          "name": "stdout",
          "text": [
            "<class 'pandas.core.frame.DataFrame'>\n",
            "RangeIndex: 1836032 entries, 0 to 1836031\n",
            "Data columns (total 25 columns):\n",
            " #   Column             Dtype \n",
            "---  ------             ----- \n",
            " 0   UF                 object\n",
            " 1   ESTRATO_POF        object\n",
            " 2   TIPO_SITUACAO_REG  object\n",
            " 3   COD_UPA            object\n",
            " 4   NUM_DOM            object\n",
            " 5   NUM_UC             object\n",
            " 6   COD_INFORMANTE     object\n",
            " 7   QUADRO             object\n",
            " 8   SEQ                object\n",
            " 9   V9001              object\n",
            " 10  V9002              object\n",
            " 11  V8000              object\n",
            " 12  V9010              object\n",
            " 13  V9011              object\n",
            " 14  V9012              object\n",
            " 15  V4104              object\n",
            " 16  V4105              object\n",
            " 17  DEFLATOR           object\n",
            " 18  V8000_DEFLA        object\n",
            " 19  COD_IMPUT_VALOR    object\n",
            " 20  FATOR_ANUALIZACAO  object\n",
            " 21  PESO               object\n",
            " 22  PESO_FINAL         object\n",
            " 23  RENDA_TOTAL        object\n",
            " 24  V9004              object\n",
            "dtypes: object(25)\n",
            "memory usage: 350.2+ MB\n"
          ]
        }
      ]
    },
    {
      "cell_type": "code",
      "source": [
        "df_nova_despesa_individual.isnull().sum()"
      ],
      "metadata": {
        "colab": {
          "base_uri": "https://localhost:8080/"
        },
        "id": "9uSQoI29kWVx",
        "outputId": "89faf127-3b80-46ac-f20a-cead1be01783"
      },
      "execution_count": null,
      "outputs": [
        {
          "output_type": "execute_result",
          "data": {
            "text/plain": [
              "UF                         0\n",
              "ESTRATO_POF                0\n",
              "TIPO_SITUACAO_REG          0\n",
              "COD_UPA                    0\n",
              "NUM_DOM                    0\n",
              "NUM_UC                     0\n",
              "COD_INFORMANTE             0\n",
              "QUADRO                     0\n",
              "SEQ                        0\n",
              "V9001                      0\n",
              "V9002                      0\n",
              "V8000                      0\n",
              "V9010                1549582\n",
              "V9011                1549582\n",
              "V9012                1821652\n",
              "V4104                1787776\n",
              "V4105                1787776\n",
              "DEFLATOR              191540\n",
              "V8000_DEFLA                0\n",
              "COD_IMPUT_VALOR            0\n",
              "FATOR_ANUALIZACAO          0\n",
              "PESO                       0\n",
              "PESO_FINAL                 0\n",
              "RENDA_TOTAL                0\n",
              "V9004                 457242\n",
              "dtype: int64"
            ]
          },
          "metadata": {},
          "execution_count": 10
        }
      ]
    },
    {
      "cell_type": "code",
      "source": [
        "df_nova_despesa_individual.head()"
      ],
      "metadata": {
        "colab": {
          "base_uri": "https://localhost:8080/",
          "height": 255
        },
        "outputId": "1ac807b0-c2b6-43f5-ca85-0c71a5a18ccd",
        "id": "qviTyuhOgsPF"
      },
      "execution_count": null,
      "outputs": [
        {
          "output_type": "execute_result",
          "data": {
            "text/plain": [
              "   UF  ESTRATO_POF  TIPO_SITUACAO_REG    COD_UPA  NUM_DOM  NUM_UC  \\\n",
              "0  11         1103                  1  110005400        1       1   \n",
              "1  11         1103                  1  110005400        1       1   \n",
              "2  11         1103                  1  110005400        1       1   \n",
              "3  11         1103                  1  110005400        1       1   \n",
              "4  11         1103                  1  110005400        1       1   \n",
              "\n",
              "   COD_INFORMANTE  QUADRO  SEQ    V9001  ...  V4104  V4105      DEFLATOR  \\\n",
              "0               2      22    0  2200101  ...                1.0000000000   \n",
              "1               1      23   13  2301401  ...                1.0506463643   \n",
              "2               1      24    0  2400101  ...                1.0131761162   \n",
              "3               2      24    0  2400101  ...                1.0131761162   \n",
              "4               1      24   18  2401901  ...                1.0215045386   \n",
              "\n",
              "  V8000_DEFLA COD_IMPUT_VALOR FATOR_ANUALIZACAO        PESO  PESO_FINAL  \\\n",
              "0        7.00               0                52  272.806669  372.984516   \n",
              "1      105.06               0                52  272.806669  372.984516   \n",
              "2       25.33               0                52  272.806669  372.984516   \n",
              "3       25.33               0                52  272.806669  372.984516   \n",
              "4        6.13               0                52  272.806669  372.984516   \n",
              "\n",
              "   RENDA_TOTAL  V9004  \n",
              "0     11254.75         \n",
              "1     11254.75         \n",
              "2     11254.75   4901  \n",
              "3     11254.75   4901  \n",
              "4     11254.75   4901  \n",
              "\n",
              "[5 rows x 25 columns]"
            ],
            "text/html": [
              "\n",
              "  <div id=\"df-df2f9f07-51c0-42f4-b8e0-b3b36dcdb2c1\" class=\"colab-df-container\">\n",
              "    <div>\n",
              "<style scoped>\n",
              "    .dataframe tbody tr th:only-of-type {\n",
              "        vertical-align: middle;\n",
              "    }\n",
              "\n",
              "    .dataframe tbody tr th {\n",
              "        vertical-align: top;\n",
              "    }\n",
              "\n",
              "    .dataframe thead th {\n",
              "        text-align: right;\n",
              "    }\n",
              "</style>\n",
              "<table border=\"1\" class=\"dataframe\">\n",
              "  <thead>\n",
              "    <tr style=\"text-align: right;\">\n",
              "      <th></th>\n",
              "      <th>UF</th>\n",
              "      <th>ESTRATO_POF</th>\n",
              "      <th>TIPO_SITUACAO_REG</th>\n",
              "      <th>COD_UPA</th>\n",
              "      <th>NUM_DOM</th>\n",
              "      <th>NUM_UC</th>\n",
              "      <th>COD_INFORMANTE</th>\n",
              "      <th>QUADRO</th>\n",
              "      <th>SEQ</th>\n",
              "      <th>V9001</th>\n",
              "      <th>...</th>\n",
              "      <th>V4104</th>\n",
              "      <th>V4105</th>\n",
              "      <th>DEFLATOR</th>\n",
              "      <th>V8000_DEFLA</th>\n",
              "      <th>COD_IMPUT_VALOR</th>\n",
              "      <th>FATOR_ANUALIZACAO</th>\n",
              "      <th>PESO</th>\n",
              "      <th>PESO_FINAL</th>\n",
              "      <th>RENDA_TOTAL</th>\n",
              "      <th>V9004</th>\n",
              "    </tr>\n",
              "  </thead>\n",
              "  <tbody>\n",
              "    <tr>\n",
              "      <th>0</th>\n",
              "      <td>11</td>\n",
              "      <td>1103</td>\n",
              "      <td>1</td>\n",
              "      <td>110005400</td>\n",
              "      <td>1</td>\n",
              "      <td>1</td>\n",
              "      <td>2</td>\n",
              "      <td>22</td>\n",
              "      <td>0</td>\n",
              "      <td>2200101</td>\n",
              "      <td>...</td>\n",
              "      <td></td>\n",
              "      <td></td>\n",
              "      <td>1.0000000000</td>\n",
              "      <td>7.00</td>\n",
              "      <td>0</td>\n",
              "      <td>52</td>\n",
              "      <td>272.806669</td>\n",
              "      <td>372.984516</td>\n",
              "      <td>11254.75</td>\n",
              "      <td></td>\n",
              "    </tr>\n",
              "    <tr>\n",
              "      <th>1</th>\n",
              "      <td>11</td>\n",
              "      <td>1103</td>\n",
              "      <td>1</td>\n",
              "      <td>110005400</td>\n",
              "      <td>1</td>\n",
              "      <td>1</td>\n",
              "      <td>1</td>\n",
              "      <td>23</td>\n",
              "      <td>13</td>\n",
              "      <td>2301401</td>\n",
              "      <td>...</td>\n",
              "      <td></td>\n",
              "      <td></td>\n",
              "      <td>1.0506463643</td>\n",
              "      <td>105.06</td>\n",
              "      <td>0</td>\n",
              "      <td>52</td>\n",
              "      <td>272.806669</td>\n",
              "      <td>372.984516</td>\n",
              "      <td>11254.75</td>\n",
              "      <td></td>\n",
              "    </tr>\n",
              "    <tr>\n",
              "      <th>2</th>\n",
              "      <td>11</td>\n",
              "      <td>1103</td>\n",
              "      <td>1</td>\n",
              "      <td>110005400</td>\n",
              "      <td>1</td>\n",
              "      <td>1</td>\n",
              "      <td>1</td>\n",
              "      <td>24</td>\n",
              "      <td>0</td>\n",
              "      <td>2400101</td>\n",
              "      <td>...</td>\n",
              "      <td></td>\n",
              "      <td></td>\n",
              "      <td>1.0131761162</td>\n",
              "      <td>25.33</td>\n",
              "      <td>0</td>\n",
              "      <td>52</td>\n",
              "      <td>272.806669</td>\n",
              "      <td>372.984516</td>\n",
              "      <td>11254.75</td>\n",
              "      <td>4901</td>\n",
              "    </tr>\n",
              "    <tr>\n",
              "      <th>3</th>\n",
              "      <td>11</td>\n",
              "      <td>1103</td>\n",
              "      <td>1</td>\n",
              "      <td>110005400</td>\n",
              "      <td>1</td>\n",
              "      <td>1</td>\n",
              "      <td>2</td>\n",
              "      <td>24</td>\n",
              "      <td>0</td>\n",
              "      <td>2400101</td>\n",
              "      <td>...</td>\n",
              "      <td></td>\n",
              "      <td></td>\n",
              "      <td>1.0131761162</td>\n",
              "      <td>25.33</td>\n",
              "      <td>0</td>\n",
              "      <td>52</td>\n",
              "      <td>272.806669</td>\n",
              "      <td>372.984516</td>\n",
              "      <td>11254.75</td>\n",
              "      <td>4901</td>\n",
              "    </tr>\n",
              "    <tr>\n",
              "      <th>4</th>\n",
              "      <td>11</td>\n",
              "      <td>1103</td>\n",
              "      <td>1</td>\n",
              "      <td>110005400</td>\n",
              "      <td>1</td>\n",
              "      <td>1</td>\n",
              "      <td>1</td>\n",
              "      <td>24</td>\n",
              "      <td>18</td>\n",
              "      <td>2401901</td>\n",
              "      <td>...</td>\n",
              "      <td></td>\n",
              "      <td></td>\n",
              "      <td>1.0215045386</td>\n",
              "      <td>6.13</td>\n",
              "      <td>0</td>\n",
              "      <td>52</td>\n",
              "      <td>272.806669</td>\n",
              "      <td>372.984516</td>\n",
              "      <td>11254.75</td>\n",
              "      <td>4901</td>\n",
              "    </tr>\n",
              "  </tbody>\n",
              "</table>\n",
              "<p>5 rows × 25 columns</p>\n",
              "</div>\n",
              "    <div class=\"colab-df-buttons\">\n",
              "\n",
              "  <div class=\"colab-df-container\">\n",
              "    <button class=\"colab-df-convert\" onclick=\"convertToInteractive('df-df2f9f07-51c0-42f4-b8e0-b3b36dcdb2c1')\"\n",
              "            title=\"Convert this dataframe to an interactive table.\"\n",
              "            style=\"display:none;\">\n",
              "\n",
              "  <svg xmlns=\"http://www.w3.org/2000/svg\" height=\"24px\" viewBox=\"0 -960 960 960\">\n",
              "    <path d=\"M120-120v-720h720v720H120Zm60-500h600v-160H180v160Zm220 220h160v-160H400v160Zm0 220h160v-160H400v160ZM180-400h160v-160H180v160Zm440 0h160v-160H620v160ZM180-180h160v-160H180v160Zm440 0h160v-160H620v160Z\"/>\n",
              "  </svg>\n",
              "    </button>\n",
              "\n",
              "  <style>\n",
              "    .colab-df-container {\n",
              "      display:flex;\n",
              "      gap: 12px;\n",
              "    }\n",
              "\n",
              "    .colab-df-convert {\n",
              "      background-color: #E8F0FE;\n",
              "      border: none;\n",
              "      border-radius: 50%;\n",
              "      cursor: pointer;\n",
              "      display: none;\n",
              "      fill: #1967D2;\n",
              "      height: 32px;\n",
              "      padding: 0 0 0 0;\n",
              "      width: 32px;\n",
              "    }\n",
              "\n",
              "    .colab-df-convert:hover {\n",
              "      background-color: #E2EBFA;\n",
              "      box-shadow: 0px 1px 2px rgba(60, 64, 67, 0.3), 0px 1px 3px 1px rgba(60, 64, 67, 0.15);\n",
              "      fill: #174EA6;\n",
              "    }\n",
              "\n",
              "    .colab-df-buttons div {\n",
              "      margin-bottom: 4px;\n",
              "    }\n",
              "\n",
              "    [theme=dark] .colab-df-convert {\n",
              "      background-color: #3B4455;\n",
              "      fill: #D2E3FC;\n",
              "    }\n",
              "\n",
              "    [theme=dark] .colab-df-convert:hover {\n",
              "      background-color: #434B5C;\n",
              "      box-shadow: 0px 1px 3px 1px rgba(0, 0, 0, 0.15);\n",
              "      filter: drop-shadow(0px 1px 2px rgba(0, 0, 0, 0.3));\n",
              "      fill: #FFFFFF;\n",
              "    }\n",
              "  </style>\n",
              "\n",
              "    <script>\n",
              "      const buttonEl =\n",
              "        document.querySelector('#df-df2f9f07-51c0-42f4-b8e0-b3b36dcdb2c1 button.colab-df-convert');\n",
              "      buttonEl.style.display =\n",
              "        google.colab.kernel.accessAllowed ? 'block' : 'none';\n",
              "\n",
              "      async function convertToInteractive(key) {\n",
              "        const element = document.querySelector('#df-df2f9f07-51c0-42f4-b8e0-b3b36dcdb2c1');\n",
              "        const dataTable =\n",
              "          await google.colab.kernel.invokeFunction('convertToInteractive',\n",
              "                                                    [key], {});\n",
              "        if (!dataTable) return;\n",
              "\n",
              "        const docLinkHtml = 'Like what you see? Visit the ' +\n",
              "          '<a target=\"_blank\" href=https://colab.research.google.com/notebooks/data_table.ipynb>data table notebook</a>'\n",
              "          + ' to learn more about interactive tables.';\n",
              "        element.innerHTML = '';\n",
              "        dataTable['output_type'] = 'display_data';\n",
              "        await google.colab.output.renderOutput(dataTable, element);\n",
              "        const docLink = document.createElement('div');\n",
              "        docLink.innerHTML = docLinkHtml;\n",
              "        element.appendChild(docLink);\n",
              "      }\n",
              "    </script>\n",
              "  </div>\n",
              "\n",
              "\n",
              "<div id=\"df-c6bba6e6-a1f9-467f-b4b3-f150980bd9f5\">\n",
              "  <button class=\"colab-df-quickchart\" onclick=\"quickchart('df-c6bba6e6-a1f9-467f-b4b3-f150980bd9f5')\"\n",
              "            title=\"Suggest charts.\"\n",
              "            style=\"display:none;\">\n",
              "\n",
              "<svg xmlns=\"http://www.w3.org/2000/svg\" height=\"24px\"viewBox=\"0 0 24 24\"\n",
              "     width=\"24px\">\n",
              "    <g>\n",
              "        <path d=\"M19 3H5c-1.1 0-2 .9-2 2v14c0 1.1.9 2 2 2h14c1.1 0 2-.9 2-2V5c0-1.1-.9-2-2-2zM9 17H7v-7h2v7zm4 0h-2V7h2v10zm4 0h-2v-4h2v4z\"/>\n",
              "    </g>\n",
              "</svg>\n",
              "  </button>\n",
              "\n",
              "<style>\n",
              "  .colab-df-quickchart {\n",
              "      --bg-color: #E8F0FE;\n",
              "      --fill-color: #1967D2;\n",
              "      --hover-bg-color: #E2EBFA;\n",
              "      --hover-fill-color: #174EA6;\n",
              "      --disabled-fill-color: #AAA;\n",
              "      --disabled-bg-color: #DDD;\n",
              "  }\n",
              "\n",
              "  [theme=dark] .colab-df-quickchart {\n",
              "      --bg-color: #3B4455;\n",
              "      --fill-color: #D2E3FC;\n",
              "      --hover-bg-color: #434B5C;\n",
              "      --hover-fill-color: #FFFFFF;\n",
              "      --disabled-bg-color: #3B4455;\n",
              "      --disabled-fill-color: #666;\n",
              "  }\n",
              "\n",
              "  .colab-df-quickchart {\n",
              "    background-color: var(--bg-color);\n",
              "    border: none;\n",
              "    border-radius: 50%;\n",
              "    cursor: pointer;\n",
              "    display: none;\n",
              "    fill: var(--fill-color);\n",
              "    height: 32px;\n",
              "    padding: 0;\n",
              "    width: 32px;\n",
              "  }\n",
              "\n",
              "  .colab-df-quickchart:hover {\n",
              "    background-color: var(--hover-bg-color);\n",
              "    box-shadow: 0 1px 2px rgba(60, 64, 67, 0.3), 0 1px 3px 1px rgba(60, 64, 67, 0.15);\n",
              "    fill: var(--button-hover-fill-color);\n",
              "  }\n",
              "\n",
              "  .colab-df-quickchart-complete:disabled,\n",
              "  .colab-df-quickchart-complete:disabled:hover {\n",
              "    background-color: var(--disabled-bg-color);\n",
              "    fill: var(--disabled-fill-color);\n",
              "    box-shadow: none;\n",
              "  }\n",
              "\n",
              "  .colab-df-spinner {\n",
              "    border: 2px solid var(--fill-color);\n",
              "    border-color: transparent;\n",
              "    border-bottom-color: var(--fill-color);\n",
              "    animation:\n",
              "      spin 1s steps(1) infinite;\n",
              "  }\n",
              "\n",
              "  @keyframes spin {\n",
              "    0% {\n",
              "      border-color: transparent;\n",
              "      border-bottom-color: var(--fill-color);\n",
              "      border-left-color: var(--fill-color);\n",
              "    }\n",
              "    20% {\n",
              "      border-color: transparent;\n",
              "      border-left-color: var(--fill-color);\n",
              "      border-top-color: var(--fill-color);\n",
              "    }\n",
              "    30% {\n",
              "      border-color: transparent;\n",
              "      border-left-color: var(--fill-color);\n",
              "      border-top-color: var(--fill-color);\n",
              "      border-right-color: var(--fill-color);\n",
              "    }\n",
              "    40% {\n",
              "      border-color: transparent;\n",
              "      border-right-color: var(--fill-color);\n",
              "      border-top-color: var(--fill-color);\n",
              "    }\n",
              "    60% {\n",
              "      border-color: transparent;\n",
              "      border-right-color: var(--fill-color);\n",
              "    }\n",
              "    80% {\n",
              "      border-color: transparent;\n",
              "      border-right-color: var(--fill-color);\n",
              "      border-bottom-color: var(--fill-color);\n",
              "    }\n",
              "    90% {\n",
              "      border-color: transparent;\n",
              "      border-bottom-color: var(--fill-color);\n",
              "    }\n",
              "  }\n",
              "</style>\n",
              "\n",
              "  <script>\n",
              "    async function quickchart(key) {\n",
              "      const quickchartButtonEl =\n",
              "        document.querySelector('#' + key + ' button');\n",
              "      quickchartButtonEl.disabled = true;  // To prevent multiple clicks.\n",
              "      quickchartButtonEl.classList.add('colab-df-spinner');\n",
              "      try {\n",
              "        const charts = await google.colab.kernel.invokeFunction(\n",
              "            'suggestCharts', [key], {});\n",
              "      } catch (error) {\n",
              "        console.error('Error during call to suggestCharts:', error);\n",
              "      }\n",
              "      quickchartButtonEl.classList.remove('colab-df-spinner');\n",
              "      quickchartButtonEl.classList.add('colab-df-quickchart-complete');\n",
              "    }\n",
              "    (() => {\n",
              "      let quickchartButtonEl =\n",
              "        document.querySelector('#df-c6bba6e6-a1f9-467f-b4b3-f150980bd9f5 button');\n",
              "      quickchartButtonEl.style.display =\n",
              "        google.colab.kernel.accessAllowed ? 'block' : 'none';\n",
              "    })();\n",
              "  </script>\n",
              "</div>\n",
              "    </div>\n",
              "  </div>\n"
            ]
          },
          "metadata": {},
          "execution_count": 97
        }
      ]
    },
    {
      "cell_type": "code",
      "source": [
        "df_nova_despesa_individual['V9004'] = df_nova_despesa_individual['V9004'].str.zfill(5)"
      ],
      "metadata": {
        "id": "FxWrbADEDqnz"
      },
      "execution_count": null,
      "outputs": []
    },
    {
      "cell_type": "code",
      "source": [
        "df_nova_despesa_individual['V9001'].unique()"
      ],
      "metadata": {
        "colab": {
          "base_uri": "https://localhost:8080/"
        },
        "id": "lAsePo77FSSX",
        "outputId": "bd2f5b0c-8f2f-4044-b509-a5a48230e6c4"
      },
      "execution_count": null,
      "outputs": [
        {
          "output_type": "execute_result",
          "data": {
            "text/plain": [
              "array(['2200101', '2301401', '2400101', ..., '3804301', '5101301',\n",
              "       '3401305'], dtype=object)"
            ]
          },
          "metadata": {},
          "execution_count": 22
        }
      ]
    },
    {
      "cell_type": "markdown",
      "source": [
        "##Conferir Unicidade da Chave Identificadora"
      ],
      "metadata": {
        "id": "uwWpAh6ygsPF"
      }
    },
    {
      "cell_type": "code",
      "source": [
        "df_nova_despesa_individual_id = df_nova_despesa_individual.drop_duplicates(subset=['COD_UPA','QUADRO','NUM_DOM','SEQ','NUM_UC','COD_INFORMANTE'], keep='first')"
      ],
      "metadata": {
        "id": "hJEFd3a8gsPF"
      },
      "execution_count": null,
      "outputs": []
    },
    {
      "cell_type": "code",
      "source": [
        "df_nova_despesa_individual_id.shape[0]"
      ],
      "metadata": {
        "colab": {
          "base_uri": "https://localhost:8080/"
        },
        "outputId": "118802b1-79fd-44a7-a526-29cf290d3103",
        "id": "0BBopkjrgsPG"
      },
      "execution_count": null,
      "outputs": [
        {
          "output_type": "execute_result",
          "data": {
            "text/plain": [
              "1836032"
            ]
          },
          "metadata": {},
          "execution_count": 17
        }
      ]
    },
    {
      "cell_type": "markdown",
      "source": [
        "## Aplicar Regras Normais"
      ],
      "metadata": {
        "id": "kh8PRyi86HkK"
      }
    },
    {
      "cell_type": "code",
      "source": [
        " df_nova_despesa_individual =  df_nova_despesa_individual.drop(['UF','ESTRATO_POF','TIPO_SITUACAO_REG','PESO','PESO_FINAL','RENDA_TOTAL'], axis=1)"
      ],
      "metadata": {
        "id": "DPcrQ_7H6HkQ"
      },
      "execution_count": null,
      "outputs": []
    },
    {
      "cell_type": "markdown",
      "source": [
        "## Baixar Arquivo como CSV"
      ],
      "metadata": {
        "id": "LoLZhNpbgsPG"
      }
    },
    {
      "cell_type": "code",
      "source": [
        " df_nova_despesa_individual.to_csv('DESPESA_INDIVIDUAL.csv', index=False)"
      ],
      "metadata": {
        "id": "JLwpiQVggsPG"
      },
      "execution_count": null,
      "outputs": []
    },
    {
      "cell_type": "markdown",
      "source": [
        "# Tratamento do arquivo \"Serviços Não Monetários - POF 4\""
      ],
      "metadata": {
        "id": "EO55qHTslfBw"
      }
    },
    {
      "cell_type": "markdown",
      "source": [
        "##Abrindo e Analisando o Arquivo"
      ],
      "metadata": {
        "id": "2YnQhRvdlfB2"
      }
    },
    {
      "cell_type": "code",
      "source": [
        "serv_nao_mon_pof_4 = '/content/drive/MyDrive/POF (2017 2018)/SERVICO_NAO_MONETARIO_POF4.txt'\n",
        "\n",
        "with open(serv_nao_mon_pof_4, 'r') as arquivo:\n",
        "    conteudo = arquivo.readlines()\n",
        "\n",
        "# Imprimir 5 primeiras Linhas\n",
        "print(\"5 primeiras Linhas: \\n\")\n",
        "for conteudo in conteudo[:5]:\n",
        "    print(conteudo, end='')\n"
      ],
      "metadata": {
        "colab": {
          "base_uri": "https://localhost:8080/"
        },
        "outputId": "291acc13-bce5-4689-a48f-33f834e9921e",
        "id": "4LYYO-u8lfB2"
      },
      "execution_count": null,
      "outputs": [
        {
          "output_type": "stream",
          "name": "stdout",
          "text": [
            "5 primeiras Linhas: \n",
            "\n",
            "1111031110005400 11 149 44900501 7    500.00 910  1.0084649620    504.230 1  272.80666931  372.98451570  11254.75 6202\n",
            "1111031110005400 21 149 14900201 79999999.99 912  1.0084649620    302.171 1  272.80666931  372.98451570  10828.07 6202\n",
            "1111031110005400 41 242 44200501 79999999.99      0.9937338157    204.891 4  272.80666931  372.98451570   4769.13 3912\n",
            "1111031110005400 41 149 34900401 79999999.991012  1.0070588235    607.521 1  272.80666931  372.98451570   4769.13 6202\n",
            "1111031110005400 51 142 44200501 79999999.99      0.9937338157    200.001 4  272.80666931  372.98451570   2313.61 3910\n"
          ]
        }
      ]
    },
    {
      "cell_type": "code",
      "source": [
        "with open(serv_nao_mon_pof_4, 'r') as arquivo:\n",
        "    conteudo = arquivo.readlines()\n",
        "\n",
        "# descobrir quantas Linhas tem o arquivo\n",
        "cont = 0\n",
        "for linha in conteudo:\n",
        "    cont += 1\n",
        "\n",
        "# descobrir quantos caracteres tem a primeira Linha\n",
        "cont_char = 0\n",
        "for i, linha in enumerate(conteudo[:1], start=1):\n",
        "    num_caracteres = len(linha)\n",
        "\n",
        "# descobrir se o restante das linhas tem a mesma qtd de caracteres da primeira linha\n",
        "primeira_linha = conteudo[0]\n",
        "todas_as_linhas_iguais = all(len(linha) == len(primeira_linha) for linha in conteudo)\n",
        "\n",
        "print(\"Total de linhas: \", cont)\n",
        "print(\"Total de caracteres da primeira linha: \", num_caracteres)\n",
        "print(\"Todas as Linhas tem o mesmo comprimento da primeira? \", todas_as_linhas_iguais)"
      ],
      "metadata": {
        "colab": {
          "base_uri": "https://localhost:8080/"
        },
        "outputId": "6cdef1d1-be06-4ab0-a55a-aafdf8cbc8cf",
        "id": "K_w_DZ9jlfB3"
      },
      "execution_count": null,
      "outputs": [
        {
          "output_type": "stream",
          "name": "stdout",
          "text": [
            "Total de linhas:  126409\n",
            "Total de caracteres da primeira linha:  119\n",
            "Todas as Linhas tem o mesmo comprimento da primeira?  True\n"
          ]
        }
      ]
    },
    {
      "cell_type": "markdown",
      "source": [
        "##Adicionar o Separador"
      ],
      "metadata": {
        "id": "M33ZQyr4lfB3"
      }
    },
    {
      "cell_type": "code",
      "source": [
        "with open(serv_nao_mon_pof_4, 'r') as arquivo_orig:\n",
        "    with open('novo_servicos_nao_monetario_4.csv', 'w') as arquivo_novo:\n",
        "        for linha in arquivo_orig:\n",
        "            nova_linha = (\n",
        "                linha[:2] + ';' + # variável 1\n",
        "                linha[2:6] + ';' + # variável 2\n",
        "                linha[6:7] + ';' + # variável 3\n",
        "                linha[7:16] + ';' + # variável 4\n",
        "                linha[16:18] + ';' + # variável 5\n",
        "                linha[18:19] + ';' + # variável 6\n",
        "                linha[19:21] + ';' + # variável 7\n",
        "                linha[21:23] + ';' + # variável 8\n",
        "                linha[23:25] + ';' + # variável 9\n",
        "                linha[25:32] + ';' + # variável 10\n",
        "                linha[32:34] + ';' + # variável 11\n",
        "                linha[34:44] + ';' + # variável 12\n",
        "                linha[44:46] + ';' + # variável 13\n",
        "                linha[46:48] + ';' + # variável 14\n",
        "                linha[48:49] + ';' + # variável 15\n",
        "                linha[49:50] + ';' + # variável 16\n",
        "                linha[50:62] + ';' + # variável 17\n",
        "                linha[62:72] + ';' + # variável 18\n",
        "                linha[72:73] + ';' + # variável 19\n",
        "                linha[73:75] + ';' + # variável 20\n",
        "                linha[75:89] + ';' + # variável 21\n",
        "                linha[89:103] + ';' + # variável 22\n",
        "                linha[103:113] + ';' + # variável 23\n",
        "                linha[113:] # variável 24\n",
        "            )\n",
        "            nova_linha = nova_linha.replace(' ', '')\n",
        "            arquivo_novo.write(nova_linha)\n",
        "\n",
        "\n"
      ],
      "metadata": {
        "id": "YTXn56BPlfB3"
      },
      "execution_count": null,
      "outputs": []
    },
    {
      "cell_type": "markdown",
      "source": [
        "Conferir Processo"
      ],
      "metadata": {
        "id": "Utd6KNRalfB3"
      }
    },
    {
      "cell_type": "code",
      "source": [
        "novo_servicos_nao_monetario_4 = \"/content/novo_servicos_nao_monetario_4.csv\"\n",
        "\n",
        "with open(novo_servicos_nao_monetario_4, 'r') as arquivo_novo:\n",
        "  novo_dom = arquivo_novo.readlines()\n",
        "\n",
        "# imprimir primeira linha\n",
        "for lin in novo_dom[:1]:\n",
        "  print(lin, end=\"\")"
      ],
      "metadata": {
        "colab": {
          "base_uri": "https://localhost:8080/"
        },
        "outputId": "70838bb8-169d-4345-e3df-b265547e8d12",
        "id": "kfT2kAoclfB3"
      },
      "execution_count": null,
      "outputs": [
        {
          "output_type": "stream",
          "name": "stdout",
          "text": [
            "11;1103;1;110005400;1;1;1;49;4;4900501;7;500.00;9;10;;;1.0084649620;504.23;0;1;272.80666931;372.98451570;11254.75;6202\n"
          ]
        }
      ]
    },
    {
      "cell_type": "markdown",
      "source": [
        "Conferir Estado do Novo Arquivo"
      ],
      "metadata": {
        "id": "bBqntAYClfB3"
      }
    },
    {
      "cell_type": "code",
      "source": [
        "with open(novo_servicos_nao_monetario_4, 'r') as arquivo:\n",
        "    conteudo = arquivo.readlines()\n",
        "\n",
        "# Conferir Numero de Linhas\n",
        "cont = 0\n",
        "for linha in conteudo:\n",
        "    cont += 1\n",
        "\n",
        "# Conferir Total de Caracteres\n",
        "cont_char = 0\n",
        "for i, linha in enumerate(conteudo[:1], start=1):\n",
        "    num_caracteres = len(linha)\n",
        "\n",
        "# Conferir se as Linhas Ainda tem o Mesmo Numero de Caracteres\n",
        "primeira_linha = conteudo[0]\n",
        "todas_as_linhas_iguais = all(len(linha) == len(primeira_linha) for linha in conteudo)\n",
        "\n",
        "print(\"Total de linhas: \", cont)\n",
        "print(\"Total de caracteres da primeira linha: \", num_caracteres)\n",
        "print(\"Todas as Linhas tem o mesmo comprimento da primeira? \", todas_as_linhas_iguais)"
      ],
      "metadata": {
        "colab": {
          "base_uri": "https://localhost:8080/"
        },
        "outputId": "cc6c56e5-29d8-4943-ca5d-acb7ec30ec91",
        "id": "ZCwJNarulfB3"
      },
      "execution_count": null,
      "outputs": [
        {
          "output_type": "stream",
          "name": "stdout",
          "text": [
            "Total de linhas:  126409\n",
            "Total de caracteres da primeira linha:  119\n",
            "Todas as Linhas tem o mesmo comprimento da primeira?  False\n"
          ]
        }
      ]
    },
    {
      "cell_type": "markdown",
      "source": [
        "## Abrir arquivo como DataFrame, para melhor análise"
      ],
      "metadata": {
        "id": "4agdalR2lfB4"
      }
    },
    {
      "cell_type": "code",
      "source": [
        "colunas_novo_servicos_nao_monetario_4 = [\n",
        "    \"UF\",\n",
        "    \"ESTRATO_POF\",\n",
        "    \"TIPO_SITUACAO_REG\",\n",
        "    \"COD_UPA\",\n",
        "    \"NUM_DOM\",\n",
        "    \"NUM_UC\",\n",
        "    \"COD_INFORMANTE\",\n",
        "    \"QUADRO\",\n",
        "    \"SEQ\",\n",
        "    \"V9001\",\n",
        "    \"V9002\",\n",
        "    \"V8000\",\n",
        "    \"V9010\",\n",
        "    \"V9011\",\n",
        "    \"V4104\",\n",
        "    \"V4105\",\n",
        "    \"DEFLATOR\",\n",
        "    \"V8000_DEFLA\",\n",
        "    \"COD_IMPUT_VALOR\",\n",
        "    \"FATOR_ANUALIZACAO\",\n",
        "    \"PESO\",\n",
        "    \"PESO_FINAL\",\n",
        "    \"RENDA_TOTAL\",\n",
        "    \"V9004\"\n",
        "]\n"
      ],
      "metadata": {
        "id": "velldGJ0lfB4"
      },
      "execution_count": null,
      "outputs": []
    },
    {
      "cell_type": "code",
      "source": [
        "df_colunas_novo_servicos_nao_monetario_4 = pd.read_csv(novo_servicos_nao_monetario_4, sep=';', names = colunas_novo_servicos_nao_monetario_4, dtype='object')"
      ],
      "metadata": {
        "id": "mDHua1DilfB4"
      },
      "execution_count": null,
      "outputs": []
    },
    {
      "cell_type": "code",
      "source": [
        "df_colunas_novo_servicos_nao_monetario_4.head()"
      ],
      "metadata": {
        "colab": {
          "base_uri": "https://localhost:8080/",
          "height": 255
        },
        "outputId": "f4881e80-bd59-42e6-e3b2-ad0c54d469d7",
        "id": "4uhcnR-klfB4"
      },
      "execution_count": null,
      "outputs": [
        {
          "output_type": "execute_result",
          "data": {
            "text/plain": [
              "   UF  ESTRATO_POF  TIPO_SITUACAO_REG    COD_UPA  NUM_DOM  NUM_UC  \\\n",
              "0  11         1103                  1  110005400        1       1   \n",
              "1  11         1103                  1  110005400        2       1   \n",
              "2  11         1103                  1  110005400        4       1   \n",
              "3  11         1103                  1  110005400        4       1   \n",
              "4  11         1103                  1  110005400        5       1   \n",
              "\n",
              "   COD_INFORMANTE  QUADRO  SEQ    V9001  ...  V4104  V4105      DEFLATOR  \\\n",
              "0               1      49    4  4900501  ...                1.0084649620   \n",
              "1               1      49    1  4900201  ...                1.0084649620   \n",
              "2               2      42    4  4200501  ...                0.9937338157   \n",
              "3               1      49    3  4900401  ...                1.0070588235   \n",
              "4               1      42    4  4200501  ...                0.9937338157   \n",
              "\n",
              "  V8000_DEFLA COD_IMPUT_VALOR FATOR_ANUALIZACAO        PESO  PESO_FINAL  \\\n",
              "0      504.23               0                 1  272.806669  372.984516   \n",
              "1      302.17               1                 1  272.806669  372.984516   \n",
              "2      204.89               1                 4  272.806669  372.984516   \n",
              "3      607.52               1                 1  272.806669  372.984516   \n",
              "4      200.00               1                 4  272.806669  372.984516   \n",
              "\n",
              "   RENDA_TOTAL  V9004  \n",
              "0     11254.75   6202  \n",
              "1     10828.07   6202  \n",
              "2      4769.13   3912  \n",
              "3      4769.13   6202  \n",
              "4      2313.61   3910  \n",
              "\n",
              "[5 rows x 24 columns]"
            ],
            "text/html": [
              "\n",
              "  <div id=\"df-83d566c4-8ded-4546-9935-f8d8c8621b96\" class=\"colab-df-container\">\n",
              "    <div>\n",
              "<style scoped>\n",
              "    .dataframe tbody tr th:only-of-type {\n",
              "        vertical-align: middle;\n",
              "    }\n",
              "\n",
              "    .dataframe tbody tr th {\n",
              "        vertical-align: top;\n",
              "    }\n",
              "\n",
              "    .dataframe thead th {\n",
              "        text-align: right;\n",
              "    }\n",
              "</style>\n",
              "<table border=\"1\" class=\"dataframe\">\n",
              "  <thead>\n",
              "    <tr style=\"text-align: right;\">\n",
              "      <th></th>\n",
              "      <th>UF</th>\n",
              "      <th>ESTRATO_POF</th>\n",
              "      <th>TIPO_SITUACAO_REG</th>\n",
              "      <th>COD_UPA</th>\n",
              "      <th>NUM_DOM</th>\n",
              "      <th>NUM_UC</th>\n",
              "      <th>COD_INFORMANTE</th>\n",
              "      <th>QUADRO</th>\n",
              "      <th>SEQ</th>\n",
              "      <th>V9001</th>\n",
              "      <th>...</th>\n",
              "      <th>V4104</th>\n",
              "      <th>V4105</th>\n",
              "      <th>DEFLATOR</th>\n",
              "      <th>V8000_DEFLA</th>\n",
              "      <th>COD_IMPUT_VALOR</th>\n",
              "      <th>FATOR_ANUALIZACAO</th>\n",
              "      <th>PESO</th>\n",
              "      <th>PESO_FINAL</th>\n",
              "      <th>RENDA_TOTAL</th>\n",
              "      <th>V9004</th>\n",
              "    </tr>\n",
              "  </thead>\n",
              "  <tbody>\n",
              "    <tr>\n",
              "      <th>0</th>\n",
              "      <td>11</td>\n",
              "      <td>1103</td>\n",
              "      <td>1</td>\n",
              "      <td>110005400</td>\n",
              "      <td>1</td>\n",
              "      <td>1</td>\n",
              "      <td>1</td>\n",
              "      <td>49</td>\n",
              "      <td>4</td>\n",
              "      <td>4900501</td>\n",
              "      <td>...</td>\n",
              "      <td></td>\n",
              "      <td></td>\n",
              "      <td>1.0084649620</td>\n",
              "      <td>504.23</td>\n",
              "      <td>0</td>\n",
              "      <td>1</td>\n",
              "      <td>272.806669</td>\n",
              "      <td>372.984516</td>\n",
              "      <td>11254.75</td>\n",
              "      <td>6202</td>\n",
              "    </tr>\n",
              "    <tr>\n",
              "      <th>1</th>\n",
              "      <td>11</td>\n",
              "      <td>1103</td>\n",
              "      <td>1</td>\n",
              "      <td>110005400</td>\n",
              "      <td>2</td>\n",
              "      <td>1</td>\n",
              "      <td>1</td>\n",
              "      <td>49</td>\n",
              "      <td>1</td>\n",
              "      <td>4900201</td>\n",
              "      <td>...</td>\n",
              "      <td></td>\n",
              "      <td></td>\n",
              "      <td>1.0084649620</td>\n",
              "      <td>302.17</td>\n",
              "      <td>1</td>\n",
              "      <td>1</td>\n",
              "      <td>272.806669</td>\n",
              "      <td>372.984516</td>\n",
              "      <td>10828.07</td>\n",
              "      <td>6202</td>\n",
              "    </tr>\n",
              "    <tr>\n",
              "      <th>2</th>\n",
              "      <td>11</td>\n",
              "      <td>1103</td>\n",
              "      <td>1</td>\n",
              "      <td>110005400</td>\n",
              "      <td>4</td>\n",
              "      <td>1</td>\n",
              "      <td>2</td>\n",
              "      <td>42</td>\n",
              "      <td>4</td>\n",
              "      <td>4200501</td>\n",
              "      <td>...</td>\n",
              "      <td></td>\n",
              "      <td></td>\n",
              "      <td>0.9937338157</td>\n",
              "      <td>204.89</td>\n",
              "      <td>1</td>\n",
              "      <td>4</td>\n",
              "      <td>272.806669</td>\n",
              "      <td>372.984516</td>\n",
              "      <td>4769.13</td>\n",
              "      <td>3912</td>\n",
              "    </tr>\n",
              "    <tr>\n",
              "      <th>3</th>\n",
              "      <td>11</td>\n",
              "      <td>1103</td>\n",
              "      <td>1</td>\n",
              "      <td>110005400</td>\n",
              "      <td>4</td>\n",
              "      <td>1</td>\n",
              "      <td>1</td>\n",
              "      <td>49</td>\n",
              "      <td>3</td>\n",
              "      <td>4900401</td>\n",
              "      <td>...</td>\n",
              "      <td></td>\n",
              "      <td></td>\n",
              "      <td>1.0070588235</td>\n",
              "      <td>607.52</td>\n",
              "      <td>1</td>\n",
              "      <td>1</td>\n",
              "      <td>272.806669</td>\n",
              "      <td>372.984516</td>\n",
              "      <td>4769.13</td>\n",
              "      <td>6202</td>\n",
              "    </tr>\n",
              "    <tr>\n",
              "      <th>4</th>\n",
              "      <td>11</td>\n",
              "      <td>1103</td>\n",
              "      <td>1</td>\n",
              "      <td>110005400</td>\n",
              "      <td>5</td>\n",
              "      <td>1</td>\n",
              "      <td>1</td>\n",
              "      <td>42</td>\n",
              "      <td>4</td>\n",
              "      <td>4200501</td>\n",
              "      <td>...</td>\n",
              "      <td></td>\n",
              "      <td></td>\n",
              "      <td>0.9937338157</td>\n",
              "      <td>200.00</td>\n",
              "      <td>1</td>\n",
              "      <td>4</td>\n",
              "      <td>272.806669</td>\n",
              "      <td>372.984516</td>\n",
              "      <td>2313.61</td>\n",
              "      <td>3910</td>\n",
              "    </tr>\n",
              "  </tbody>\n",
              "</table>\n",
              "<p>5 rows × 24 columns</p>\n",
              "</div>\n",
              "    <div class=\"colab-df-buttons\">\n",
              "\n",
              "  <div class=\"colab-df-container\">\n",
              "    <button class=\"colab-df-convert\" onclick=\"convertToInteractive('df-83d566c4-8ded-4546-9935-f8d8c8621b96')\"\n",
              "            title=\"Convert this dataframe to an interactive table.\"\n",
              "            style=\"display:none;\">\n",
              "\n",
              "  <svg xmlns=\"http://www.w3.org/2000/svg\" height=\"24px\" viewBox=\"0 -960 960 960\">\n",
              "    <path d=\"M120-120v-720h720v720H120Zm60-500h600v-160H180v160Zm220 220h160v-160H400v160Zm0 220h160v-160H400v160ZM180-400h160v-160H180v160Zm440 0h160v-160H620v160ZM180-180h160v-160H180v160Zm440 0h160v-160H620v160Z\"/>\n",
              "  </svg>\n",
              "    </button>\n",
              "\n",
              "  <style>\n",
              "    .colab-df-container {\n",
              "      display:flex;\n",
              "      gap: 12px;\n",
              "    }\n",
              "\n",
              "    .colab-df-convert {\n",
              "      background-color: #E8F0FE;\n",
              "      border: none;\n",
              "      border-radius: 50%;\n",
              "      cursor: pointer;\n",
              "      display: none;\n",
              "      fill: #1967D2;\n",
              "      height: 32px;\n",
              "      padding: 0 0 0 0;\n",
              "      width: 32px;\n",
              "    }\n",
              "\n",
              "    .colab-df-convert:hover {\n",
              "      background-color: #E2EBFA;\n",
              "      box-shadow: 0px 1px 2px rgba(60, 64, 67, 0.3), 0px 1px 3px 1px rgba(60, 64, 67, 0.15);\n",
              "      fill: #174EA6;\n",
              "    }\n",
              "\n",
              "    .colab-df-buttons div {\n",
              "      margin-bottom: 4px;\n",
              "    }\n",
              "\n",
              "    [theme=dark] .colab-df-convert {\n",
              "      background-color: #3B4455;\n",
              "      fill: #D2E3FC;\n",
              "    }\n",
              "\n",
              "    [theme=dark] .colab-df-convert:hover {\n",
              "      background-color: #434B5C;\n",
              "      box-shadow: 0px 1px 3px 1px rgba(0, 0, 0, 0.15);\n",
              "      filter: drop-shadow(0px 1px 2px rgba(0, 0, 0, 0.3));\n",
              "      fill: #FFFFFF;\n",
              "    }\n",
              "  </style>\n",
              "\n",
              "    <script>\n",
              "      const buttonEl =\n",
              "        document.querySelector('#df-83d566c4-8ded-4546-9935-f8d8c8621b96 button.colab-df-convert');\n",
              "      buttonEl.style.display =\n",
              "        google.colab.kernel.accessAllowed ? 'block' : 'none';\n",
              "\n",
              "      async function convertToInteractive(key) {\n",
              "        const element = document.querySelector('#df-83d566c4-8ded-4546-9935-f8d8c8621b96');\n",
              "        const dataTable =\n",
              "          await google.colab.kernel.invokeFunction('convertToInteractive',\n",
              "                                                    [key], {});\n",
              "        if (!dataTable) return;\n",
              "\n",
              "        const docLinkHtml = 'Like what you see? Visit the ' +\n",
              "          '<a target=\"_blank\" href=https://colab.research.google.com/notebooks/data_table.ipynb>data table notebook</a>'\n",
              "          + ' to learn more about interactive tables.';\n",
              "        element.innerHTML = '';\n",
              "        dataTable['output_type'] = 'display_data';\n",
              "        await google.colab.output.renderOutput(dataTable, element);\n",
              "        const docLink = document.createElement('div');\n",
              "        docLink.innerHTML = docLinkHtml;\n",
              "        element.appendChild(docLink);\n",
              "      }\n",
              "    </script>\n",
              "  </div>\n",
              "\n",
              "\n",
              "<div id=\"df-2a9b138f-9ea3-4a81-bcc0-5abbd6db5c35\">\n",
              "  <button class=\"colab-df-quickchart\" onclick=\"quickchart('df-2a9b138f-9ea3-4a81-bcc0-5abbd6db5c35')\"\n",
              "            title=\"Suggest charts.\"\n",
              "            style=\"display:none;\">\n",
              "\n",
              "<svg xmlns=\"http://www.w3.org/2000/svg\" height=\"24px\"viewBox=\"0 0 24 24\"\n",
              "     width=\"24px\">\n",
              "    <g>\n",
              "        <path d=\"M19 3H5c-1.1 0-2 .9-2 2v14c0 1.1.9 2 2 2h14c1.1 0 2-.9 2-2V5c0-1.1-.9-2-2-2zM9 17H7v-7h2v7zm4 0h-2V7h2v10zm4 0h-2v-4h2v4z\"/>\n",
              "    </g>\n",
              "</svg>\n",
              "  </button>\n",
              "\n",
              "<style>\n",
              "  .colab-df-quickchart {\n",
              "      --bg-color: #E8F0FE;\n",
              "      --fill-color: #1967D2;\n",
              "      --hover-bg-color: #E2EBFA;\n",
              "      --hover-fill-color: #174EA6;\n",
              "      --disabled-fill-color: #AAA;\n",
              "      --disabled-bg-color: #DDD;\n",
              "  }\n",
              "\n",
              "  [theme=dark] .colab-df-quickchart {\n",
              "      --bg-color: #3B4455;\n",
              "      --fill-color: #D2E3FC;\n",
              "      --hover-bg-color: #434B5C;\n",
              "      --hover-fill-color: #FFFFFF;\n",
              "      --disabled-bg-color: #3B4455;\n",
              "      --disabled-fill-color: #666;\n",
              "  }\n",
              "\n",
              "  .colab-df-quickchart {\n",
              "    background-color: var(--bg-color);\n",
              "    border: none;\n",
              "    border-radius: 50%;\n",
              "    cursor: pointer;\n",
              "    display: none;\n",
              "    fill: var(--fill-color);\n",
              "    height: 32px;\n",
              "    padding: 0;\n",
              "    width: 32px;\n",
              "  }\n",
              "\n",
              "  .colab-df-quickchart:hover {\n",
              "    background-color: var(--hover-bg-color);\n",
              "    box-shadow: 0 1px 2px rgba(60, 64, 67, 0.3), 0 1px 3px 1px rgba(60, 64, 67, 0.15);\n",
              "    fill: var(--button-hover-fill-color);\n",
              "  }\n",
              "\n",
              "  .colab-df-quickchart-complete:disabled,\n",
              "  .colab-df-quickchart-complete:disabled:hover {\n",
              "    background-color: var(--disabled-bg-color);\n",
              "    fill: var(--disabled-fill-color);\n",
              "    box-shadow: none;\n",
              "  }\n",
              "\n",
              "  .colab-df-spinner {\n",
              "    border: 2px solid var(--fill-color);\n",
              "    border-color: transparent;\n",
              "    border-bottom-color: var(--fill-color);\n",
              "    animation:\n",
              "      spin 1s steps(1) infinite;\n",
              "  }\n",
              "\n",
              "  @keyframes spin {\n",
              "    0% {\n",
              "      border-color: transparent;\n",
              "      border-bottom-color: var(--fill-color);\n",
              "      border-left-color: var(--fill-color);\n",
              "    }\n",
              "    20% {\n",
              "      border-color: transparent;\n",
              "      border-left-color: var(--fill-color);\n",
              "      border-top-color: var(--fill-color);\n",
              "    }\n",
              "    30% {\n",
              "      border-color: transparent;\n",
              "      border-left-color: var(--fill-color);\n",
              "      border-top-color: var(--fill-color);\n",
              "      border-right-color: var(--fill-color);\n",
              "    }\n",
              "    40% {\n",
              "      border-color: transparent;\n",
              "      border-right-color: var(--fill-color);\n",
              "      border-top-color: var(--fill-color);\n",
              "    }\n",
              "    60% {\n",
              "      border-color: transparent;\n",
              "      border-right-color: var(--fill-color);\n",
              "    }\n",
              "    80% {\n",
              "      border-color: transparent;\n",
              "      border-right-color: var(--fill-color);\n",
              "      border-bottom-color: var(--fill-color);\n",
              "    }\n",
              "    90% {\n",
              "      border-color: transparent;\n",
              "      border-bottom-color: var(--fill-color);\n",
              "    }\n",
              "  }\n",
              "</style>\n",
              "\n",
              "  <script>\n",
              "    async function quickchart(key) {\n",
              "      const quickchartButtonEl =\n",
              "        document.querySelector('#' + key + ' button');\n",
              "      quickchartButtonEl.disabled = true;  // To prevent multiple clicks.\n",
              "      quickchartButtonEl.classList.add('colab-df-spinner');\n",
              "      try {\n",
              "        const charts = await google.colab.kernel.invokeFunction(\n",
              "            'suggestCharts', [key], {});\n",
              "      } catch (error) {\n",
              "        console.error('Error during call to suggestCharts:', error);\n",
              "      }\n",
              "      quickchartButtonEl.classList.remove('colab-df-spinner');\n",
              "      quickchartButtonEl.classList.add('colab-df-quickchart-complete');\n",
              "    }\n",
              "    (() => {\n",
              "      let quickchartButtonEl =\n",
              "        document.querySelector('#df-2a9b138f-9ea3-4a81-bcc0-5abbd6db5c35 button');\n",
              "      quickchartButtonEl.style.display =\n",
              "        google.colab.kernel.accessAllowed ? 'block' : 'none';\n",
              "    })();\n",
              "  </script>\n",
              "</div>\n",
              "    </div>\n",
              "  </div>\n"
            ]
          },
          "metadata": {},
          "execution_count": 13
        }
      ]
    },
    {
      "cell_type": "code",
      "source": [
        "df_colunas_novo_servicos_nao_monetario_4.info()"
      ],
      "metadata": {
        "colab": {
          "base_uri": "https://localhost:8080/"
        },
        "outputId": "926fd5f1-5bea-45af-e185-6beffb9ebf44",
        "id": "IRswAJVjlfB4"
      },
      "execution_count": null,
      "outputs": [
        {
          "output_type": "stream",
          "name": "stdout",
          "text": [
            "<class 'pandas.core.frame.DataFrame'>\n",
            "RangeIndex: 126409 entries, 0 to 126408\n",
            "Data columns (total 24 columns):\n",
            " #   Column             Non-Null Count   Dtype  \n",
            "---  ------             --------------   -----  \n",
            " 0   UF                 126409 non-null  int64  \n",
            " 1   ESTRATO_POF        126409 non-null  int64  \n",
            " 2   TIPO_SITUACAO_REG  126409 non-null  int64  \n",
            " 3   COD_UPA            126409 non-null  int64  \n",
            " 4   NUM_DOM            126409 non-null  int64  \n",
            " 5   NUM_UC             126409 non-null  int64  \n",
            " 6   COD_INFORMANTE     126409 non-null  int64  \n",
            " 7   QUADRO             126409 non-null  int64  \n",
            " 8   SEQ                126409 non-null  int64  \n",
            " 9   V9001              126409 non-null  int64  \n",
            " 10  V9002              126409 non-null  int64  \n",
            " 11  V8000              126409 non-null  float64\n",
            " 12  V9010              126409 non-null  object \n",
            " 13  V9011              126409 non-null  object \n",
            " 14  V4104              126409 non-null  object \n",
            " 15  V4105              126409 non-null  object \n",
            " 16  DEFLATOR           126409 non-null  object \n",
            " 17  V8000_DEFLA        126409 non-null  float64\n",
            " 18  COD_IMPUT_VALOR    126409 non-null  int64  \n",
            " 19  FATOR_ANUALIZACAO  126409 non-null  int64  \n",
            " 20  PESO               126409 non-null  float64\n",
            " 21  PESO_FINAL         126409 non-null  float64\n",
            " 22  RENDA_TOTAL        126409 non-null  float64\n",
            " 23  V9004              126409 non-null  object \n",
            "dtypes: float64(5), int64(13), object(6)\n",
            "memory usage: 23.1+ MB\n"
          ]
        }
      ]
    },
    {
      "cell_type": "code",
      "source": [
        "df_colunas_novo_servicos_nao_monetario_4['V9004'] = df_colunas_novo_servicos_nao_monetario_4['V9004'].str.zfill(5)"
      ],
      "metadata": {
        "id": "7N2tWvmViBbM"
      },
      "execution_count": null,
      "outputs": []
    },
    {
      "cell_type": "code",
      "source": [
        "df_colunas_novo_servicos_nao_monetario_4['V9004'].unique()"
      ],
      "metadata": {
        "colab": {
          "base_uri": "https://localhost:8080/"
        },
        "id": "EHxjFctPiSVa",
        "outputId": "595854db-5797-4f6b-d46c-5b515a593590"
      },
      "execution_count": null,
      "outputs": [
        {
          "output_type": "execute_result",
          "data": {
            "text/plain": [
              "array(['06202', '03912', '03910', '03911', '08303', nan, '15501', '03906',\n",
              "       '03902', '03905', '03901', '03904', '06201', '06206', '00509',\n",
              "       '04201', '06507', '06511', '08302', '06204', '08304', '06501',\n",
              "       '07502', '08301', '14301', '01604', '08003', '06224', '03909',\n",
              "       '06207', '03907', '06214', '06215', '03903', '06222', '06223',\n",
              "       '07501', '06503', '16301', '09801', '06509', '06502', '01306',\n",
              "       '09502', '08305', '09505', '99901', '03401', '07305', '01501',\n",
              "       '14201', '08202', '08307', '01615', '05301', '06229', '06226',\n",
              "       '03406', '06203', '01114', '04901', '02404', '07709', '16601',\n",
              "       '06301', '06212', '06101', '09111', '01605', '06504', '00601',\n",
              "       '09706', '06205', '05602', '06505', '09104', '09504', '05102',\n",
              "       '02405', '04801', '06211', '00515', '11701', '07912', '06401',\n",
              "       '06228', '06230', '02905', '16101', '09704', '00508', '16302',\n",
              "       '07510', '07304', '08402', '09701', '08006', '03418', '09707',\n",
              "       '06216', '09110', '00603', '00101', '01301', '01401', '06217',\n",
              "       '08201', '01601', '07901', '01128', '01015', '04501', '06213',\n",
              "       '10901', '12901', '07604', '09901', '05603', '05302', '06220',\n",
              "       '00605', '08401', '04012', '06225', '05001', '15001', '01101',\n",
              "       '07909', '03003', '07102', '00102', '07913', '06512', '02907',\n",
              "       '06108', '07908', '03101', '06506', '02409', '06219', '00506',\n",
              "       '02401', '00801', '07904', '02902', '08004', '01302', '01003',\n",
              "       '07201', '09501', '02901', '00301', '01002', '09705', '16001',\n",
              "       '09702', '01127', '05801', '02402', '08306', '10402', '07911',\n",
              "       '07903', '06208', '10201', '06221', '07907', '06227', '00504',\n",
              "       '01612', '09703', '04106', '07910', '09804', '07511', '09902',\n",
              "       '16201', '06508', '03201', '03402', '07307', '03410', '07302',\n",
              "       '06218', '08008', '03908', '01011', '03007', '01611', '06103',\n",
              "       '04509', '14401', '09101', '05601', '03004', '07905', '16701',\n",
              "       '07711', '06117', '04001', '00905', '08901', '04101', '05701',\n",
              "       '02003', '01017', '04107', '01608', '07906', '01905', '09109',\n",
              "       '08007', '06210', '01502', '11001', '01102', '01001', '08001',\n",
              "       '03102', '07615', '01503', '01115', '04011', '06110', '02407',\n",
              "       '99902', '02701', '12001', '02904', '05103', '15003', '16901',\n",
              "       '00409', '04906', '08010', '06107', '03701', '03203', '08308',\n",
              "       '06404', '05902', '02113', '12701', '04701', '00802', '07202',\n",
              "       '03412', '02410', '07509', '01505', '03801', '06806', '04401',\n",
              "       '05604', '06106', '09503', '03002', '09002', '05201', '00305',\n",
              "       '00804', '16801', '08801', '02012'], dtype=object)"
            ]
          },
          "metadata": {},
          "execution_count": 21
        }
      ]
    },
    {
      "cell_type": "markdown",
      "source": [
        "##Conferir Unicidade da Chave Identificadora"
      ],
      "metadata": {
        "id": "WCb3rTRblfB4"
      }
    },
    {
      "cell_type": "code",
      "source": [
        "df_colunas_novo_servicos_nao_monetario_4_id = df_colunas_novo_servicos_nao_monetario_4.drop_duplicates(subset=['COD_UPA','NUM_DOM','NUM_UC','SEQ','COD_INFORMANTE','QUADRO'], keep='first')"
      ],
      "metadata": {
        "id": "bWfFDN1slfB5"
      },
      "execution_count": null,
      "outputs": []
    },
    {
      "cell_type": "code",
      "source": [
        "df_colunas_novo_servicos_nao_monetario_4_id.shape[0]"
      ],
      "metadata": {
        "colab": {
          "base_uri": "https://localhost:8080/"
        },
        "outputId": "2e541090-8be1-4fd1-86f1-2b312fcf59a0",
        "id": "D33qYhyUlfB5"
      },
      "execution_count": null,
      "outputs": [
        {
          "output_type": "execute_result",
          "data": {
            "text/plain": [
              "126409"
            ]
          },
          "metadata": {},
          "execution_count": 26
        }
      ]
    },
    {
      "cell_type": "markdown",
      "source": [
        "## Aplicar Regras Normais"
      ],
      "metadata": {
        "id": "APv_Z-t46koy"
      }
    },
    {
      "cell_type": "code",
      "source": [
        "df_colunas_novo_servicos_nao_monetario_4 =  df_colunas_novo_servicos_nao_monetario_4.drop(['UF','ESTRATO_POF','TIPO_SITUACAO_REG','PESO','PESO_FINAL','RENDA_TOTAL'], axis=1)"
      ],
      "metadata": {
        "id": "XrTkH1sh6ko4"
      },
      "execution_count": null,
      "outputs": []
    },
    {
      "cell_type": "markdown",
      "source": [
        "## Baixar Arquivo como CSV"
      ],
      "metadata": {
        "id": "R4Iz1UTclfB5"
      }
    },
    {
      "cell_type": "code",
      "source": [
        "df_colunas_novo_servicos_nao_monetario_4.to_csv('SERVICO_NAO_MONETARIO_POF4.csv', index=False)"
      ],
      "metadata": {
        "id": "ugSSYETdlfB5"
      },
      "execution_count": null,
      "outputs": []
    },
    {
      "cell_type": "markdown",
      "source": [
        "# Tratamento do arquivo \"Restrição - Saúde\""
      ],
      "metadata": {
        "id": "Ph8RlUIjtskt"
      }
    },
    {
      "cell_type": "markdown",
      "source": [
        "##Abrindo e Analisando o Arquivo"
      ],
      "metadata": {
        "id": "RetP2VuBtsk0"
      }
    },
    {
      "cell_type": "code",
      "source": [
        "restricao = '/content/drive/MyDrive/POF (2017 2018)/RESTRICAO_PRODUTOS_SERVICOS_SAUDE.txt'\n",
        "\n",
        "with open(restricao, 'r') as arquivo:\n",
        "    conteudo = arquivo.readlines()\n",
        "\n",
        "# Imprimir 5 primeiras Linhas\n",
        "print(\"5 primeiras Linhas: \\n\")\n",
        "for conteudo in conteudo[:5]:\n",
        "    print(conteudo, end='')\n"
      ],
      "metadata": {
        "colab": {
          "base_uri": "https://localhost:8080/"
        },
        "outputId": "6368c299-b521-4157-dcf3-fa2723d5c55d",
        "id": "06DQY_uqtsk0"
      },
      "execution_count": null,
      "outputs": [
        {
          "output_type": "stream",
          "name": "stdout",
          "text": [
            "5 primeiras Linhas: \n",
            "\n",
            "1111031110005400121 1291129012011  272.80666931  372.98451570   2399.89\n",
            "1111031110005400131 142 742008011  272.80666931  372.98451570   3795.54\n",
            "1111031110005400131 142 942010011  272.80666931  372.98451570   3795.54\n",
            "1111031110005400131 1421142012011  272.80666931  372.98451570   3795.54\n",
            "1111031110005400131 229 329004011  272.80666931  372.98451570   3795.54\n"
          ]
        }
      ]
    },
    {
      "cell_type": "code",
      "source": [
        "with open(restricao, 'r') as arquivo:\n",
        "    conteudo = arquivo.readlines()\n",
        "\n",
        "# descobrir quantas Linhas tem o arquivo\n",
        "cont = 0\n",
        "for linha in conteudo:\n",
        "    cont += 1\n",
        "\n",
        "# descobrir quantos caracteres tem a primeira Linha\n",
        "cont_char = 0\n",
        "for i, linha in enumerate(conteudo[:1], start=1):\n",
        "    num_caracteres = len(linha)\n",
        "\n",
        "# descobrir se o restante das linhas tem a mesma qtd de caracteres da primeira linha\n",
        "primeira_linha = conteudo[0]\n",
        "todas_as_linhas_iguais = all(len(linha) == len(primeira_linha) for linha in conteudo)\n",
        "\n",
        "print(\"Total de linhas: \", cont)\n",
        "print(\"Total de caracteres da primeira linha: \", num_caracteres)\n",
        "print(\"Todas as Linhas tem o mesmo comprimento da primeira? \", todas_as_linhas_iguais)"
      ],
      "metadata": {
        "colab": {
          "base_uri": "https://localhost:8080/"
        },
        "outputId": "bbe272b9-57df-45fe-e47e-13f3f6f56f06",
        "id": "WR_1ZRlotsk0"
      },
      "execution_count": null,
      "outputs": [
        {
          "output_type": "stream",
          "name": "stdout",
          "text": [
            "Total de linhas:  40863\n",
            "Total de caracteres da primeira linha:  72\n",
            "Todas as Linhas tem o mesmo comprimento da primeira?  True\n"
          ]
        }
      ]
    },
    {
      "cell_type": "markdown",
      "source": [
        "##Adicionar o Separador"
      ],
      "metadata": {
        "id": "d7nbvUpmtsk0"
      }
    },
    {
      "cell_type": "code",
      "source": [
        "with open(restricao, 'r') as arquivo_orig:\n",
        "    with open('novo_restricao.csv', 'w') as arquivo_novo:\n",
        "        for linha in arquivo_orig:\n",
        "            nova_linha = (\n",
        "                linha[:2] + ';' + # variável 1\n",
        "                linha[2:6] + ';' + # variável 2\n",
        "                linha[6:7] + ';' + # variável 3\n",
        "                linha[7:16] + ';' + # variável 4\n",
        "                linha[16:18] + ';' + # variável 5\n",
        "                linha[18:19] + ';' + # variável 6\n",
        "                linha[19:21] + ';' + # variável 7\n",
        "                linha[21:23] + ';' + # variável 8\n",
        "                linha[23:25] + ';' + # variável 9\n",
        "                linha[25:32] + ';' + # variável 10\n",
        "                linha[32:33] + ';' + # variável 11\n",
        "                linha[33:47] + ';' + # variável 12\n",
        "                linha[47:61] + ';' + # variável 13\n",
        "                linha[61:]  # variável 14\n",
        "\n",
        "            )\n",
        "            nova_linha = nova_linha.replace(' ', '')\n",
        "            arquivo_novo.write(nova_linha)\n",
        "\n",
        "\n"
      ],
      "metadata": {
        "id": "BtfQ-Hqctsk0"
      },
      "execution_count": null,
      "outputs": []
    },
    {
      "cell_type": "markdown",
      "source": [
        "Conferir Processo"
      ],
      "metadata": {
        "id": "IC7I272htsk1"
      }
    },
    {
      "cell_type": "code",
      "source": [
        "novo_restricao = \"/content/novo_restricao.csv\"\n",
        "\n",
        "with open(novo_restricao, 'r') as arquivo_novo:\n",
        "  novo_dom = arquivo_novo.readlines()\n",
        "\n",
        "# imprimir primeira linha\n",
        "for lin in novo_dom[:1]:\n",
        "  print(lin, end=\"\")"
      ],
      "metadata": {
        "colab": {
          "base_uri": "https://localhost:8080/"
        },
        "outputId": "a62046b8-37ba-4250-b24b-cf29a6b8cb5e",
        "id": "zOO4CGsStsk1"
      },
      "execution_count": null,
      "outputs": [
        {
          "output_type": "stream",
          "name": "stdout",
          "text": [
            "11;1103;1;110005400;12;1;1;29;11;2901201;1;272.80666931;372.98451570;2399.89\n"
          ]
        }
      ]
    },
    {
      "cell_type": "markdown",
      "source": [
        "Conferir Estado do Novo Arquivo"
      ],
      "metadata": {
        "id": "GFFKH0-ktsk1"
      }
    },
    {
      "cell_type": "code",
      "source": [
        "with open(novo_restricao, 'r') as arquivo:\n",
        "    conteudo = arquivo.readlines()\n",
        "\n",
        "# Conferir Numero de Linhas\n",
        "cont = 0\n",
        "for linha in conteudo:\n",
        "    cont += 1\n",
        "\n",
        "# Conferir Total de Caracteres\n",
        "cont_char = 0\n",
        "for i, linha in enumerate(conteudo[:1], start=1):\n",
        "    num_caracteres = len(linha)\n",
        "\n",
        "# Conferir se as Linhas Ainda tem o Mesmo Numero de Caracteres\n",
        "primeira_linha = conteudo[0]\n",
        "todas_as_linhas_iguais = all(len(linha) == len(primeira_linha) for linha in conteudo)\n",
        "\n",
        "print(\"Total de linhas: \", cont)\n",
        "print(\"Total de caracteres da primeira linha: \", num_caracteres)\n",
        "print(\"Todas as Linhas tem o mesmo comprimento da primeira? \", todas_as_linhas_iguais)"
      ],
      "metadata": {
        "colab": {
          "base_uri": "https://localhost:8080/"
        },
        "outputId": "96dcc519-cae1-40f0-e416-cbaf57bc68cb",
        "id": "nsreMYgLtsk1"
      },
      "execution_count": null,
      "outputs": [
        {
          "output_type": "stream",
          "name": "stdout",
          "text": [
            "Total de linhas:  40863\n",
            "Total de caracteres da primeira linha:  77\n",
            "Todas as Linhas tem o mesmo comprimento da primeira?  False\n"
          ]
        }
      ]
    },
    {
      "cell_type": "markdown",
      "source": [
        "## Abrir arquivo como DataFrame, para melhor análise"
      ],
      "metadata": {
        "id": "kNyzIEk1tsk1"
      }
    },
    {
      "cell_type": "code",
      "source": [
        "colunas_restricao = [\n",
        "    \"UF\",\n",
        "    \"ESTRATO_POF\",\n",
        "    \"TIPO_SITUACAO_REG\",\n",
        "    \"COD_UPA\",\n",
        "    \"NUM_DOM\",\n",
        "    \"NUM_UC\",\n",
        "    \"COD_INFORMANTE\",\n",
        "    \"QUADRO\",\n",
        "    \"SEQ\",\n",
        "    \"V9001\",\n",
        "    \"V9013\",\n",
        "    \"PESO\",\n",
        "    \"PESO_FINAL\",\n",
        "    \"RENDA_TOTAL\"\n",
        "]"
      ],
      "metadata": {
        "id": "UtcKxxugtsk1"
      },
      "execution_count": null,
      "outputs": []
    },
    {
      "cell_type": "code",
      "source": [
        "df_restricao = pd.read_csv(novo_restricao, sep=';', names = colunas_restricao, dtype='object')"
      ],
      "metadata": {
        "id": "0NOx0U5atsk1"
      },
      "execution_count": null,
      "outputs": []
    },
    {
      "cell_type": "code",
      "source": [
        "df_restricao.info()"
      ],
      "metadata": {
        "colab": {
          "base_uri": "https://localhost:8080/"
        },
        "outputId": "d0a6e2d1-d49a-4028-b727-e89007abec19",
        "id": "p02G1Psetsk2"
      },
      "execution_count": null,
      "outputs": [
        {
          "output_type": "stream",
          "name": "stdout",
          "text": [
            "<class 'pandas.core.frame.DataFrame'>\n",
            "RangeIndex: 40863 entries, 0 to 40862\n",
            "Data columns (total 14 columns):\n",
            " #   Column             Non-Null Count  Dtype \n",
            "---  ------             --------------  ----- \n",
            " 0   UF                 40863 non-null  object\n",
            " 1   ESTRATO_POF        40863 non-null  object\n",
            " 2   TIPO_SITUACAO_REG  40863 non-null  object\n",
            " 3   COD_UPA            40863 non-null  object\n",
            " 4   NUM_DOM            40863 non-null  object\n",
            " 5   NUM_UC             40863 non-null  object\n",
            " 6   COD_INFORMANTE     40863 non-null  object\n",
            " 7   QUADRO             40863 non-null  object\n",
            " 8   SEQ                40863 non-null  object\n",
            " 9   V9001              40863 non-null  object\n",
            " 10  V9013              40863 non-null  object\n",
            " 11  PESO               40863 non-null  object\n",
            " 12  PESO_FINAL         40863 non-null  object\n",
            " 13  RENDA_TOTAL        40863 non-null  object\n",
            "dtypes: object(14)\n",
            "memory usage: 4.4+ MB\n"
          ]
        }
      ]
    },
    {
      "cell_type": "code",
      "source": [
        "df_restricao.head()"
      ],
      "metadata": {
        "colab": {
          "base_uri": "https://localhost:8080/",
          "height": 226
        },
        "outputId": "9f9286e2-85bb-4d11-94eb-63035c9a9976",
        "id": "6sN-XX3Ttsk2"
      },
      "execution_count": null,
      "outputs": [
        {
          "output_type": "execute_result",
          "data": {
            "text/plain": [
              "   UF  ESTRATO_POF  TIPO_SITUACAO_REG    COD_UPA  NUM_DOM  NUM_UC  \\\n",
              "0  11         1103                  1  110005400       12       1   \n",
              "1  11         1103                  1  110005400       13       1   \n",
              "2  11         1103                  1  110005400       13       1   \n",
              "3  11         1103                  1  110005400       13       1   \n",
              "4  11         1103                  1  110005400       13       1   \n",
              "\n",
              "   COD_INFORMANTE  QUADRO  SEQ    V9001  V9013        PESO  PESO_FINAL  \\\n",
              "0               1      29   11  2901201      1  272.806669  372.984516   \n",
              "1               1      42    7  4200801      1  272.806669  372.984516   \n",
              "2               1      42    9  4201001      1  272.806669  372.984516   \n",
              "3               1      42   11  4201201      1  272.806669  372.984516   \n",
              "4               2      29    3  2900401      1  272.806669  372.984516   \n",
              "\n",
              "   RENDA_TOTAL  \n",
              "0      2399.89  \n",
              "1      3795.54  \n",
              "2      3795.54  \n",
              "3      3795.54  \n",
              "4      3795.54  "
            ],
            "text/html": [
              "\n",
              "  <div id=\"df-57b7d01a-3cc0-4fe8-90af-43d57c180950\" class=\"colab-df-container\">\n",
              "    <div>\n",
              "<style scoped>\n",
              "    .dataframe tbody tr th:only-of-type {\n",
              "        vertical-align: middle;\n",
              "    }\n",
              "\n",
              "    .dataframe tbody tr th {\n",
              "        vertical-align: top;\n",
              "    }\n",
              "\n",
              "    .dataframe thead th {\n",
              "        text-align: right;\n",
              "    }\n",
              "</style>\n",
              "<table border=\"1\" class=\"dataframe\">\n",
              "  <thead>\n",
              "    <tr style=\"text-align: right;\">\n",
              "      <th></th>\n",
              "      <th>UF</th>\n",
              "      <th>ESTRATO_POF</th>\n",
              "      <th>TIPO_SITUACAO_REG</th>\n",
              "      <th>COD_UPA</th>\n",
              "      <th>NUM_DOM</th>\n",
              "      <th>NUM_UC</th>\n",
              "      <th>COD_INFORMANTE</th>\n",
              "      <th>QUADRO</th>\n",
              "      <th>SEQ</th>\n",
              "      <th>V9001</th>\n",
              "      <th>V9013</th>\n",
              "      <th>PESO</th>\n",
              "      <th>PESO_FINAL</th>\n",
              "      <th>RENDA_TOTAL</th>\n",
              "    </tr>\n",
              "  </thead>\n",
              "  <tbody>\n",
              "    <tr>\n",
              "      <th>0</th>\n",
              "      <td>11</td>\n",
              "      <td>1103</td>\n",
              "      <td>1</td>\n",
              "      <td>110005400</td>\n",
              "      <td>12</td>\n",
              "      <td>1</td>\n",
              "      <td>1</td>\n",
              "      <td>29</td>\n",
              "      <td>11</td>\n",
              "      <td>2901201</td>\n",
              "      <td>1</td>\n",
              "      <td>272.806669</td>\n",
              "      <td>372.984516</td>\n",
              "      <td>2399.89</td>\n",
              "    </tr>\n",
              "    <tr>\n",
              "      <th>1</th>\n",
              "      <td>11</td>\n",
              "      <td>1103</td>\n",
              "      <td>1</td>\n",
              "      <td>110005400</td>\n",
              "      <td>13</td>\n",
              "      <td>1</td>\n",
              "      <td>1</td>\n",
              "      <td>42</td>\n",
              "      <td>7</td>\n",
              "      <td>4200801</td>\n",
              "      <td>1</td>\n",
              "      <td>272.806669</td>\n",
              "      <td>372.984516</td>\n",
              "      <td>3795.54</td>\n",
              "    </tr>\n",
              "    <tr>\n",
              "      <th>2</th>\n",
              "      <td>11</td>\n",
              "      <td>1103</td>\n",
              "      <td>1</td>\n",
              "      <td>110005400</td>\n",
              "      <td>13</td>\n",
              "      <td>1</td>\n",
              "      <td>1</td>\n",
              "      <td>42</td>\n",
              "      <td>9</td>\n",
              "      <td>4201001</td>\n",
              "      <td>1</td>\n",
              "      <td>272.806669</td>\n",
              "      <td>372.984516</td>\n",
              "      <td>3795.54</td>\n",
              "    </tr>\n",
              "    <tr>\n",
              "      <th>3</th>\n",
              "      <td>11</td>\n",
              "      <td>1103</td>\n",
              "      <td>1</td>\n",
              "      <td>110005400</td>\n",
              "      <td>13</td>\n",
              "      <td>1</td>\n",
              "      <td>1</td>\n",
              "      <td>42</td>\n",
              "      <td>11</td>\n",
              "      <td>4201201</td>\n",
              "      <td>1</td>\n",
              "      <td>272.806669</td>\n",
              "      <td>372.984516</td>\n",
              "      <td>3795.54</td>\n",
              "    </tr>\n",
              "    <tr>\n",
              "      <th>4</th>\n",
              "      <td>11</td>\n",
              "      <td>1103</td>\n",
              "      <td>1</td>\n",
              "      <td>110005400</td>\n",
              "      <td>13</td>\n",
              "      <td>1</td>\n",
              "      <td>2</td>\n",
              "      <td>29</td>\n",
              "      <td>3</td>\n",
              "      <td>2900401</td>\n",
              "      <td>1</td>\n",
              "      <td>272.806669</td>\n",
              "      <td>372.984516</td>\n",
              "      <td>3795.54</td>\n",
              "    </tr>\n",
              "  </tbody>\n",
              "</table>\n",
              "</div>\n",
              "    <div class=\"colab-df-buttons\">\n",
              "\n",
              "  <div class=\"colab-df-container\">\n",
              "    <button class=\"colab-df-convert\" onclick=\"convertToInteractive('df-57b7d01a-3cc0-4fe8-90af-43d57c180950')\"\n",
              "            title=\"Convert this dataframe to an interactive table.\"\n",
              "            style=\"display:none;\">\n",
              "\n",
              "  <svg xmlns=\"http://www.w3.org/2000/svg\" height=\"24px\" viewBox=\"0 -960 960 960\">\n",
              "    <path d=\"M120-120v-720h720v720H120Zm60-500h600v-160H180v160Zm220 220h160v-160H400v160Zm0 220h160v-160H400v160ZM180-400h160v-160H180v160Zm440 0h160v-160H620v160ZM180-180h160v-160H180v160Zm440 0h160v-160H620v160Z\"/>\n",
              "  </svg>\n",
              "    </button>\n",
              "\n",
              "  <style>\n",
              "    .colab-df-container {\n",
              "      display:flex;\n",
              "      gap: 12px;\n",
              "    }\n",
              "\n",
              "    .colab-df-convert {\n",
              "      background-color: #E8F0FE;\n",
              "      border: none;\n",
              "      border-radius: 50%;\n",
              "      cursor: pointer;\n",
              "      display: none;\n",
              "      fill: #1967D2;\n",
              "      height: 32px;\n",
              "      padding: 0 0 0 0;\n",
              "      width: 32px;\n",
              "    }\n",
              "\n",
              "    .colab-df-convert:hover {\n",
              "      background-color: #E2EBFA;\n",
              "      box-shadow: 0px 1px 2px rgba(60, 64, 67, 0.3), 0px 1px 3px 1px rgba(60, 64, 67, 0.15);\n",
              "      fill: #174EA6;\n",
              "    }\n",
              "\n",
              "    .colab-df-buttons div {\n",
              "      margin-bottom: 4px;\n",
              "    }\n",
              "\n",
              "    [theme=dark] .colab-df-convert {\n",
              "      background-color: #3B4455;\n",
              "      fill: #D2E3FC;\n",
              "    }\n",
              "\n",
              "    [theme=dark] .colab-df-convert:hover {\n",
              "      background-color: #434B5C;\n",
              "      box-shadow: 0px 1px 3px 1px rgba(0, 0, 0, 0.15);\n",
              "      filter: drop-shadow(0px 1px 2px rgba(0, 0, 0, 0.3));\n",
              "      fill: #FFFFFF;\n",
              "    }\n",
              "  </style>\n",
              "\n",
              "    <script>\n",
              "      const buttonEl =\n",
              "        document.querySelector('#df-57b7d01a-3cc0-4fe8-90af-43d57c180950 button.colab-df-convert');\n",
              "      buttonEl.style.display =\n",
              "        google.colab.kernel.accessAllowed ? 'block' : 'none';\n",
              "\n",
              "      async function convertToInteractive(key) {\n",
              "        const element = document.querySelector('#df-57b7d01a-3cc0-4fe8-90af-43d57c180950');\n",
              "        const dataTable =\n",
              "          await google.colab.kernel.invokeFunction('convertToInteractive',\n",
              "                                                    [key], {});\n",
              "        if (!dataTable) return;\n",
              "\n",
              "        const docLinkHtml = 'Like what you see? Visit the ' +\n",
              "          '<a target=\"_blank\" href=https://colab.research.google.com/notebooks/data_table.ipynb>data table notebook</a>'\n",
              "          + ' to learn more about interactive tables.';\n",
              "        element.innerHTML = '';\n",
              "        dataTable['output_type'] = 'display_data';\n",
              "        await google.colab.output.renderOutput(dataTable, element);\n",
              "        const docLink = document.createElement('div');\n",
              "        docLink.innerHTML = docLinkHtml;\n",
              "        element.appendChild(docLink);\n",
              "      }\n",
              "    </script>\n",
              "  </div>\n",
              "\n",
              "\n",
              "<div id=\"df-1d79f0e1-f065-424a-b854-c03f2f147507\">\n",
              "  <button class=\"colab-df-quickchart\" onclick=\"quickchart('df-1d79f0e1-f065-424a-b854-c03f2f147507')\"\n",
              "            title=\"Suggest charts.\"\n",
              "            style=\"display:none;\">\n",
              "\n",
              "<svg xmlns=\"http://www.w3.org/2000/svg\" height=\"24px\"viewBox=\"0 0 24 24\"\n",
              "     width=\"24px\">\n",
              "    <g>\n",
              "        <path d=\"M19 3H5c-1.1 0-2 .9-2 2v14c0 1.1.9 2 2 2h14c1.1 0 2-.9 2-2V5c0-1.1-.9-2-2-2zM9 17H7v-7h2v7zm4 0h-2V7h2v10zm4 0h-2v-4h2v4z\"/>\n",
              "    </g>\n",
              "</svg>\n",
              "  </button>\n",
              "\n",
              "<style>\n",
              "  .colab-df-quickchart {\n",
              "      --bg-color: #E8F0FE;\n",
              "      --fill-color: #1967D2;\n",
              "      --hover-bg-color: #E2EBFA;\n",
              "      --hover-fill-color: #174EA6;\n",
              "      --disabled-fill-color: #AAA;\n",
              "      --disabled-bg-color: #DDD;\n",
              "  }\n",
              "\n",
              "  [theme=dark] .colab-df-quickchart {\n",
              "      --bg-color: #3B4455;\n",
              "      --fill-color: #D2E3FC;\n",
              "      --hover-bg-color: #434B5C;\n",
              "      --hover-fill-color: #FFFFFF;\n",
              "      --disabled-bg-color: #3B4455;\n",
              "      --disabled-fill-color: #666;\n",
              "  }\n",
              "\n",
              "  .colab-df-quickchart {\n",
              "    background-color: var(--bg-color);\n",
              "    border: none;\n",
              "    border-radius: 50%;\n",
              "    cursor: pointer;\n",
              "    display: none;\n",
              "    fill: var(--fill-color);\n",
              "    height: 32px;\n",
              "    padding: 0;\n",
              "    width: 32px;\n",
              "  }\n",
              "\n",
              "  .colab-df-quickchart:hover {\n",
              "    background-color: var(--hover-bg-color);\n",
              "    box-shadow: 0 1px 2px rgba(60, 64, 67, 0.3), 0 1px 3px 1px rgba(60, 64, 67, 0.15);\n",
              "    fill: var(--button-hover-fill-color);\n",
              "  }\n",
              "\n",
              "  .colab-df-quickchart-complete:disabled,\n",
              "  .colab-df-quickchart-complete:disabled:hover {\n",
              "    background-color: var(--disabled-bg-color);\n",
              "    fill: var(--disabled-fill-color);\n",
              "    box-shadow: none;\n",
              "  }\n",
              "\n",
              "  .colab-df-spinner {\n",
              "    border: 2px solid var(--fill-color);\n",
              "    border-color: transparent;\n",
              "    border-bottom-color: var(--fill-color);\n",
              "    animation:\n",
              "      spin 1s steps(1) infinite;\n",
              "  }\n",
              "\n",
              "  @keyframes spin {\n",
              "    0% {\n",
              "      border-color: transparent;\n",
              "      border-bottom-color: var(--fill-color);\n",
              "      border-left-color: var(--fill-color);\n",
              "    }\n",
              "    20% {\n",
              "      border-color: transparent;\n",
              "      border-left-color: var(--fill-color);\n",
              "      border-top-color: var(--fill-color);\n",
              "    }\n",
              "    30% {\n",
              "      border-color: transparent;\n",
              "      border-left-color: var(--fill-color);\n",
              "      border-top-color: var(--fill-color);\n",
              "      border-right-color: var(--fill-color);\n",
              "    }\n",
              "    40% {\n",
              "      border-color: transparent;\n",
              "      border-right-color: var(--fill-color);\n",
              "      border-top-color: var(--fill-color);\n",
              "    }\n",
              "    60% {\n",
              "      border-color: transparent;\n",
              "      border-right-color: var(--fill-color);\n",
              "    }\n",
              "    80% {\n",
              "      border-color: transparent;\n",
              "      border-right-color: var(--fill-color);\n",
              "      border-bottom-color: var(--fill-color);\n",
              "    }\n",
              "    90% {\n",
              "      border-color: transparent;\n",
              "      border-bottom-color: var(--fill-color);\n",
              "    }\n",
              "  }\n",
              "</style>\n",
              "\n",
              "  <script>\n",
              "    async function quickchart(key) {\n",
              "      const quickchartButtonEl =\n",
              "        document.querySelector('#' + key + ' button');\n",
              "      quickchartButtonEl.disabled = true;  // To prevent multiple clicks.\n",
              "      quickchartButtonEl.classList.add('colab-df-spinner');\n",
              "      try {\n",
              "        const charts = await google.colab.kernel.invokeFunction(\n",
              "            'suggestCharts', [key], {});\n",
              "      } catch (error) {\n",
              "        console.error('Error during call to suggestCharts:', error);\n",
              "      }\n",
              "      quickchartButtonEl.classList.remove('colab-df-spinner');\n",
              "      quickchartButtonEl.classList.add('colab-df-quickchart-complete');\n",
              "    }\n",
              "    (() => {\n",
              "      let quickchartButtonEl =\n",
              "        document.querySelector('#df-1d79f0e1-f065-424a-b854-c03f2f147507 button');\n",
              "      quickchartButtonEl.style.display =\n",
              "        google.colab.kernel.accessAllowed ? 'block' : 'none';\n",
              "    })();\n",
              "  </script>\n",
              "</div>\n",
              "    </div>\n",
              "  </div>\n"
            ]
          },
          "metadata": {},
          "execution_count": 30
        }
      ]
    },
    {
      "cell_type": "markdown",
      "source": [
        "##Conferir Unicidade da Chave Identificadora"
      ],
      "metadata": {
        "id": "aoVMOeGztsk2"
      }
    },
    {
      "cell_type": "code",
      "source": [
        "df_restricao_id = df_restricao.drop_duplicates(subset=['COD_UPA','NUM_DOM','NUM_UC','SEQ','COD_INFORMANTE','QUADRO'], keep='first')"
      ],
      "metadata": {
        "id": "Pz_FOKLstsk2"
      },
      "execution_count": null,
      "outputs": []
    },
    {
      "cell_type": "code",
      "source": [
        "df_restricao_id.shape[0]"
      ],
      "metadata": {
        "colab": {
          "base_uri": "https://localhost:8080/"
        },
        "outputId": "c1b608de-2146-455e-ba86-45e0ddb03179",
        "id": "fbZMhwhytsk2"
      },
      "execution_count": null,
      "outputs": [
        {
          "output_type": "execute_result",
          "data": {
            "text/plain": [
              "40863"
            ]
          },
          "metadata": {},
          "execution_count": 35
        }
      ]
    },
    {
      "cell_type": "markdown",
      "source": [
        "## Aplicar Regras Normais"
      ],
      "metadata": {
        "id": "z53D7htw7ECj"
      }
    },
    {
      "cell_type": "code",
      "source": [
        "df_restricao =  df_restricao.drop(['UF','ESTRATO_POF','TIPO_SITUACAO_REG','PESO','PESO_FINAL','RENDA_TOTAL'], axis=1)"
      ],
      "metadata": {
        "id": "EqbflAOJ7ECp"
      },
      "execution_count": null,
      "outputs": []
    },
    {
      "cell_type": "markdown",
      "source": [
        "## Baixar Arquivo como CSV"
      ],
      "metadata": {
        "id": "8Jjs0K51tsk2"
      }
    },
    {
      "cell_type": "code",
      "source": [
        "df_restricao.to_csv('RESTRICAO_SAUDE.csv', index=False)"
      ],
      "metadata": {
        "id": "xw5I-hxNtsk2"
      },
      "execution_count": null,
      "outputs": []
    },
    {
      "cell_type": "markdown",
      "source": [
        "# Tratamento do arquivo \"Rendimento do Trabalho\""
      ],
      "metadata": {
        "id": "G2DFJNoCw-ce"
      }
    },
    {
      "cell_type": "markdown",
      "source": [
        "##Abrindo e Analisando o Arquivo"
      ],
      "metadata": {
        "id": "Nm5vmnXaw-ck"
      }
    },
    {
      "cell_type": "code",
      "source": [
        "rendimento_trab = '/content/drive/MyDrive/POF (2017 2018)/RENDIMENTO_TRABALHO.txt'\n",
        "\n",
        "with open(rendimento_trab, 'r') as arquivo:\n",
        "    conteudo = arquivo.readlines()\n",
        "\n",
        "# Imprimir 5 primeiras Linhas\n",
        "print(\"5 primeiras Linhas: \\n\")\n",
        "for conteudo in conteudo[:5]:\n",
        "    print(conteudo, end='')\n"
      ],
      "metadata": {
        "colab": {
          "base_uri": "https://localhost:8080/"
        },
        "outputId": "9b8fc5c0-a120-4749-d652-52a0a5b29bc6",
        "id": "oAtxUOeQw-cl"
      },
      "execution_count": null,
      "outputs": [
        {
          "output_type": "stream",
          "name": "stdout",
          "text": [
            "5 primeiras Linhas: \n",
            "\n",
            "1111031110005400 11 1531153005015   11  10000    800               912 4011.0025988491  10025.99    802.08                    01  272.80666931  372.98451570  11254.75142048042\n",
            "1111031110005400 21 1531153006016   11  10000     50               912 8411.0025988491  10025.99    621.04                    01  272.80666931  372.98451570  10828.07142056011\n",
            "1111031110005400 21 2531153003013  221    800                      912 4211.0025988491    802.08                              01  272.80666931  372.98451570  10828.07932956011\n",
            "1111031110005400 41 1531153005015   11   3000                     1012 4410.9995373369   2998.61                              01  272.80666931  372.98451570   4769.13132449040\n",
            "1111031110005400 41 2531153003013  1 1   1200                     1012 4410.9995373369   1199.44                              01  272.80666931  372.98451570   4769.13522348042\n"
          ]
        }
      ]
    },
    {
      "cell_type": "code",
      "source": [
        "with open(rendimento_trab, 'r') as arquivo:\n",
        "    conteudo = arquivo.readlines()\n",
        "\n",
        "# descobrir quantas Linhas tem o arquivo\n",
        "cont = 0\n",
        "for linha in conteudo:\n",
        "    cont += 1\n",
        "\n",
        "# descobrir quantos caracteres tem a primeira Linha\n",
        "cont_char = 0\n",
        "for i, linha in enumerate(conteudo[:1], start=1):\n",
        "    num_caracteres = len(linha)\n",
        "\n",
        "# descobrir se o restante das linhas tem a mesma qtd de caracteres da primeira linha\n",
        "primeira_linha = conteudo[0]\n",
        "todas_as_linhas_iguais = all(len(linha) == len(primeira_linha) for linha in conteudo)\n",
        "\n",
        "print(\"Total de linhas: \", cont)\n",
        "print(\"Total de caracteres da primeira linha: \", num_caracteres)\n",
        "print(\"Todas as Linhas tem o mesmo comprimento da primeira? \", todas_as_linhas_iguais)"
      ],
      "metadata": {
        "colab": {
          "base_uri": "https://localhost:8080/"
        },
        "outputId": "6f9e8916-d05f-46c0-d770-28892cf846e1",
        "id": "5U0P62egw-cl"
      },
      "execution_count": null,
      "outputs": [
        {
          "output_type": "stream",
          "name": "stdout",
          "text": [
            "Total de linhas:  97075\n",
            "Total de caracteres da primeira linha:  176\n",
            "Todas as Linhas tem o mesmo comprimento da primeira?  True\n"
          ]
        }
      ]
    },
    {
      "cell_type": "markdown",
      "source": [
        "##Adicionar o Separador"
      ],
      "metadata": {
        "id": "1ivJugxcw-cl"
      }
    },
    {
      "cell_type": "code",
      "source": [
        "with open(rendimento_trab, 'r') as arquivo_orig:\n",
        "    with open('novo_rendimento_trab.csv', 'w') as arquivo_novo:\n",
        "        for linha in arquivo_orig:\n",
        "            nova_linha = (\n",
        "                linha[:2] + ';' + # variável 1\n",
        "                linha[2:6] + ';' + # variável 2\n",
        "                linha[6:7] + ';' + # variável 3\n",
        "                linha[7:16] + ';' + # variável 4\n",
        "                linha[16:18] + ';' + # variável 5\n",
        "                linha[18:19] + ';' + # variável 6\n",
        "                linha[19:21] + ';' + # variável 7\n",
        "                linha[21:23] + ';' + # variável 8\n",
        "                linha[23:24] + ';' + # variável 9\n",
        "                linha[24:25] + ';' + # variável 10\n",
        "                linha[25:32] + ';' + # variável 11\n",
        "                linha[32:33] + ';' + # variável 12\n",
        "                linha[33:34] + ';' + # variável 13\n",
        "                linha[34:35] + ';' + # variável 14\n",
        "                linha[35:36] + ';' + # variável 15\n",
        "                linha[36:37] + ';' + # variável 16\n",
        "                linha[37:38] + ';' + # variável 17\n",
        "                linha[38:45] + ';' + # variável 18\n",
        "                linha[45:52] + ';' + # variável 19\n",
        "                linha[52:59] + ';' + # variável 20\n",
        "                linha[59:66] + ';' + # variável 21\n",
        "                linha[66:68] + ';' + # variável 22\n",
        "                linha[68:70] + ';' + # variável 23\n",
        "                linha[70:73] + ';' + # variável 24\n",
        "                linha[73:74] + ';' + # variável 25\n",
        "                linha[74:86] + ';' + # variável 26\n",
        "                linha[86:96] + ';' + # variável 27\n",
        "                linha[96:106] + ';' + # variável 28\n",
        "                linha[106:116] + ';' + # variável 29\n",
        "                linha[116:126] + ';' + # variável 30\n",
        "                linha[126:127] + ';' + # variável 31\n",
        "                linha[127:128] + ';' + # variável 32\n",
        "                linha[128:142] + ';' + # variável 33\n",
        "                linha[142:156] + ';' + # variável 34\n",
        "                linha[156:166] + ';' + # variável 35\n",
        "                linha[166:170] + ';' + # variável 36\n",
        "                linha[170:]  # variável 37\n",
        "            )\n",
        "            nova_linha = nova_linha.replace(' ', '')\n",
        "            arquivo_novo.write(nova_linha)\n",
        "\n",
        "\n"
      ],
      "metadata": {
        "id": "BVumnKH3w-cl"
      },
      "execution_count": null,
      "outputs": []
    },
    {
      "cell_type": "markdown",
      "source": [
        "Conferir Processo"
      ],
      "metadata": {
        "id": "yOwqkSkIw-cm"
      }
    },
    {
      "cell_type": "code",
      "source": [
        "novo_rendimento_trab = \"/content/novo_rendimento_trab.csv\"\n",
        "\n",
        "with open(novo_rendimento_trab, 'r') as arquivo_novo:\n",
        "  novo_dom = arquivo_novo.readlines()\n",
        "\n",
        "# imprimir primeira linha\n",
        "for lin in novo_dom[:1]:\n",
        "  print(lin, end=\"\")"
      ],
      "metadata": {
        "colab": {
          "base_uri": "https://localhost:8080/"
        },
        "outputId": "cda1b6d2-d1e3-4253-9bcb-2ddb0f990c0b",
        "id": "Uz1BAJVmw-cm"
      },
      "execution_count": null,
      "outputs": [
        {
          "output_type": "stream",
          "name": "stdout",
          "text": [
            "11;1103;1;110005400;1;1;1;53;1;1;5300501;5;;;;1;1;10000;800;;;9;12;40;1;1.0025988491;10025.99;802.08;;;0;1;272.80666931;372.98451570;11254.75;1420;48042\n"
          ]
        }
      ]
    },
    {
      "cell_type": "markdown",
      "source": [
        "Conferir Estado do Novo Arquivo"
      ],
      "metadata": {
        "id": "KcZX815Jw-cm"
      }
    },
    {
      "cell_type": "code",
      "source": [
        "with open(novo_rendimento_trab, 'r') as arquivo:\n",
        "    conteudo = arquivo.readlines()\n",
        "\n",
        "# Conferir Numero de Linhas\n",
        "cont = 0\n",
        "for linha in conteudo:\n",
        "    cont += 1\n",
        "\n",
        "# Conferir Total de Caracteres\n",
        "cont_char = 0\n",
        "for i, linha in enumerate(conteudo[:1], start=1):\n",
        "    num_caracteres = len(linha)\n",
        "\n",
        "# Conferir se as Linhas Ainda tem o Mesmo Numero de Caracteres\n",
        "primeira_linha = conteudo[0]\n",
        "todas_as_linhas_iguais = all(len(linha) == len(primeira_linha) for linha in conteudo)\n",
        "\n",
        "print(\"Total de linhas: \", cont)\n",
        "print(\"Total de caracteres da primeira linha: \", num_caracteres)\n",
        "print(\"Todas as Linhas tem o mesmo comprimento da primeira? \", todas_as_linhas_iguais)"
      ],
      "metadata": {
        "colab": {
          "base_uri": "https://localhost:8080/"
        },
        "outputId": "8e46e70f-1c2a-4f9e-862d-b3bbf06bf8f3",
        "id": "9kahhUUpw-cm"
      },
      "execution_count": null,
      "outputs": [
        {
          "output_type": "stream",
          "name": "stdout",
          "text": [
            "Total de linhas:  97075\n",
            "Total de caracteres da primeira linha:  153\n",
            "Todas as Linhas tem o mesmo comprimento da primeira?  False\n"
          ]
        }
      ]
    },
    {
      "cell_type": "markdown",
      "source": [
        "## Abrir arquivo como DataFrame, para melhor análise"
      ],
      "metadata": {
        "id": "eJ4eLxwDw-cm"
      }
    },
    {
      "cell_type": "code",
      "source": [
        "import pandas as pd"
      ],
      "metadata": {
        "id": "gL1B_X5sw-cm"
      },
      "execution_count": null,
      "outputs": []
    },
    {
      "cell_type": "code",
      "source": [
        "colunas_rend_trab = [\n",
        "    \"UF\",\n",
        "    \"ESTRATO_POF\",\n",
        "    \"TIPO_SITUACAO_REG\",\n",
        "    \"COD_UPA\",\n",
        "    \"NUM_DOM\",\n",
        "    \"NUM_UC\",\n",
        "    \"COD_INFORMANTE\",\n",
        "    \"QUADRO\",\n",
        "    \"SUB_QUADRO\",\n",
        "    \"SEQ\",\n",
        "    \"V9001\",\n",
        "    \"V5302\",\n",
        "    \"V53021\",\n",
        "    \"V5303\",\n",
        "    \"V5304\",\n",
        "    \"V5305\",\n",
        "    \"V5307\",\n",
        "    \"V8500\",\n",
        "    \"V531112\",\n",
        "    \"V531122\",\n",
        "    \"V531132\",\n",
        "    \"V9010\",\n",
        "    \"V9011\",\n",
        "    \"V5314\",\n",
        "    \"V5315\",\n",
        "    \"DEFLATOR\",\n",
        "    \"V8500_DEFLA\",\n",
        "    \"V531112_DEFLA\",\n",
        "    \"V531122_DEFLA\",\n",
        "    \"V531132_DEFLA\",\n",
        "    \"COD_IMPUT_VALOR\",\n",
        "    \"FATOR_ANUALIZACAO\",\n",
        "    \"PESO\",\n",
        "    \"PESO_FINAL\",\n",
        "    \"RENDA_TOTAL\",\n",
        "    \"V53011\",\n",
        "    \"V53061\"\n",
        "]"
      ],
      "metadata": {
        "id": "YrnKudXLw-cm"
      },
      "execution_count": null,
      "outputs": []
    },
    {
      "cell_type": "code",
      "source": [
        "df_rendimento_trab = pd.read_csv(novo_rendimento_trab, sep=';', names = colunas_rend_trab, dtype='object')"
      ],
      "metadata": {
        "id": "6QKN39xJw-cm"
      },
      "execution_count": null,
      "outputs": []
    },
    {
      "cell_type": "code",
      "source": [
        "df_rendimento_trab.info()"
      ],
      "metadata": {
        "colab": {
          "base_uri": "https://localhost:8080/"
        },
        "outputId": "e744c373-cc38-48fe-8b84-536f55bbabab",
        "id": "N-fNeSurw-cn"
      },
      "execution_count": null,
      "outputs": [
        {
          "output_type": "stream",
          "name": "stdout",
          "text": [
            "<class 'pandas.core.frame.DataFrame'>\n",
            "RangeIndex: 97075 entries, 0 to 97074\n",
            "Data columns (total 37 columns):\n",
            " #   Column             Non-Null Count  Dtype \n",
            "---  ------             --------------  ----- \n",
            " 0   UF                 97075 non-null  object\n",
            " 1   ESTRATO_POF        97075 non-null  object\n",
            " 2   TIPO_SITUACAO_REG  97075 non-null  object\n",
            " 3   COD_UPA            97075 non-null  object\n",
            " 4   NUM_DOM            97075 non-null  object\n",
            " 5   NUM_UC             97075 non-null  object\n",
            " 6   COD_INFORMANTE     97075 non-null  object\n",
            " 7   QUADRO             97075 non-null  object\n",
            " 8   SUB_QUADRO         97075 non-null  object\n",
            " 9   SEQ                97075 non-null  object\n",
            " 10  V9001              97075 non-null  object\n",
            " 11  V5302              97075 non-null  object\n",
            " 12  V53021             3928 non-null   object\n",
            " 13  V5303              10927 non-null  object\n",
            " 14  V5304              51570 non-null  object\n",
            " 15  V5305              57083 non-null  object\n",
            " 16  V5307              93147 non-null  object\n",
            " 17  V8500              91248 non-null  object\n",
            " 18  V531112            36025 non-null  object\n",
            " 19  V531122            7649 non-null   object\n",
            " 20  V531132            684 non-null    object\n",
            " 21  V9010              91248 non-null  object\n",
            " 22  V9011              91248 non-null  object\n",
            " 23  V5314              97075 non-null  object\n",
            " 24  V5315              82191 non-null  object\n",
            " 25  DEFLATOR           86177 non-null  object\n",
            " 26  V8500_DEFLA        91248 non-null  object\n",
            " 27  V531112_DEFLA      36544 non-null  object\n",
            " 28  V531122_DEFLA      7782 non-null   object\n",
            " 29  V531132_DEFLA      497 non-null    object\n",
            " 30  COD_IMPUT_VALOR    97075 non-null  object\n",
            " 31  FATOR_ANUALIZACAO  97075 non-null  object\n",
            " 32  PESO               97075 non-null  object\n",
            " 33  PESO_FINAL         97075 non-null  object\n",
            " 34  RENDA_TOTAL        97075 non-null  object\n",
            " 35  V53011             82191 non-null  object\n",
            " 36  V53061             82191 non-null  object\n",
            "dtypes: object(37)\n",
            "memory usage: 27.4+ MB\n"
          ]
        }
      ]
    },
    {
      "cell_type": "code",
      "source": [
        "df_rendimento_trab.head(1).T"
      ],
      "metadata": {
        "colab": {
          "base_uri": "https://localhost:8080/",
          "height": 1000
        },
        "outputId": "d6852e08-b5b9-43f3-8efe-6b99194a83a1",
        "id": "YcWjDMOiw-cm"
      },
      "execution_count": null,
      "outputs": [
        {
          "output_type": "execute_result",
          "data": {
            "text/plain": [
              "                              0\n",
              "UF                           11\n",
              "ESTRATO_POF                1103\n",
              "TIPO_SITUACAO_REG             1\n",
              "COD_UPA               110005400\n",
              "NUM_DOM                       1\n",
              "NUM_UC                        1\n",
              "COD_INFORMANTE                1\n",
              "QUADRO                       53\n",
              "SUB_QUADRO                    1\n",
              "SEQ                           1\n",
              "V9001                   5300501\n",
              "V5302                         5\n",
              "V53021                      NaN\n",
              "V5303                       NaN\n",
              "V5304                       NaN\n",
              "V5305                         1\n",
              "V5307                         1\n",
              "V8500                     10000\n",
              "V531112                     800\n",
              "V531122                     NaN\n",
              "V531132                     NaN\n",
              "V9010                         9\n",
              "V9011                        12\n",
              "V5314                        40\n",
              "V5315                         1\n",
              "DEFLATOR           1.0025988491\n",
              "V8500_DEFLA            10025.99\n",
              "V531112_DEFLA            802.08\n",
              "V531122_DEFLA               NaN\n",
              "V531132_DEFLA               NaN\n",
              "COD_IMPUT_VALOR               0\n",
              "FATOR_ANUALIZACAO             1\n",
              "PESO               272.80666931\n",
              "PESO_FINAL         372.98451570\n",
              "RENDA_TOTAL            11254.75\n",
              "V53011                     1420\n",
              "V53061                    48042"
            ],
            "text/html": [
              "\n",
              "  <div id=\"df-dadd6e3b-15ec-4a25-ba0b-fe8c283a6b39\" class=\"colab-df-container\">\n",
              "    <div>\n",
              "<style scoped>\n",
              "    .dataframe tbody tr th:only-of-type {\n",
              "        vertical-align: middle;\n",
              "    }\n",
              "\n",
              "    .dataframe tbody tr th {\n",
              "        vertical-align: top;\n",
              "    }\n",
              "\n",
              "    .dataframe thead th {\n",
              "        text-align: right;\n",
              "    }\n",
              "</style>\n",
              "<table border=\"1\" class=\"dataframe\">\n",
              "  <thead>\n",
              "    <tr style=\"text-align: right;\">\n",
              "      <th></th>\n",
              "      <th>0</th>\n",
              "    </tr>\n",
              "  </thead>\n",
              "  <tbody>\n",
              "    <tr>\n",
              "      <th>UF</th>\n",
              "      <td>11</td>\n",
              "    </tr>\n",
              "    <tr>\n",
              "      <th>ESTRATO_POF</th>\n",
              "      <td>1103</td>\n",
              "    </tr>\n",
              "    <tr>\n",
              "      <th>TIPO_SITUACAO_REG</th>\n",
              "      <td>1</td>\n",
              "    </tr>\n",
              "    <tr>\n",
              "      <th>COD_UPA</th>\n",
              "      <td>110005400</td>\n",
              "    </tr>\n",
              "    <tr>\n",
              "      <th>NUM_DOM</th>\n",
              "      <td>1</td>\n",
              "    </tr>\n",
              "    <tr>\n",
              "      <th>NUM_UC</th>\n",
              "      <td>1</td>\n",
              "    </tr>\n",
              "    <tr>\n",
              "      <th>COD_INFORMANTE</th>\n",
              "      <td>1</td>\n",
              "    </tr>\n",
              "    <tr>\n",
              "      <th>QUADRO</th>\n",
              "      <td>53</td>\n",
              "    </tr>\n",
              "    <tr>\n",
              "      <th>SUB_QUADRO</th>\n",
              "      <td>1</td>\n",
              "    </tr>\n",
              "    <tr>\n",
              "      <th>SEQ</th>\n",
              "      <td>1</td>\n",
              "    </tr>\n",
              "    <tr>\n",
              "      <th>V9001</th>\n",
              "      <td>5300501</td>\n",
              "    </tr>\n",
              "    <tr>\n",
              "      <th>V5302</th>\n",
              "      <td>5</td>\n",
              "    </tr>\n",
              "    <tr>\n",
              "      <th>V53021</th>\n",
              "      <td>NaN</td>\n",
              "    </tr>\n",
              "    <tr>\n",
              "      <th>V5303</th>\n",
              "      <td>NaN</td>\n",
              "    </tr>\n",
              "    <tr>\n",
              "      <th>V5304</th>\n",
              "      <td>NaN</td>\n",
              "    </tr>\n",
              "    <tr>\n",
              "      <th>V5305</th>\n",
              "      <td>1</td>\n",
              "    </tr>\n",
              "    <tr>\n",
              "      <th>V5307</th>\n",
              "      <td>1</td>\n",
              "    </tr>\n",
              "    <tr>\n",
              "      <th>V8500</th>\n",
              "      <td>10000</td>\n",
              "    </tr>\n",
              "    <tr>\n",
              "      <th>V531112</th>\n",
              "      <td>800</td>\n",
              "    </tr>\n",
              "    <tr>\n",
              "      <th>V531122</th>\n",
              "      <td>NaN</td>\n",
              "    </tr>\n",
              "    <tr>\n",
              "      <th>V531132</th>\n",
              "      <td>NaN</td>\n",
              "    </tr>\n",
              "    <tr>\n",
              "      <th>V9010</th>\n",
              "      <td>9</td>\n",
              "    </tr>\n",
              "    <tr>\n",
              "      <th>V9011</th>\n",
              "      <td>12</td>\n",
              "    </tr>\n",
              "    <tr>\n",
              "      <th>V5314</th>\n",
              "      <td>40</td>\n",
              "    </tr>\n",
              "    <tr>\n",
              "      <th>V5315</th>\n",
              "      <td>1</td>\n",
              "    </tr>\n",
              "    <tr>\n",
              "      <th>DEFLATOR</th>\n",
              "      <td>1.0025988491</td>\n",
              "    </tr>\n",
              "    <tr>\n",
              "      <th>V8500_DEFLA</th>\n",
              "      <td>10025.99</td>\n",
              "    </tr>\n",
              "    <tr>\n",
              "      <th>V531112_DEFLA</th>\n",
              "      <td>802.08</td>\n",
              "    </tr>\n",
              "    <tr>\n",
              "      <th>V531122_DEFLA</th>\n",
              "      <td>NaN</td>\n",
              "    </tr>\n",
              "    <tr>\n",
              "      <th>V531132_DEFLA</th>\n",
              "      <td>NaN</td>\n",
              "    </tr>\n",
              "    <tr>\n",
              "      <th>COD_IMPUT_VALOR</th>\n",
              "      <td>0</td>\n",
              "    </tr>\n",
              "    <tr>\n",
              "      <th>FATOR_ANUALIZACAO</th>\n",
              "      <td>1</td>\n",
              "    </tr>\n",
              "    <tr>\n",
              "      <th>PESO</th>\n",
              "      <td>272.80666931</td>\n",
              "    </tr>\n",
              "    <tr>\n",
              "      <th>PESO_FINAL</th>\n",
              "      <td>372.98451570</td>\n",
              "    </tr>\n",
              "    <tr>\n",
              "      <th>RENDA_TOTAL</th>\n",
              "      <td>11254.75</td>\n",
              "    </tr>\n",
              "    <tr>\n",
              "      <th>V53011</th>\n",
              "      <td>1420</td>\n",
              "    </tr>\n",
              "    <tr>\n",
              "      <th>V53061</th>\n",
              "      <td>48042</td>\n",
              "    </tr>\n",
              "  </tbody>\n",
              "</table>\n",
              "</div>\n",
              "    <div class=\"colab-df-buttons\">\n",
              "\n",
              "  <div class=\"colab-df-container\">\n",
              "    <button class=\"colab-df-convert\" onclick=\"convertToInteractive('df-dadd6e3b-15ec-4a25-ba0b-fe8c283a6b39')\"\n",
              "            title=\"Convert this dataframe to an interactive table.\"\n",
              "            style=\"display:none;\">\n",
              "\n",
              "  <svg xmlns=\"http://www.w3.org/2000/svg\" height=\"24px\" viewBox=\"0 -960 960 960\">\n",
              "    <path d=\"M120-120v-720h720v720H120Zm60-500h600v-160H180v160Zm220 220h160v-160H400v160Zm0 220h160v-160H400v160ZM180-400h160v-160H180v160Zm440 0h160v-160H620v160ZM180-180h160v-160H180v160Zm440 0h160v-160H620v160Z\"/>\n",
              "  </svg>\n",
              "    </button>\n",
              "\n",
              "  <style>\n",
              "    .colab-df-container {\n",
              "      display:flex;\n",
              "      gap: 12px;\n",
              "    }\n",
              "\n",
              "    .colab-df-convert {\n",
              "      background-color: #E8F0FE;\n",
              "      border: none;\n",
              "      border-radius: 50%;\n",
              "      cursor: pointer;\n",
              "      display: none;\n",
              "      fill: #1967D2;\n",
              "      height: 32px;\n",
              "      padding: 0 0 0 0;\n",
              "      width: 32px;\n",
              "    }\n",
              "\n",
              "    .colab-df-convert:hover {\n",
              "      background-color: #E2EBFA;\n",
              "      box-shadow: 0px 1px 2px rgba(60, 64, 67, 0.3), 0px 1px 3px 1px rgba(60, 64, 67, 0.15);\n",
              "      fill: #174EA6;\n",
              "    }\n",
              "\n",
              "    .colab-df-buttons div {\n",
              "      margin-bottom: 4px;\n",
              "    }\n",
              "\n",
              "    [theme=dark] .colab-df-convert {\n",
              "      background-color: #3B4455;\n",
              "      fill: #D2E3FC;\n",
              "    }\n",
              "\n",
              "    [theme=dark] .colab-df-convert:hover {\n",
              "      background-color: #434B5C;\n",
              "      box-shadow: 0px 1px 3px 1px rgba(0, 0, 0, 0.15);\n",
              "      filter: drop-shadow(0px 1px 2px rgba(0, 0, 0, 0.3));\n",
              "      fill: #FFFFFF;\n",
              "    }\n",
              "  </style>\n",
              "\n",
              "    <script>\n",
              "      const buttonEl =\n",
              "        document.querySelector('#df-dadd6e3b-15ec-4a25-ba0b-fe8c283a6b39 button.colab-df-convert');\n",
              "      buttonEl.style.display =\n",
              "        google.colab.kernel.accessAllowed ? 'block' : 'none';\n",
              "\n",
              "      async function convertToInteractive(key) {\n",
              "        const element = document.querySelector('#df-dadd6e3b-15ec-4a25-ba0b-fe8c283a6b39');\n",
              "        const dataTable =\n",
              "          await google.colab.kernel.invokeFunction('convertToInteractive',\n",
              "                                                    [key], {});\n",
              "        if (!dataTable) return;\n",
              "\n",
              "        const docLinkHtml = 'Like what you see? Visit the ' +\n",
              "          '<a target=\"_blank\" href=https://colab.research.google.com/notebooks/data_table.ipynb>data table notebook</a>'\n",
              "          + ' to learn more about interactive tables.';\n",
              "        element.innerHTML = '';\n",
              "        dataTable['output_type'] = 'display_data';\n",
              "        await google.colab.output.renderOutput(dataTable, element);\n",
              "        const docLink = document.createElement('div');\n",
              "        docLink.innerHTML = docLinkHtml;\n",
              "        element.appendChild(docLink);\n",
              "      }\n",
              "    </script>\n",
              "  </div>\n",
              "\n",
              "\n",
              "<div id=\"df-606a0af9-83a3-425c-8ac0-e3389769736a\">\n",
              "  <button class=\"colab-df-quickchart\" onclick=\"quickchart('df-606a0af9-83a3-425c-8ac0-e3389769736a')\"\n",
              "            title=\"Suggest charts.\"\n",
              "            style=\"display:none;\">\n",
              "\n",
              "<svg xmlns=\"http://www.w3.org/2000/svg\" height=\"24px\"viewBox=\"0 0 24 24\"\n",
              "     width=\"24px\">\n",
              "    <g>\n",
              "        <path d=\"M19 3H5c-1.1 0-2 .9-2 2v14c0 1.1.9 2 2 2h14c1.1 0 2-.9 2-2V5c0-1.1-.9-2-2-2zM9 17H7v-7h2v7zm4 0h-2V7h2v10zm4 0h-2v-4h2v4z\"/>\n",
              "    </g>\n",
              "</svg>\n",
              "  </button>\n",
              "\n",
              "<style>\n",
              "  .colab-df-quickchart {\n",
              "      --bg-color: #E8F0FE;\n",
              "      --fill-color: #1967D2;\n",
              "      --hover-bg-color: #E2EBFA;\n",
              "      --hover-fill-color: #174EA6;\n",
              "      --disabled-fill-color: #AAA;\n",
              "      --disabled-bg-color: #DDD;\n",
              "  }\n",
              "\n",
              "  [theme=dark] .colab-df-quickchart {\n",
              "      --bg-color: #3B4455;\n",
              "      --fill-color: #D2E3FC;\n",
              "      --hover-bg-color: #434B5C;\n",
              "      --hover-fill-color: #FFFFFF;\n",
              "      --disabled-bg-color: #3B4455;\n",
              "      --disabled-fill-color: #666;\n",
              "  }\n",
              "\n",
              "  .colab-df-quickchart {\n",
              "    background-color: var(--bg-color);\n",
              "    border: none;\n",
              "    border-radius: 50%;\n",
              "    cursor: pointer;\n",
              "    display: none;\n",
              "    fill: var(--fill-color);\n",
              "    height: 32px;\n",
              "    padding: 0;\n",
              "    width: 32px;\n",
              "  }\n",
              "\n",
              "  .colab-df-quickchart:hover {\n",
              "    background-color: var(--hover-bg-color);\n",
              "    box-shadow: 0 1px 2px rgba(60, 64, 67, 0.3), 0 1px 3px 1px rgba(60, 64, 67, 0.15);\n",
              "    fill: var(--button-hover-fill-color);\n",
              "  }\n",
              "\n",
              "  .colab-df-quickchart-complete:disabled,\n",
              "  .colab-df-quickchart-complete:disabled:hover {\n",
              "    background-color: var(--disabled-bg-color);\n",
              "    fill: var(--disabled-fill-color);\n",
              "    box-shadow: none;\n",
              "  }\n",
              "\n",
              "  .colab-df-spinner {\n",
              "    border: 2px solid var(--fill-color);\n",
              "    border-color: transparent;\n",
              "    border-bottom-color: var(--fill-color);\n",
              "    animation:\n",
              "      spin 1s steps(1) infinite;\n",
              "  }\n",
              "\n",
              "  @keyframes spin {\n",
              "    0% {\n",
              "      border-color: transparent;\n",
              "      border-bottom-color: var(--fill-color);\n",
              "      border-left-color: var(--fill-color);\n",
              "    }\n",
              "    20% {\n",
              "      border-color: transparent;\n",
              "      border-left-color: var(--fill-color);\n",
              "      border-top-color: var(--fill-color);\n",
              "    }\n",
              "    30% {\n",
              "      border-color: transparent;\n",
              "      border-left-color: var(--fill-color);\n",
              "      border-top-color: var(--fill-color);\n",
              "      border-right-color: var(--fill-color);\n",
              "    }\n",
              "    40% {\n",
              "      border-color: transparent;\n",
              "      border-right-color: var(--fill-color);\n",
              "      border-top-color: var(--fill-color);\n",
              "    }\n",
              "    60% {\n",
              "      border-color: transparent;\n",
              "      border-right-color: var(--fill-color);\n",
              "    }\n",
              "    80% {\n",
              "      border-color: transparent;\n",
              "      border-right-color: var(--fill-color);\n",
              "      border-bottom-color: var(--fill-color);\n",
              "    }\n",
              "    90% {\n",
              "      border-color: transparent;\n",
              "      border-bottom-color: var(--fill-color);\n",
              "    }\n",
              "  }\n",
              "</style>\n",
              "\n",
              "  <script>\n",
              "    async function quickchart(key) {\n",
              "      const quickchartButtonEl =\n",
              "        document.querySelector('#' + key + ' button');\n",
              "      quickchartButtonEl.disabled = true;  // To prevent multiple clicks.\n",
              "      quickchartButtonEl.classList.add('colab-df-spinner');\n",
              "      try {\n",
              "        const charts = await google.colab.kernel.invokeFunction(\n",
              "            'suggestCharts', [key], {});\n",
              "      } catch (error) {\n",
              "        console.error('Error during call to suggestCharts:', error);\n",
              "      }\n",
              "      quickchartButtonEl.classList.remove('colab-df-spinner');\n",
              "      quickchartButtonEl.classList.add('colab-df-quickchart-complete');\n",
              "    }\n",
              "    (() => {\n",
              "      let quickchartButtonEl =\n",
              "        document.querySelector('#df-606a0af9-83a3-425c-8ac0-e3389769736a button');\n",
              "      quickchartButtonEl.style.display =\n",
              "        google.colab.kernel.accessAllowed ? 'block' : 'none';\n",
              "    })();\n",
              "  </script>\n",
              "</div>\n",
              "    </div>\n",
              "  </div>\n"
            ]
          },
          "metadata": {},
          "execution_count": 51
        }
      ]
    },
    {
      "cell_type": "code",
      "source": [
        "df_rendimento_trab['V53061'] = df_rendimento_trab['V53061'].str.zfill(5)"
      ],
      "metadata": {
        "id": "KWCHpOEJqUCH"
      },
      "execution_count": null,
      "outputs": []
    },
    {
      "cell_type": "code",
      "source": [
        "df_rendimento_trab[df_rendimento_trab['V53061'] == '99999'].index"
      ],
      "metadata": {
        "colab": {
          "base_uri": "https://localhost:8080/"
        },
        "id": "GXRiSoclxTyS",
        "outputId": "241f9cbe-31f5-427e-e5f8-a7f47ae8a4c3"
      },
      "execution_count": null,
      "outputs": [
        {
          "output_type": "execute_result",
          "data": {
            "text/plain": [
              "Int64Index([  974,  4418,  8779, 13676, 13813, 49250, 49646, 49647, 52254,\n",
              "            54791, 55788, 56266, 56675, 56678, 56702, 56704, 56705, 57929,\n",
              "            58377, 59466, 59527, 59982, 60314, 60315, 60335, 60341, 60486,\n",
              "            60612, 60675, 60677, 61010, 61018, 61078, 61505, 61807, 62350,\n",
              "            62551, 62570, 62595, 62625, 62885, 63351, 64167, 66807, 67239,\n",
              "            67660, 69155, 71591, 71820, 73237, 73274, 76747, 80701, 80951,\n",
              "            82064, 87902, 88380, 88525, 89225, 89452, 90020, 90021, 90355,\n",
              "            90373, 91944],\n",
              "           dtype='int64')"
            ]
          },
          "metadata": {},
          "execution_count": 54
        }
      ]
    },
    {
      "cell_type": "code",
      "source": [
        "df_rendimento_trab[df_rendimento_trab['V53011'] == '9999'].index"
      ],
      "metadata": {
        "id": "20c2MUr-5HDR",
        "outputId": "3b56a3d3-4272-4f6f-f309-10a8af7ac045",
        "colab": {
          "base_uri": "https://localhost:8080/"
        }
      },
      "execution_count": null,
      "outputs": [
        {
          "output_type": "execute_result",
          "data": {
            "text/plain": [
              "Int64Index([ 4418, 13813, 26976, 38822, 49250, 54803, 55788, 56678, 56704,\n",
              "            56705, 59527, 60314, 60315, 60612, 60748, 61010, 61018, 62551,\n",
              "            62570, 66807, 71591, 73237],\n",
              "           dtype='int64')"
            ]
          },
          "metadata": {},
          "execution_count": 55
        }
      ]
    },
    {
      "cell_type": "markdown",
      "source": [
        "##Conferir Unicidade da Chave Identificadora"
      ],
      "metadata": {
        "id": "pc5c70Ynw-cn"
      }
    },
    {
      "cell_type": "code",
      "source": [
        "df_rendimento_trab_id = df_rendimento_trab.drop_duplicates(subset=['COD_UPA','NUM_DOM','SEQ','COD_INFORMANTE','QUADRO','SUB_QUADRO'], keep='first')"
      ],
      "metadata": {
        "id": "bIdvb3kJw-cn"
      },
      "execution_count": null,
      "outputs": []
    },
    {
      "cell_type": "code",
      "source": [
        "df_rendimento_trab_id.shape[0]"
      ],
      "metadata": {
        "colab": {
          "base_uri": "https://localhost:8080/"
        },
        "outputId": "9e57a559-52a1-4340-e336-4a410e299310",
        "id": "N1E68Hzxw-cn"
      },
      "execution_count": null,
      "outputs": [
        {
          "output_type": "execute_result",
          "data": {
            "text/plain": [
              "97075"
            ]
          },
          "metadata": {},
          "execution_count": 102
        }
      ]
    },
    {
      "cell_type": "markdown",
      "source": [
        "## Aplicar Regras Normais"
      ],
      "metadata": {
        "id": "vMcJ2Jzu72Rr"
      }
    },
    {
      "cell_type": "code",
      "source": [
        "df_rendimento_trab =  df_rendimento_trab.drop(['UF','ESTRATO_POF','TIPO_SITUACAO_REG','PESO','PESO_FINAL','RENDA_TOTAL','NUM_UC'], axis=1)"
      ],
      "metadata": {
        "id": "jjwFtqIY72Ry"
      },
      "execution_count": null,
      "outputs": []
    },
    {
      "cell_type": "markdown",
      "source": [
        "## Baixar Arquivo como CSV"
      ],
      "metadata": {
        "id": "OjjwCzSVw-cn"
      }
    },
    {
      "cell_type": "code",
      "source": [
        "df_rendimento_trab.to_csv('RENDIMENTO_TRABALHO.csv', index=False)"
      ],
      "metadata": {
        "id": "uslxQ3Wjw-cn"
      },
      "execution_count": null,
      "outputs": []
    },
    {
      "cell_type": "markdown",
      "source": [
        "# Tratamento do arquivo \"Outros Rendimentos\""
      ],
      "metadata": {
        "id": "ZI2C_NPX2eK5"
      }
    },
    {
      "cell_type": "markdown",
      "source": [
        "##Abrindo e Analisando o Arquivo"
      ],
      "metadata": {
        "id": "V76oT7B22eLA"
      }
    },
    {
      "cell_type": "code",
      "source": [
        "outro_rendimento = '/content/drive/MyDrive/POF (2017 2018)/OUTROS_RENDIMENTOS.txt'\n",
        "\n",
        "with open(outro_rendimento, 'r') as arquivo:\n",
        "    conteudo = arquivo.readlines()\n",
        "\n",
        "# Imprimir 5 primeiras Linhas\n",
        "print(\"5 primeiras Linhas: \\n\")\n",
        "for conteudo in conteudo[:5]:\n",
        "    print(conteudo, end='')\n"
      ],
      "metadata": {
        "colab": {
          "base_uri": "https://localhost:8080/"
        },
        "outputId": "e3243b96-9c2e-473f-b313-c4eee7828487",
        "id": "RuciftSw2eLA"
      },
      "execution_count": null,
      "outputs": [
        {
          "output_type": "stream",
          "name": "stdout",
          "text": [
            "5 primeiras Linhas: \n",
            "\n",
            "1111031110005400 41 255 15500201   1200.009999999.00    1.0025058005   1203.01          01  272.80666931  372.98451570   4769.13\n",
            "1111031110005400 41 255 25500101    398.67              1.0025058005    399.67          01  272.80666931  372.98451570   4769.13\n",
            "1111031110005400 51 154 35400401   1200.009999999.00 9121.0025988491   1203.12          01  272.80666931  372.98451570   2313.61\n",
            "1111031110005400 51 154 45400501    900.009999999.00 9121.0025988491    902.34          01  272.80666931  372.98451570   2313.61\n",
            "1111031110005400 51 155 25500301   1200.009999999.00    1.0025058005   1203.01          01  272.80666931  372.98451570   2313.61\n"
          ]
        }
      ]
    },
    {
      "cell_type": "code",
      "source": [
        "with open(outro_rendimento, 'r') as arquivo:\n",
        "    conteudo = arquivo.readlines()\n",
        "\n",
        "# descobrir quantas Linhas tem o arquivo\n",
        "cont = 0\n",
        "for linha in conteudo:\n",
        "    cont += 1\n",
        "\n",
        "# descobrir quantos caracteres tem a primeira Linha\n",
        "cont_char = 0\n",
        "for i, linha in enumerate(conteudo[:1], start=1):\n",
        "    num_caracteres = len(linha)\n",
        "\n",
        "# descobrir se o restante das linhas tem a mesma qtd de caracteres da primeira linha\n",
        "primeira_linha = conteudo[0]\n",
        "todas_as_linhas_iguais = all(len(linha) == len(primeira_linha) for linha in conteudo)\n",
        "\n",
        "print(\"Total de linhas: \", cont)\n",
        "print(\"Total de caracteres da primeira linha: \", num_caracteres)\n",
        "print(\"Todas as Linhas tem o mesmo comprimento da primeira? \", todas_as_linhas_iguais)"
      ],
      "metadata": {
        "colab": {
          "base_uri": "https://localhost:8080/"
        },
        "outputId": "8030c509-7aa8-4d02-d20e-9301dff52f4f",
        "id": "ZfMcwWX42eLA"
      },
      "execution_count": null,
      "outputs": [
        {
          "output_type": "stream",
          "name": "stdout",
          "text": [
            "Total de linhas:  206108\n",
            "Total de caracteres da primeira linha:  129\n",
            "Todas as Linhas tem o mesmo comprimento da primeira?  True\n"
          ]
        }
      ]
    },
    {
      "cell_type": "markdown",
      "source": [
        "##Adicionar o Separador"
      ],
      "metadata": {
        "id": "oTY2nO4c2eLA"
      }
    },
    {
      "cell_type": "code",
      "source": [
        "with open(outro_rendimento, 'r') as arquivo_orig:\n",
        "    with open('novo_outro_rendimento.csv', 'w') as arquivo_novo:\n",
        "        for linha in arquivo_orig:\n",
        "            nova_linha = (\n",
        "                linha[:2] + ';' + # variável 1\n",
        "                linha[2:6] + ';' + # variável 2\n",
        "                linha[6:7] + ';' + # variável 3\n",
        "                linha[7:16] + ';' + # variável 4\n",
        "                linha[16:18] + ';' + # variável 5\n",
        "                linha[18:19] + ';' + # variável 6\n",
        "                linha[19:21] + ';' + # variável 7\n",
        "                linha[21:23] + ';' + # variável 8\n",
        "                linha[23:25] + ';' + # variável 9\n",
        "                linha[25:32] + ';' + # variável 10\n",
        "                linha[32:42] + ';' + # variável 11\n",
        "                linha[42:52] + ';' + # variável 12\n",
        "                linha[52:54] + ';' + # variável 13\n",
        "                linha[54:56] + ';' + # variável 14\n",
        "                linha[56:68] + ';' + # variável 15\n",
        "                linha[68:78] + ';' + # variável 16\n",
        "                linha[78:88] + ';' + # variável 17\n",
        "                linha[88:89] + ';' + # variável 18\n",
        "                linha[89:90] + ';' + # variável 19\n",
        "                linha[90:104] + ';' + # variável 20\n",
        "                linha[104:118] + ';' + # variável 21\n",
        "                linha[118:] # variável 22\n",
        "            )\n",
        "            nova_linha = nova_linha.replace(' ', '')\n",
        "            arquivo_novo.write(nova_linha)\n",
        "\n",
        "\n"
      ],
      "metadata": {
        "id": "IQRvfZJk2eLA"
      },
      "execution_count": null,
      "outputs": []
    },
    {
      "cell_type": "markdown",
      "source": [
        "Conferir Processo"
      ],
      "metadata": {
        "id": "71N4VGjV2eLA"
      }
    },
    {
      "cell_type": "code",
      "source": [
        "novo_outro_rendimento = \"/content/novo_outro_rendimento.csv\"\n",
        "\n",
        "with open(novo_outro_rendimento, 'r') as arquivo_novo:\n",
        "  novo_dom = arquivo_novo.readlines()\n",
        "\n",
        "# imprimir primeira linha\n",
        "for lin in novo_dom[:1]:\n",
        "  print(lin, end=\"\")"
      ],
      "metadata": {
        "colab": {
          "base_uri": "https://localhost:8080/"
        },
        "outputId": "17fa1daf-35fd-4237-ec0c-f9ead501ea8f",
        "id": "Dj4faAeA2eLB"
      },
      "execution_count": null,
      "outputs": [
        {
          "output_type": "stream",
          "name": "stdout",
          "text": [
            "11;1103;1;110005400;4;1;2;55;1;5500201;1200.00;9999999.00;;;1.0025058005;1203.01;;0;1;272.80666931;372.98451570;4769.13\n"
          ]
        }
      ]
    },
    {
      "cell_type": "markdown",
      "source": [
        "Conferir Estado do Novo Arquivo"
      ],
      "metadata": {
        "id": "XZcFqoL92eLB"
      }
    },
    {
      "cell_type": "code",
      "source": [
        "with open(novo_outro_rendimento, 'r') as arquivo:\n",
        "    conteudo = arquivo.readlines()\n",
        "\n",
        "# Conferir Numero de Linhas\n",
        "cont = 0\n",
        "for linha in conteudo:\n",
        "    cont += 1\n",
        "\n",
        "# Conferir Total de Caracteres\n",
        "cont_char = 0\n",
        "for i, linha in enumerate(conteudo[:1], start=1):\n",
        "    num_caracteres = len(linha)\n",
        "\n",
        "# Conferir se as Linhas Ainda tem o Mesmo Numero de Caracteres\n",
        "primeira_linha = conteudo[0]\n",
        "todas_as_linhas_iguais = all(len(linha) == len(primeira_linha) for linha in conteudo)\n",
        "\n",
        "print(\"Total de linhas: \", cont)\n",
        "print(\"Total de caracteres da primeira linha: \", num_caracteres)\n",
        "print(\"Todas as Linhas tem o mesmo comprimento da primeira? \", todas_as_linhas_iguais)"
      ],
      "metadata": {
        "colab": {
          "base_uri": "https://localhost:8080/"
        },
        "outputId": "0f7d5459-00c1-4835-8cbb-e970ee5dffef",
        "id": "RwvIeCPJ2eLB"
      },
      "execution_count": null,
      "outputs": [
        {
          "output_type": "stream",
          "name": "stdout",
          "text": [
            "Total de linhas:  206108\n",
            "Total de caracteres da primeira linha:  120\n",
            "Todas as Linhas tem o mesmo comprimento da primeira?  False\n"
          ]
        }
      ]
    },
    {
      "cell_type": "markdown",
      "source": [
        "## Abrir arquivo como DataFrame, para melhor análise"
      ],
      "metadata": {
        "id": "Mwamg4Rh2eLB"
      }
    },
    {
      "cell_type": "code",
      "source": [
        "import pandas as pd"
      ],
      "metadata": {
        "id": "whKqnHuP2eLB"
      },
      "execution_count": null,
      "outputs": []
    },
    {
      "cell_type": "code",
      "source": [
        "colunas_outro_rend = [\n",
        "    \"UF\",\n",
        "    \"ESTRATO_POF\",\n",
        "    \"TIPO_SITUACAO_REG\",\n",
        "    \"COD_UPA\",\n",
        "    \"NUM_DOM\",\n",
        "    \"NUM_UC\",\n",
        "    \"COD_INFORMANTE\",\n",
        "    \"QUADRO\",\n",
        "    \"SEQ\",\n",
        "    \"V9001\",\n",
        "    \"V8500\",\n",
        "    \"V8501\",\n",
        "    \"V9010\",\n",
        "    \"V9011\",\n",
        "    \"DEFLATOR\",\n",
        "    \"V8500_DEFLA\",\n",
        "    \"V8501_DEFLA\",\n",
        "    \"COD_IMPUT_VALOR\",\n",
        "    \"FATOR_ANUALIZACAO\",\n",
        "    \"PESO\",\n",
        "    \"PESO_FINAL\",\n",
        "    \"RENDA_TOTAL\"\n",
        "]\n",
        "\n"
      ],
      "metadata": {
        "id": "Whi7mPm92eLB"
      },
      "execution_count": null,
      "outputs": []
    },
    {
      "cell_type": "code",
      "source": [
        "df_outro_rendimento = pd.read_csv(novo_outro_rendimento, sep=';', names = colunas_outro_rend, dtype='object')"
      ],
      "metadata": {
        "id": "6Z_p69by2eLB"
      },
      "execution_count": null,
      "outputs": []
    },
    {
      "cell_type": "code",
      "source": [
        "df_outro_rendimento.info()"
      ],
      "metadata": {
        "colab": {
          "base_uri": "https://localhost:8080/"
        },
        "outputId": "1a0df24c-31ec-4b23-f8dd-2a6b51a1765d",
        "id": "KgR8ee6J2eLB"
      },
      "execution_count": null,
      "outputs": [
        {
          "output_type": "stream",
          "name": "stdout",
          "text": [
            "<class 'pandas.core.frame.DataFrame'>\n",
            "RangeIndex: 206108 entries, 0 to 206107\n",
            "Data columns (total 22 columns):\n",
            " #   Column             Non-Null Count   Dtype  \n",
            "---  ------             --------------   -----  \n",
            " 0   UF                 206108 non-null  int64  \n",
            " 1   ESTRATO_POF        206108 non-null  int64  \n",
            " 2   TIPO_SITUACAO_REG  206108 non-null  int64  \n",
            " 3   COD_UPA            206108 non-null  int64  \n",
            " 4   NUM_DOM            206108 non-null  int64  \n",
            " 5   NUM_UC             206108 non-null  int64  \n",
            " 6   COD_INFORMANTE     206108 non-null  int64  \n",
            " 7   QUADRO             206108 non-null  int64  \n",
            " 8   SEQ                206108 non-null  int64  \n",
            " 9   V9001              206108 non-null  int64  \n",
            " 10  V8500              206108 non-null  float64\n",
            " 11  V8501              206108 non-null  object \n",
            " 12  V9010              206108 non-null  object \n",
            " 13  V9011              206108 non-null  object \n",
            " 14  DEFLATOR           206108 non-null  object \n",
            " 15  V8500_DEFLA        206108 non-null  float64\n",
            " 16  V8501_DEFLA        206108 non-null  object \n",
            " 17  COD_IMPUT_VALOR    206108 non-null  int64  \n",
            " 18  FATOR_ANUALIZACAO  206108 non-null  int64  \n",
            " 19  PESO               206108 non-null  float64\n",
            " 20  PESO_FINAL         206108 non-null  float64\n",
            " 21  RENDA_TOTAL        206108 non-null  float64\n",
            "dtypes: float64(5), int64(12), object(5)\n",
            "memory usage: 34.6+ MB\n"
          ]
        }
      ]
    },
    {
      "cell_type": "code",
      "source": [
        "df_outro_rendimento.head(1).T"
      ],
      "metadata": {
        "colab": {
          "base_uri": "https://localhost:8080/"
        },
        "outputId": "d0d0b867-0a6f-48f0-c3d9-66fd041c8133",
        "id": "MZOXoXk22eLC"
      },
      "execution_count": null,
      "outputs": [
        {
          "output_type": "execute_result",
          "data": {
            "text/plain": [
              "                              0\n",
              "UF                           11\n",
              "ESTRATO_POF                1103\n",
              "TIPO_SITUACAO_REG             1\n",
              "COD_UPA               110005400\n",
              "NUM_DOM                       4\n",
              "NUM_UC                        1\n",
              "COD_INFORMANTE                2\n",
              "QUADRO                       55\n",
              "SEQ                           1\n",
              "V9001                   5500201\n",
              "V8500                   1200.00\n",
              "V8501                9999999.00\n",
              "V9010                       NaN\n",
              "V9011                       NaN\n",
              "DEFLATOR           1.0025058005\n",
              "V8500_DEFLA             1203.01\n",
              "V8501_DEFLA                 NaN\n",
              "COD_IMPUT_VALOR               0\n",
              "FATOR_ANUALIZACAO             1\n",
              "PESO               272.80666931\n",
              "PESO_FINAL         372.98451570\n",
              "RENDA_TOTAL             4769.13"
            ],
            "text/html": [
              "\n",
              "  <div id=\"df-a0621866-bd9d-4716-810f-0e21ea95bdcd\" class=\"colab-df-container\">\n",
              "    <div>\n",
              "<style scoped>\n",
              "    .dataframe tbody tr th:only-of-type {\n",
              "        vertical-align: middle;\n",
              "    }\n",
              "\n",
              "    .dataframe tbody tr th {\n",
              "        vertical-align: top;\n",
              "    }\n",
              "\n",
              "    .dataframe thead th {\n",
              "        text-align: right;\n",
              "    }\n",
              "</style>\n",
              "<table border=\"1\" class=\"dataframe\">\n",
              "  <thead>\n",
              "    <tr style=\"text-align: right;\">\n",
              "      <th></th>\n",
              "      <th>0</th>\n",
              "    </tr>\n",
              "  </thead>\n",
              "  <tbody>\n",
              "    <tr>\n",
              "      <th>UF</th>\n",
              "      <td>11</td>\n",
              "    </tr>\n",
              "    <tr>\n",
              "      <th>ESTRATO_POF</th>\n",
              "      <td>1103</td>\n",
              "    </tr>\n",
              "    <tr>\n",
              "      <th>TIPO_SITUACAO_REG</th>\n",
              "      <td>1</td>\n",
              "    </tr>\n",
              "    <tr>\n",
              "      <th>COD_UPA</th>\n",
              "      <td>110005400</td>\n",
              "    </tr>\n",
              "    <tr>\n",
              "      <th>NUM_DOM</th>\n",
              "      <td>4</td>\n",
              "    </tr>\n",
              "    <tr>\n",
              "      <th>NUM_UC</th>\n",
              "      <td>1</td>\n",
              "    </tr>\n",
              "    <tr>\n",
              "      <th>COD_INFORMANTE</th>\n",
              "      <td>2</td>\n",
              "    </tr>\n",
              "    <tr>\n",
              "      <th>QUADRO</th>\n",
              "      <td>55</td>\n",
              "    </tr>\n",
              "    <tr>\n",
              "      <th>SEQ</th>\n",
              "      <td>1</td>\n",
              "    </tr>\n",
              "    <tr>\n",
              "      <th>V9001</th>\n",
              "      <td>5500201</td>\n",
              "    </tr>\n",
              "    <tr>\n",
              "      <th>V8500</th>\n",
              "      <td>1200.00</td>\n",
              "    </tr>\n",
              "    <tr>\n",
              "      <th>V8501</th>\n",
              "      <td>9999999.00</td>\n",
              "    </tr>\n",
              "    <tr>\n",
              "      <th>V9010</th>\n",
              "      <td>NaN</td>\n",
              "    </tr>\n",
              "    <tr>\n",
              "      <th>V9011</th>\n",
              "      <td>NaN</td>\n",
              "    </tr>\n",
              "    <tr>\n",
              "      <th>DEFLATOR</th>\n",
              "      <td>1.0025058005</td>\n",
              "    </tr>\n",
              "    <tr>\n",
              "      <th>V8500_DEFLA</th>\n",
              "      <td>1203.01</td>\n",
              "    </tr>\n",
              "    <tr>\n",
              "      <th>V8501_DEFLA</th>\n",
              "      <td>NaN</td>\n",
              "    </tr>\n",
              "    <tr>\n",
              "      <th>COD_IMPUT_VALOR</th>\n",
              "      <td>0</td>\n",
              "    </tr>\n",
              "    <tr>\n",
              "      <th>FATOR_ANUALIZACAO</th>\n",
              "      <td>1</td>\n",
              "    </tr>\n",
              "    <tr>\n",
              "      <th>PESO</th>\n",
              "      <td>272.80666931</td>\n",
              "    </tr>\n",
              "    <tr>\n",
              "      <th>PESO_FINAL</th>\n",
              "      <td>372.98451570</td>\n",
              "    </tr>\n",
              "    <tr>\n",
              "      <th>RENDA_TOTAL</th>\n",
              "      <td>4769.13</td>\n",
              "    </tr>\n",
              "  </tbody>\n",
              "</table>\n",
              "</div>\n",
              "    <div class=\"colab-df-buttons\">\n",
              "\n",
              "  <div class=\"colab-df-container\">\n",
              "    <button class=\"colab-df-convert\" onclick=\"convertToInteractive('df-a0621866-bd9d-4716-810f-0e21ea95bdcd')\"\n",
              "            title=\"Convert this dataframe to an interactive table.\"\n",
              "            style=\"display:none;\">\n",
              "\n",
              "  <svg xmlns=\"http://www.w3.org/2000/svg\" height=\"24px\" viewBox=\"0 -960 960 960\">\n",
              "    <path d=\"M120-120v-720h720v720H120Zm60-500h600v-160H180v160Zm220 220h160v-160H400v160Zm0 220h160v-160H400v160ZM180-400h160v-160H180v160Zm440 0h160v-160H620v160ZM180-180h160v-160H180v160Zm440 0h160v-160H620v160Z\"/>\n",
              "  </svg>\n",
              "    </button>\n",
              "\n",
              "  <style>\n",
              "    .colab-df-container {\n",
              "      display:flex;\n",
              "      gap: 12px;\n",
              "    }\n",
              "\n",
              "    .colab-df-convert {\n",
              "      background-color: #E8F0FE;\n",
              "      border: none;\n",
              "      border-radius: 50%;\n",
              "      cursor: pointer;\n",
              "      display: none;\n",
              "      fill: #1967D2;\n",
              "      height: 32px;\n",
              "      padding: 0 0 0 0;\n",
              "      width: 32px;\n",
              "    }\n",
              "\n",
              "    .colab-df-convert:hover {\n",
              "      background-color: #E2EBFA;\n",
              "      box-shadow: 0px 1px 2px rgba(60, 64, 67, 0.3), 0px 1px 3px 1px rgba(60, 64, 67, 0.15);\n",
              "      fill: #174EA6;\n",
              "    }\n",
              "\n",
              "    .colab-df-buttons div {\n",
              "      margin-bottom: 4px;\n",
              "    }\n",
              "\n",
              "    [theme=dark] .colab-df-convert {\n",
              "      background-color: #3B4455;\n",
              "      fill: #D2E3FC;\n",
              "    }\n",
              "\n",
              "    [theme=dark] .colab-df-convert:hover {\n",
              "      background-color: #434B5C;\n",
              "      box-shadow: 0px 1px 3px 1px rgba(0, 0, 0, 0.15);\n",
              "      filter: drop-shadow(0px 1px 2px rgba(0, 0, 0, 0.3));\n",
              "      fill: #FFFFFF;\n",
              "    }\n",
              "  </style>\n",
              "\n",
              "    <script>\n",
              "      const buttonEl =\n",
              "        document.querySelector('#df-a0621866-bd9d-4716-810f-0e21ea95bdcd button.colab-df-convert');\n",
              "      buttonEl.style.display =\n",
              "        google.colab.kernel.accessAllowed ? 'block' : 'none';\n",
              "\n",
              "      async function convertToInteractive(key) {\n",
              "        const element = document.querySelector('#df-a0621866-bd9d-4716-810f-0e21ea95bdcd');\n",
              "        const dataTable =\n",
              "          await google.colab.kernel.invokeFunction('convertToInteractive',\n",
              "                                                    [key], {});\n",
              "        if (!dataTable) return;\n",
              "\n",
              "        const docLinkHtml = 'Like what you see? Visit the ' +\n",
              "          '<a target=\"_blank\" href=https://colab.research.google.com/notebooks/data_table.ipynb>data table notebook</a>'\n",
              "          + ' to learn more about interactive tables.';\n",
              "        element.innerHTML = '';\n",
              "        dataTable['output_type'] = 'display_data';\n",
              "        await google.colab.output.renderOutput(dataTable, element);\n",
              "        const docLink = document.createElement('div');\n",
              "        docLink.innerHTML = docLinkHtml;\n",
              "        element.appendChild(docLink);\n",
              "      }\n",
              "    </script>\n",
              "  </div>\n",
              "\n",
              "\n",
              "<div id=\"df-b92d8444-e603-417a-9f56-e30c8160bfb6\">\n",
              "  <button class=\"colab-df-quickchart\" onclick=\"quickchart('df-b92d8444-e603-417a-9f56-e30c8160bfb6')\"\n",
              "            title=\"Suggest charts.\"\n",
              "            style=\"display:none;\">\n",
              "\n",
              "<svg xmlns=\"http://www.w3.org/2000/svg\" height=\"24px\"viewBox=\"0 0 24 24\"\n",
              "     width=\"24px\">\n",
              "    <g>\n",
              "        <path d=\"M19 3H5c-1.1 0-2 .9-2 2v14c0 1.1.9 2 2 2h14c1.1 0 2-.9 2-2V5c0-1.1-.9-2-2-2zM9 17H7v-7h2v7zm4 0h-2V7h2v10zm4 0h-2v-4h2v4z\"/>\n",
              "    </g>\n",
              "</svg>\n",
              "  </button>\n",
              "\n",
              "<style>\n",
              "  .colab-df-quickchart {\n",
              "      --bg-color: #E8F0FE;\n",
              "      --fill-color: #1967D2;\n",
              "      --hover-bg-color: #E2EBFA;\n",
              "      --hover-fill-color: #174EA6;\n",
              "      --disabled-fill-color: #AAA;\n",
              "      --disabled-bg-color: #DDD;\n",
              "  }\n",
              "\n",
              "  [theme=dark] .colab-df-quickchart {\n",
              "      --bg-color: #3B4455;\n",
              "      --fill-color: #D2E3FC;\n",
              "      --hover-bg-color: #434B5C;\n",
              "      --hover-fill-color: #FFFFFF;\n",
              "      --disabled-bg-color: #3B4455;\n",
              "      --disabled-fill-color: #666;\n",
              "  }\n",
              "\n",
              "  .colab-df-quickchart {\n",
              "    background-color: var(--bg-color);\n",
              "    border: none;\n",
              "    border-radius: 50%;\n",
              "    cursor: pointer;\n",
              "    display: none;\n",
              "    fill: var(--fill-color);\n",
              "    height: 32px;\n",
              "    padding: 0;\n",
              "    width: 32px;\n",
              "  }\n",
              "\n",
              "  .colab-df-quickchart:hover {\n",
              "    background-color: var(--hover-bg-color);\n",
              "    box-shadow: 0 1px 2px rgba(60, 64, 67, 0.3), 0 1px 3px 1px rgba(60, 64, 67, 0.15);\n",
              "    fill: var(--button-hover-fill-color);\n",
              "  }\n",
              "\n",
              "  .colab-df-quickchart-complete:disabled,\n",
              "  .colab-df-quickchart-complete:disabled:hover {\n",
              "    background-color: var(--disabled-bg-color);\n",
              "    fill: var(--disabled-fill-color);\n",
              "    box-shadow: none;\n",
              "  }\n",
              "\n",
              "  .colab-df-spinner {\n",
              "    border: 2px solid var(--fill-color);\n",
              "    border-color: transparent;\n",
              "    border-bottom-color: var(--fill-color);\n",
              "    animation:\n",
              "      spin 1s steps(1) infinite;\n",
              "  }\n",
              "\n",
              "  @keyframes spin {\n",
              "    0% {\n",
              "      border-color: transparent;\n",
              "      border-bottom-color: var(--fill-color);\n",
              "      border-left-color: var(--fill-color);\n",
              "    }\n",
              "    20% {\n",
              "      border-color: transparent;\n",
              "      border-left-color: var(--fill-color);\n",
              "      border-top-color: var(--fill-color);\n",
              "    }\n",
              "    30% {\n",
              "      border-color: transparent;\n",
              "      border-left-color: var(--fill-color);\n",
              "      border-top-color: var(--fill-color);\n",
              "      border-right-color: var(--fill-color);\n",
              "    }\n",
              "    40% {\n",
              "      border-color: transparent;\n",
              "      border-right-color: var(--fill-color);\n",
              "      border-top-color: var(--fill-color);\n",
              "    }\n",
              "    60% {\n",
              "      border-color: transparent;\n",
              "      border-right-color: var(--fill-color);\n",
              "    }\n",
              "    80% {\n",
              "      border-color: transparent;\n",
              "      border-right-color: var(--fill-color);\n",
              "      border-bottom-color: var(--fill-color);\n",
              "    }\n",
              "    90% {\n",
              "      border-color: transparent;\n",
              "      border-bottom-color: var(--fill-color);\n",
              "    }\n",
              "  }\n",
              "</style>\n",
              "\n",
              "  <script>\n",
              "    async function quickchart(key) {\n",
              "      const quickchartButtonEl =\n",
              "        document.querySelector('#' + key + ' button');\n",
              "      quickchartButtonEl.disabled = true;  // To prevent multiple clicks.\n",
              "      quickchartButtonEl.classList.add('colab-df-spinner');\n",
              "      try {\n",
              "        const charts = await google.colab.kernel.invokeFunction(\n",
              "            'suggestCharts', [key], {});\n",
              "      } catch (error) {\n",
              "        console.error('Error during call to suggestCharts:', error);\n",
              "      }\n",
              "      quickchartButtonEl.classList.remove('colab-df-spinner');\n",
              "      quickchartButtonEl.classList.add('colab-df-quickchart-complete');\n",
              "    }\n",
              "    (() => {\n",
              "      let quickchartButtonEl =\n",
              "        document.querySelector('#df-b92d8444-e603-417a-9f56-e30c8160bfb6 button');\n",
              "      quickchartButtonEl.style.display =\n",
              "        google.colab.kernel.accessAllowed ? 'block' : 'none';\n",
              "    })();\n",
              "  </script>\n",
              "</div>\n",
              "    </div>\n",
              "  </div>\n"
            ]
          },
          "metadata": {},
          "execution_count": 29
        }
      ]
    },
    {
      "cell_type": "markdown",
      "source": [
        "##Conferir Unicidade da Chave Identificadora"
      ],
      "metadata": {
        "id": "Y-62KIBl2eLC"
      }
    },
    {
      "cell_type": "markdown",
      "source": [
        "Remover Duplicatas"
      ],
      "metadata": {
        "id": "IR4Lkh8KhY5H"
      }
    },
    {
      "cell_type": "code",
      "source": [
        "df_outro_rendimento_dp_ = df_outro_rendimento.drop_duplicates(keep='first')\n",
        "df_outro_rendimento_dp_.shape[0]"
      ],
      "metadata": {
        "colab": {
          "base_uri": "https://localhost:8080/"
        },
        "id": "F3U6mDhmYHjv",
        "outputId": "b5cf0b58-e9f8-4680-c7aa-4944059917fb"
      },
      "execution_count": null,
      "outputs": [
        {
          "output_type": "execute_result",
          "data": {
            "text/plain": [
              "206102"
            ]
          },
          "metadata": {},
          "execution_count": 31
        }
      ]
    },
    {
      "cell_type": "code",
      "source": [
        "indices_duplicatas_removidas = df_outro_rendimento.index.difference(df_outro_rendimento_dp_.index)\n",
        "indices_duplicatas_removidas"
      ],
      "metadata": {
        "colab": {
          "base_uri": "https://localhost:8080/"
        },
        "id": "bBovBc76Yyry",
        "outputId": "7d9591ce-18a4-4ddf-f1d3-3bec6da2237a"
      },
      "execution_count": null,
      "outputs": [
        {
          "output_type": "execute_result",
          "data": {
            "text/plain": [
              "Int64Index([11260, 11262, 70936, 70938, 164908, 164910], dtype='int64')"
            ]
          },
          "metadata": {},
          "execution_count": 27
        }
      ]
    },
    {
      "cell_type": "markdown",
      "source": [
        "Conferir Chave Primária"
      ],
      "metadata": {
        "id": "lN0CLqkfhff3"
      }
    },
    {
      "cell_type": "code",
      "source": [
        "df_outro_rendimento_id = df_outro_rendimento.drop_duplicates(subset=['COD_UPA','NUM_DOM','COD_INFORMANTE','QUADRO','SEQ','V8500_DEFLA','V8501_DEFLA'],keep='first')\n",
        "df_outro_rendimento_id.shape[0]"
      ],
      "metadata": {
        "id": "hpX2S8BI2eLC",
        "colab": {
          "base_uri": "https://localhost:8080/"
        },
        "outputId": "9de7950b-743d-4ed6-8c8b-61ce664c76b6"
      },
      "execution_count": null,
      "outputs": [
        {
          "output_type": "execute_result",
          "data": {
            "text/plain": [
              "206102"
            ]
          },
          "metadata": {},
          "execution_count": 73
        }
      ]
    },
    {
      "cell_type": "markdown",
      "source": [
        "## Aplicar Regras Normais"
      ],
      "metadata": {
        "id": "qmCRqp7u8U3b"
      }
    },
    {
      "cell_type": "code",
      "source": [
        "df_outro_rendimento =  df_outro_rendimento.drop(['UF','ESTRATO_POF','TIPO_SITUACAO_REG','PESO','PESO_FINAL','RENDA_TOTAL','NUM_UC'], axis=1)"
      ],
      "metadata": {
        "id": "QLWFvFVd8U3h"
      },
      "execution_count": null,
      "outputs": []
    },
    {
      "cell_type": "markdown",
      "source": [
        "## Baixar Arquivo como CSV"
      ],
      "metadata": {
        "id": "sEYqQNu12eLC"
      }
    },
    {
      "cell_type": "code",
      "source": [
        "df_outro_rendimento.to_csv('OUTRO_RENDIMENTO.csv', index=False)"
      ],
      "metadata": {
        "id": "WdtEMwzC2eLC"
      },
      "execution_count": null,
      "outputs": []
    },
    {
      "cell_type": "markdown",
      "source": [
        "# Tratamento do arquivo \"Condições de Vida\""
      ],
      "metadata": {
        "id": "l0RY3ctkhymY"
      }
    },
    {
      "cell_type": "markdown",
      "source": [
        "##Abrindo e Analisando o Arquivo"
      ],
      "metadata": {
        "id": "0Bn1t8Ynhyme"
      }
    },
    {
      "cell_type": "code",
      "source": [
        "condicoes_vida = '/content/drive/MyDrive/POF (2017 2018)/CONDICOES_VIDA.txt'\n",
        "\n",
        "with open(condicoes_vida, 'r') as arquivo:\n",
        "    conteudo = arquivo.readlines()\n",
        "\n",
        "# Imprimir 5 primeiras Linhas\n",
        "print(\"5 primeiras Linhas: \\n\")\n",
        "for conteudo in conteudo[:5]:\n",
        "    print(conteudo, end='')\n"
      ],
      "metadata": {
        "colab": {
          "base_uri": "https://localhost:8080/"
        },
        "outputId": "f27420af-8722-4d3f-edc7-c6bc833c3ff9",
        "id": "5Lg_a22lhymf"
      },
      "execution_count": null,
      "outputs": [
        {
          "output_type": "stream",
          "name": "stdout",
          "text": [
            "5 primeiras Linhas: \n",
            "\n",
            "1111031110005400 11 15  4000 150011133213323244222222222222222222            272.80666931  372.98451570  11254.75\n",
            "1111031110005400 21 13  3500 100022233322322244121222222221222222            272.80666931  372.98451570  10828.07\n",
            "1111031110005400 41 15  5000 120011133223223344222222222223222222            272.80666931  372.98451570   4769.13\n",
            "1111031110005400 51 13  1800  80012233322323344222221222222222222            272.80666931  372.98451570   2313.61\n",
            "1111031110005400 61 15  6000 150011133223213344222222222223222222            272.80666931  372.98451570   6596.90\n"
          ]
        }
      ]
    },
    {
      "cell_type": "code",
      "source": [
        "with open(condicoes_vida, 'r') as arquivo:\n",
        "    conteudo = arquivo.readlines()\n",
        "\n",
        "# descobrir quantas Linhas tem o arquivo\n",
        "cont = 0\n",
        "for linha in conteudo:\n",
        "    cont += 1\n",
        "\n",
        "# descobrir quantos caracteres tem a primeira Linha\n",
        "cont_char = 0\n",
        "for i, linha in enumerate(conteudo[:1], start=1):\n",
        "    num_caracteres = len(linha)\n",
        "\n",
        "# descobrir se o restante das linhas tem a mesma qtd de caracteres da primeira linha\n",
        "primeira_linha = conteudo[0]\n",
        "todas_as_linhas_iguais = all(len(linha) == len(primeira_linha) for linha in conteudo)\n",
        "\n",
        "print(\"Total de linhas: \", cont)\n",
        "print(\"Total de caracteres da primeira linha: \", num_caracteres)\n",
        "print(\"Todas as Linhas tem o mesmo comprimento da primeira? \", todas_as_linhas_iguais)"
      ],
      "metadata": {
        "colab": {
          "base_uri": "https://localhost:8080/"
        },
        "outputId": "256a21c0-1418-463b-9c61-6f1bea59dab6",
        "id": "JAU8YOj6hymf"
      },
      "execution_count": null,
      "outputs": [
        {
          "output_type": "stream",
          "name": "stdout",
          "text": [
            "Total de linhas:  58039\n",
            "Total de caracteres da primeira linha:  114\n",
            "Todas as Linhas tem o mesmo comprimento da primeira?  True\n"
          ]
        }
      ]
    },
    {
      "cell_type": "markdown",
      "source": [
        "##Adicionar o Separador"
      ],
      "metadata": {
        "id": "KX2FffSIhymf"
      }
    },
    {
      "cell_type": "code",
      "source": [
        "with open(condicoes_vida, 'r') as arquivo_orig:\n",
        "    with open('novo_condicoes_vida.csv', 'w') as arquivo_novo:\n",
        "        for linha in arquivo_orig:\n",
        "            nova_linha = (\n",
        "                linha[:2] + ';' + # variável 1\n",
        "                linha[2:6] + ';' + # variável 2\n",
        "                linha[6:7] + ';' + # variável 3\n",
        "                linha[7:16] + ';' + # variável 4\n",
        "                linha[16:18] + ';' + # variável 5\n",
        "                linha[18:19] + ';' + # variável 6\n",
        "                linha[19:21] + ';' + # variável 7\n",
        "                linha[21:22] + ';' + # variável 8\n",
        "                linha[22:28] + ';' + # variável 9\n",
        "                linha[28:33] + ';' + # variável 10\n",
        "                linha[33:34] + ';' + # variável 11\n",
        "                linha[34:35] + ';' + # variável 12\n",
        "                linha[35:36] + ';' + # variável 13\n",
        "                linha[36:37] + ';' + # variável 14\n",
        "                linha[37:38] + ';' + # variável 15\n",
        "                linha[38:39] + ';' + # variável 16\n",
        "                linha[39:40] + ';' + # variável 17\n",
        "                linha[40:41] + ';' + # variável 18\n",
        "                linha[41:42] + ';' + # variável 19\n",
        "                linha[42:43] + ';' + # variável 20\n",
        "                linha[43:44] + ';' + # variável 21\n",
        "                linha[44:45] + ';' + # variável 22\n",
        "                linha[45:46] + ';' + # variável 23\n",
        "                linha[46:47] + ';' + # variável 24\n",
        "                linha[47:48] + ';' + # variável 25\n",
        "                linha[48:49] + ';' + # variável 26\n",
        "                linha[49:50] + ';' + # variável 27\n",
        "                linha[50:51] + ';' + # variável 28\n",
        "                linha[51:52] + ';' + # variável 29\n",
        "                linha[52:53] + ';' + # variável 30\n",
        "                linha[53:54] + ';' + # variável 31\n",
        "                linha[54:55] + ';' + # variável 32\n",
        "                linha[55:56] + ';' + # variável 33\n",
        "                linha[56:57] + ';' + # variável 34\n",
        "                linha[57:58] + ';' + # variável 35\n",
        "                linha[58:59] + ';' + # variável 36\n",
        "                linha[59:60] + ';' + # variável 37\n",
        "                linha[60:61] + ';' + # variável 38\n",
        "                linha[61:62] + ';' + # variável 39\n",
        "                linha[62:63] + ';' + # variável 40\n",
        "                linha[63:64] + ';' + # variável 41\n",
        "                linha[64:65] + ';' + # variável 42\n",
        "                linha[65:66] + ';' + # variável 43\n",
        "                linha[66:67] + ';' + # variável 44\n",
        "                linha[67:68] + ';' + # variável 45\n",
        "                linha[68:69] + ';' + # variável 46\n",
        "                linha[69:70] + ';' + # variável 47\n",
        "                linha[70:71] + ';' + # variável 48\n",
        "                linha[71:72] + ';' + # variável 49\n",
        "                linha[72:73] + ';' + # variável 50\n",
        "                linha[73:74] + ';' + # variável 51\n",
        "                linha[74:75] + ';' + # variável 52\n",
        "                linha[75:89] + ';' + # variável 53\n",
        "                linha[89:103] + ';' + # variável 54\n",
        "                linha[103:] # variável 55\n",
        "            )\n",
        "            nova_linha = nova_linha.replace(' ', '')\n",
        "            arquivo_novo.write(nova_linha)\n",
        "\n",
        "\n"
      ],
      "metadata": {
        "id": "A1hpSL-ahymf"
      },
      "execution_count": null,
      "outputs": []
    },
    {
      "cell_type": "markdown",
      "source": [
        "Conferir Processo"
      ],
      "metadata": {
        "id": "SjrAWtDShymf"
      }
    },
    {
      "cell_type": "code",
      "source": [
        "novo_condicoes_vida = \"/content/novo_condicoes_vida.csv\"\n",
        "\n",
        "with open(novo_condicoes_vida, 'r') as arquivo_novo:\n",
        "  novo_dom = arquivo_novo.readlines()\n",
        "\n",
        "# imprimir primeira linha\n",
        "for lin in novo_dom[:1]:\n",
        "  print(lin, end=\"\")"
      ],
      "metadata": {
        "colab": {
          "base_uri": "https://localhost:8080/"
        },
        "outputId": "f05fc5ba-e697-494d-bdab-a51ccea2c2ba",
        "id": "Y2VdMbR3hymf"
      },
      "execution_count": null,
      "outputs": [
        {
          "output_type": "stream",
          "name": "stdout",
          "text": [
            "11;1103;1;110005400;1;1;1;5;4000;1500;1;1;1;3;3;2;1;3;3;2;3;2;4;4;2;2;2;2;2;2;2;2;2;2;2;2;2;2;2;2;2;2;;;;;;;;;;;272.80666931;372.98451570;11254.75\n"
          ]
        }
      ]
    },
    {
      "cell_type": "markdown",
      "source": [
        "Conferir Estado do Novo Arquivo"
      ],
      "metadata": {
        "id": "OAcUdohAhymf"
      }
    },
    {
      "cell_type": "code",
      "source": [
        "with open(novo_condicoes_vida, 'r') as arquivo:\n",
        "    conteudo = arquivo.readlines()\n",
        "\n",
        "# Conferir Numero de Linhas\n",
        "cont = 0\n",
        "for linha in conteudo:\n",
        "    cont += 1\n",
        "\n",
        "# Conferir Total de Caracteres\n",
        "cont_char = 0\n",
        "for i, linha in enumerate(conteudo[:1], start=1):\n",
        "    num_caracteres = len(linha)\n",
        "\n",
        "# Conferir se as Linhas Ainda tem o Mesmo Numero de Caracteres\n",
        "primeira_linha = conteudo[0]\n",
        "todas_as_linhas_iguais = all(len(linha) == len(primeira_linha) for linha in conteudo)\n",
        "\n",
        "print(\"Total de linhas: \", cont)\n",
        "print(\"Total de caracteres da primeira linha: \", num_caracteres)\n",
        "print(\"Todas as Linhas tem o mesmo comprimento da primeira? \", todas_as_linhas_iguais)"
      ],
      "metadata": {
        "colab": {
          "base_uri": "https://localhost:8080/"
        },
        "outputId": "d94d47d4-7ff2-4bf3-b68b-be0b5f2fb854",
        "id": "FBKYVBvyhymf"
      },
      "execution_count": null,
      "outputs": [
        {
          "output_type": "stream",
          "name": "stdout",
          "text": [
            "Total de linhas:  58039\n",
            "Total de caracteres da primeira linha:  147\n",
            "Todas as Linhas tem o mesmo comprimento da primeira?  False\n"
          ]
        }
      ]
    },
    {
      "cell_type": "markdown",
      "source": [
        "## Abrir arquivo como DataFrame, para melhor análise"
      ],
      "metadata": {
        "id": "Vj2tTQYihymg"
      }
    },
    {
      "cell_type": "code",
      "source": [
        "import pandas as pd"
      ],
      "metadata": {
        "id": "8KbGdwCRhymg"
      },
      "execution_count": null,
      "outputs": []
    },
    {
      "cell_type": "code",
      "source": [
        "colunas_condicoes_vida = [\n",
        "    \"UF\",\n",
        "    \"ESTRATO_POF\",\n",
        "    \"TIPO_SITUACAO_REG\",\n",
        "    \"COD_UPA\",\n",
        "    \"NUM_DOM\",\n",
        "    \"NUM_UC\",\n",
        "    \"COD_INFORMANTE\",\n",
        "    \"V6101\",\n",
        "    \"V6102\",\n",
        "    \"V6103\",\n",
        "    \"V61041\",\n",
        "    \"V61042\",\n",
        "    \"V61043\",\n",
        "    \"V61044\",\n",
        "    \"V61045\",\n",
        "    \"V61046\",\n",
        "    \"V61051\",\n",
        "    \"V61052\",\n",
        "    \"V61053\",\n",
        "    \"V61054\",\n",
        "    \"V61055\",\n",
        "    \"V61056\",\n",
        "    \"V61057\",\n",
        "    \"V61058\",\n",
        "    \"V61061\",\n",
        "    \"V61062\",\n",
        "    \"V61063\",\n",
        "    \"V61064\",\n",
        "    \"V61065\",\n",
        "    \"V61066\",\n",
        "    \"V61067\",\n",
        "    \"V61068\",\n",
        "    \"V61069\",\n",
        "    \"V610610\",\n",
        "    \"V610611\",\n",
        "    \"V61071\",\n",
        "    \"V61072\",\n",
        "    \"V61073\",\n",
        "    \"V6108\",\n",
        "    \"V6109\",\n",
        "    \"V6110\",\n",
        "    \"V6111\",\n",
        "    \"V6112\",\n",
        "    \"V6113\",\n",
        "    \"V6114\",\n",
        "    \"V6115\",\n",
        "    \"V6116\",\n",
        "    \"V6117\",\n",
        "    \"V6118\",\n",
        "    \"V6119\",\n",
        "    \"V6120\",\n",
        "    \"V6121\",\n",
        "    \"PESO\",\n",
        "    \"PESO_FINAL\",\n",
        "    \"RENDA_TOTAL\"\n",
        "]"
      ],
      "metadata": {
        "id": "74hLh4UPhymg"
      },
      "execution_count": null,
      "outputs": []
    },
    {
      "cell_type": "code",
      "source": [
        "df_novo_condicoes_vida = pd.read_csv(novo_condicoes_vida, sep=';', names = colunas_condicoes_vida, dtype='object')"
      ],
      "metadata": {
        "id": "gblL8qW0hymg"
      },
      "execution_count": null,
      "outputs": []
    },
    {
      "cell_type": "code",
      "source": [
        "df_novo_condicoes_vida.info()"
      ],
      "metadata": {
        "colab": {
          "base_uri": "https://localhost:8080/"
        },
        "outputId": "260d2dce-cf85-4aea-cb0e-2afd996a3b4f",
        "id": "U9K8pGcWhymg"
      },
      "execution_count": null,
      "outputs": [
        {
          "output_type": "stream",
          "name": "stdout",
          "text": [
            "<class 'pandas.core.frame.DataFrame'>\n",
            "RangeIndex: 58039 entries, 0 to 58038\n",
            "Data columns (total 55 columns):\n",
            " #   Column             Non-Null Count  Dtype \n",
            "---  ------             --------------  ----- \n",
            " 0   UF                 58039 non-null  object\n",
            " 1   ESTRATO_POF        58039 non-null  object\n",
            " 2   TIPO_SITUACAO_REG  58039 non-null  object\n",
            " 3   COD_UPA            58039 non-null  object\n",
            " 4   NUM_DOM            58039 non-null  object\n",
            " 5   NUM_UC             58039 non-null  object\n",
            " 6   COD_INFORMANTE     58039 non-null  object\n",
            " 7   V6101              58039 non-null  object\n",
            " 8   V6102              58039 non-null  object\n",
            " 9   V6103              58039 non-null  object\n",
            " 10  V61041             58039 non-null  object\n",
            " 11  V61042             58039 non-null  object\n",
            " 12  V61043             58039 non-null  object\n",
            " 13  V61044             58039 non-null  object\n",
            " 14  V61045             58039 non-null  object\n",
            " 15  V61046             58039 non-null  object\n",
            " 16  V61051             58039 non-null  object\n",
            " 17  V61052             58039 non-null  object\n",
            " 18  V61053             58039 non-null  object\n",
            " 19  V61054             58039 non-null  object\n",
            " 20  V61055             58039 non-null  object\n",
            " 21  V61056             58039 non-null  object\n",
            " 22  V61057             58039 non-null  object\n",
            " 23  V61058             58039 non-null  object\n",
            " 24  V61061             58039 non-null  object\n",
            " 25  V61062             58039 non-null  object\n",
            " 26  V61063             58039 non-null  object\n",
            " 27  V61064             58039 non-null  object\n",
            " 28  V61065             58039 non-null  object\n",
            " 29  V61066             58039 non-null  object\n",
            " 30  V61067             58039 non-null  object\n",
            " 31  V61068             58039 non-null  object\n",
            " 32  V61069             58039 non-null  object\n",
            " 33  V610610            58039 non-null  object\n",
            " 34  V610611            58039 non-null  object\n",
            " 35  V61071             58039 non-null  object\n",
            " 36  V61072             58039 non-null  object\n",
            " 37  V61073             58039 non-null  object\n",
            " 38  V6108              58039 non-null  object\n",
            " 39  V6109              58039 non-null  object\n",
            " 40  V6110              58039 non-null  object\n",
            " 41  V6111              58039 non-null  object\n",
            " 42  V6112              23273 non-null  object\n",
            " 43  V6113              23273 non-null  object\n",
            " 44  V6114              23273 non-null  object\n",
            " 45  V6115              23273 non-null  object\n",
            " 46  V6116              13527 non-null  object\n",
            " 47  V6117              13527 non-null  object\n",
            " 48  V6118              13527 non-null  object\n",
            " 49  V6119              13527 non-null  object\n",
            " 50  V6120              13527 non-null  object\n",
            " 51  V6121              13527 non-null  object\n",
            " 52  PESO               58039 non-null  object\n",
            " 53  PESO_FINAL         58039 non-null  object\n",
            " 54  RENDA_TOTAL        58039 non-null  object\n",
            "dtypes: object(55)\n",
            "memory usage: 24.4+ MB\n"
          ]
        }
      ]
    },
    {
      "cell_type": "code",
      "source": [
        "df_novo_condicoes_vida.head()"
      ],
      "metadata": {
        "colab": {
          "base_uri": "https://localhost:8080/",
          "height": 255
        },
        "outputId": "c8a05fee-a39b-4308-f785-4fd3a3b71d72",
        "id": "SphL8nuxhymg"
      },
      "execution_count": null,
      "outputs": [
        {
          "output_type": "execute_result",
          "data": {
            "text/plain": [
              "   UF  ESTRATO_POF  TIPO_SITUACAO_REG    COD_UPA  NUM_DOM  NUM_UC  \\\n",
              "0  11         1103                  1  110005400        1       1   \n",
              "1  11         1103                  1  110005400        2       1   \n",
              "2  11         1103                  1  110005400        4       1   \n",
              "3  11         1103                  1  110005400        5       1   \n",
              "4  11         1103                  1  110005400        6       1   \n",
              "\n",
              "   COD_INFORMANTE  V6101  V6102  V6103  ...  V6115  V6116  V6117  V6118  \\\n",
              "0               1      5   4000   1500  ...                               \n",
              "1               1      3   3500   1000  ...                               \n",
              "2               1      5   5000   1200  ...                               \n",
              "3               1      3   1800    800  ...                               \n",
              "4               1      5   6000   1500  ...                               \n",
              "\n",
              "   V6119  V6120  V6121        PESO  PESO_FINAL  RENDA_TOTAL  \n",
              "0                       272.806669  372.984516     11254.75  \n",
              "1                       272.806669  372.984516     10828.07  \n",
              "2                       272.806669  372.984516      4769.13  \n",
              "3                       272.806669  372.984516      2313.61  \n",
              "4                       272.806669  372.984516      6596.90  \n",
              "\n",
              "[5 rows x 55 columns]"
            ],
            "text/html": [
              "\n",
              "  <div id=\"df-75ecb1ab-0678-4204-9e68-5cfd181e571e\" class=\"colab-df-container\">\n",
              "    <div>\n",
              "<style scoped>\n",
              "    .dataframe tbody tr th:only-of-type {\n",
              "        vertical-align: middle;\n",
              "    }\n",
              "\n",
              "    .dataframe tbody tr th {\n",
              "        vertical-align: top;\n",
              "    }\n",
              "\n",
              "    .dataframe thead th {\n",
              "        text-align: right;\n",
              "    }\n",
              "</style>\n",
              "<table border=\"1\" class=\"dataframe\">\n",
              "  <thead>\n",
              "    <tr style=\"text-align: right;\">\n",
              "      <th></th>\n",
              "      <th>UF</th>\n",
              "      <th>ESTRATO_POF</th>\n",
              "      <th>TIPO_SITUACAO_REG</th>\n",
              "      <th>COD_UPA</th>\n",
              "      <th>NUM_DOM</th>\n",
              "      <th>NUM_UC</th>\n",
              "      <th>COD_INFORMANTE</th>\n",
              "      <th>V6101</th>\n",
              "      <th>V6102</th>\n",
              "      <th>V6103</th>\n",
              "      <th>...</th>\n",
              "      <th>V6115</th>\n",
              "      <th>V6116</th>\n",
              "      <th>V6117</th>\n",
              "      <th>V6118</th>\n",
              "      <th>V6119</th>\n",
              "      <th>V6120</th>\n",
              "      <th>V6121</th>\n",
              "      <th>PESO</th>\n",
              "      <th>PESO_FINAL</th>\n",
              "      <th>RENDA_TOTAL</th>\n",
              "    </tr>\n",
              "  </thead>\n",
              "  <tbody>\n",
              "    <tr>\n",
              "      <th>0</th>\n",
              "      <td>11</td>\n",
              "      <td>1103</td>\n",
              "      <td>1</td>\n",
              "      <td>110005400</td>\n",
              "      <td>1</td>\n",
              "      <td>1</td>\n",
              "      <td>1</td>\n",
              "      <td>5</td>\n",
              "      <td>4000</td>\n",
              "      <td>1500</td>\n",
              "      <td>...</td>\n",
              "      <td></td>\n",
              "      <td></td>\n",
              "      <td></td>\n",
              "      <td></td>\n",
              "      <td></td>\n",
              "      <td></td>\n",
              "      <td></td>\n",
              "      <td>272.806669</td>\n",
              "      <td>372.984516</td>\n",
              "      <td>11254.75</td>\n",
              "    </tr>\n",
              "    <tr>\n",
              "      <th>1</th>\n",
              "      <td>11</td>\n",
              "      <td>1103</td>\n",
              "      <td>1</td>\n",
              "      <td>110005400</td>\n",
              "      <td>2</td>\n",
              "      <td>1</td>\n",
              "      <td>1</td>\n",
              "      <td>3</td>\n",
              "      <td>3500</td>\n",
              "      <td>1000</td>\n",
              "      <td>...</td>\n",
              "      <td></td>\n",
              "      <td></td>\n",
              "      <td></td>\n",
              "      <td></td>\n",
              "      <td></td>\n",
              "      <td></td>\n",
              "      <td></td>\n",
              "      <td>272.806669</td>\n",
              "      <td>372.984516</td>\n",
              "      <td>10828.07</td>\n",
              "    </tr>\n",
              "    <tr>\n",
              "      <th>2</th>\n",
              "      <td>11</td>\n",
              "      <td>1103</td>\n",
              "      <td>1</td>\n",
              "      <td>110005400</td>\n",
              "      <td>4</td>\n",
              "      <td>1</td>\n",
              "      <td>1</td>\n",
              "      <td>5</td>\n",
              "      <td>5000</td>\n",
              "      <td>1200</td>\n",
              "      <td>...</td>\n",
              "      <td></td>\n",
              "      <td></td>\n",
              "      <td></td>\n",
              "      <td></td>\n",
              "      <td></td>\n",
              "      <td></td>\n",
              "      <td></td>\n",
              "      <td>272.806669</td>\n",
              "      <td>372.984516</td>\n",
              "      <td>4769.13</td>\n",
              "    </tr>\n",
              "    <tr>\n",
              "      <th>3</th>\n",
              "      <td>11</td>\n",
              "      <td>1103</td>\n",
              "      <td>1</td>\n",
              "      <td>110005400</td>\n",
              "      <td>5</td>\n",
              "      <td>1</td>\n",
              "      <td>1</td>\n",
              "      <td>3</td>\n",
              "      <td>1800</td>\n",
              "      <td>800</td>\n",
              "      <td>...</td>\n",
              "      <td></td>\n",
              "      <td></td>\n",
              "      <td></td>\n",
              "      <td></td>\n",
              "      <td></td>\n",
              "      <td></td>\n",
              "      <td></td>\n",
              "      <td>272.806669</td>\n",
              "      <td>372.984516</td>\n",
              "      <td>2313.61</td>\n",
              "    </tr>\n",
              "    <tr>\n",
              "      <th>4</th>\n",
              "      <td>11</td>\n",
              "      <td>1103</td>\n",
              "      <td>1</td>\n",
              "      <td>110005400</td>\n",
              "      <td>6</td>\n",
              "      <td>1</td>\n",
              "      <td>1</td>\n",
              "      <td>5</td>\n",
              "      <td>6000</td>\n",
              "      <td>1500</td>\n",
              "      <td>...</td>\n",
              "      <td></td>\n",
              "      <td></td>\n",
              "      <td></td>\n",
              "      <td></td>\n",
              "      <td></td>\n",
              "      <td></td>\n",
              "      <td></td>\n",
              "      <td>272.806669</td>\n",
              "      <td>372.984516</td>\n",
              "      <td>6596.90</td>\n",
              "    </tr>\n",
              "  </tbody>\n",
              "</table>\n",
              "<p>5 rows × 55 columns</p>\n",
              "</div>\n",
              "    <div class=\"colab-df-buttons\">\n",
              "\n",
              "  <div class=\"colab-df-container\">\n",
              "    <button class=\"colab-df-convert\" onclick=\"convertToInteractive('df-75ecb1ab-0678-4204-9e68-5cfd181e571e')\"\n",
              "            title=\"Convert this dataframe to an interactive table.\"\n",
              "            style=\"display:none;\">\n",
              "\n",
              "  <svg xmlns=\"http://www.w3.org/2000/svg\" height=\"24px\" viewBox=\"0 -960 960 960\">\n",
              "    <path d=\"M120-120v-720h720v720H120Zm60-500h600v-160H180v160Zm220 220h160v-160H400v160Zm0 220h160v-160H400v160ZM180-400h160v-160H180v160Zm440 0h160v-160H620v160ZM180-180h160v-160H180v160Zm440 0h160v-160H620v160Z\"/>\n",
              "  </svg>\n",
              "    </button>\n",
              "\n",
              "  <style>\n",
              "    .colab-df-container {\n",
              "      display:flex;\n",
              "      gap: 12px;\n",
              "    }\n",
              "\n",
              "    .colab-df-convert {\n",
              "      background-color: #E8F0FE;\n",
              "      border: none;\n",
              "      border-radius: 50%;\n",
              "      cursor: pointer;\n",
              "      display: none;\n",
              "      fill: #1967D2;\n",
              "      height: 32px;\n",
              "      padding: 0 0 0 0;\n",
              "      width: 32px;\n",
              "    }\n",
              "\n",
              "    .colab-df-convert:hover {\n",
              "      background-color: #E2EBFA;\n",
              "      box-shadow: 0px 1px 2px rgba(60, 64, 67, 0.3), 0px 1px 3px 1px rgba(60, 64, 67, 0.15);\n",
              "      fill: #174EA6;\n",
              "    }\n",
              "\n",
              "    .colab-df-buttons div {\n",
              "      margin-bottom: 4px;\n",
              "    }\n",
              "\n",
              "    [theme=dark] .colab-df-convert {\n",
              "      background-color: #3B4455;\n",
              "      fill: #D2E3FC;\n",
              "    }\n",
              "\n",
              "    [theme=dark] .colab-df-convert:hover {\n",
              "      background-color: #434B5C;\n",
              "      box-shadow: 0px 1px 3px 1px rgba(0, 0, 0, 0.15);\n",
              "      filter: drop-shadow(0px 1px 2px rgba(0, 0, 0, 0.3));\n",
              "      fill: #FFFFFF;\n",
              "    }\n",
              "  </style>\n",
              "\n",
              "    <script>\n",
              "      const buttonEl =\n",
              "        document.querySelector('#df-75ecb1ab-0678-4204-9e68-5cfd181e571e button.colab-df-convert');\n",
              "      buttonEl.style.display =\n",
              "        google.colab.kernel.accessAllowed ? 'block' : 'none';\n",
              "\n",
              "      async function convertToInteractive(key) {\n",
              "        const element = document.querySelector('#df-75ecb1ab-0678-4204-9e68-5cfd181e571e');\n",
              "        const dataTable =\n",
              "          await google.colab.kernel.invokeFunction('convertToInteractive',\n",
              "                                                    [key], {});\n",
              "        if (!dataTable) return;\n",
              "\n",
              "        const docLinkHtml = 'Like what you see? Visit the ' +\n",
              "          '<a target=\"_blank\" href=https://colab.research.google.com/notebooks/data_table.ipynb>data table notebook</a>'\n",
              "          + ' to learn more about interactive tables.';\n",
              "        element.innerHTML = '';\n",
              "        dataTable['output_type'] = 'display_data';\n",
              "        await google.colab.output.renderOutput(dataTable, element);\n",
              "        const docLink = document.createElement('div');\n",
              "        docLink.innerHTML = docLinkHtml;\n",
              "        element.appendChild(docLink);\n",
              "      }\n",
              "    </script>\n",
              "  </div>\n",
              "\n",
              "\n",
              "<div id=\"df-aedacb34-c620-487d-9185-fa56b7116665\">\n",
              "  <button class=\"colab-df-quickchart\" onclick=\"quickchart('df-aedacb34-c620-487d-9185-fa56b7116665')\"\n",
              "            title=\"Suggest charts.\"\n",
              "            style=\"display:none;\">\n",
              "\n",
              "<svg xmlns=\"http://www.w3.org/2000/svg\" height=\"24px\"viewBox=\"0 0 24 24\"\n",
              "     width=\"24px\">\n",
              "    <g>\n",
              "        <path d=\"M19 3H5c-1.1 0-2 .9-2 2v14c0 1.1.9 2 2 2h14c1.1 0 2-.9 2-2V5c0-1.1-.9-2-2-2zM9 17H7v-7h2v7zm4 0h-2V7h2v10zm4 0h-2v-4h2v4z\"/>\n",
              "    </g>\n",
              "</svg>\n",
              "  </button>\n",
              "\n",
              "<style>\n",
              "  .colab-df-quickchart {\n",
              "      --bg-color: #E8F0FE;\n",
              "      --fill-color: #1967D2;\n",
              "      --hover-bg-color: #E2EBFA;\n",
              "      --hover-fill-color: #174EA6;\n",
              "      --disabled-fill-color: #AAA;\n",
              "      --disabled-bg-color: #DDD;\n",
              "  }\n",
              "\n",
              "  [theme=dark] .colab-df-quickchart {\n",
              "      --bg-color: #3B4455;\n",
              "      --fill-color: #D2E3FC;\n",
              "      --hover-bg-color: #434B5C;\n",
              "      --hover-fill-color: #FFFFFF;\n",
              "      --disabled-bg-color: #3B4455;\n",
              "      --disabled-fill-color: #666;\n",
              "  }\n",
              "\n",
              "  .colab-df-quickchart {\n",
              "    background-color: var(--bg-color);\n",
              "    border: none;\n",
              "    border-radius: 50%;\n",
              "    cursor: pointer;\n",
              "    display: none;\n",
              "    fill: var(--fill-color);\n",
              "    height: 32px;\n",
              "    padding: 0;\n",
              "    width: 32px;\n",
              "  }\n",
              "\n",
              "  .colab-df-quickchart:hover {\n",
              "    background-color: var(--hover-bg-color);\n",
              "    box-shadow: 0 1px 2px rgba(60, 64, 67, 0.3), 0 1px 3px 1px rgba(60, 64, 67, 0.15);\n",
              "    fill: var(--button-hover-fill-color);\n",
              "  }\n",
              "\n",
              "  .colab-df-quickchart-complete:disabled,\n",
              "  .colab-df-quickchart-complete:disabled:hover {\n",
              "    background-color: var(--disabled-bg-color);\n",
              "    fill: var(--disabled-fill-color);\n",
              "    box-shadow: none;\n",
              "  }\n",
              "\n",
              "  .colab-df-spinner {\n",
              "    border: 2px solid var(--fill-color);\n",
              "    border-color: transparent;\n",
              "    border-bottom-color: var(--fill-color);\n",
              "    animation:\n",
              "      spin 1s steps(1) infinite;\n",
              "  }\n",
              "\n",
              "  @keyframes spin {\n",
              "    0% {\n",
              "      border-color: transparent;\n",
              "      border-bottom-color: var(--fill-color);\n",
              "      border-left-color: var(--fill-color);\n",
              "    }\n",
              "    20% {\n",
              "      border-color: transparent;\n",
              "      border-left-color: var(--fill-color);\n",
              "      border-top-color: var(--fill-color);\n",
              "    }\n",
              "    30% {\n",
              "      border-color: transparent;\n",
              "      border-left-color: var(--fill-color);\n",
              "      border-top-color: var(--fill-color);\n",
              "      border-right-color: var(--fill-color);\n",
              "    }\n",
              "    40% {\n",
              "      border-color: transparent;\n",
              "      border-right-color: var(--fill-color);\n",
              "      border-top-color: var(--fill-color);\n",
              "    }\n",
              "    60% {\n",
              "      border-color: transparent;\n",
              "      border-right-color: var(--fill-color);\n",
              "    }\n",
              "    80% {\n",
              "      border-color: transparent;\n",
              "      border-right-color: var(--fill-color);\n",
              "      border-bottom-color: var(--fill-color);\n",
              "    }\n",
              "    90% {\n",
              "      border-color: transparent;\n",
              "      border-bottom-color: var(--fill-color);\n",
              "    }\n",
              "  }\n",
              "</style>\n",
              "\n",
              "  <script>\n",
              "    async function quickchart(key) {\n",
              "      const quickchartButtonEl =\n",
              "        document.querySelector('#' + key + ' button');\n",
              "      quickchartButtonEl.disabled = true;  // To prevent multiple clicks.\n",
              "      quickchartButtonEl.classList.add('colab-df-spinner');\n",
              "      try {\n",
              "        const charts = await google.colab.kernel.invokeFunction(\n",
              "            'suggestCharts', [key], {});\n",
              "      } catch (error) {\n",
              "        console.error('Error during call to suggestCharts:', error);\n",
              "      }\n",
              "      quickchartButtonEl.classList.remove('colab-df-spinner');\n",
              "      quickchartButtonEl.classList.add('colab-df-quickchart-complete');\n",
              "    }\n",
              "    (() => {\n",
              "      let quickchartButtonEl =\n",
              "        document.querySelector('#df-aedacb34-c620-487d-9185-fa56b7116665 button');\n",
              "      quickchartButtonEl.style.display =\n",
              "        google.colab.kernel.accessAllowed ? 'block' : 'none';\n",
              "    })();\n",
              "  </script>\n",
              "</div>\n",
              "    </div>\n",
              "  </div>\n"
            ]
          },
          "metadata": {},
          "execution_count": 42
        }
      ]
    },
    {
      "cell_type": "markdown",
      "source": [
        "##Conferir Unicidade da Chave Identificadora"
      ],
      "metadata": {
        "id": "0VKtghzmhymg"
      }
    },
    {
      "cell_type": "code",
      "source": [
        "df_novo_condicoes_vida_id = df_novo_condicoes_vida.drop_duplicates(subset=['COD_UPA','NUM_DOM','COD_INFORMANTE','NUM_UC'],keep='first')"
      ],
      "metadata": {
        "id": "q0BGG8_Whymg"
      },
      "execution_count": null,
      "outputs": []
    },
    {
      "cell_type": "code",
      "source": [
        "df_novo_condicoes_vida_id.shape[0]"
      ],
      "metadata": {
        "colab": {
          "base_uri": "https://localhost:8080/"
        },
        "outputId": "2fa8c285-5fc4-4c99-dabe-dfd21da7bdec",
        "id": "tiyeITSZhymh"
      },
      "execution_count": null,
      "outputs": [
        {
          "output_type": "execute_result",
          "data": {
            "text/plain": [
              "58039"
            ]
          },
          "metadata": {},
          "execution_count": 98
        }
      ]
    },
    {
      "cell_type": "markdown",
      "source": [
        "## Aplicar Regras Normais"
      ],
      "metadata": {
        "id": "9bBHjOq6-EJV"
      }
    },
    {
      "cell_type": "code",
      "source": [
        "df_novo_condicoes_vida =  df_novo_condicoes_vida.drop(['UF','ESTRATO_POF','TIPO_SITUACAO_REG','PESO','PESO_FINAL','RENDA_TOTAL'], axis=1)"
      ],
      "metadata": {
        "id": "_POZERhV-EJc"
      },
      "execution_count": null,
      "outputs": []
    },
    {
      "cell_type": "markdown",
      "source": [
        "## Baixar Arquivo como CSV"
      ],
      "metadata": {
        "id": "ApIT9Rzahymh"
      }
    },
    {
      "cell_type": "code",
      "source": [
        "df_novo_condicoes_vida.to_csv('CONDICOES_VIDA.csv', index=False)"
      ],
      "metadata": {
        "id": "auD1-6fnhymh"
      },
      "execution_count": null,
      "outputs": []
    },
    {
      "cell_type": "markdown",
      "source": [
        "# Tratamento do arquivo \"Características da Dieta\""
      ],
      "metadata": {
        "id": "hrIWXWPunaxy"
      }
    },
    {
      "cell_type": "markdown",
      "source": [
        "##Abrindo e Analisando o Arquivo"
      ],
      "metadata": {
        "id": "Y0m6JTzfnax5"
      }
    },
    {
      "cell_type": "code",
      "source": [
        "caract_dieta = '/content/drive/MyDrive/POF (2017 2018)/CARACTERISTICAS_DIETA.txt'\n",
        "\n",
        "with open(caract_dieta, 'r') as arquivo:\n",
        "    conteudo = arquivo.readlines()\n",
        "\n",
        "# Imprimir 5 primeiras Linhas\n",
        "print(\"5 primeiras Linhas: \\n\")\n",
        "for conteudo in conteudo[:5]:\n",
        "    print(conteudo, end='')\n"
      ],
      "metadata": {
        "colab": {
          "base_uri": "https://localhost:8080/"
        },
        "outputId": "302d4dd5-7a09-4c7d-ca6c-a9bbfef89065",
        "id": "qX8JgC08nax5"
      },
      "execution_count": null,
      "outputs": [
        {
          "output_type": "stream",
          "name": "stdout",
          "text": [
            "5 primeiras Linhas: \n",
            "\n",
            "1111031110005400 21 112222222222      22 54165  709.29734021  1069.51380170  10828.07\n",
            "1111031110005400 21 212222222222         72178  709.29734021  1069.51380170  10828.07\n",
            "1111031110005400 51 112222222222         70178  709.29734021   933.79176232   2313.61\n",
            "1111031110005400 81 112222222222      22 54158  709.29734021  1160.12790023   2299.82\n",
            "1111031110005400 91 112222222222         74168  709.29734021  1036.09034434   2114.34\n"
          ]
        }
      ]
    },
    {
      "cell_type": "code",
      "source": [
        "with open(caract_dieta, 'r') as arquivo:\n",
        "    conteudo = arquivo.readlines()\n",
        "\n",
        "# descobrir quantas Linhas tem o arquivo\n",
        "cont = 0\n",
        "for linha in conteudo:\n",
        "    cont += 1\n",
        "\n",
        "# descobrir quantos caracteres tem a primeira Linha\n",
        "cont_char = 0\n",
        "for i, linha in enumerate(conteudo[:1], start=1):\n",
        "    num_caracteres = len(linha)\n",
        "\n",
        "# descobrir se o restante das linhas tem a mesma qtd de caracteres da primeira linha\n",
        "primeira_linha = conteudo[0]\n",
        "todas_as_linhas_iguais = all(len(linha) == len(primeira_linha) for linha in conteudo)\n",
        "\n",
        "print(\"Total de linhas: \", cont)\n",
        "print(\"Total de caracteres da primeira linha: \", num_caracteres)\n",
        "print(\"Todas as Linhas tem o mesmo comprimento da primeira? \", todas_as_linhas_iguais)"
      ],
      "metadata": {
        "colab": {
          "base_uri": "https://localhost:8080/"
        },
        "outputId": "c7058fed-8469-44be-8c23-2735b2a9cf14",
        "id": "oE4H17sJnax5"
      },
      "execution_count": null,
      "outputs": [
        {
          "output_type": "stream",
          "name": "stdout",
          "text": [
            "Total de linhas:  46164\n",
            "Total de caracteres da primeira linha:  86\n",
            "Todas as Linhas tem o mesmo comprimento da primeira?  True\n"
          ]
        }
      ]
    },
    {
      "cell_type": "markdown",
      "source": [
        "##Adicionar o Separador"
      ],
      "metadata": {
        "id": "Qut7Rj-Wnax5"
      }
    },
    {
      "cell_type": "code",
      "source": [
        "with open(caract_dieta, 'r') as arquivo_orig:\n",
        "    with open('novo_caract_dieta.csv', 'w') as arquivo_novo:\n",
        "        for linha in arquivo_orig:\n",
        "            nova_linha = (\n",
        "                linha[:2] + ';' + # variável 1\n",
        "                linha[2:6] + ';' + # variável 2\n",
        "                linha[6:7] + ';' + # variável 3\n",
        "                linha[7:16] + ';' + # variável 4\n",
        "                linha[16:18] + ';' + # variável 5\n",
        "                linha[18:19] + ';' + # variável 6\n",
        "                linha[19:21] + ';' + # variável 7\n",
        "                linha[21:22] + ';' + # variável 8\n",
        "                linha[22:23] + ';' + # variável 9\n",
        "                linha[23:24] + ';' + # variável 10\n",
        "                linha[24:25] + ';' + # variável 11\n",
        "                linha[25:26] + ';' + # variável 12\n",
        "                linha[26:27] + ';' + # variável 13\n",
        "                linha[27:28] + ';' + # variável 14\n",
        "                linha[28:29] + ';' + # variável 15\n",
        "                linha[29:30] + ';' + # variável 16\n",
        "                linha[30:31] + ';' + # variável 17\n",
        "                linha[31:32] + ';' + # variável 18\n",
        "                linha[32:33] + ';' + # variável 19\n",
        "                linha[33:34] + ';' + # variável 20\n",
        "                linha[34:35] + ';' + # variável 21\n",
        "                linha[35:36] + ';' + # variável 22\n",
        "                linha[36:37] + ';' + # variável 23\n",
        "                linha[37:38] + ';' + # variável 24\n",
        "                linha[38:39] + ';' + # variável 25\n",
        "                linha[39:40] + ';' + # variável 26\n",
        "                linha[40:43] + ';' + # variável 27\n",
        "                linha[43:46] + ';' + # variável 28\n",
        "                linha[46:60] + ';' + # variável 29\n",
        "                linha[60:75] + ';' + # variável 30\n",
        "                linha[75:] # variável 31\n",
        "            )\n",
        "            nova_linha = nova_linha.replace(' ', '')\n",
        "            arquivo_novo.write(nova_linha)\n",
        "\n",
        "\n"
      ],
      "metadata": {
        "id": "PDIb5t32nax5"
      },
      "execution_count": null,
      "outputs": []
    },
    {
      "cell_type": "markdown",
      "source": [
        "Conferir Processo"
      ],
      "metadata": {
        "id": "XMChTx5enax5"
      }
    },
    {
      "cell_type": "code",
      "source": [
        "novo_caract_dieta = \"/content/novo_caract_dieta.csv\"\n",
        "\n",
        "with open(novo_caract_dieta, 'r') as arquivo_novo:\n",
        "  novo_dom = arquivo_novo.readlines()\n",
        "\n",
        "# imprimir primeira linha\n",
        "for lin in novo_dom[:1]:\n",
        "  print(lin, end=\"\")"
      ],
      "metadata": {
        "colab": {
          "base_uri": "https://localhost:8080/"
        },
        "outputId": "62450f06-fb8d-4ac8-86a0-6ac62e488dc3",
        "id": "mf4Ntrb1nax6"
      },
      "execution_count": null,
      "outputs": [
        {
          "output_type": "stream",
          "name": "stdout",
          "text": [
            "11;1103;1;110005400;2;1;1;1;2;2;2;2;2;2;2;2;2;2;;;;;;;2;2;54;165;709.29734021;1069.51380170;10828.07\n"
          ]
        }
      ]
    },
    {
      "cell_type": "markdown",
      "source": [
        "Conferir Estado do Novo Arquivo"
      ],
      "metadata": {
        "id": "ijHaSyZ7nax6"
      }
    },
    {
      "cell_type": "code",
      "source": [
        "with open(novo_caract_dieta, 'r') as arquivo:\n",
        "    conteudo = arquivo.readlines()\n",
        "\n",
        "# Conferir Numero de Linhas\n",
        "cont = 0\n",
        "for linha in conteudo:\n",
        "    cont += 1\n",
        "\n",
        "# Conferir Total de Caracteres\n",
        "cont_char = 0\n",
        "for i, linha in enumerate(conteudo[:1], start=1):\n",
        "    num_caracteres = len(linha)\n",
        "\n",
        "# Conferir se as Linhas Ainda tem o Mesmo Numero de Caracteres\n",
        "primeira_linha = conteudo[0]\n",
        "todas_as_linhas_iguais = all(len(linha) == len(primeira_linha) for linha in conteudo)\n",
        "\n",
        "print(\"Total de linhas: \", cont)\n",
        "print(\"Total de caracteres da primeira linha: \", num_caracteres)\n",
        "print(\"Todas as Linhas tem o mesmo comprimento da primeira? \", todas_as_linhas_iguais)"
      ],
      "metadata": {
        "colab": {
          "base_uri": "https://localhost:8080/"
        },
        "outputId": "593ffe15-953a-44cd-e6b8-8afbb92d57ed",
        "id": "qR3iBqhenax6"
      },
      "execution_count": null,
      "outputs": [
        {
          "output_type": "stream",
          "name": "stdout",
          "text": [
            "Total de linhas:  46164\n",
            "Total de caracteres da primeira linha:  101\n",
            "Todas as Linhas tem o mesmo comprimento da primeira?  False\n"
          ]
        }
      ]
    },
    {
      "cell_type": "markdown",
      "source": [
        "## Abrir arquivo como DataFrame, para melhor análise"
      ],
      "metadata": {
        "id": "EnKAlVTUnax6"
      }
    },
    {
      "cell_type": "code",
      "source": [
        "import pandas as pd"
      ],
      "metadata": {
        "id": "Tsc2zUWQnax6"
      },
      "execution_count": null,
      "outputs": []
    },
    {
      "cell_type": "code",
      "source": [
        "colunas_caract_dieta = [\n",
        "    \"UF\",\n",
        "    \"ESTRATO_POF\",\n",
        "    \"TIPO_SITUACAO_REG\",\n",
        "    \"COD_UPA\",\n",
        "    \"NUM_DOM\",\n",
        "    \"NUM_UC\",\n",
        "    \"COD_INFORMANTE\",\n",
        "    \"V7101\",\n",
        "    \"V7102\",\n",
        "    \"V71031\",\n",
        "    \"V71032\",\n",
        "    \"V71033\",\n",
        "    \"V71034\",\n",
        "    \"V71035\",\n",
        "    \"V71036\",\n",
        "    \"V71037\",\n",
        "    \"V71038\",\n",
        "    \"V7104\",\n",
        "    \"V71051\",\n",
        "    \"V71052\",\n",
        "    \"V71053\",\n",
        "    \"V71054\",\n",
        "    \"V71055\",\n",
        "    \"V71056\",\n",
        "    \"V71A01\",\n",
        "    \"V71A02\",\n",
        "    \"V72C01\",\n",
        "    \"V72C02\",\n",
        "    \"PESO\",\n",
        "    \"PESO_FINAL\",\n",
        "    \"RENDA_TOTAL\"\n",
        "]\n"
      ],
      "metadata": {
        "id": "zw3Mby0Mnax6"
      },
      "execution_count": null,
      "outputs": []
    },
    {
      "cell_type": "code",
      "source": [
        "df_caract_dieta = pd.read_csv(novo_caract_dieta, sep=';', names = colunas_caract_dieta, dtype='object')"
      ],
      "metadata": {
        "id": "Z7Z9iMLSnax6"
      },
      "execution_count": null,
      "outputs": []
    },
    {
      "cell_type": "code",
      "source": [
        "df_caract_dieta.info()"
      ],
      "metadata": {
        "colab": {
          "base_uri": "https://localhost:8080/"
        },
        "outputId": "c6ec7e81-d654-404e-cae3-7f9c4afb4ecd",
        "id": "k2YHG69Anax6"
      },
      "execution_count": null,
      "outputs": [
        {
          "output_type": "stream",
          "name": "stdout",
          "text": [
            "<class 'pandas.core.frame.DataFrame'>\n",
            "RangeIndex: 46164 entries, 0 to 46163\n",
            "Data columns (total 31 columns):\n",
            " #   Column             Non-Null Count  Dtype \n",
            "---  ------             --------------  ----- \n",
            " 0   UF                 46164 non-null  object\n",
            " 1   ESTRATO_POF        46164 non-null  object\n",
            " 2   TIPO_SITUACAO_REG  46164 non-null  object\n",
            " 3   COD_UPA            46164 non-null  object\n",
            " 4   NUM_DOM            46164 non-null  object\n",
            " 5   NUM_UC             46164 non-null  object\n",
            " 6   COD_INFORMANTE     46164 non-null  object\n",
            " 7   V7101              46164 non-null  object\n",
            " 8   V7102              46164 non-null  object\n",
            " 9   V71031             46164 non-null  object\n",
            " 10  V71032             46164 non-null  object\n",
            " 11  V71033             46164 non-null  object\n",
            " 12  V71034             46164 non-null  object\n",
            " 13  V71035             46164 non-null  object\n",
            " 14  V71036             46164 non-null  object\n",
            " 15  V71037             46164 non-null  object\n",
            " 16  V71038             46164 non-null  object\n",
            " 17  V7104              46164 non-null  object\n",
            " 18  V71051             6475 non-null   object\n",
            " 19  V71052             6475 non-null   object\n",
            " 20  V71053             6475 non-null   object\n",
            " 21  V71054             6475 non-null   object\n",
            " 22  V71055             6475 non-null   object\n",
            " 23  V71056             6475 non-null   object\n",
            " 24  V71A01             24704 non-null  object\n",
            " 25  V71A02             24704 non-null  object\n",
            " 26  V72C01             46164 non-null  object\n",
            " 27  V72C02             46164 non-null  object\n",
            " 28  PESO               46164 non-null  object\n",
            " 29  PESO_FINAL         46164 non-null  object\n",
            " 30  RENDA_TOTAL        46164 non-null  object\n",
            "dtypes: object(31)\n",
            "memory usage: 10.9+ MB\n"
          ]
        }
      ]
    },
    {
      "cell_type": "code",
      "source": [
        "df_caract_dieta.head()"
      ],
      "metadata": {
        "colab": {
          "base_uri": "https://localhost:8080/",
          "height": 255
        },
        "outputId": "2a9ca75f-d5ff-4bd5-baca-da706104e8b4",
        "id": "ZhAywBQbnax6"
      },
      "execution_count": null,
      "outputs": [
        {
          "output_type": "execute_result",
          "data": {
            "text/plain": [
              "   UF  ESTRATO_POF  TIPO_SITUACAO_REG    COD_UPA  NUM_DOM  NUM_UC  \\\n",
              "0  11         1103                  1  110005400        2       1   \n",
              "1  11         1103                  1  110005400        2       1   \n",
              "2  11         1103                  1  110005400        5       1   \n",
              "3  11         1103                  1  110005400        8       1   \n",
              "4  11         1103                  1  110005400        9       1   \n",
              "\n",
              "   COD_INFORMANTE  V7101  V7102  V71031  ...  V71054  V71055  V71056  V71A01  \\\n",
              "0               1      1      2       2  ...                               2   \n",
              "1               2      1      2       2  ...                                   \n",
              "2               1      1      2       2  ...                                   \n",
              "3               1      1      2       2  ...                               2   \n",
              "4               1      1      2       2  ...                                   \n",
              "\n",
              "   V71A02  V72C01  V72C02       PESO   PESO_FINAL RENDA_TOTAL  \n",
              "0       2      54     165  709.29734  1069.513802    10828.07  \n",
              "1              72     178  709.29734  1069.513802    10828.07  \n",
              "2              70     178  709.29734   933.791762     2313.61  \n",
              "3       2      54     158  709.29734  1160.127900     2299.82  \n",
              "4              74     168  709.29734  1036.090344     2114.34  \n",
              "\n",
              "[5 rows x 31 columns]"
            ],
            "text/html": [
              "\n",
              "  <div id=\"df-d7ecc35c-2462-47fb-b0b7-41d2a45e779d\" class=\"colab-df-container\">\n",
              "    <div>\n",
              "<style scoped>\n",
              "    .dataframe tbody tr th:only-of-type {\n",
              "        vertical-align: middle;\n",
              "    }\n",
              "\n",
              "    .dataframe tbody tr th {\n",
              "        vertical-align: top;\n",
              "    }\n",
              "\n",
              "    .dataframe thead th {\n",
              "        text-align: right;\n",
              "    }\n",
              "</style>\n",
              "<table border=\"1\" class=\"dataframe\">\n",
              "  <thead>\n",
              "    <tr style=\"text-align: right;\">\n",
              "      <th></th>\n",
              "      <th>UF</th>\n",
              "      <th>ESTRATO_POF</th>\n",
              "      <th>TIPO_SITUACAO_REG</th>\n",
              "      <th>COD_UPA</th>\n",
              "      <th>NUM_DOM</th>\n",
              "      <th>NUM_UC</th>\n",
              "      <th>COD_INFORMANTE</th>\n",
              "      <th>V7101</th>\n",
              "      <th>V7102</th>\n",
              "      <th>V71031</th>\n",
              "      <th>...</th>\n",
              "      <th>V71054</th>\n",
              "      <th>V71055</th>\n",
              "      <th>V71056</th>\n",
              "      <th>V71A01</th>\n",
              "      <th>V71A02</th>\n",
              "      <th>V72C01</th>\n",
              "      <th>V72C02</th>\n",
              "      <th>PESO</th>\n",
              "      <th>PESO_FINAL</th>\n",
              "      <th>RENDA_TOTAL</th>\n",
              "    </tr>\n",
              "  </thead>\n",
              "  <tbody>\n",
              "    <tr>\n",
              "      <th>0</th>\n",
              "      <td>11</td>\n",
              "      <td>1103</td>\n",
              "      <td>1</td>\n",
              "      <td>110005400</td>\n",
              "      <td>2</td>\n",
              "      <td>1</td>\n",
              "      <td>1</td>\n",
              "      <td>1</td>\n",
              "      <td>2</td>\n",
              "      <td>2</td>\n",
              "      <td>...</td>\n",
              "      <td></td>\n",
              "      <td></td>\n",
              "      <td></td>\n",
              "      <td>2</td>\n",
              "      <td>2</td>\n",
              "      <td>54</td>\n",
              "      <td>165</td>\n",
              "      <td>709.29734</td>\n",
              "      <td>1069.513802</td>\n",
              "      <td>10828.07</td>\n",
              "    </tr>\n",
              "    <tr>\n",
              "      <th>1</th>\n",
              "      <td>11</td>\n",
              "      <td>1103</td>\n",
              "      <td>1</td>\n",
              "      <td>110005400</td>\n",
              "      <td>2</td>\n",
              "      <td>1</td>\n",
              "      <td>2</td>\n",
              "      <td>1</td>\n",
              "      <td>2</td>\n",
              "      <td>2</td>\n",
              "      <td>...</td>\n",
              "      <td></td>\n",
              "      <td></td>\n",
              "      <td></td>\n",
              "      <td></td>\n",
              "      <td></td>\n",
              "      <td>72</td>\n",
              "      <td>178</td>\n",
              "      <td>709.29734</td>\n",
              "      <td>1069.513802</td>\n",
              "      <td>10828.07</td>\n",
              "    </tr>\n",
              "    <tr>\n",
              "      <th>2</th>\n",
              "      <td>11</td>\n",
              "      <td>1103</td>\n",
              "      <td>1</td>\n",
              "      <td>110005400</td>\n",
              "      <td>5</td>\n",
              "      <td>1</td>\n",
              "      <td>1</td>\n",
              "      <td>1</td>\n",
              "      <td>2</td>\n",
              "      <td>2</td>\n",
              "      <td>...</td>\n",
              "      <td></td>\n",
              "      <td></td>\n",
              "      <td></td>\n",
              "      <td></td>\n",
              "      <td></td>\n",
              "      <td>70</td>\n",
              "      <td>178</td>\n",
              "      <td>709.29734</td>\n",
              "      <td>933.791762</td>\n",
              "      <td>2313.61</td>\n",
              "    </tr>\n",
              "    <tr>\n",
              "      <th>3</th>\n",
              "      <td>11</td>\n",
              "      <td>1103</td>\n",
              "      <td>1</td>\n",
              "      <td>110005400</td>\n",
              "      <td>8</td>\n",
              "      <td>1</td>\n",
              "      <td>1</td>\n",
              "      <td>1</td>\n",
              "      <td>2</td>\n",
              "      <td>2</td>\n",
              "      <td>...</td>\n",
              "      <td></td>\n",
              "      <td></td>\n",
              "      <td></td>\n",
              "      <td>2</td>\n",
              "      <td>2</td>\n",
              "      <td>54</td>\n",
              "      <td>158</td>\n",
              "      <td>709.29734</td>\n",
              "      <td>1160.127900</td>\n",
              "      <td>2299.82</td>\n",
              "    </tr>\n",
              "    <tr>\n",
              "      <th>4</th>\n",
              "      <td>11</td>\n",
              "      <td>1103</td>\n",
              "      <td>1</td>\n",
              "      <td>110005400</td>\n",
              "      <td>9</td>\n",
              "      <td>1</td>\n",
              "      <td>1</td>\n",
              "      <td>1</td>\n",
              "      <td>2</td>\n",
              "      <td>2</td>\n",
              "      <td>...</td>\n",
              "      <td></td>\n",
              "      <td></td>\n",
              "      <td></td>\n",
              "      <td></td>\n",
              "      <td></td>\n",
              "      <td>74</td>\n",
              "      <td>168</td>\n",
              "      <td>709.29734</td>\n",
              "      <td>1036.090344</td>\n",
              "      <td>2114.34</td>\n",
              "    </tr>\n",
              "  </tbody>\n",
              "</table>\n",
              "<p>5 rows × 31 columns</p>\n",
              "</div>\n",
              "    <div class=\"colab-df-buttons\">\n",
              "\n",
              "  <div class=\"colab-df-container\">\n",
              "    <button class=\"colab-df-convert\" onclick=\"convertToInteractive('df-d7ecc35c-2462-47fb-b0b7-41d2a45e779d')\"\n",
              "            title=\"Convert this dataframe to an interactive table.\"\n",
              "            style=\"display:none;\">\n",
              "\n",
              "  <svg xmlns=\"http://www.w3.org/2000/svg\" height=\"24px\" viewBox=\"0 -960 960 960\">\n",
              "    <path d=\"M120-120v-720h720v720H120Zm60-500h600v-160H180v160Zm220 220h160v-160H400v160Zm0 220h160v-160H400v160ZM180-400h160v-160H180v160Zm440 0h160v-160H620v160ZM180-180h160v-160H180v160Zm440 0h160v-160H620v160Z\"/>\n",
              "  </svg>\n",
              "    </button>\n",
              "\n",
              "  <style>\n",
              "    .colab-df-container {\n",
              "      display:flex;\n",
              "      gap: 12px;\n",
              "    }\n",
              "\n",
              "    .colab-df-convert {\n",
              "      background-color: #E8F0FE;\n",
              "      border: none;\n",
              "      border-radius: 50%;\n",
              "      cursor: pointer;\n",
              "      display: none;\n",
              "      fill: #1967D2;\n",
              "      height: 32px;\n",
              "      padding: 0 0 0 0;\n",
              "      width: 32px;\n",
              "    }\n",
              "\n",
              "    .colab-df-convert:hover {\n",
              "      background-color: #E2EBFA;\n",
              "      box-shadow: 0px 1px 2px rgba(60, 64, 67, 0.3), 0px 1px 3px 1px rgba(60, 64, 67, 0.15);\n",
              "      fill: #174EA6;\n",
              "    }\n",
              "\n",
              "    .colab-df-buttons div {\n",
              "      margin-bottom: 4px;\n",
              "    }\n",
              "\n",
              "    [theme=dark] .colab-df-convert {\n",
              "      background-color: #3B4455;\n",
              "      fill: #D2E3FC;\n",
              "    }\n",
              "\n",
              "    [theme=dark] .colab-df-convert:hover {\n",
              "      background-color: #434B5C;\n",
              "      box-shadow: 0px 1px 3px 1px rgba(0, 0, 0, 0.15);\n",
              "      filter: drop-shadow(0px 1px 2px rgba(0, 0, 0, 0.3));\n",
              "      fill: #FFFFFF;\n",
              "    }\n",
              "  </style>\n",
              "\n",
              "    <script>\n",
              "      const buttonEl =\n",
              "        document.querySelector('#df-d7ecc35c-2462-47fb-b0b7-41d2a45e779d button.colab-df-convert');\n",
              "      buttonEl.style.display =\n",
              "        google.colab.kernel.accessAllowed ? 'block' : 'none';\n",
              "\n",
              "      async function convertToInteractive(key) {\n",
              "        const element = document.querySelector('#df-d7ecc35c-2462-47fb-b0b7-41d2a45e779d');\n",
              "        const dataTable =\n",
              "          await google.colab.kernel.invokeFunction('convertToInteractive',\n",
              "                                                    [key], {});\n",
              "        if (!dataTable) return;\n",
              "\n",
              "        const docLinkHtml = 'Like what you see? Visit the ' +\n",
              "          '<a target=\"_blank\" href=https://colab.research.google.com/notebooks/data_table.ipynb>data table notebook</a>'\n",
              "          + ' to learn more about interactive tables.';\n",
              "        element.innerHTML = '';\n",
              "        dataTable['output_type'] = 'display_data';\n",
              "        await google.colab.output.renderOutput(dataTable, element);\n",
              "        const docLink = document.createElement('div');\n",
              "        docLink.innerHTML = docLinkHtml;\n",
              "        element.appendChild(docLink);\n",
              "      }\n",
              "    </script>\n",
              "  </div>\n",
              "\n",
              "\n",
              "<div id=\"df-db80ed71-21cc-49ce-8580-e6b96d01d962\">\n",
              "  <button class=\"colab-df-quickchart\" onclick=\"quickchart('df-db80ed71-21cc-49ce-8580-e6b96d01d962')\"\n",
              "            title=\"Suggest charts.\"\n",
              "            style=\"display:none;\">\n",
              "\n",
              "<svg xmlns=\"http://www.w3.org/2000/svg\" height=\"24px\"viewBox=\"0 0 24 24\"\n",
              "     width=\"24px\">\n",
              "    <g>\n",
              "        <path d=\"M19 3H5c-1.1 0-2 .9-2 2v14c0 1.1.9 2 2 2h14c1.1 0 2-.9 2-2V5c0-1.1-.9-2-2-2zM9 17H7v-7h2v7zm4 0h-2V7h2v10zm4 0h-2v-4h2v4z\"/>\n",
              "    </g>\n",
              "</svg>\n",
              "  </button>\n",
              "\n",
              "<style>\n",
              "  .colab-df-quickchart {\n",
              "      --bg-color: #E8F0FE;\n",
              "      --fill-color: #1967D2;\n",
              "      --hover-bg-color: #E2EBFA;\n",
              "      --hover-fill-color: #174EA6;\n",
              "      --disabled-fill-color: #AAA;\n",
              "      --disabled-bg-color: #DDD;\n",
              "  }\n",
              "\n",
              "  [theme=dark] .colab-df-quickchart {\n",
              "      --bg-color: #3B4455;\n",
              "      --fill-color: #D2E3FC;\n",
              "      --hover-bg-color: #434B5C;\n",
              "      --hover-fill-color: #FFFFFF;\n",
              "      --disabled-bg-color: #3B4455;\n",
              "      --disabled-fill-color: #666;\n",
              "  }\n",
              "\n",
              "  .colab-df-quickchart {\n",
              "    background-color: var(--bg-color);\n",
              "    border: none;\n",
              "    border-radius: 50%;\n",
              "    cursor: pointer;\n",
              "    display: none;\n",
              "    fill: var(--fill-color);\n",
              "    height: 32px;\n",
              "    padding: 0;\n",
              "    width: 32px;\n",
              "  }\n",
              "\n",
              "  .colab-df-quickchart:hover {\n",
              "    background-color: var(--hover-bg-color);\n",
              "    box-shadow: 0 1px 2px rgba(60, 64, 67, 0.3), 0 1px 3px 1px rgba(60, 64, 67, 0.15);\n",
              "    fill: var(--button-hover-fill-color);\n",
              "  }\n",
              "\n",
              "  .colab-df-quickchart-complete:disabled,\n",
              "  .colab-df-quickchart-complete:disabled:hover {\n",
              "    background-color: var(--disabled-bg-color);\n",
              "    fill: var(--disabled-fill-color);\n",
              "    box-shadow: none;\n",
              "  }\n",
              "\n",
              "  .colab-df-spinner {\n",
              "    border: 2px solid var(--fill-color);\n",
              "    border-color: transparent;\n",
              "    border-bottom-color: var(--fill-color);\n",
              "    animation:\n",
              "      spin 1s steps(1) infinite;\n",
              "  }\n",
              "\n",
              "  @keyframes spin {\n",
              "    0% {\n",
              "      border-color: transparent;\n",
              "      border-bottom-color: var(--fill-color);\n",
              "      border-left-color: var(--fill-color);\n",
              "    }\n",
              "    20% {\n",
              "      border-color: transparent;\n",
              "      border-left-color: var(--fill-color);\n",
              "      border-top-color: var(--fill-color);\n",
              "    }\n",
              "    30% {\n",
              "      border-color: transparent;\n",
              "      border-left-color: var(--fill-color);\n",
              "      border-top-color: var(--fill-color);\n",
              "      border-right-color: var(--fill-color);\n",
              "    }\n",
              "    40% {\n",
              "      border-color: transparent;\n",
              "      border-right-color: var(--fill-color);\n",
              "      border-top-color: var(--fill-color);\n",
              "    }\n",
              "    60% {\n",
              "      border-color: transparent;\n",
              "      border-right-color: var(--fill-color);\n",
              "    }\n",
              "    80% {\n",
              "      border-color: transparent;\n",
              "      border-right-color: var(--fill-color);\n",
              "      border-bottom-color: var(--fill-color);\n",
              "    }\n",
              "    90% {\n",
              "      border-color: transparent;\n",
              "      border-bottom-color: var(--fill-color);\n",
              "    }\n",
              "  }\n",
              "</style>\n",
              "\n",
              "  <script>\n",
              "    async function quickchart(key) {\n",
              "      const quickchartButtonEl =\n",
              "        document.querySelector('#' + key + ' button');\n",
              "      quickchartButtonEl.disabled = true;  // To prevent multiple clicks.\n",
              "      quickchartButtonEl.classList.add('colab-df-spinner');\n",
              "      try {\n",
              "        const charts = await google.colab.kernel.invokeFunction(\n",
              "            'suggestCharts', [key], {});\n",
              "      } catch (error) {\n",
              "        console.error('Error during call to suggestCharts:', error);\n",
              "      }\n",
              "      quickchartButtonEl.classList.remove('colab-df-spinner');\n",
              "      quickchartButtonEl.classList.add('colab-df-quickchart-complete');\n",
              "    }\n",
              "    (() => {\n",
              "      let quickchartButtonEl =\n",
              "        document.querySelector('#df-db80ed71-21cc-49ce-8580-e6b96d01d962 button');\n",
              "      quickchartButtonEl.style.display =\n",
              "        google.colab.kernel.accessAllowed ? 'block' : 'none';\n",
              "    })();\n",
              "  </script>\n",
              "</div>\n",
              "    </div>\n",
              "  </div>\n"
            ]
          },
          "metadata": {},
          "execution_count": 54
        }
      ]
    },
    {
      "cell_type": "markdown",
      "source": [
        "##Conferir Unicidade da Chave Identificadora"
      ],
      "metadata": {
        "id": "amj8OMu7nax6"
      }
    },
    {
      "cell_type": "code",
      "source": [
        "df_caract_dieta_id = df_caract_dieta.drop_duplicates(subset=['COD_UPA','NUM_DOM','COD_INFORMANTE'],keep='first')"
      ],
      "metadata": {
        "id": "mOJ3m8Qcnax7"
      },
      "execution_count": null,
      "outputs": []
    },
    {
      "cell_type": "code",
      "source": [
        "df_caract_dieta_id.shape[0]"
      ],
      "metadata": {
        "colab": {
          "base_uri": "https://localhost:8080/"
        },
        "outputId": "dc8fd0fc-cca5-41ef-ebd2-85653e01b39e",
        "id": "VpipcO7knax7"
      },
      "execution_count": null,
      "outputs": [
        {
          "output_type": "execute_result",
          "data": {
            "text/plain": [
              "46164"
            ]
          },
          "metadata": {},
          "execution_count": 94
        }
      ]
    },
    {
      "cell_type": "markdown",
      "source": [
        "## Aplicar Regras Normais"
      ],
      "metadata": {
        "id": "UWQV0pk3-rh9"
      }
    },
    {
      "cell_type": "code",
      "source": [
        "df_caract_dieta =  df_caract_dieta.drop(['UF','ESTRATO_POF','TIPO_SITUACAO_REG','PESO','PESO_FINAL','RENDA_TOTAL','NUM_UC'], axis=1)"
      ],
      "metadata": {
        "id": "ZV7TvO50-riE"
      },
      "execution_count": null,
      "outputs": []
    },
    {
      "cell_type": "markdown",
      "source": [
        "## Baixar Arquivo como CSV"
      ],
      "metadata": {
        "id": "qfa0S1iKnax7"
      }
    },
    {
      "cell_type": "code",
      "source": [
        "df_caract_dieta.to_csv('CARACTERISTICA_DIETA.csv', index=False)"
      ],
      "metadata": {
        "id": "ZP2AKySCnax7"
      },
      "execution_count": null,
      "outputs": []
    },
    {
      "cell_type": "markdown",
      "source": [
        "# Tratamento do arquivo \"Consumo Alimentar\""
      ],
      "metadata": {
        "id": "Fy5MMpw_sH-9"
      }
    },
    {
      "cell_type": "markdown",
      "source": [
        "##Abrindo e Analisando o Arquivo"
      ],
      "metadata": {
        "id": "fxoJlFWssH_E"
      }
    },
    {
      "cell_type": "code",
      "source": [
        "consumo_alimentar = '/content/drive/MyDrive/POF (2017 2018)/CONSUMO_ALIMENTAR.txt'\n",
        "\n",
        "with open(consumo_alimentar, 'r') as arquivo:\n",
        "    conteudo = arquivo.readlines()\n",
        "\n",
        "# Imprimir 5 primeiras Linhas\n",
        "print(\"5 primeiras Linhas: \\n\")\n",
        "for conteudo in conteudo[:5]:\n",
        "    print(conteudo, end='')\n"
      ],
      "metadata": {
        "colab": {
          "base_uri": "https://localhost:8080/"
        },
        "outputId": "9da70ef2-3ccd-4947-8649-ef81afd4252a",
        "id": "PYKlH42VsH_E"
      },
      "execution_count": null,
      "outputs": [
        {
          "output_type": "stream",
          "name": "stdout",
          "text": [
            "5 primeiras Linhas: \n",
            "\n",
            "1111011110000016 21 172 1 1.06180001018H   110100000000006199  70.00   70.000C0002A  210.00000000  889.00000000    6.88100000   43.14800000    1.82700000    1.48400000    0.00000000    0.47600000    0.43400000    0.33600000    0.17500000    9.92600000    3.03100000  477.33000000   17.41600000   69.82500000  104.79000000    0.09800000    0.57400000    1.42800000    0.28700000    0.49000000    1.72200000    0.44100000    0.00000000    0.00000000    0.12600000    0.00000000  104.68500000 1316.60944623  2390.48652303   3855.34Quarta-Feira   2\n",
            "1111011110000016 21 172 1      79016028H   11                          14.000C0008D   89.60000000  368.48000000    0.00000000    0.00000000    0.00000000    9.95960000    0.00000000    2.69220000    2.22180000    3.52380000    0.49700000    0.61740000    0.00980000  113.84520000    0.14140000    0.84420000    1.49240000    0.00000000    0.00000000    0.00000000    0.00000000    0.00000000    0.00000000    0.00000000    0.00000000    0.00000000    0.79240000    0.00000000    0.13580000 1316.60944623  2390.48652303   3855.34Quarta-Feira   2\n",
            "1111011110000016 21 172 2 1.01385013038H   110010000000001399 150.00  150.000C0081H   54.00000000  228.00000000    2.59500000    5.44500000    0.00000000    2.46000000    9.28500000    1.51500000    0.73500000    0.09000000    0.00000000   82.33500000    0.06000000   48.43500000   13.08000000   67.18500000  193.32000000    0.01500000    0.28500000   36.60000000    0.04500000    0.22500000    1.26000000    0.00000000    0.28500000    0.00000000    0.07500000    0.00000000    5.08500000 1316.60944623  2390.48652303   3855.34Quarta-Feira   2\n",
            "1111011110000016 21 172 2      69066028H   11                          15.000C0007K   59.55000000  252.90000000    0.02400000   14.85450000    0.00000000    0.00000000    0.00000000    0.00000000    0.00000000    0.00000000    0.00000000    0.52500000    0.01650000    1.82400000    0.08250000    0.00000000    0.95250000    0.00000000    0.00000000    0.00000000    0.00000000    0.00000000    0.00000000    0.00000000    0.00000000    0.00000000    0.00000000    0.00000000    0.00000000 1316.60944623  2390.48652303   3855.34Quarta-Feira   2\n",
            "1111011110000016 21 172 3 2.0 7630010112H  21000000000000 799  45.00   90.000C0209A  124.20000000  524.70000000    2.16000000   26.21700000    1.14300000    1.43100000    0.00000000    0.29700000    0.29700000    0.69300000    0.00900000    5.24700000    0.29700000  170.38800000   21.26700000   20.09700000   28.52100000    0.13500000    0.45900000    0.00000000    0.00000000    0.00000000    0.00000000    0.00900000    0.00000000    0.00000000    0.16200000    0.40500000    2.41200000 1316.60944623  2390.48652303   3855.34Quarta-Feira   2\n"
          ]
        }
      ]
    },
    {
      "cell_type": "code",
      "source": [
        "with open(consumo_alimentar, 'r') as arquivo:\n",
        "    conteudo = arquivo.readlines()\n",
        "\n",
        "# descobrir quantas Linhas tem o arquivo\n",
        "cont = 0\n",
        "for linha in conteudo:\n",
        "    cont += 1\n",
        "\n",
        "# descobrir quantos caracteres tem a primeira Linha\n",
        "cont_char = 0\n",
        "for i, linha in enumerate(conteudo[:1], start=1):\n",
        "    num_caracteres = len(linha)\n",
        "\n",
        "# descobrir se o restante das linhas tem a mesma qtd de caracteres da primeira linha\n",
        "primeira_linha = conteudo[0]\n",
        "todas_as_linhas_iguais = all(len(linha) == len(primeira_linha) for linha in conteudo)\n",
        "\n",
        "print(\"Total de linhas: \", cont)\n",
        "print(\"Total de caracteres da primeira linha: \", num_caracteres)\n",
        "print(\"Todas as Linhas tem o mesmo comprimento da primeira? \", todas_as_linhas_iguais)"
      ],
      "metadata": {
        "colab": {
          "base_uri": "https://localhost:8080/"
        },
        "outputId": "b0c3d194-6ddb-43c3-ddb2-cec50d0b40c8",
        "id": "6WKPCyF2sH_E"
      },
      "execution_count": null,
      "outputs": [
        {
          "output_type": "stream",
          "name": "stdout",
          "text": [
            "Total de linhas:  1175390\n",
            "Total de caracteres da primeira linha:  545\n",
            "Todas as Linhas tem o mesmo comprimento da primeira?  True\n"
          ]
        }
      ]
    },
    {
      "cell_type": "markdown",
      "source": [
        "##Adicionar o Separador"
      ],
      "metadata": {
        "id": "SzcWdG_msH_E"
      }
    },
    {
      "cell_type": "code",
      "source": [
        "with open(consumo_alimentar, 'r') as arquivo_orig:\n",
        "    with open('novo_consumo_alimentar.csv', 'w') as arquivo_novo:\n",
        "        for linha in arquivo_orig:\n",
        "            nova_linha = (\n",
        "                linha[:2] + ';' + # variável 1\n",
        "                linha[2:6] + ';' + # variável 2\n",
        "                linha[6:7] + ';' + # variável 3\n",
        "                linha[7:16] + ';' + # variável 4\n",
        "                linha[16:18] + ';' + # variável 5\n",
        "                linha[18:19] + ';' + # variável 6\n",
        "                linha[19:21] + ';' + # variável 7\n",
        "                linha[21:23] + ';' + # variável 8\n",
        "                linha[23:25] + ';' + # variável 9\n",
        "                linha[25:29] + ';' + # variável 10\n",
        "                linha[29:31] + ';' + # variável 11\n",
        "                linha[31:38] + ';' + # variável 12\n",
        "                linha[38:41] + ';' + # variável 13\n",
        "                linha[41:43] + ';' + # variável 14\n",
        "                linha[43:44] + ';' + # variável 15\n",
        "                linha[44:45] + ';' + # variável 16\n",
        "                linha[45:46] + ';' + # variável 17\n",
        "                linha[46:47] + ';' + # variável 18\n",
        "                linha[47:48] + ';' + # variável 19\n",
        "                linha[48:49] + ';' + # variável 20\n",
        "                linha[49:50] + ';' + # variável 21\n",
        "                linha[50:51] + ';' + # variável 22\n",
        "                linha[51:52] + ';' + # variável 23\n",
        "                linha[52:53] + ';' + # variável 24\n",
        "                linha[53:54] + ';' + # variável 25\n",
        "                linha[54:55] + ';' + # variável 26\n",
        "                linha[55:56] + ';' + # variável 27\n",
        "                linha[56:57] + ';' + # variável 28\n",
        "                linha[57:59] + ';' + # variável 29\n",
        "                linha[59:61] + ';' + # variável 30\n",
        "                linha[61:68] + ';' + # variável 31\n",
        "                linha[68:77] + ';' + # variável 32\n",
        "                linha[77:83] + ';' + # variável 33\n",
        "                linha[83:97] + ';' + # variável 34\n",
        "                linha[97:111] + ';' + # variável 35\n",
        "                linha[111:125] + ';' + # variável 36\n",
        "                linha[125:139] + ';' + # variável 37\n",
        "                linha[139:153] + ';' + # variável 38\n",
        "                linha[153:167] + ';' + # variável 39\n",
        "                linha[167:181] + ';' + # variável 40\n",
        "                linha[181:195] + ';' + # variável 41\n",
        "                linha[195:209] + ';' + # variável 42\n",
        "                linha[209:223] + ';' + # variável 43\n",
        "                linha[223:237] + ';' + # variável 44\n",
        "                linha[237:251] + ';' + # variável 45\n",
        "                linha[251:265] + ';' + # variável 46\n",
        "                linha[265:279] + ';' + # variável 47\n",
        "                linha[279:293] + ';' + # variável 48\n",
        "                linha[293:307] + ';' + # variável 49\n",
        "                linha[307:321] + ';' + # variável 50\n",
        "                linha[321:335] + ';' + # variável 51\n",
        "                linha[335:349] + ';' + # variável 52\n",
        "                linha[349:363] + ';' + # variável 53\n",
        "                linha[363:377] + ';' + # variável 54\n",
        "                linha[377:391] + ';' + # variável 55\n",
        "                linha[391:405] + ';' + # variável 56\n",
        "                linha[405:419] + ';' + # variável 57\n",
        "                linha[419:433] + ';' + # variável 58\n",
        "                linha[433:447] + ';' + # variável 59\n",
        "                linha[448:461] + ';' + # variável 60\n",
        "                linha[461:475] + ';' + # variável 61\n",
        "                linha[475:489] + ';' + # variável 62\n",
        "                linha[489:503] + ';' + # variável 63\n",
        "                linha[503:518] + ';' + # variável 64\n",
        "                linha[518:528] + ';' + # variável 65\n",
        "                linha[528:543] + ';' + # variável 66\n",
        "                linha[543:] # variável 67\n",
        "            )\n",
        "            nova_linha = nova_linha.replace(' ', '')\n",
        "            arquivo_novo.write(nova_linha)\n",
        "\n",
        "\n"
      ],
      "metadata": {
        "id": "wLZGDV22sH_E"
      },
      "execution_count": null,
      "outputs": []
    },
    {
      "cell_type": "markdown",
      "source": [
        "Conferir Processo"
      ],
      "metadata": {
        "id": "nOVWbQLRsH_E"
      }
    },
    {
      "cell_type": "code",
      "source": [
        "novo_consumo_alimentar = \"/content/novo_consumo_alimentar.csv\"\n",
        "\n",
        "with open(novo_consumo_alimentar, 'r') as arquivo_novo:\n",
        "  novo_dom = arquivo_novo.readlines()\n",
        "\n",
        "# imprimir primeira linha\n",
        "for lin in novo_dom[:1]:\n",
        "  print(lin, end=\"\")"
      ],
      "metadata": {
        "colab": {
          "base_uri": "https://localhost:8080/"
        },
        "outputId": "624e4067-12a9-42fd-a18e-f0f9c34d85e9",
        "id": "ZV6DF1AUsH_E"
      },
      "execution_count": null,
      "outputs": [
        {
          "output_type": "stream",
          "name": "stdout",
          "text": [
            "11;1101;1;110000016;2;1;1;72;1;1.0;61;8000101;8H;;1;1;0;1;0;0;0;0;0;0;0;0;0;0;61;99;70.00;70.000;C0002A;210.00000000;889.00000000;6.88100000;43.14800000;1.82700000;1.48400000;0.00000000;0.47600000;0.43400000;0.33600000;0.17500000;9.92600000;3.03100000;477.33000000;17.41600000;69.82500000;104.79000000;0.09800000;0.57400000;1.42800000;0.28700000;0.49000000;1.72200000;0.44100000;0.00000000;0.00000000;0.12600000;0.00000000;104.68500000;1316.60944623;2390.48652303;3855.34;Quarta-Feira;2\n"
          ]
        }
      ]
    },
    {
      "cell_type": "markdown",
      "source": [
        "Conferir Estado do Novo Arquivo"
      ],
      "metadata": {
        "id": "XgjdzlyYsH_F"
      }
    },
    {
      "cell_type": "code",
      "source": [
        "with open(novo_consumo_alimentar, 'r') as arquivo:\n",
        "    conteudo = arquivo.readlines()\n",
        "\n",
        "# Conferir Numero de Linhas\n",
        "cont = 0\n",
        "for linha in conteudo:\n",
        "    cont += 1\n",
        "\n",
        "# Conferir Total de Caracteres\n",
        "cont_char = 0\n",
        "for i, linha in enumerate(conteudo[:1], start=1):\n",
        "    num_caracteres = len(linha)\n",
        "\n",
        "# Conferir se as Linhas Ainda tem o Mesmo Numero de Caracteres\n",
        "primeira_linha = conteudo[0]\n",
        "todas_as_linhas_iguais = all(len(linha) == len(primeira_linha) for linha in conteudo)\n",
        "\n",
        "print(\"Total de linhas: \", cont)\n",
        "print(\"Total de caracteres da primeira linha: \", num_caracteres)\n",
        "print(\"Todas as Linhas tem o mesmo comprimento da primeira? \", todas_as_linhas_iguais)"
      ],
      "metadata": {
        "colab": {
          "base_uri": "https://localhost:8080/"
        },
        "outputId": "131c0150-f154-4868-c25f-bcd6bbcd3eb6",
        "id": "LQ0cbIhSsH_F"
      },
      "execution_count": null,
      "outputs": [
        {
          "output_type": "stream",
          "name": "stdout",
          "text": [
            "Total de linhas:  1175390\n",
            "Total de caracteres da primeira linha:  487\n",
            "Todas as Linhas tem o mesmo comprimento da primeira?  False\n"
          ]
        }
      ]
    },
    {
      "cell_type": "markdown",
      "source": [
        "## Abrir arquivo como DataFrame, para melhor análise"
      ],
      "metadata": {
        "id": "mG_XIOR3sH_F"
      }
    },
    {
      "cell_type": "code",
      "source": [
        "colunas_consumo_alimentar = [\n",
        "    \"UF\", \"ESTRATO_POF\", \"TIPO_SITUACAO_REG\", \"COD_UPA\", \"NUM_DOM\", \"NUM_UC\", \"COD_INFORMANTE\",\n",
        "    \"QUADRO\", \"SEQ\", \"V9005\", \"V9007\", \"V9001\", \"V9015\", \"V9016\", \"V9017\", \"V9018\", \"V9019\",\n",
        "    \"V9020\", \"V9021\", \"V9022\", \"V9023\", \"V9024\", \"V9025\", \"V9026\", \"V9027\", \"V9028\", \"V9029\",\n",
        "    \"V9030\", \"COD_UNIDADE_MEDIDA_FINAL\", \"COD_PREPARACAO_FINAL\", \"GRAMATURA1\", \"QTD\", \"COD_TBCA\",\n",
        "    \"ENERGIA_KCAL\", \"ENERGIA_KJ\", \"PTN\", \"CHOTOT\", \"FIBRA\", \"LIP\", \"COLEST\", \"AGSAT\", \"AGMONO\",\n",
        "    \"AGPOLI\", \"AGTRANS\", \"CALCIO\", \"FERRO\", \"SODIO\", \"MAGNESIO\", \"FOSFORO\", \"POTASSIO\", \"COBRE\",\n",
        "    \"ZINCO\", \"VITA_RAE\", \"TIAMINA\", \"RIBOFLAVINA\", \"NIACINA\", \"PIRIDOXAMINA\", \"COBALAMINA\",\n",
        "    \"VITD\", \"VITE\", \"VITC\", \"FOLATO\", \"PESO\", \"PESO_FINAL\", \"RENDA_TOTAL\", \"DIA_SEMANA\", \"DIA_ATIPICO\"\n",
        "]\n"
      ],
      "metadata": {
        "id": "x5ROnwFYsH_F"
      },
      "execution_count": null,
      "outputs": []
    },
    {
      "cell_type": "code",
      "source": [
        "df_consumo_alimentar = pd.read_csv(novo_consumo_alimentar, sep=';', names = colunas_consumo_alimentar, dtype='object')"
      ],
      "metadata": {
        "id": "NoeWP5AZsH_F"
      },
      "execution_count": null,
      "outputs": []
    },
    {
      "cell_type": "code",
      "source": [
        "df_consumo_alimentar.info()"
      ],
      "metadata": {
        "colab": {
          "base_uri": "https://localhost:8080/"
        },
        "outputId": "14fc7556-7afd-4edd-c46a-08308b4834cf",
        "id": "KnTdQ4BzsH_F"
      },
      "execution_count": null,
      "outputs": [
        {
          "output_type": "stream",
          "name": "stdout",
          "text": [
            "<class 'pandas.core.frame.DataFrame'>\n",
            "RangeIndex: 1175390 entries, 0 to 1175389\n",
            "Data columns (total 67 columns):\n",
            " #   Column                    Non-Null Count    Dtype \n",
            "---  ------                    --------------    ----- \n",
            " 0   UF                        1175390 non-null  object\n",
            " 1   ESTRATO_POF               1175390 non-null  object\n",
            " 2   TIPO_SITUACAO_REG         1175390 non-null  object\n",
            " 3   COD_UPA                   1175390 non-null  object\n",
            " 4   NUM_DOM                   1175390 non-null  object\n",
            " 5   NUM_UC                    1175390 non-null  object\n",
            " 6   COD_INFORMANTE            1175390 non-null  object\n",
            " 7   QUADRO                    1175390 non-null  object\n",
            " 8   SEQ                       1175390 non-null  object\n",
            " 9   V9005                     1007126 non-null  object\n",
            " 10  V9007                     1007126 non-null  object\n",
            " 11  V9001                     1175390 non-null  object\n",
            " 12  V9015                     1175390 non-null  object\n",
            " 13  V9016                     176499 non-null   object\n",
            " 14  V9017                     1175390 non-null  object\n",
            " 15  V9018                     1175390 non-null  object\n",
            " 16  V9019                     1007126 non-null  object\n",
            " 17  V9020                     1007126 non-null  object\n",
            " 18  V9021                     1007126 non-null  object\n",
            " 19  V9022                     1007126 non-null  object\n",
            " 20  V9023                     1007126 non-null  object\n",
            " 21  V9024                     1007126 non-null  object\n",
            " 22  V9025                     1007126 non-null  object\n",
            " 23  V9026                     1007126 non-null  object\n",
            " 24  V9027                     1007126 non-null  object\n",
            " 25  V9028                     1007126 non-null  object\n",
            " 26  V9029                     1007126 non-null  object\n",
            " 27  V9030                     1007126 non-null  object\n",
            " 28  COD_UNIDADE_MEDIDA_FINAL  1007126 non-null  object\n",
            " 29  COD_PREPARACAO_FINAL      1007126 non-null  object\n",
            " 30  GRAMATURA1                1007126 non-null  object\n",
            " 31  QTD                       1175390 non-null  object\n",
            " 32  COD_TBCA                  1175390 non-null  object\n",
            " 33  ENERGIA_KCAL              1175390 non-null  object\n",
            " 34  ENERGIA_KJ                1175390 non-null  object\n",
            " 35  PTN                       1175390 non-null  object\n",
            " 36  CHOTOT                    1175390 non-null  object\n",
            " 37  FIBRA                     1175390 non-null  object\n",
            " 38  LIP                       1175390 non-null  object\n",
            " 39  COLEST                    1175390 non-null  object\n",
            " 40  AGSAT                     1175390 non-null  object\n",
            " 41  AGMONO                    1175390 non-null  object\n",
            " 42  AGPOLI                    1175390 non-null  object\n",
            " 43  AGTRANS                   1175390 non-null  object\n",
            " 44  CALCIO                    1175390 non-null  object\n",
            " 45  FERRO                     1175390 non-null  object\n",
            " 46  SODIO                     1175390 non-null  object\n",
            " 47  MAGNESIO                  1175390 non-null  object\n",
            " 48  FOSFORO                   1175390 non-null  object\n",
            " 49  POTASSIO                  1175390 non-null  object\n",
            " 50  COBRE                     1175390 non-null  object\n",
            " 51  ZINCO                     1175390 non-null  object\n",
            " 52  VITA_RAE                  1175390 non-null  object\n",
            " 53  TIAMINA                   1175390 non-null  object\n",
            " 54  RIBOFLAVINA               1175390 non-null  object\n",
            " 55  NIACINA                   1175390 non-null  object\n",
            " 56  PIRIDOXAMINA              1175390 non-null  object\n",
            " 57  COBALAMINA                1175390 non-null  object\n",
            " 58  VITD                      1175390 non-null  object\n",
            " 59  VITE                      1175390 non-null  object\n",
            " 60  VITC                      1175390 non-null  object\n",
            " 61  FOLATO                    1175390 non-null  object\n",
            " 62  PESO                      1175390 non-null  object\n",
            " 63  PESO_FINAL                1175390 non-null  object\n",
            " 64  RENDA_TOTAL               1175390 non-null  object\n",
            " 65  DIA_SEMANA                1175390 non-null  object\n",
            " 66  DIA_ATIPICO               1175390 non-null  object\n",
            "dtypes: object(67)\n",
            "memory usage: 600.8+ MB\n"
          ]
        }
      ]
    },
    {
      "cell_type": "code",
      "source": [
        "df_consumo_alimentar.head().T"
      ],
      "metadata": {
        "colab": {
          "base_uri": "https://localhost:8080/",
          "height": 1000
        },
        "outputId": "c4a60db8-1951-41e6-c18f-765e5ae0c73b",
        "id": "F97_DoSZsH_F"
      },
      "execution_count": null,
      "outputs": [
        {
          "output_type": "execute_result",
          "data": {
            "text/plain": [
              "                                     0             1             2  \\\n",
              "COD_UPA                      110000016     110000016     110000016   \n",
              "NUM_DOM                              2             2             2   \n",
              "COD_INFORMANTE                       1             1             1   \n",
              "QUADRO                              72            72            72   \n",
              "SEQ                                  1             1             2   \n",
              "V9005                              1.0           NaN           1.0   \n",
              "V9007                               61           NaN            13   \n",
              "V9001                          8000101       7901602       8501303   \n",
              "V9015                               8H            8H            8H   \n",
              "V9016                              NaN           NaN           NaN   \n",
              "V9017                                1             1             1   \n",
              "V9018                                1             1             1   \n",
              "V9019                                0           NaN             0   \n",
              "V9020                                1           NaN             0   \n",
              "V9021                                0           NaN             1   \n",
              "V9022                                0           NaN             0   \n",
              "V9023                                0           NaN             0   \n",
              "V9024                                0           NaN             0   \n",
              "V9025                                0           NaN             0   \n",
              "V9026                                0           NaN             0   \n",
              "V9027                                0           NaN             0   \n",
              "V9028                                0           NaN             0   \n",
              "V9029                                0           NaN             0   \n",
              "V9030                                0           NaN             0   \n",
              "COD_UNIDADE_MEDIDA_FINAL            61           NaN            13   \n",
              "COD_PREPARACAO_FINAL                99           NaN            99   \n",
              "GRAMATURA1                       70.00           NaN        150.00   \n",
              "QTD                             70.000        14.000       150.000   \n",
              "COD_TBCA                        C0002A        C0008D        C0081H   \n",
              "ENERGIA_KCAL              210.00000000   89.60000000   54.00000000   \n",
              "ENERGIA_KJ                889.00000000  368.48000000  228.00000000   \n",
              "PTN                         6.88100000    0.00000000    2.59500000   \n",
              "CHOTOT                     43.14800000    0.00000000    5.44500000   \n",
              "FIBRA                       1.82700000    0.00000000    0.00000000   \n",
              "LIP                         1.48400000    9.95960000    2.46000000   \n",
              "COLEST                      0.00000000    0.00000000    9.28500000   \n",
              "AGSAT                       0.47600000    2.69220000    1.51500000   \n",
              "AGMONO                      0.43400000    2.22180000    0.73500000   \n",
              "AGPOLI                      0.33600000    3.52380000    0.09000000   \n",
              "AGTRANS                     0.17500000    0.49700000    0.00000000   \n",
              "CALCIO                      9.92600000    0.61740000   82.33500000   \n",
              "FERRO                       3.03100000    0.00980000    0.06000000   \n",
              "SODIO                     477.33000000  113.84520000   48.43500000   \n",
              "MAGNESIO                   17.41600000    0.14140000   13.08000000   \n",
              "FOSFORO                    69.82500000    0.84420000   67.18500000   \n",
              "POTASSIO                  104.79000000    1.49240000  193.32000000   \n",
              "COBRE                       0.09800000    0.00000000    0.01500000   \n",
              "ZINCO                       0.57400000    0.00000000    0.28500000   \n",
              "VITA_RAE                    1.42800000    0.00000000   36.60000000   \n",
              "TIAMINA                     0.28700000    0.00000000    0.04500000   \n",
              "RIBOFLAVINA                 0.49000000    0.00000000    0.22500000   \n",
              "NIACINA                     1.72200000    0.00000000    1.26000000   \n",
              "PIRIDOXAMINA                0.44100000    0.00000000    0.00000000   \n",
              "COBALAMINA                  0.00000000    0.00000000    0.28500000   \n",
              "VITD                        0.00000000    0.00000000    0.00000000   \n",
              "VITE                        0.12600000    0.79240000    0.07500000   \n",
              "VITC                        0.00000000    0.00000000    0.00000000   \n",
              "FOLATO                    104.68500000    0.13580000    5.08500000   \n",
              "DIA_SEMANA                Quarta-Feira  Quarta-Feira  Quarta-Feira   \n",
              "DIA_ATIPICO                          2             2             2   \n",
              "\n",
              "                                     3             4  \n",
              "COD_UPA                      110000016     110000016  \n",
              "NUM_DOM                              2             2  \n",
              "COD_INFORMANTE                       1             1  \n",
              "QUADRO                              72            72  \n",
              "SEQ                                  2             3  \n",
              "V9005                              NaN           2.0  \n",
              "V9007                              NaN             7  \n",
              "V9001                          6906602       6300101  \n",
              "V9015                               8H           12H  \n",
              "V9016                              NaN           NaN  \n",
              "V9017                                1             2  \n",
              "V9018                                1             1  \n",
              "V9019                              NaN             0  \n",
              "V9020                              NaN             0  \n",
              "V9021                              NaN             0  \n",
              "V9022                              NaN             0  \n",
              "V9023                              NaN             0  \n",
              "V9024                              NaN             0  \n",
              "V9025                              NaN             0  \n",
              "V9026                              NaN             0  \n",
              "V9027                              NaN             0  \n",
              "V9028                              NaN             0  \n",
              "V9029                              NaN             0  \n",
              "V9030                              NaN             0  \n",
              "COD_UNIDADE_MEDIDA_FINAL           NaN             7  \n",
              "COD_PREPARACAO_FINAL               NaN            99  \n",
              "GRAMATURA1                         NaN         45.00  \n",
              "QTD                             15.000        90.000  \n",
              "COD_TBCA                        C0007K        C0209A  \n",
              "ENERGIA_KCAL               59.55000000  124.20000000  \n",
              "ENERGIA_KJ                252.90000000  524.70000000  \n",
              "PTN                         0.02400000    2.16000000  \n",
              "CHOTOT                     14.85450000   26.21700000  \n",
              "FIBRA                       0.00000000    1.14300000  \n",
              "LIP                         0.00000000    1.43100000  \n",
              "COLEST                      0.00000000    0.00000000  \n",
              "AGSAT                       0.00000000    0.29700000  \n",
              "AGMONO                      0.00000000    0.29700000  \n",
              "AGPOLI                      0.00000000    0.69300000  \n",
              "AGTRANS                     0.00000000    0.00900000  \n",
              "CALCIO                      0.52500000    5.24700000  \n",
              "FERRO                       0.01650000    0.29700000  \n",
              "SODIO                       1.82400000  170.38800000  \n",
              "MAGNESIO                    0.08250000   21.26700000  \n",
              "FOSFORO                     0.00000000   20.09700000  \n",
              "POTASSIO                    0.95250000   28.52100000  \n",
              "COBRE                       0.00000000    0.13500000  \n",
              "ZINCO                       0.00000000    0.45900000  \n",
              "VITA_RAE                    0.00000000    0.00000000  \n",
              "TIAMINA                     0.00000000    0.00000000  \n",
              "RIBOFLAVINA                 0.00000000    0.00000000  \n",
              "NIACINA                     0.00000000    0.00000000  \n",
              "PIRIDOXAMINA                0.00000000    0.00900000  \n",
              "COBALAMINA                  0.00000000    0.00000000  \n",
              "VITD                        0.00000000    0.00000000  \n",
              "VITE                        0.00000000    0.16200000  \n",
              "VITC                        0.00000000    0.40500000  \n",
              "FOLATO                      0.00000000    2.41200000  \n",
              "DIA_SEMANA                Quarta-Feira  Quarta-Feira  \n",
              "DIA_ATIPICO                          2             2  "
            ],
            "text/html": [
              "\n",
              "  <div id=\"df-91aa9567-6fb7-4559-b414-8704014e4e0b\" class=\"colab-df-container\">\n",
              "    <div>\n",
              "<style scoped>\n",
              "    .dataframe tbody tr th:only-of-type {\n",
              "        vertical-align: middle;\n",
              "    }\n",
              "\n",
              "    .dataframe tbody tr th {\n",
              "        vertical-align: top;\n",
              "    }\n",
              "\n",
              "    .dataframe thead th {\n",
              "        text-align: right;\n",
              "    }\n",
              "</style>\n",
              "<table border=\"1\" class=\"dataframe\">\n",
              "  <thead>\n",
              "    <tr style=\"text-align: right;\">\n",
              "      <th></th>\n",
              "      <th>0</th>\n",
              "      <th>1</th>\n",
              "      <th>2</th>\n",
              "      <th>3</th>\n",
              "      <th>4</th>\n",
              "    </tr>\n",
              "  </thead>\n",
              "  <tbody>\n",
              "    <tr>\n",
              "      <th>COD_UPA</th>\n",
              "      <td>110000016</td>\n",
              "      <td>110000016</td>\n",
              "      <td>110000016</td>\n",
              "      <td>110000016</td>\n",
              "      <td>110000016</td>\n",
              "    </tr>\n",
              "    <tr>\n",
              "      <th>NUM_DOM</th>\n",
              "      <td>2</td>\n",
              "      <td>2</td>\n",
              "      <td>2</td>\n",
              "      <td>2</td>\n",
              "      <td>2</td>\n",
              "    </tr>\n",
              "    <tr>\n",
              "      <th>COD_INFORMANTE</th>\n",
              "      <td>1</td>\n",
              "      <td>1</td>\n",
              "      <td>1</td>\n",
              "      <td>1</td>\n",
              "      <td>1</td>\n",
              "    </tr>\n",
              "    <tr>\n",
              "      <th>QUADRO</th>\n",
              "      <td>72</td>\n",
              "      <td>72</td>\n",
              "      <td>72</td>\n",
              "      <td>72</td>\n",
              "      <td>72</td>\n",
              "    </tr>\n",
              "    <tr>\n",
              "      <th>SEQ</th>\n",
              "      <td>1</td>\n",
              "      <td>1</td>\n",
              "      <td>2</td>\n",
              "      <td>2</td>\n",
              "      <td>3</td>\n",
              "    </tr>\n",
              "    <tr>\n",
              "      <th>V9005</th>\n",
              "      <td>1.0</td>\n",
              "      <td>NaN</td>\n",
              "      <td>1.0</td>\n",
              "      <td>NaN</td>\n",
              "      <td>2.0</td>\n",
              "    </tr>\n",
              "    <tr>\n",
              "      <th>V9007</th>\n",
              "      <td>61</td>\n",
              "      <td>NaN</td>\n",
              "      <td>13</td>\n",
              "      <td>NaN</td>\n",
              "      <td>7</td>\n",
              "    </tr>\n",
              "    <tr>\n",
              "      <th>V9001</th>\n",
              "      <td>8000101</td>\n",
              "      <td>7901602</td>\n",
              "      <td>8501303</td>\n",
              "      <td>6906602</td>\n",
              "      <td>6300101</td>\n",
              "    </tr>\n",
              "    <tr>\n",
              "      <th>V9015</th>\n",
              "      <td>8H</td>\n",
              "      <td>8H</td>\n",
              "      <td>8H</td>\n",
              "      <td>8H</td>\n",
              "      <td>12H</td>\n",
              "    </tr>\n",
              "    <tr>\n",
              "      <th>V9016</th>\n",
              "      <td>NaN</td>\n",
              "      <td>NaN</td>\n",
              "      <td>NaN</td>\n",
              "      <td>NaN</td>\n",
              "      <td>NaN</td>\n",
              "    </tr>\n",
              "    <tr>\n",
              "      <th>V9017</th>\n",
              "      <td>1</td>\n",
              "      <td>1</td>\n",
              "      <td>1</td>\n",
              "      <td>1</td>\n",
              "      <td>2</td>\n",
              "    </tr>\n",
              "    <tr>\n",
              "      <th>V9018</th>\n",
              "      <td>1</td>\n",
              "      <td>1</td>\n",
              "      <td>1</td>\n",
              "      <td>1</td>\n",
              "      <td>1</td>\n",
              "    </tr>\n",
              "    <tr>\n",
              "      <th>V9019</th>\n",
              "      <td>0</td>\n",
              "      <td>NaN</td>\n",
              "      <td>0</td>\n",
              "      <td>NaN</td>\n",
              "      <td>0</td>\n",
              "    </tr>\n",
              "    <tr>\n",
              "      <th>V9020</th>\n",
              "      <td>1</td>\n",
              "      <td>NaN</td>\n",
              "      <td>0</td>\n",
              "      <td>NaN</td>\n",
              "      <td>0</td>\n",
              "    </tr>\n",
              "    <tr>\n",
              "      <th>V9021</th>\n",
              "      <td>0</td>\n",
              "      <td>NaN</td>\n",
              "      <td>1</td>\n",
              "      <td>NaN</td>\n",
              "      <td>0</td>\n",
              "    </tr>\n",
              "    <tr>\n",
              "      <th>V9022</th>\n",
              "      <td>0</td>\n",
              "      <td>NaN</td>\n",
              "      <td>0</td>\n",
              "      <td>NaN</td>\n",
              "      <td>0</td>\n",
              "    </tr>\n",
              "    <tr>\n",
              "      <th>V9023</th>\n",
              "      <td>0</td>\n",
              "      <td>NaN</td>\n",
              "      <td>0</td>\n",
              "      <td>NaN</td>\n",
              "      <td>0</td>\n",
              "    </tr>\n",
              "    <tr>\n",
              "      <th>V9024</th>\n",
              "      <td>0</td>\n",
              "      <td>NaN</td>\n",
              "      <td>0</td>\n",
              "      <td>NaN</td>\n",
              "      <td>0</td>\n",
              "    </tr>\n",
              "    <tr>\n",
              "      <th>V9025</th>\n",
              "      <td>0</td>\n",
              "      <td>NaN</td>\n",
              "      <td>0</td>\n",
              "      <td>NaN</td>\n",
              "      <td>0</td>\n",
              "    </tr>\n",
              "    <tr>\n",
              "      <th>V9026</th>\n",
              "      <td>0</td>\n",
              "      <td>NaN</td>\n",
              "      <td>0</td>\n",
              "      <td>NaN</td>\n",
              "      <td>0</td>\n",
              "    </tr>\n",
              "    <tr>\n",
              "      <th>V9027</th>\n",
              "      <td>0</td>\n",
              "      <td>NaN</td>\n",
              "      <td>0</td>\n",
              "      <td>NaN</td>\n",
              "      <td>0</td>\n",
              "    </tr>\n",
              "    <tr>\n",
              "      <th>V9028</th>\n",
              "      <td>0</td>\n",
              "      <td>NaN</td>\n",
              "      <td>0</td>\n",
              "      <td>NaN</td>\n",
              "      <td>0</td>\n",
              "    </tr>\n",
              "    <tr>\n",
              "      <th>V9029</th>\n",
              "      <td>0</td>\n",
              "      <td>NaN</td>\n",
              "      <td>0</td>\n",
              "      <td>NaN</td>\n",
              "      <td>0</td>\n",
              "    </tr>\n",
              "    <tr>\n",
              "      <th>V9030</th>\n",
              "      <td>0</td>\n",
              "      <td>NaN</td>\n",
              "      <td>0</td>\n",
              "      <td>NaN</td>\n",
              "      <td>0</td>\n",
              "    </tr>\n",
              "    <tr>\n",
              "      <th>COD_UNIDADE_MEDIDA_FINAL</th>\n",
              "      <td>61</td>\n",
              "      <td>NaN</td>\n",
              "      <td>13</td>\n",
              "      <td>NaN</td>\n",
              "      <td>7</td>\n",
              "    </tr>\n",
              "    <tr>\n",
              "      <th>COD_PREPARACAO_FINAL</th>\n",
              "      <td>99</td>\n",
              "      <td>NaN</td>\n",
              "      <td>99</td>\n",
              "      <td>NaN</td>\n",
              "      <td>99</td>\n",
              "    </tr>\n",
              "    <tr>\n",
              "      <th>GRAMATURA1</th>\n",
              "      <td>70.00</td>\n",
              "      <td>NaN</td>\n",
              "      <td>150.00</td>\n",
              "      <td>NaN</td>\n",
              "      <td>45.00</td>\n",
              "    </tr>\n",
              "    <tr>\n",
              "      <th>QTD</th>\n",
              "      <td>70.000</td>\n",
              "      <td>14.000</td>\n",
              "      <td>150.000</td>\n",
              "      <td>15.000</td>\n",
              "      <td>90.000</td>\n",
              "    </tr>\n",
              "    <tr>\n",
              "      <th>COD_TBCA</th>\n",
              "      <td>C0002A</td>\n",
              "      <td>C0008D</td>\n",
              "      <td>C0081H</td>\n",
              "      <td>C0007K</td>\n",
              "      <td>C0209A</td>\n",
              "    </tr>\n",
              "    <tr>\n",
              "      <th>ENERGIA_KCAL</th>\n",
              "      <td>210.00000000</td>\n",
              "      <td>89.60000000</td>\n",
              "      <td>54.00000000</td>\n",
              "      <td>59.55000000</td>\n",
              "      <td>124.20000000</td>\n",
              "    </tr>\n",
              "    <tr>\n",
              "      <th>ENERGIA_KJ</th>\n",
              "      <td>889.00000000</td>\n",
              "      <td>368.48000000</td>\n",
              "      <td>228.00000000</td>\n",
              "      <td>252.90000000</td>\n",
              "      <td>524.70000000</td>\n",
              "    </tr>\n",
              "    <tr>\n",
              "      <th>PTN</th>\n",
              "      <td>6.88100000</td>\n",
              "      <td>0.00000000</td>\n",
              "      <td>2.59500000</td>\n",
              "      <td>0.02400000</td>\n",
              "      <td>2.16000000</td>\n",
              "    </tr>\n",
              "    <tr>\n",
              "      <th>CHOTOT</th>\n",
              "      <td>43.14800000</td>\n",
              "      <td>0.00000000</td>\n",
              "      <td>5.44500000</td>\n",
              "      <td>14.85450000</td>\n",
              "      <td>26.21700000</td>\n",
              "    </tr>\n",
              "    <tr>\n",
              "      <th>FIBRA</th>\n",
              "      <td>1.82700000</td>\n",
              "      <td>0.00000000</td>\n",
              "      <td>0.00000000</td>\n",
              "      <td>0.00000000</td>\n",
              "      <td>1.14300000</td>\n",
              "    </tr>\n",
              "    <tr>\n",
              "      <th>LIP</th>\n",
              "      <td>1.48400000</td>\n",
              "      <td>9.95960000</td>\n",
              "      <td>2.46000000</td>\n",
              "      <td>0.00000000</td>\n",
              "      <td>1.43100000</td>\n",
              "    </tr>\n",
              "    <tr>\n",
              "      <th>COLEST</th>\n",
              "      <td>0.00000000</td>\n",
              "      <td>0.00000000</td>\n",
              "      <td>9.28500000</td>\n",
              "      <td>0.00000000</td>\n",
              "      <td>0.00000000</td>\n",
              "    </tr>\n",
              "    <tr>\n",
              "      <th>AGSAT</th>\n",
              "      <td>0.47600000</td>\n",
              "      <td>2.69220000</td>\n",
              "      <td>1.51500000</td>\n",
              "      <td>0.00000000</td>\n",
              "      <td>0.29700000</td>\n",
              "    </tr>\n",
              "    <tr>\n",
              "      <th>AGMONO</th>\n",
              "      <td>0.43400000</td>\n",
              "      <td>2.22180000</td>\n",
              "      <td>0.73500000</td>\n",
              "      <td>0.00000000</td>\n",
              "      <td>0.29700000</td>\n",
              "    </tr>\n",
              "    <tr>\n",
              "      <th>AGPOLI</th>\n",
              "      <td>0.33600000</td>\n",
              "      <td>3.52380000</td>\n",
              "      <td>0.09000000</td>\n",
              "      <td>0.00000000</td>\n",
              "      <td>0.69300000</td>\n",
              "    </tr>\n",
              "    <tr>\n",
              "      <th>AGTRANS</th>\n",
              "      <td>0.17500000</td>\n",
              "      <td>0.49700000</td>\n",
              "      <td>0.00000000</td>\n",
              "      <td>0.00000000</td>\n",
              "      <td>0.00900000</td>\n",
              "    </tr>\n",
              "    <tr>\n",
              "      <th>CALCIO</th>\n",
              "      <td>9.92600000</td>\n",
              "      <td>0.61740000</td>\n",
              "      <td>82.33500000</td>\n",
              "      <td>0.52500000</td>\n",
              "      <td>5.24700000</td>\n",
              "    </tr>\n",
              "    <tr>\n",
              "      <th>FERRO</th>\n",
              "      <td>3.03100000</td>\n",
              "      <td>0.00980000</td>\n",
              "      <td>0.06000000</td>\n",
              "      <td>0.01650000</td>\n",
              "      <td>0.29700000</td>\n",
              "    </tr>\n",
              "    <tr>\n",
              "      <th>SODIO</th>\n",
              "      <td>477.33000000</td>\n",
              "      <td>113.84520000</td>\n",
              "      <td>48.43500000</td>\n",
              "      <td>1.82400000</td>\n",
              "      <td>170.38800000</td>\n",
              "    </tr>\n",
              "    <tr>\n",
              "      <th>MAGNESIO</th>\n",
              "      <td>17.41600000</td>\n",
              "      <td>0.14140000</td>\n",
              "      <td>13.08000000</td>\n",
              "      <td>0.08250000</td>\n",
              "      <td>21.26700000</td>\n",
              "    </tr>\n",
              "    <tr>\n",
              "      <th>FOSFORO</th>\n",
              "      <td>69.82500000</td>\n",
              "      <td>0.84420000</td>\n",
              "      <td>67.18500000</td>\n",
              "      <td>0.00000000</td>\n",
              "      <td>20.09700000</td>\n",
              "    </tr>\n",
              "    <tr>\n",
              "      <th>POTASSIO</th>\n",
              "      <td>104.79000000</td>\n",
              "      <td>1.49240000</td>\n",
              "      <td>193.32000000</td>\n",
              "      <td>0.95250000</td>\n",
              "      <td>28.52100000</td>\n",
              "    </tr>\n",
              "    <tr>\n",
              "      <th>COBRE</th>\n",
              "      <td>0.09800000</td>\n",
              "      <td>0.00000000</td>\n",
              "      <td>0.01500000</td>\n",
              "      <td>0.00000000</td>\n",
              "      <td>0.13500000</td>\n",
              "    </tr>\n",
              "    <tr>\n",
              "      <th>ZINCO</th>\n",
              "      <td>0.57400000</td>\n",
              "      <td>0.00000000</td>\n",
              "      <td>0.28500000</td>\n",
              "      <td>0.00000000</td>\n",
              "      <td>0.45900000</td>\n",
              "    </tr>\n",
              "    <tr>\n",
              "      <th>VITA_RAE</th>\n",
              "      <td>1.42800000</td>\n",
              "      <td>0.00000000</td>\n",
              "      <td>36.60000000</td>\n",
              "      <td>0.00000000</td>\n",
              "      <td>0.00000000</td>\n",
              "    </tr>\n",
              "    <tr>\n",
              "      <th>TIAMINA</th>\n",
              "      <td>0.28700000</td>\n",
              "      <td>0.00000000</td>\n",
              "      <td>0.04500000</td>\n",
              "      <td>0.00000000</td>\n",
              "      <td>0.00000000</td>\n",
              "    </tr>\n",
              "    <tr>\n",
              "      <th>RIBOFLAVINA</th>\n",
              "      <td>0.49000000</td>\n",
              "      <td>0.00000000</td>\n",
              "      <td>0.22500000</td>\n",
              "      <td>0.00000000</td>\n",
              "      <td>0.00000000</td>\n",
              "    </tr>\n",
              "    <tr>\n",
              "      <th>NIACINA</th>\n",
              "      <td>1.72200000</td>\n",
              "      <td>0.00000000</td>\n",
              "      <td>1.26000000</td>\n",
              "      <td>0.00000000</td>\n",
              "      <td>0.00000000</td>\n",
              "    </tr>\n",
              "    <tr>\n",
              "      <th>PIRIDOXAMINA</th>\n",
              "      <td>0.44100000</td>\n",
              "      <td>0.00000000</td>\n",
              "      <td>0.00000000</td>\n",
              "      <td>0.00000000</td>\n",
              "      <td>0.00900000</td>\n",
              "    </tr>\n",
              "    <tr>\n",
              "      <th>COBALAMINA</th>\n",
              "      <td>0.00000000</td>\n",
              "      <td>0.00000000</td>\n",
              "      <td>0.28500000</td>\n",
              "      <td>0.00000000</td>\n",
              "      <td>0.00000000</td>\n",
              "    </tr>\n",
              "    <tr>\n",
              "      <th>VITD</th>\n",
              "      <td>0.00000000</td>\n",
              "      <td>0.00000000</td>\n",
              "      <td>0.00000000</td>\n",
              "      <td>0.00000000</td>\n",
              "      <td>0.00000000</td>\n",
              "    </tr>\n",
              "    <tr>\n",
              "      <th>VITE</th>\n",
              "      <td>0.12600000</td>\n",
              "      <td>0.79240000</td>\n",
              "      <td>0.07500000</td>\n",
              "      <td>0.00000000</td>\n",
              "      <td>0.16200000</td>\n",
              "    </tr>\n",
              "    <tr>\n",
              "      <th>VITC</th>\n",
              "      <td>0.00000000</td>\n",
              "      <td>0.00000000</td>\n",
              "      <td>0.00000000</td>\n",
              "      <td>0.00000000</td>\n",
              "      <td>0.40500000</td>\n",
              "    </tr>\n",
              "    <tr>\n",
              "      <th>FOLATO</th>\n",
              "      <td>104.68500000</td>\n",
              "      <td>0.13580000</td>\n",
              "      <td>5.08500000</td>\n",
              "      <td>0.00000000</td>\n",
              "      <td>2.41200000</td>\n",
              "    </tr>\n",
              "    <tr>\n",
              "      <th>DIA_SEMANA</th>\n",
              "      <td>Quarta-Feira</td>\n",
              "      <td>Quarta-Feira</td>\n",
              "      <td>Quarta-Feira</td>\n",
              "      <td>Quarta-Feira</td>\n",
              "      <td>Quarta-Feira</td>\n",
              "    </tr>\n",
              "    <tr>\n",
              "      <th>DIA_ATIPICO</th>\n",
              "      <td>2</td>\n",
              "      <td>2</td>\n",
              "      <td>2</td>\n",
              "      <td>2</td>\n",
              "      <td>2</td>\n",
              "    </tr>\n",
              "  </tbody>\n",
              "</table>\n",
              "</div>\n",
              "    <div class=\"colab-df-buttons\">\n",
              "\n",
              "  <div class=\"colab-df-container\">\n",
              "    <button class=\"colab-df-convert\" onclick=\"convertToInteractive('df-91aa9567-6fb7-4559-b414-8704014e4e0b')\"\n",
              "            title=\"Convert this dataframe to an interactive table.\"\n",
              "            style=\"display:none;\">\n",
              "\n",
              "  <svg xmlns=\"http://www.w3.org/2000/svg\" height=\"24px\" viewBox=\"0 -960 960 960\">\n",
              "    <path d=\"M120-120v-720h720v720H120Zm60-500h600v-160H180v160Zm220 220h160v-160H400v160Zm0 220h160v-160H400v160ZM180-400h160v-160H180v160Zm440 0h160v-160H620v160ZM180-180h160v-160H180v160Zm440 0h160v-160H620v160Z\"/>\n",
              "  </svg>\n",
              "    </button>\n",
              "\n",
              "  <style>\n",
              "    .colab-df-container {\n",
              "      display:flex;\n",
              "      gap: 12px;\n",
              "    }\n",
              "\n",
              "    .colab-df-convert {\n",
              "      background-color: #E8F0FE;\n",
              "      border: none;\n",
              "      border-radius: 50%;\n",
              "      cursor: pointer;\n",
              "      display: none;\n",
              "      fill: #1967D2;\n",
              "      height: 32px;\n",
              "      padding: 0 0 0 0;\n",
              "      width: 32px;\n",
              "    }\n",
              "\n",
              "    .colab-df-convert:hover {\n",
              "      background-color: #E2EBFA;\n",
              "      box-shadow: 0px 1px 2px rgba(60, 64, 67, 0.3), 0px 1px 3px 1px rgba(60, 64, 67, 0.15);\n",
              "      fill: #174EA6;\n",
              "    }\n",
              "\n",
              "    .colab-df-buttons div {\n",
              "      margin-bottom: 4px;\n",
              "    }\n",
              "\n",
              "    [theme=dark] .colab-df-convert {\n",
              "      background-color: #3B4455;\n",
              "      fill: #D2E3FC;\n",
              "    }\n",
              "\n",
              "    [theme=dark] .colab-df-convert:hover {\n",
              "      background-color: #434B5C;\n",
              "      box-shadow: 0px 1px 3px 1px rgba(0, 0, 0, 0.15);\n",
              "      filter: drop-shadow(0px 1px 2px rgba(0, 0, 0, 0.3));\n",
              "      fill: #FFFFFF;\n",
              "    }\n",
              "  </style>\n",
              "\n",
              "    <script>\n",
              "      const buttonEl =\n",
              "        document.querySelector('#df-91aa9567-6fb7-4559-b414-8704014e4e0b button.colab-df-convert');\n",
              "      buttonEl.style.display =\n",
              "        google.colab.kernel.accessAllowed ? 'block' : 'none';\n",
              "\n",
              "      async function convertToInteractive(key) {\n",
              "        const element = document.querySelector('#df-91aa9567-6fb7-4559-b414-8704014e4e0b');\n",
              "        const dataTable =\n",
              "          await google.colab.kernel.invokeFunction('convertToInteractive',\n",
              "                                                    [key], {});\n",
              "        if (!dataTable) return;\n",
              "\n",
              "        const docLinkHtml = 'Like what you see? Visit the ' +\n",
              "          '<a target=\"_blank\" href=https://colab.research.google.com/notebooks/data_table.ipynb>data table notebook</a>'\n",
              "          + ' to learn more about interactive tables.';\n",
              "        element.innerHTML = '';\n",
              "        dataTable['output_type'] = 'display_data';\n",
              "        await google.colab.output.renderOutput(dataTable, element);\n",
              "        const docLink = document.createElement('div');\n",
              "        docLink.innerHTML = docLinkHtml;\n",
              "        element.appendChild(docLink);\n",
              "      }\n",
              "    </script>\n",
              "  </div>\n",
              "\n",
              "\n",
              "<div id=\"df-f0694861-14a0-41e2-8960-502a5f5765f4\">\n",
              "  <button class=\"colab-df-quickchart\" onclick=\"quickchart('df-f0694861-14a0-41e2-8960-502a5f5765f4')\"\n",
              "            title=\"Suggest charts.\"\n",
              "            style=\"display:none;\">\n",
              "\n",
              "<svg xmlns=\"http://www.w3.org/2000/svg\" height=\"24px\"viewBox=\"0 0 24 24\"\n",
              "     width=\"24px\">\n",
              "    <g>\n",
              "        <path d=\"M19 3H5c-1.1 0-2 .9-2 2v14c0 1.1.9 2 2 2h14c1.1 0 2-.9 2-2V5c0-1.1-.9-2-2-2zM9 17H7v-7h2v7zm4 0h-2V7h2v10zm4 0h-2v-4h2v4z\"/>\n",
              "    </g>\n",
              "</svg>\n",
              "  </button>\n",
              "\n",
              "<style>\n",
              "  .colab-df-quickchart {\n",
              "      --bg-color: #E8F0FE;\n",
              "      --fill-color: #1967D2;\n",
              "      --hover-bg-color: #E2EBFA;\n",
              "      --hover-fill-color: #174EA6;\n",
              "      --disabled-fill-color: #AAA;\n",
              "      --disabled-bg-color: #DDD;\n",
              "  }\n",
              "\n",
              "  [theme=dark] .colab-df-quickchart {\n",
              "      --bg-color: #3B4455;\n",
              "      --fill-color: #D2E3FC;\n",
              "      --hover-bg-color: #434B5C;\n",
              "      --hover-fill-color: #FFFFFF;\n",
              "      --disabled-bg-color: #3B4455;\n",
              "      --disabled-fill-color: #666;\n",
              "  }\n",
              "\n",
              "  .colab-df-quickchart {\n",
              "    background-color: var(--bg-color);\n",
              "    border: none;\n",
              "    border-radius: 50%;\n",
              "    cursor: pointer;\n",
              "    display: none;\n",
              "    fill: var(--fill-color);\n",
              "    height: 32px;\n",
              "    padding: 0;\n",
              "    width: 32px;\n",
              "  }\n",
              "\n",
              "  .colab-df-quickchart:hover {\n",
              "    background-color: var(--hover-bg-color);\n",
              "    box-shadow: 0 1px 2px rgba(60, 64, 67, 0.3), 0 1px 3px 1px rgba(60, 64, 67, 0.15);\n",
              "    fill: var(--button-hover-fill-color);\n",
              "  }\n",
              "\n",
              "  .colab-df-quickchart-complete:disabled,\n",
              "  .colab-df-quickchart-complete:disabled:hover {\n",
              "    background-color: var(--disabled-bg-color);\n",
              "    fill: var(--disabled-fill-color);\n",
              "    box-shadow: none;\n",
              "  }\n",
              "\n",
              "  .colab-df-spinner {\n",
              "    border: 2px solid var(--fill-color);\n",
              "    border-color: transparent;\n",
              "    border-bottom-color: var(--fill-color);\n",
              "    animation:\n",
              "      spin 1s steps(1) infinite;\n",
              "  }\n",
              "\n",
              "  @keyframes spin {\n",
              "    0% {\n",
              "      border-color: transparent;\n",
              "      border-bottom-color: var(--fill-color);\n",
              "      border-left-color: var(--fill-color);\n",
              "    }\n",
              "    20% {\n",
              "      border-color: transparent;\n",
              "      border-left-color: var(--fill-color);\n",
              "      border-top-color: var(--fill-color);\n",
              "    }\n",
              "    30% {\n",
              "      border-color: transparent;\n",
              "      border-left-color: var(--fill-color);\n",
              "      border-top-color: var(--fill-color);\n",
              "      border-right-color: var(--fill-color);\n",
              "    }\n",
              "    40% {\n",
              "      border-color: transparent;\n",
              "      border-right-color: var(--fill-color);\n",
              "      border-top-color: var(--fill-color);\n",
              "    }\n",
              "    60% {\n",
              "      border-color: transparent;\n",
              "      border-right-color: var(--fill-color);\n",
              "    }\n",
              "    80% {\n",
              "      border-color: transparent;\n",
              "      border-right-color: var(--fill-color);\n",
              "      border-bottom-color: var(--fill-color);\n",
              "    }\n",
              "    90% {\n",
              "      border-color: transparent;\n",
              "      border-bottom-color: var(--fill-color);\n",
              "    }\n",
              "  }\n",
              "</style>\n",
              "\n",
              "  <script>\n",
              "    async function quickchart(key) {\n",
              "      const quickchartButtonEl =\n",
              "        document.querySelector('#' + key + ' button');\n",
              "      quickchartButtonEl.disabled = true;  // To prevent multiple clicks.\n",
              "      quickchartButtonEl.classList.add('colab-df-spinner');\n",
              "      try {\n",
              "        const charts = await google.colab.kernel.invokeFunction(\n",
              "            'suggestCharts', [key], {});\n",
              "      } catch (error) {\n",
              "        console.error('Error during call to suggestCharts:', error);\n",
              "      }\n",
              "      quickchartButtonEl.classList.remove('colab-df-spinner');\n",
              "      quickchartButtonEl.classList.add('colab-df-quickchart-complete');\n",
              "    }\n",
              "    (() => {\n",
              "      let quickchartButtonEl =\n",
              "        document.querySelector('#df-f0694861-14a0-41e2-8960-502a5f5765f4 button');\n",
              "      quickchartButtonEl.style.display =\n",
              "        google.colab.kernel.accessAllowed ? 'block' : 'none';\n",
              "    })();\n",
              "  </script>\n",
              "</div>\n",
              "    </div>\n",
              "  </div>\n"
            ]
          },
          "metadata": {},
          "execution_count": 18
        }
      ]
    },
    {
      "cell_type": "code",
      "source": [
        "df_consumo_alimentar['V9007'] = df_consumo_alimentar['V9007'].str.zfill(5)"
      ],
      "metadata": {
        "id": "qwf8r2bWclcm"
      },
      "execution_count": null,
      "outputs": []
    },
    {
      "cell_type": "code",
      "source": [
        "df_consumo_alimentar['COD_UNIDADE_MEDIDA_FINAL'] = df_consumo_alimentar['COD_UNIDADE_MEDIDA_FINAL'].str.zfill(5)"
      ],
      "metadata": {
        "id": "mhaJ5VPdfPRY"
      },
      "execution_count": null,
      "outputs": []
    },
    {
      "cell_type": "code",
      "source": [
        "df_consumo_alimentar['COD_UNIDADE_MEDIDA_FINAL'].unique()"
      ],
      "metadata": {
        "colab": {
          "base_uri": "https://localhost:8080/"
        },
        "id": "2IUlH23AyoVB",
        "outputId": "3da3a650-34e8-428c-e4b1-d3bb5a9bd596"
      },
      "execution_count": null,
      "outputs": [
        {
          "output_type": "execute_result",
          "data": {
            "text/plain": [
              "array(['00061', nan, '00013', '00007', '00046', '00017', '00016', '00012',\n",
              "       '00063', '00011', '00050', '00026', '00019', '00014', '00018',\n",
              "       '00054', '00040', '00047', '00034', '00035', '00060', '00053',\n",
              "       '00064', '00051', '00001', '00062', '00044', '00038', '00055',\n",
              "       '00032', '00027', '00028', '00049', '00006', '00015', '00021',\n",
              "       '00023', '00043', '00025', '00033', '00048', '00024', '00045',\n",
              "       '00052', '00004', '00010', '00022', '00009', '00030', '00042',\n",
              "       '00020', '00031', '00058', '00059', '00057', '00003', '00037',\n",
              "       '00056', '00029', '00039', '00008', '00005', '00036', '00002',\n",
              "       '00041'], dtype=object)"
            ]
          },
          "metadata": {},
          "execution_count": 66
        }
      ]
    },
    {
      "cell_type": "markdown",
      "source": [
        "##Conferir Unicidade da Chave Identificadora"
      ],
      "metadata": {
        "id": "356iwu6csH_F"
      }
    },
    {
      "cell_type": "code",
      "source": [
        "df_consumo_alimentar_id = df_consumo_alimentar.drop_duplicates(subset=['COD_UPA','NUM_DOM','COD_INFORMANTE','QUADRO','SEQ','V9007','V9001'],keep='first')"
      ],
      "metadata": {
        "id": "XODdemQwsH_F"
      },
      "execution_count": null,
      "outputs": []
    },
    {
      "cell_type": "code",
      "source": [
        "df_consumo_alimentar_id.shape[0]"
      ],
      "metadata": {
        "colab": {
          "base_uri": "https://localhost:8080/"
        },
        "outputId": "602bcc41-7d90-45c7-9761-ea19829ce98d",
        "id": "mo0-96c8sH_G"
      },
      "execution_count": null,
      "outputs": [
        {
          "output_type": "execute_result",
          "data": {
            "text/plain": [
              "1175390"
            ]
          },
          "metadata": {},
          "execution_count": 68
        }
      ]
    },
    {
      "cell_type": "markdown",
      "source": [
        "## Aplicar Regras Normais"
      ],
      "metadata": {
        "id": "5_wHx8cb_z7u"
      }
    },
    {
      "cell_type": "code",
      "source": [
        "df_consumo_alimentar =  df_consumo_alimentar.drop(['UF','ESTRATO_POF','TIPO_SITUACAO_REG','PESO','PESO_FINAL','RENDA_TOTAL','NUM_UC'], axis=1)"
      ],
      "metadata": {
        "id": "u8vCDDlY_z70"
      },
      "execution_count": null,
      "outputs": []
    },
    {
      "cell_type": "markdown",
      "source": [
        "## Baixar Arquivo como CSV"
      ],
      "metadata": {
        "id": "QmRcr0GEsH_G"
      }
    },
    {
      "cell_type": "code",
      "source": [
        "df_consumo_alimentar.to_csv('CONSUMO_ALIMENTAR.csv', index=False)"
      ],
      "metadata": {
        "id": "esO2xesCsH_G"
      },
      "execution_count": null,
      "outputs": []
    }
  ]
}